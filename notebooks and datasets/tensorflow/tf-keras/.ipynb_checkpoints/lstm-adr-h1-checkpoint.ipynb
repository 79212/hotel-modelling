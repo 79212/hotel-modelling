{
 "cells": [
  {
   "cell_type": "markdown",
   "metadata": {},
   "source": [
    "## Python version"
   ]
  },
  {
   "cell_type": "code",
   "execution_count": 1,
   "metadata": {},
   "outputs": [
    {
     "name": "stdout",
     "output_type": "stream",
     "text": [
      "3.6.9\n"
     ]
    }
   ],
   "source": [
    "from platform import python_version\n",
    "print(python_version())"
   ]
  },
  {
   "cell_type": "markdown",
   "metadata": {},
   "source": [
    "## Import Libraries"
   ]
  },
  {
   "cell_type": "code",
   "execution_count": 2,
   "metadata": {},
   "outputs": [
    {
     "name": "stdout",
     "output_type": "stream",
     "text": [
      "2.2.0\n"
     ]
    }
   ],
   "source": [
    "import tensorflow as tf\n",
    "print(tf.__version__)"
   ]
  },
  {
   "cell_type": "code",
   "execution_count": 3,
   "metadata": {},
   "outputs": [],
   "source": [
    "tf.random.set_seed(1234)"
   ]
  },
  {
   "cell_type": "code",
   "execution_count": 4,
   "metadata": {},
   "outputs": [],
   "source": [
    "import csv\n",
    "import math\n",
    "import matplotlib.pyplot as plt\n",
    "import numpy as np\n",
    "import os\n",
    "import pandas as pd\n",
    "import random\n",
    "import statsmodels.api as sm\n",
    "import statsmodels.formula.api as smf\n",
    "\n",
    "from math import sqrt\n",
    "from numpy.random import seed\n",
    "seed(1)\n",
    "from pandas import DataFrame\n",
    "from sklearn.metrics import mean_squared_error\n",
    "from sklearn.model_selection import train_test_split\n",
    "from sklearn.preprocessing import MinMaxScaler\n",
    "from statsmodels.tsa.stattools import adfuller\n",
    "from tensorflow.keras.layers import Dense\n",
    "from tensorflow.keras import layers\n",
    "from tensorflow.keras.layers import LSTM\n",
    "\n",
    "\n",
    "dtypes = {\n",
    "        'IsCanceled':                                    'float64',\n",
    "        'LeadTime':                                          'float64',\n",
    "        'StaysInWeekendNights':                                     'float64',\n",
    "        'StaysInWeekNights':                                     'float64',\n",
    "        'Adults':                            'float64',\n",
    "        'Children':                            'float64',\n",
    "        'Babies':                                  'float64',\n",
    "        'Meal':                                    'category',\n",
    "        'Country':                                               'category',\n",
    "        'MarketSegment':                                    'category',\n",
    "        'DistributionChannel':                                       'category',\n",
    "        'IsRepeatedGuest':                               'float64',\n",
    "        'PreviousCancellations':                                    'float64',\n",
    "        'PreviousBookingsNotCanceled':                          'float64',\n",
    "        'ReservedRoomType':                                             'category',\n",
    "        'AssignedRoomType':                                            'category',\n",
    "        'BookingChanges':                                                'float64',\n",
    "        'DepositType':                                              'category',\n",
    "        'Agent':                                              'category',\n",
    "        'Company':                                 'category',\n",
    "        'DaysInWaitingList':                                           'float64',\n",
    "        'CustomerType':                                           'category',\n",
    "        'ADR':                                          'float64',\n",
    "        'RequiredCarParkingSpaces':                                      'float64',\n",
    "        'TotalOfSpecialRequests':                                              'float64',\n",
    "        'ReservationStatus':                                                'category'\n",
    "        }"
   ]
  },
  {
   "cell_type": "markdown",
   "metadata": {},
   "source": [
    "## Data Import and Manipulation"
   ]
  },
  {
   "cell_type": "code",
   "execution_count": 5,
   "metadata": {},
   "outputs": [],
   "source": [
    "train_df = pd.read_csv(\"H1full.csv\", dtype=dtypes, converters={'ArrivalDateWeekNumber': '{:0>2}'.format})"
   ]
  },
  {
   "cell_type": "code",
   "execution_count": 6,
   "metadata": {},
   "outputs": [
    {
     "data": {
      "text/plain": [
       "pandas.core.frame.DataFrame"
      ]
     },
     "execution_count": 6,
     "metadata": {},
     "output_type": "execute_result"
    }
   ],
   "source": [
    "a=train_df.head()\n",
    "b=train_df\n",
    "b\n",
    "c=b.sort_values(['ArrivalDateYear','ArrivalDateWeekNumber'], ascending=True)\n",
    "c=pd.DataFrame(c)\n",
    "c\n",
    "type(c)"
   ]
  },
  {
   "cell_type": "code",
   "execution_count": 7,
   "metadata": {},
   "outputs": [
    {
     "data": {
      "text/html": [
       "<div>\n",
       "<style scoped>\n",
       "    .dataframe tbody tr th:only-of-type {\n",
       "        vertical-align: middle;\n",
       "    }\n",
       "\n",
       "    .dataframe tbody tr th {\n",
       "        vertical-align: top;\n",
       "    }\n",
       "\n",
       "    .dataframe thead th {\n",
       "        text-align: right;\n",
       "    }\n",
       "</style>\n",
       "<table border=\"1\" class=\"dataframe\">\n",
       "  <thead>\n",
       "    <tr style=\"text-align: right;\">\n",
       "      <th></th>\n",
       "      <th>ArrivalDateYear</th>\n",
       "      <th>ArrivalDateWeekNumber</th>\n",
       "    </tr>\n",
       "  </thead>\n",
       "  <tbody>\n",
       "    <tr>\n",
       "      <th>0</th>\n",
       "      <td>2015</td>\n",
       "      <td>27</td>\n",
       "    </tr>\n",
       "    <tr>\n",
       "      <th>1</th>\n",
       "      <td>2015</td>\n",
       "      <td>27</td>\n",
       "    </tr>\n",
       "    <tr>\n",
       "      <th>2</th>\n",
       "      <td>2015</td>\n",
       "      <td>27</td>\n",
       "    </tr>\n",
       "    <tr>\n",
       "      <th>3</th>\n",
       "      <td>2015</td>\n",
       "      <td>27</td>\n",
       "    </tr>\n",
       "    <tr>\n",
       "      <th>4</th>\n",
       "      <td>2015</td>\n",
       "      <td>27</td>\n",
       "    </tr>\n",
       "    <tr>\n",
       "      <th>...</th>\n",
       "      <td>...</td>\n",
       "      <td>...</td>\n",
       "    </tr>\n",
       "    <tr>\n",
       "      <th>40055</th>\n",
       "      <td>2017</td>\n",
       "      <td>35</td>\n",
       "    </tr>\n",
       "    <tr>\n",
       "      <th>40056</th>\n",
       "      <td>2017</td>\n",
       "      <td>35</td>\n",
       "    </tr>\n",
       "    <tr>\n",
       "      <th>40057</th>\n",
       "      <td>2017</td>\n",
       "      <td>35</td>\n",
       "    </tr>\n",
       "    <tr>\n",
       "      <th>40058</th>\n",
       "      <td>2017</td>\n",
       "      <td>35</td>\n",
       "    </tr>\n",
       "    <tr>\n",
       "      <th>40059</th>\n",
       "      <td>2017</td>\n",
       "      <td>35</td>\n",
       "    </tr>\n",
       "  </tbody>\n",
       "</table>\n",
       "<p>40060 rows × 2 columns</p>\n",
       "</div>"
      ],
      "text/plain": [
       "       ArrivalDateYear ArrivalDateWeekNumber\n",
       "0                 2015                    27\n",
       "1                 2015                    27\n",
       "2                 2015                    27\n",
       "3                 2015                    27\n",
       "4                 2015                    27\n",
       "...                ...                   ...\n",
       "40055             2017                    35\n",
       "40056             2017                    35\n",
       "40057             2017                    35\n",
       "40058             2017                    35\n",
       "40059             2017                    35\n",
       "\n",
       "[40060 rows x 2 columns]"
      ]
     },
     "execution_count": 7,
     "metadata": {},
     "output_type": "execute_result"
    }
   ],
   "source": [
    "from pandas import DataFrame  \n",
    "\n",
    "df = DataFrame(c, columns= ['ArrivalDateYear', 'ArrivalDateWeekNumber']) \n",
    "df"
   ]
  },
  {
   "cell_type": "code",
   "execution_count": 8,
   "metadata": {},
   "outputs": [
    {
     "name": "stdout",
     "output_type": "stream",
     "text": [
      "0        201527\n",
      "1        201527\n",
      "2        201527\n",
      "3        201527\n",
      "4        201527\n",
      "          ...  \n",
      "40055    201735\n",
      "40056    201735\n",
      "40057    201735\n",
      "40058    201735\n",
      "40059    201735\n",
      "Length: 40060, dtype: object\n"
     ]
    }
   ],
   "source": [
    "# https://datatofish.com/concatenate-values-python/\n",
    "\n",
    "df1 = df['ArrivalDateYear'].map(str) + df['ArrivalDateWeekNumber'].map(str)\n",
    "print (df1)\n",
    "df1=pd.DataFrame(df1)"
   ]
  },
  {
   "cell_type": "code",
   "execution_count": 9,
   "metadata": {
    "scrolled": true
   },
   "outputs": [
    {
     "data": {
      "text/html": [
       "<div>\n",
       "<style scoped>\n",
       "    .dataframe tbody tr th:only-of-type {\n",
       "        vertical-align: middle;\n",
       "    }\n",
       "\n",
       "    .dataframe tbody tr th {\n",
       "        vertical-align: top;\n",
       "    }\n",
       "\n",
       "    .dataframe thead th {\n",
       "        text-align: right;\n",
       "    }\n",
       "</style>\n",
       "<table border=\"1\" class=\"dataframe\">\n",
       "  <thead>\n",
       "    <tr style=\"text-align: right;\">\n",
       "      <th></th>\n",
       "      <th>ADR</th>\n",
       "    </tr>\n",
       "  </thead>\n",
       "  <tbody>\n",
       "    <tr>\n",
       "      <th>0</th>\n",
       "      <td>0.00</td>\n",
       "    </tr>\n",
       "    <tr>\n",
       "      <th>1</th>\n",
       "      <td>0.00</td>\n",
       "    </tr>\n",
       "    <tr>\n",
       "      <th>2</th>\n",
       "      <td>75.00</td>\n",
       "    </tr>\n",
       "    <tr>\n",
       "      <th>3</th>\n",
       "      <td>75.00</td>\n",
       "    </tr>\n",
       "    <tr>\n",
       "      <th>4</th>\n",
       "      <td>98.00</td>\n",
       "    </tr>\n",
       "    <tr>\n",
       "      <th>...</th>\n",
       "      <td>...</td>\n",
       "    </tr>\n",
       "    <tr>\n",
       "      <th>40055</th>\n",
       "      <td>89.75</td>\n",
       "    </tr>\n",
       "    <tr>\n",
       "      <th>40056</th>\n",
       "      <td>202.27</td>\n",
       "    </tr>\n",
       "    <tr>\n",
       "      <th>40057</th>\n",
       "      <td>153.57</td>\n",
       "    </tr>\n",
       "    <tr>\n",
       "      <th>40058</th>\n",
       "      <td>112.80</td>\n",
       "    </tr>\n",
       "    <tr>\n",
       "      <th>40059</th>\n",
       "      <td>99.06</td>\n",
       "    </tr>\n",
       "  </tbody>\n",
       "</table>\n",
       "<p>40060 rows × 1 columns</p>\n",
       "</div>"
      ],
      "text/plain": [
       "          ADR\n",
       "0        0.00\n",
       "1        0.00\n",
       "2       75.00\n",
       "3       75.00\n",
       "4       98.00\n",
       "...       ...\n",
       "40055   89.75\n",
       "40056  202.27\n",
       "40057  153.57\n",
       "40058  112.80\n",
       "40059   99.06\n",
       "\n",
       "[40060 rows x 1 columns]"
      ]
     },
     "execution_count": 9,
     "metadata": {},
     "output_type": "execute_result"
    }
   ],
   "source": [
    "df2 = DataFrame(c, columns= ['ADR']) \n",
    "df2"
   ]
  },
  {
   "cell_type": "code",
   "execution_count": 10,
   "metadata": {},
   "outputs": [
    {
     "data": {
      "text/plain": [
       "pandas.core.frame.DataFrame"
      ]
     },
     "execution_count": 10,
     "metadata": {},
     "output_type": "execute_result"
    }
   ],
   "source": [
    "type(df1)"
   ]
  },
  {
   "cell_type": "code",
   "execution_count": 11,
   "metadata": {},
   "outputs": [],
   "source": [
    "df3=pd.concat([df1, df2], axis = 1)\n",
    "df3\n",
    "df3.columns = ['FullDate', 'ADR']"
   ]
  },
  {
   "cell_type": "code",
   "execution_count": 12,
   "metadata": {},
   "outputs": [
    {
     "data": {
      "text/html": [
       "<div>\n",
       "<style scoped>\n",
       "    .dataframe tbody tr th:only-of-type {\n",
       "        vertical-align: middle;\n",
       "    }\n",
       "\n",
       "    .dataframe tbody tr th {\n",
       "        vertical-align: top;\n",
       "    }\n",
       "\n",
       "    .dataframe thead th {\n",
       "        text-align: right;\n",
       "    }\n",
       "</style>\n",
       "<table border=\"1\" class=\"dataframe\">\n",
       "  <thead>\n",
       "    <tr style=\"text-align: right;\">\n",
       "      <th></th>\n",
       "      <th>FullDate</th>\n",
       "      <th>ADR</th>\n",
       "    </tr>\n",
       "  </thead>\n",
       "  <tbody>\n",
       "    <tr>\n",
       "      <th>0</th>\n",
       "      <td>201527</td>\n",
       "      <td>0.00</td>\n",
       "    </tr>\n",
       "    <tr>\n",
       "      <th>1</th>\n",
       "      <td>201527</td>\n",
       "      <td>0.00</td>\n",
       "    </tr>\n",
       "    <tr>\n",
       "      <th>125</th>\n",
       "      <td>201527</td>\n",
       "      <td>0.00</td>\n",
       "    </tr>\n",
       "    <tr>\n",
       "      <th>14463</th>\n",
       "      <td>201527</td>\n",
       "      <td>4.00</td>\n",
       "    </tr>\n",
       "    <tr>\n",
       "      <th>81</th>\n",
       "      <td>201527</td>\n",
       "      <td>55.68</td>\n",
       "    </tr>\n",
       "    <tr>\n",
       "      <th>...</th>\n",
       "      <td>...</td>\n",
       "      <td>...</td>\n",
       "    </tr>\n",
       "    <tr>\n",
       "      <th>13770</th>\n",
       "      <td>201735</td>\n",
       "      <td>328.00</td>\n",
       "    </tr>\n",
       "    <tr>\n",
       "      <th>13745</th>\n",
       "      <td>201735</td>\n",
       "      <td>341.00</td>\n",
       "    </tr>\n",
       "    <tr>\n",
       "      <th>39847</th>\n",
       "      <td>201735</td>\n",
       "      <td>344.67</td>\n",
       "    </tr>\n",
       "    <tr>\n",
       "      <th>39870</th>\n",
       "      <td>201735</td>\n",
       "      <td>351.00</td>\n",
       "    </tr>\n",
       "    <tr>\n",
       "      <th>39960</th>\n",
       "      <td>201735</td>\n",
       "      <td>383.00</td>\n",
       "    </tr>\n",
       "  </tbody>\n",
       "</table>\n",
       "<p>40060 rows × 2 columns</p>\n",
       "</div>"
      ],
      "text/plain": [
       "      FullDate     ADR\n",
       "0       201527    0.00\n",
       "1       201527    0.00\n",
       "125     201527    0.00\n",
       "14463   201527    4.00\n",
       "81      201527   55.68\n",
       "...        ...     ...\n",
       "13770   201735  328.00\n",
       "13745   201735  341.00\n",
       "39847   201735  344.67\n",
       "39870   201735  351.00\n",
       "39960   201735  383.00\n",
       "\n",
       "[40060 rows x 2 columns]"
      ]
     },
     "execution_count": 12,
     "metadata": {},
     "output_type": "execute_result"
    }
   ],
   "source": [
    "df3\n",
    "df3.sort_values(['FullDate','ADR'], ascending=True)"
   ]
  },
  {
   "cell_type": "code",
   "execution_count": 13,
   "metadata": {},
   "outputs": [
    {
     "data": {
      "text/html": [
       "<div>\n",
       "<style scoped>\n",
       "    .dataframe tbody tr th:only-of-type {\n",
       "        vertical-align: middle;\n",
       "    }\n",
       "\n",
       "    .dataframe tbody tr th {\n",
       "        vertical-align: top;\n",
       "    }\n",
       "\n",
       "    .dataframe thead th {\n",
       "        text-align: right;\n",
       "    }\n",
       "</style>\n",
       "<table border=\"1\" class=\"dataframe\">\n",
       "  <thead>\n",
       "    <tr style=\"text-align: right;\">\n",
       "      <th></th>\n",
       "      <th>ADR</th>\n",
       "    </tr>\n",
       "    <tr>\n",
       "      <th>FullDate</th>\n",
       "      <th></th>\n",
       "    </tr>\n",
       "  </thead>\n",
       "  <tbody>\n",
       "    <tr>\n",
       "      <th>201527</th>\n",
       "      <td>100.099096</td>\n",
       "    </tr>\n",
       "    <tr>\n",
       "      <th>201528</th>\n",
       "      <td>110.399188</td>\n",
       "    </tr>\n",
       "    <tr>\n",
       "      <th>201529</th>\n",
       "      <td>128.112023</td>\n",
       "    </tr>\n",
       "    <tr>\n",
       "      <th>201530</th>\n",
       "      <td>140.592271</td>\n",
       "    </tr>\n",
       "    <tr>\n",
       "      <th>201531</th>\n",
       "      <td>145.563833</td>\n",
       "    </tr>\n",
       "    <tr>\n",
       "      <th>...</th>\n",
       "      <td>...</td>\n",
       "    </tr>\n",
       "    <tr>\n",
       "      <th>201731</th>\n",
       "      <td>208.712512</td>\n",
       "    </tr>\n",
       "    <tr>\n",
       "      <th>201732</th>\n",
       "      <td>211.528351</td>\n",
       "    </tr>\n",
       "    <tr>\n",
       "      <th>201733</th>\n",
       "      <td>211.162040</td>\n",
       "    </tr>\n",
       "    <tr>\n",
       "      <th>201734</th>\n",
       "      <td>210.284883</td>\n",
       "    </tr>\n",
       "    <tr>\n",
       "      <th>201735</th>\n",
       "      <td>186.204007</td>\n",
       "    </tr>\n",
       "  </tbody>\n",
       "</table>\n",
       "<p>115 rows × 1 columns</p>\n",
       "</div>"
      ],
      "text/plain": [
       "                 ADR\n",
       "FullDate            \n",
       "201527    100.099096\n",
       "201528    110.399188\n",
       "201529    128.112023\n",
       "201530    140.592271\n",
       "201531    145.563833\n",
       "...              ...\n",
       "201731    208.712512\n",
       "201732    211.528351\n",
       "201733    211.162040\n",
       "201734    210.284883\n",
       "201735    186.204007\n",
       "\n",
       "[115 rows x 1 columns]"
      ]
     },
     "execution_count": 13,
     "metadata": {},
     "output_type": "execute_result"
    }
   ],
   "source": [
    "df4 = df3.groupby('FullDate').agg(\"mean\")\n",
    "df4\n",
    "df4.sort_values(['FullDate'], ascending=True)"
   ]
  },
  {
   "cell_type": "code",
   "execution_count": 14,
   "metadata": {},
   "outputs": [
    {
     "data": {
      "text/plain": [
       "FullDate\n",
       "201527    100.099096\n",
       "201528    110.399188\n",
       "201529    128.112023\n",
       "201530    140.592271\n",
       "201531    145.563833\n",
       "             ...    \n",
       "201731    208.712512\n",
       "201732    211.528351\n",
       "201733    211.162040\n",
       "201734    210.284883\n",
       "201735    186.204007\n",
       "Name: ADR, Length: 115, dtype: float64"
      ]
     },
     "execution_count": 14,
     "metadata": {},
     "output_type": "execute_result"
    }
   ],
   "source": [
    "tseries=df4['ADR']\n",
    "tseries"
   ]
  },
  {
   "cell_type": "code",
   "execution_count": 15,
   "metadata": {},
   "outputs": [
    {
     "name": "stderr",
     "output_type": "stream",
     "text": [
      "/home/michael/.local/lib/python3.6/site-packages/statsmodels/tsa/base/tsa_model.py:214: ValueWarning: An unsupported index was provided and will be ignored when e.g. forecasting.\n",
      "  ' ignored when e.g. forecasting.', ValueWarning)\n",
      "/home/michael/.local/lib/python3.6/site-packages/statsmodels/stats/diagnostic.py:524: FutureWarning: The value returned will change to a single DataFrame after 0.12 is released.  Set return_df to True to use to return a DataFrame now.  Set return_df to False to silence this warning.\n",
      "  warnings.warn(msg, FutureWarning)\n"
     ]
    },
    {
     "data": {
      "text/plain": [
       "(array([5.97004401]), array([0.8177737]))"
      ]
     },
     "execution_count": 15,
     "metadata": {},
     "output_type": "execute_result"
    }
   ],
   "source": [
    "# https://www.statsmodels.org/stable/generated/statsmodels.stats.diagnostic.acorr_ljungbox.html\n",
    "res = sm.tsa.ARMA(tseries, (1,1)).fit(disp=-1)\n",
    "sm.stats.acorr_ljungbox(res.resid, lags=[10])"
   ]
  },
  {
   "cell_type": "code",
   "execution_count": 16,
   "metadata": {},
   "outputs": [
    {
     "name": "stdout",
     "output_type": "stream",
     "text": [
      "ADF Statistic: -1.226203\n",
      "p-value: 0.662224\n",
      "Critical Values:\n",
      "\t1%: -3.489\n",
      "\t5%: -2.887\n",
      "\t10%: -2.580\n"
     ]
    }
   ],
   "source": [
    "result = adfuller(tseries)\n",
    "print('ADF Statistic: %f' % result[0])\n",
    "print('p-value: %f' % result[1])\n",
    "print('Critical Values:')\n",
    "for key, value in result[4].items():\n",
    "    print('\\t%s: %.3f' % (key, value))"
   ]
  },
  {
   "cell_type": "code",
   "execution_count": 17,
   "metadata": {},
   "outputs": [
    {
     "data": {
      "image/png": "[encoded data removed]",
      "text/plain": [
       "<Figure size 432x288 with 1 Axes>"
      ]
     },
     "metadata": {
      "needs_background": "light"
     },
     "output_type": "display_data"
    }
   ],
   "source": [
    "plt.plot(tseries)\n",
    "plt.tick_params(\n",
    "    axis='x',          # changes apply to the x-axis\n",
    "    which='both',      # both major and minor ticks are affected\n",
    "    bottom=False,      # ticks along the bottom edge are off\n",
    "    top=False,         # ticks along the top edge are off\n",
    "    labelbottom=False) # labels along the bottom edge are off\n",
    "plt.ylabel('ADR')\n",
    "plt.title(\"Weekly ADR\")\n",
    "plt.show()"
   ]
  },
  {
   "cell_type": "code",
   "execution_count": 18,
   "metadata": {},
   "outputs": [
    {
     "data": {
      "text/html": [
       "<div>\n",
       "<style scoped>\n",
       "    .dataframe tbody tr th:only-of-type {\n",
       "        vertical-align: middle;\n",
       "    }\n",
       "\n",
       "    .dataframe tbody tr th {\n",
       "        vertical-align: top;\n",
       "    }\n",
       "\n",
       "    .dataframe thead th {\n",
       "        text-align: right;\n",
       "    }\n",
       "</style>\n",
       "<table border=\"1\" class=\"dataframe\">\n",
       "  <thead>\n",
       "    <tr style=\"text-align: right;\">\n",
       "      <th></th>\n",
       "      <th>ADR</th>\n",
       "    </tr>\n",
       "    <tr>\n",
       "      <th>FullDate</th>\n",
       "      <th></th>\n",
       "    </tr>\n",
       "  </thead>\n",
       "  <tbody>\n",
       "    <tr>\n",
       "      <th>201527</th>\n",
       "      <td>100.099096</td>\n",
       "    </tr>\n",
       "    <tr>\n",
       "      <th>201528</th>\n",
       "      <td>110.399188</td>\n",
       "    </tr>\n",
       "    <tr>\n",
       "      <th>201529</th>\n",
       "      <td>128.112023</td>\n",
       "    </tr>\n",
       "    <tr>\n",
       "      <th>201530</th>\n",
       "      <td>140.592271</td>\n",
       "    </tr>\n",
       "    <tr>\n",
       "      <th>201531</th>\n",
       "      <td>145.563833</td>\n",
       "    </tr>\n",
       "    <tr>\n",
       "      <th>...</th>\n",
       "      <td>...</td>\n",
       "    </tr>\n",
       "    <tr>\n",
       "      <th>201731</th>\n",
       "      <td>208.712512</td>\n",
       "    </tr>\n",
       "    <tr>\n",
       "      <th>201732</th>\n",
       "      <td>211.528351</td>\n",
       "    </tr>\n",
       "    <tr>\n",
       "      <th>201733</th>\n",
       "      <td>211.162040</td>\n",
       "    </tr>\n",
       "    <tr>\n",
       "      <th>201734</th>\n",
       "      <td>210.284883</td>\n",
       "    </tr>\n",
       "    <tr>\n",
       "      <th>201735</th>\n",
       "      <td>186.204007</td>\n",
       "    </tr>\n",
       "  </tbody>\n",
       "</table>\n",
       "<p>115 rows × 1 columns</p>\n",
       "</div>"
      ],
      "text/plain": [
       "                 ADR\n",
       "FullDate            \n",
       "201527    100.099096\n",
       "201528    110.399188\n",
       "201529    128.112023\n",
       "201530    140.592271\n",
       "201531    145.563833\n",
       "...              ...\n",
       "201731    208.712512\n",
       "201732    211.528351\n",
       "201733    211.162040\n",
       "201734    210.284883\n",
       "201735    186.204007\n",
       "\n",
       "[115 rows x 1 columns]"
      ]
     },
     "execution_count": 18,
     "metadata": {},
     "output_type": "execute_result"
    }
   ],
   "source": [
    "df=pd.DataFrame(tseries)\n",
    "df"
   ]
  },
  {
   "cell_type": "code",
   "execution_count": 19,
   "metadata": {},
   "outputs": [],
   "source": [
    "df.to_csv(\"weekly adr h1.csv\", sep='\\t', encoding='utf-8')"
   ]
  },
  {
   "cell_type": "code",
   "execution_count": 20,
   "metadata": {},
   "outputs": [],
   "source": [
    "df = df[:100]"
   ]
  },
  {
   "cell_type": "code",
   "execution_count": 21,
   "metadata": {},
   "outputs": [
    {
     "data": {
      "text/html": [
       "<div>\n",
       "<style scoped>\n",
       "    .dataframe tbody tr th:only-of-type {\n",
       "        vertical-align: middle;\n",
       "    }\n",
       "\n",
       "    .dataframe tbody tr th {\n",
       "        vertical-align: top;\n",
       "    }\n",
       "\n",
       "    .dataframe thead th {\n",
       "        text-align: right;\n",
       "    }\n",
       "</style>\n",
       "<table border=\"1\" class=\"dataframe\">\n",
       "  <thead>\n",
       "    <tr style=\"text-align: right;\">\n",
       "      <th></th>\n",
       "      <th>ADR</th>\n",
       "    </tr>\n",
       "    <tr>\n",
       "      <th>FullDate</th>\n",
       "      <th></th>\n",
       "    </tr>\n",
       "  </thead>\n",
       "  <tbody>\n",
       "    <tr>\n",
       "      <th>201527</th>\n",
       "      <td>100.099096</td>\n",
       "    </tr>\n",
       "    <tr>\n",
       "      <th>201528</th>\n",
       "      <td>110.399188</td>\n",
       "    </tr>\n",
       "    <tr>\n",
       "      <th>201529</th>\n",
       "      <td>128.112023</td>\n",
       "    </tr>\n",
       "    <tr>\n",
       "      <th>201530</th>\n",
       "      <td>140.592271</td>\n",
       "    </tr>\n",
       "    <tr>\n",
       "      <th>201531</th>\n",
       "      <td>145.563833</td>\n",
       "    </tr>\n",
       "    <tr>\n",
       "      <th>...</th>\n",
       "      <td>...</td>\n",
       "    </tr>\n",
       "    <tr>\n",
       "      <th>201716</th>\n",
       "      <td>82.126727</td>\n",
       "    </tr>\n",
       "    <tr>\n",
       "      <th>201717</th>\n",
       "      <td>90.483817</td>\n",
       "    </tr>\n",
       "    <tr>\n",
       "      <th>201718</th>\n",
       "      <td>85.819405</td>\n",
       "    </tr>\n",
       "    <tr>\n",
       "      <th>201719</th>\n",
       "      <td>84.468191</td>\n",
       "    </tr>\n",
       "    <tr>\n",
       "      <th>201720</th>\n",
       "      <td>83.256215</td>\n",
       "    </tr>\n",
       "  </tbody>\n",
       "</table>\n",
       "<p>100 rows × 1 columns</p>\n",
       "</div>"
      ],
      "text/plain": [
       "                 ADR\n",
       "FullDate            \n",
       "201527    100.099096\n",
       "201528    110.399188\n",
       "201529    128.112023\n",
       "201530    140.592271\n",
       "201531    145.563833\n",
       "...              ...\n",
       "201716     82.126727\n",
       "201717     90.483817\n",
       "201718     85.819405\n",
       "201719     84.468191\n",
       "201720     83.256215\n",
       "\n",
       "[100 rows x 1 columns]"
      ]
     },
     "execution_count": 21,
     "metadata": {},
     "output_type": "execute_result"
    }
   ],
   "source": [
    "df"
   ]
  },
  {
   "cell_type": "code",
   "execution_count": 22,
   "metadata": {},
   "outputs": [],
   "source": [
    "df=np.array(df)"
   ]
  },
  {
   "cell_type": "markdown",
   "metadata": {},
   "source": [
    "### Training and Validation data partition"
   ]
  },
  {
   "cell_type": "code",
   "execution_count": 23,
   "metadata": {},
   "outputs": [],
   "source": [
    "train_size = int(len(df) * 0.8)\n",
    "val_size = len(df) - train_size\n",
    "train, val = df[0:train_size,:], df[train_size:len(df),:]"
   ]
  },
  {
   "cell_type": "markdown",
   "metadata": {},
   "source": [
    "### Form dataset matrix"
   ]
  },
  {
   "cell_type": "code",
   "execution_count": 24,
   "metadata": {},
   "outputs": [],
   "source": [
    "def create_dataset(df, previous=1):\n",
    "    dataX, dataY = [], []\n",
    "    for i in range(len(df)-previous-1):\n",
    "        a = df[i:(i+previous), 0]\n",
    "        dataX.append(a)\n",
    "        dataY.append(df[i + previous, 0])\n",
    "    return np.array(dataX), np.array(dataY)"
   ]
  },
  {
   "cell_type": "code",
   "execution_count": 25,
   "metadata": {},
   "outputs": [
    {
     "data": {
      "text/plain": [
       "array([[100.09909605],\n",
       "       [110.39918819],\n",
       "       [128.11202346],\n",
       "       [140.59227129],\n",
       "       [145.56383285],\n",
       "       [156.86253472],\n",
       "       [164.52388406],\n",
       "       [161.13308442],\n",
       "       [145.00025559],\n",
       "       [ 98.01012626],\n",
       "       [ 94.91272152],\n",
       "       [ 71.83104911],\n",
       "       [ 75.9597076 ],\n",
       "       [ 63.26895062],\n",
       "       [ 63.22137856],\n",
       "       [ 52.53546326],\n",
       "       [ 57.21303342],\n",
       "       [ 45.36633466],\n",
       "       [ 45.81197761],\n",
       "       [ 51.56046154],\n",
       "       [ 46.91126722],\n",
       "       [ 41.75423077],\n",
       "       [ 53.55554455],\n",
       "       [ 44.31763006],\n",
       "       [ 47.45447674],\n",
       "       [ 55.82304196],\n",
       "       [110.61576087],\n",
       "       [ 69.63058824],\n",
       "       [ 47.53343434],\n",
       "       [ 42.44705607],\n",
       "       [ 43.49409326],\n",
       "       [ 44.26265193],\n",
       "       [ 51.0561747 ],\n",
       "       [ 58.62280778],\n",
       "       [ 52.48687259],\n",
       "       [ 55.3117096 ],\n",
       "       [ 51.57      ],\n",
       "       [ 49.33585714],\n",
       "       [ 47.68385787],\n",
       "       [ 72.34186517],\n",
       "       [ 61.96      ],\n",
       "       [ 63.27551163],\n",
       "       [ 68.75405995],\n",
       "       [ 69.8093736 ],\n",
       "       [ 71.13537391],\n",
       "       [ 71.05173333],\n",
       "       [ 66.96318584],\n",
       "       [ 71.00646186],\n",
       "       [ 73.449     ],\n",
       "       [ 88.53241117],\n",
       "       [103.28863636],\n",
       "       [106.73731778],\n",
       "       [ 98.333125  ],\n",
       "       [106.04494737],\n",
       "       [129.7532852 ],\n",
       "       [151.71730887],\n",
       "       [167.04869565],\n",
       "       [175.47692771],\n",
       "       [189.72015873],\n",
       "       [204.20334975],\n",
       "       [201.94275689],\n",
       "       [183.09379501],\n",
       "       [142.33458333],\n",
       "       [121.4537224 ],\n",
       "       [105.41383436],\n",
       "       [ 96.33009852],\n",
       "       [ 89.59888889],\n",
       "       [ 73.669725  ],\n",
       "       [ 65.83019465],\n",
       "       [ 67.30153409],\n",
       "       [ 61.60943158],\n",
       "       [ 53.65310427],\n",
       "       [ 50.21272727],\n",
       "       [ 51.39910145],\n",
       "       [ 48.58602317],\n",
       "       [ 55.84714744],\n",
       "       [ 59.58478261],\n",
       "       [ 45.59790698],\n",
       "       [ 61.22803922],\n",
       "       [120.78847953],\n",
       "       [ 54.35348837],\n",
       "       [ 48.72030888],\n",
       "       [ 51.70144543],\n",
       "       [ 50.52825153],\n",
       "       [ 49.78203125],\n",
       "       [ 56.18551429],\n",
       "       [ 57.79941043],\n",
       "       [ 55.27926087],\n",
       "       [ 53.95722826],\n",
       "       [ 57.43459459],\n",
       "       [ 59.7281459 ],\n",
       "       [ 54.04828244],\n",
       "       [ 65.76393443],\n",
       "       [ 78.04821622],\n",
       "       [ 98.80672269],\n",
       "       [ 82.1267268 ],\n",
       "       [ 90.48381679],\n",
       "       [ 85.81940503],\n",
       "       [ 84.46819121],\n",
       "       [ 83.25621451]])"
      ]
     },
     "execution_count": 25,
     "metadata": {},
     "output_type": "execute_result"
    }
   ],
   "source": [
    "df"
   ]
  },
  {
   "cell_type": "markdown",
   "metadata": {},
   "source": [
    "## Normalize dataset with MinMaxScaler"
   ]
  },
  {
   "cell_type": "code",
   "execution_count": 26,
   "metadata": {},
   "outputs": [
    {
     "data": {
      "text/plain": [
       "array([[0.35915778],\n",
       "       [0.42256282],\n",
       "       [0.53159902],\n",
       "       [0.6084246 ],\n",
       "       [0.63902841],\n",
       "       [0.70858066],\n",
       "       [0.75574219],\n",
       "       [0.7348692 ],\n",
       "       [0.63555916],\n",
       "       [0.34629856],\n",
       "       [0.32723163],\n",
       "       [0.18514608],\n",
       "       [0.21056117],\n",
       "       [0.13243974],\n",
       "       [0.1321469 ],\n",
       "       [0.06636683],\n",
       "       [0.09516089],\n",
       "       [0.02223529],\n",
       "       [0.02497857],\n",
       "       [0.06036494],\n",
       "       [0.03174555],\n",
       "       [0.        ],\n",
       "       [0.07264622],\n",
       "       [0.01577971],\n",
       "       [0.03508942],\n",
       "       [0.08660442],\n",
       "       [0.42389599],\n",
       "       [0.17160055],\n",
       "       [0.03557547],\n",
       "       [0.00426488],\n",
       "       [0.0107102 ],\n",
       "       [0.01544127],\n",
       "       [0.05726066],\n",
       "       [0.10383914],\n",
       "       [0.06606771],\n",
       "       [0.08345677],\n",
       "       [0.06042365],\n",
       "       [0.04667078],\n",
       "       [0.03650144],\n",
       "       [0.18829055],\n",
       "       [0.12438214],\n",
       "       [0.13248013],\n",
       "       [0.16620484],\n",
       "       [0.17270111],\n",
       "       [0.18086367],\n",
       "       [0.18034879],\n",
       "       [0.15518062],\n",
       "       [0.18007011],\n",
       "       [0.19510582],\n",
       "       [0.28795589],\n",
       "       [0.37879187],\n",
       "       [0.40002117],\n",
       "       [0.34828686],\n",
       "       [0.3957591 ],\n",
       "       [0.54170226],\n",
       "       [0.67690781],\n",
       "       [0.77128436],\n",
       "       [0.82316665],\n",
       "       [0.91084475],\n",
       "       [1.        ],\n",
       "       [0.9860843 ],\n",
       "       [0.87005436],\n",
       "       [0.61914988],\n",
       "       [0.49061203],\n",
       "       [0.39187411],\n",
       "       [0.33595669],\n",
       "       [0.29452088],\n",
       "       [0.19646456],\n",
       "       [0.14820618],\n",
       "       [0.15726342],\n",
       "       [0.12222412],\n",
       "       [0.07324677],\n",
       "       [0.05206859],\n",
       "       [0.05937164],\n",
       "       [0.04205497],\n",
       "       [0.0867528 ],\n",
       "       [0.10976084],\n",
       "       [0.0236608 ],\n",
       "       [0.11987636],\n",
       "       [0.48651694]])"
      ]
     },
     "execution_count": 26,
     "metadata": {},
     "output_type": "execute_result"
    }
   ],
   "source": [
    "scaler = MinMaxScaler(feature_range=(0, 1))\n",
    "train = scaler.fit_transform(train)\n",
    "train"
   ]
  },
  {
   "cell_type": "code",
   "execution_count": 27,
   "metadata": {},
   "outputs": [
    {
     "data": {
      "text/plain": [
       "array([[0.11246921],\n",
       "       [0.        ],\n",
       "       [0.05951986],\n",
       "       [0.03609647],\n",
       "       [0.02119781],\n",
       "       [0.14904651],\n",
       "       [0.18126875],\n",
       "       [0.13095272],\n",
       "       [0.10455768],\n",
       "       [0.17398502],\n",
       "       [0.21977691],\n",
       "       [0.10637562],\n",
       "       [0.34028441],\n",
       "       [0.58554616],\n",
       "       [1.        ],\n",
       "       [0.66697564],\n",
       "       [0.83382907],\n",
       "       [0.74070179],\n",
       "       [0.71372413],\n",
       "       [0.68952642]])"
      ]
     },
     "execution_count": 27,
     "metadata": {},
     "output_type": "execute_result"
    }
   ],
   "source": [
    "val = scaler.fit_transform(val)\n",
    "val"
   ]
  },
  {
   "cell_type": "markdown",
   "metadata": {},
   "source": [
    "## Configure LSTM model"
   ]
  },
  {
   "cell_type": "code",
   "execution_count": 28,
   "metadata": {},
   "outputs": [],
   "source": [
    "# Lookback period\n",
    "lookback = 5\n",
    "X_train, Y_train = create_dataset(train, lookback)\n",
    "X_val, Y_val = create_dataset(val, lookback)"
   ]
  },
  {
   "cell_type": "code",
   "execution_count": 29,
   "metadata": {},
   "outputs": [
    {
     "data": {
      "text/plain": [
       "array([[0.35915778, 0.42256282, 0.53159902, 0.6084246 , 0.63902841],\n",
       "       [0.42256282, 0.53159902, 0.6084246 , 0.63902841, 0.70858066],\n",
       "       [0.53159902, 0.6084246 , 0.63902841, 0.70858066, 0.75574219],\n",
       "       [0.6084246 , 0.63902841, 0.70858066, 0.75574219, 0.7348692 ],\n",
       "       [0.63902841, 0.70858066, 0.75574219, 0.7348692 , 0.63555916],\n",
       "       [0.70858066, 0.75574219, 0.7348692 , 0.63555916, 0.34629856],\n",
       "       [0.75574219, 0.7348692 , 0.63555916, 0.34629856, 0.32723163],\n",
       "       [0.7348692 , 0.63555916, 0.34629856, 0.32723163, 0.18514608],\n",
       "       [0.63555916, 0.34629856, 0.32723163, 0.18514608, 0.21056117],\n",
       "       [0.34629856, 0.32723163, 0.18514608, 0.21056117, 0.13243974],\n",
       "       [0.32723163, 0.18514608, 0.21056117, 0.13243974, 0.1321469 ],\n",
       "       [0.18514608, 0.21056117, 0.13243974, 0.1321469 , 0.06636683],\n",
       "       [0.21056117, 0.13243974, 0.1321469 , 0.06636683, 0.09516089],\n",
       "       [0.13243974, 0.1321469 , 0.06636683, 0.09516089, 0.02223529],\n",
       "       [0.1321469 , 0.06636683, 0.09516089, 0.02223529, 0.02497857],\n",
       "       [0.06636683, 0.09516089, 0.02223529, 0.02497857, 0.06036494],\n",
       "       [0.09516089, 0.02223529, 0.02497857, 0.06036494, 0.03174555],\n",
       "       [0.02223529, 0.02497857, 0.06036494, 0.03174555, 0.        ],\n",
       "       [0.02497857, 0.06036494, 0.03174555, 0.        , 0.07264622],\n",
       "       [0.06036494, 0.03174555, 0.        , 0.07264622, 0.01577971],\n",
       "       [0.03174555, 0.        , 0.07264622, 0.01577971, 0.03508942],\n",
       "       [0.        , 0.07264622, 0.01577971, 0.03508942, 0.08660442],\n",
       "       [0.07264622, 0.01577971, 0.03508942, 0.08660442, 0.42389599],\n",
       "       [0.01577971, 0.03508942, 0.08660442, 0.42389599, 0.17160055],\n",
       "       [0.03508942, 0.08660442, 0.42389599, 0.17160055, 0.03557547],\n",
       "       [0.08660442, 0.42389599, 0.17160055, 0.03557547, 0.00426488],\n",
       "       [0.42389599, 0.17160055, 0.03557547, 0.00426488, 0.0107102 ],\n",
       "       [0.17160055, 0.03557547, 0.00426488, 0.0107102 , 0.01544127],\n",
       "       [0.03557547, 0.00426488, 0.0107102 , 0.01544127, 0.05726066],\n",
       "       [0.00426488, 0.0107102 , 0.01544127, 0.05726066, 0.10383914],\n",
       "       [0.0107102 , 0.01544127, 0.05726066, 0.10383914, 0.06606771],\n",
       "       [0.01544127, 0.05726066, 0.10383914, 0.06606771, 0.08345677],\n",
       "       [0.05726066, 0.10383914, 0.06606771, 0.08345677, 0.06042365],\n",
       "       [0.10383914, 0.06606771, 0.08345677, 0.06042365, 0.04667078],\n",
       "       [0.06606771, 0.08345677, 0.06042365, 0.04667078, 0.03650144],\n",
       "       [0.08345677, 0.06042365, 0.04667078, 0.03650144, 0.18829055],\n",
       "       [0.06042365, 0.04667078, 0.03650144, 0.18829055, 0.12438214],\n",
       "       [0.04667078, 0.03650144, 0.18829055, 0.12438214, 0.13248013],\n",
       "       [0.03650144, 0.18829055, 0.12438214, 0.13248013, 0.16620484],\n",
       "       [0.18829055, 0.12438214, 0.13248013, 0.16620484, 0.17270111],\n",
       "       [0.12438214, 0.13248013, 0.16620484, 0.17270111, 0.18086367],\n",
       "       [0.13248013, 0.16620484, 0.17270111, 0.18086367, 0.18034879],\n",
       "       [0.16620484, 0.17270111, 0.18086367, 0.18034879, 0.15518062],\n",
       "       [0.17270111, 0.18086367, 0.18034879, 0.15518062, 0.18007011],\n",
       "       [0.18086367, 0.18034879, 0.15518062, 0.18007011, 0.19510582],\n",
       "       [0.18034879, 0.15518062, 0.18007011, 0.19510582, 0.28795589],\n",
       "       [0.15518062, 0.18007011, 0.19510582, 0.28795589, 0.37879187],\n",
       "       [0.18007011, 0.19510582, 0.28795589, 0.37879187, 0.40002117],\n",
       "       [0.19510582, 0.28795589, 0.37879187, 0.40002117, 0.34828686],\n",
       "       [0.28795589, 0.37879187, 0.40002117, 0.34828686, 0.3957591 ],\n",
       "       [0.37879187, 0.40002117, 0.34828686, 0.3957591 , 0.54170226],\n",
       "       [0.40002117, 0.34828686, 0.3957591 , 0.54170226, 0.67690781],\n",
       "       [0.34828686, 0.3957591 , 0.54170226, 0.67690781, 0.77128436],\n",
       "       [0.3957591 , 0.54170226, 0.67690781, 0.77128436, 0.82316665],\n",
       "       [0.54170226, 0.67690781, 0.77128436, 0.82316665, 0.91084475],\n",
       "       [0.67690781, 0.77128436, 0.82316665, 0.91084475, 1.        ],\n",
       "       [0.77128436, 0.82316665, 0.91084475, 1.        , 0.9860843 ],\n",
       "       [0.82316665, 0.91084475, 1.        , 0.9860843 , 0.87005436],\n",
       "       [0.91084475, 1.        , 0.9860843 , 0.87005436, 0.61914988],\n",
       "       [1.        , 0.9860843 , 0.87005436, 0.61914988, 0.49061203],\n",
       "       [0.9860843 , 0.87005436, 0.61914988, 0.49061203, 0.39187411],\n",
       "       [0.87005436, 0.61914988, 0.49061203, 0.39187411, 0.33595669],\n",
       "       [0.61914988, 0.49061203, 0.39187411, 0.33595669, 0.29452088],\n",
       "       [0.49061203, 0.39187411, 0.33595669, 0.29452088, 0.19646456],\n",
       "       [0.39187411, 0.33595669, 0.29452088, 0.19646456, 0.14820618],\n",
       "       [0.33595669, 0.29452088, 0.19646456, 0.14820618, 0.15726342],\n",
       "       [0.29452088, 0.19646456, 0.14820618, 0.15726342, 0.12222412],\n",
       "       [0.19646456, 0.14820618, 0.15726342, 0.12222412, 0.07324677],\n",
       "       [0.14820618, 0.15726342, 0.12222412, 0.07324677, 0.05206859],\n",
       "       [0.15726342, 0.12222412, 0.07324677, 0.05206859, 0.05937164],\n",
       "       [0.12222412, 0.07324677, 0.05206859, 0.05937164, 0.04205497],\n",
       "       [0.07324677, 0.05206859, 0.05937164, 0.04205497, 0.0867528 ],\n",
       "       [0.05206859, 0.05937164, 0.04205497, 0.0867528 , 0.10976084],\n",
       "       [0.05937164, 0.04205497, 0.0867528 , 0.10976084, 0.0236608 ]])"
      ]
     },
     "execution_count": 29,
     "metadata": {},
     "output_type": "execute_result"
    }
   ],
   "source": [
    "X_train"
   ]
  },
  {
   "cell_type": "code",
   "execution_count": 30,
   "metadata": {},
   "outputs": [
    {
     "data": {
      "text/plain": [
       "array([0.70858066, 0.75574219, 0.7348692 , 0.63555916, 0.34629856,\n",
       "       0.32723163, 0.18514608, 0.21056117, 0.13243974, 0.1321469 ,\n",
       "       0.06636683, 0.09516089, 0.02223529, 0.02497857, 0.06036494,\n",
       "       0.03174555, 0.        , 0.07264622, 0.01577971, 0.03508942,\n",
       "       0.08660442, 0.42389599, 0.17160055, 0.03557547, 0.00426488,\n",
       "       0.0107102 , 0.01544127, 0.05726066, 0.10383914, 0.06606771,\n",
       "       0.08345677, 0.06042365, 0.04667078, 0.03650144, 0.18829055,\n",
       "       0.12438214, 0.13248013, 0.16620484, 0.17270111, 0.18086367,\n",
       "       0.18034879, 0.15518062, 0.18007011, 0.19510582, 0.28795589,\n",
       "       0.37879187, 0.40002117, 0.34828686, 0.3957591 , 0.54170226,\n",
       "       0.67690781, 0.77128436, 0.82316665, 0.91084475, 1.        ,\n",
       "       0.9860843 , 0.87005436, 0.61914988, 0.49061203, 0.39187411,\n",
       "       0.33595669, 0.29452088, 0.19646456, 0.14820618, 0.15726342,\n",
       "       0.12222412, 0.07324677, 0.05206859, 0.05937164, 0.04205497,\n",
       "       0.0867528 , 0.10976084, 0.0236608 , 0.11987636])"
      ]
     },
     "execution_count": 30,
     "metadata": {},
     "output_type": "execute_result"
    }
   ],
   "source": [
    "Y_train"
   ]
  },
  {
   "cell_type": "code",
   "execution_count": 31,
   "metadata": {},
   "outputs": [
    {
     "name": "stdout",
     "output_type": "stream",
     "text": [
      "Epoch 1/100\n",
      "59/59 - 0s - loss: 0.0675 - val_loss: 0.0030\n",
      "Epoch 2/100\n",
      "59/59 - 0s - loss: 0.0412 - val_loss: 0.0121\n",
      "Epoch 3/100\n",
      "59/59 - 0s - loss: 0.0320 - val_loss: 0.0222\n",
      "Epoch 4/100\n",
      "59/59 - 0s - loss: 0.0290 - val_loss: 0.0270\n",
      "Epoch 5/100\n",
      "59/59 - 0s - loss: 0.0273 - val_loss: 0.0261\n",
      "Epoch 6/100\n",
      "59/59 - 0s - loss: 0.0260 - val_loss: 0.0257\n",
      "Epoch 7/100\n",
      "59/59 - 0s - loss: 0.0248 - val_loss: 0.0252\n",
      "Epoch 8/100\n",
      "59/59 - 0s - loss: 0.0238 - val_loss: 0.0270\n",
      "Epoch 9/100\n",
      "59/59 - 0s - loss: 0.0232 - val_loss: 0.0257\n",
      "Epoch 10/100\n",
      "59/59 - 0s - loss: 0.0223 - val_loss: 0.0221\n",
      "Epoch 11/100\n",
      "59/59 - 0s - loss: 0.0217 - val_loss: 0.0212\n",
      "Epoch 12/100\n",
      "59/59 - 0s - loss: 0.0212 - val_loss: 0.0218\n",
      "Epoch 13/100\n",
      "59/59 - 0s - loss: 0.0208 - val_loss: 0.0206\n",
      "Epoch 14/100\n",
      "59/59 - 0s - loss: 0.0195 - val_loss: 0.0193\n",
      "Epoch 15/100\n",
      "59/59 - 0s - loss: 0.0192 - val_loss: 0.0170\n",
      "Epoch 16/100\n",
      "59/59 - 0s - loss: 0.0189 - val_loss: 0.0152\n",
      "Epoch 17/100\n",
      "59/59 - 0s - loss: 0.0178 - val_loss: 0.0161\n",
      "Epoch 18/100\n",
      "59/59 - 0s - loss: 0.0172 - val_loss: 0.0151\n",
      "Epoch 19/100\n",
      "59/59 - 0s - loss: 0.0168 - val_loss: 0.0138\n",
      "Epoch 20/100\n",
      "59/59 - 0s - loss: 0.0161 - val_loss: 0.0122\n",
      "Epoch 21/100\n",
      "59/59 - 0s - loss: 0.0156 - val_loss: 0.0119\n",
      "Epoch 22/100\n",
      "59/59 - 0s - loss: 0.0152 - val_loss: 0.0115\n",
      "Epoch 23/100\n",
      "59/59 - 0s - loss: 0.0149 - val_loss: 0.0112\n",
      "Epoch 24/100\n",
      "59/59 - 0s - loss: 0.0142 - val_loss: 0.0095\n",
      "Epoch 25/100\n",
      "59/59 - 0s - loss: 0.0139 - val_loss: 0.0074\n",
      "Epoch 26/100\n",
      "59/59 - 0s - loss: 0.0131 - val_loss: 0.0071\n",
      "Epoch 27/100\n",
      "59/59 - 0s - loss: 0.0127 - val_loss: 0.0057\n",
      "Epoch 28/100\n",
      "59/59 - 0s - loss: 0.0124 - val_loss: 0.0062\n",
      "Epoch 29/100\n",
      "59/59 - 0s - loss: 0.0122 - val_loss: 0.0057\n",
      "Epoch 30/100\n",
      "59/59 - 0s - loss: 0.0115 - val_loss: 0.0053\n",
      "Epoch 31/100\n",
      "59/59 - 0s - loss: 0.0112 - val_loss: 0.0038\n",
      "Epoch 32/100\n",
      "59/59 - 0s - loss: 0.0110 - val_loss: 0.0033\n",
      "Epoch 33/100\n",
      "59/59 - 0s - loss: 0.0106 - val_loss: 0.0023\n",
      "Epoch 34/100\n",
      "59/59 - 0s - loss: 0.0105 - val_loss: 0.0022\n",
      "Epoch 35/100\n",
      "59/59 - 0s - loss: 0.0101 - val_loss: 0.0035\n",
      "Epoch 36/100\n",
      "59/59 - 0s - loss: 0.0096 - val_loss: 0.0025\n",
      "Epoch 37/100\n",
      "59/59 - 0s - loss: 0.0095 - val_loss: 0.0028\n",
      "Epoch 38/100\n",
      "59/59 - 0s - loss: 0.0094 - val_loss: 0.0017\n",
      "Epoch 39/100\n",
      "59/59 - 0s - loss: 0.0091 - val_loss: 0.0018\n",
      "Epoch 40/100\n",
      "59/59 - 0s - loss: 0.0088 - val_loss: 0.0019\n",
      "Epoch 41/100\n",
      "59/59 - 0s - loss: 0.0086 - val_loss: 0.0021\n",
      "Epoch 42/100\n",
      "59/59 - 0s - loss: 0.0089 - val_loss: 0.0018\n",
      "Epoch 43/100\n",
      "59/59 - 0s - loss: 0.0087 - val_loss: 0.0019\n",
      "Epoch 44/100\n",
      "59/59 - 0s - loss: 0.0083 - val_loss: 0.0020\n",
      "Epoch 45/100\n",
      "59/59 - 0s - loss: 0.0084 - val_loss: 0.0019\n",
      "Epoch 46/100\n",
      "59/59 - 0s - loss: 0.0084 - val_loss: 0.0021\n",
      "Epoch 47/100\n",
      "59/59 - 0s - loss: 0.0083 - val_loss: 0.0021\n",
      "Epoch 48/100\n",
      "59/59 - 0s - loss: 0.0082 - val_loss: 0.0022\n",
      "Epoch 49/100\n",
      "59/59 - 0s - loss: 0.0079 - val_loss: 0.0023\n",
      "Epoch 50/100\n",
      "59/59 - 0s - loss: 0.0078 - val_loss: 0.0023\n",
      "Epoch 51/100\n",
      "59/59 - 0s - loss: 0.0085 - val_loss: 0.0025\n",
      "Epoch 52/100\n",
      "59/59 - 0s - loss: 0.0079 - val_loss: 0.0024\n",
      "Epoch 53/100\n",
      "59/59 - 0s - loss: 0.0080 - val_loss: 0.0028\n",
      "Epoch 54/100\n",
      "59/59 - 0s - loss: 0.0079 - val_loss: 0.0024\n",
      "Epoch 55/100\n",
      "59/59 - 0s - loss: 0.0077 - val_loss: 0.0028\n",
      "Epoch 56/100\n",
      "59/59 - 0s - loss: 0.0079 - val_loss: 0.0028\n",
      "Epoch 57/100\n",
      "59/59 - 0s - loss: 0.0079 - val_loss: 0.0026\n",
      "Epoch 58/100\n",
      "59/59 - 0s - loss: 0.0078 - val_loss: 0.0026\n",
      "Epoch 59/100\n",
      "59/59 - 0s - loss: 0.0078 - val_loss: 0.0028\n",
      "Epoch 60/100\n",
      "59/59 - 0s - loss: 0.0076 - val_loss: 0.0028\n",
      "Epoch 61/100\n",
      "59/59 - 0s - loss: 0.0079 - val_loss: 0.0027\n",
      "Epoch 62/100\n",
      "59/59 - 0s - loss: 0.0080 - val_loss: 0.0027\n",
      "Epoch 63/100\n",
      "59/59 - 0s - loss: 0.0077 - val_loss: 0.0027\n",
      "Epoch 64/100\n",
      "59/59 - 0s - loss: 0.0076 - val_loss: 0.0028\n",
      "Epoch 65/100\n",
      "59/59 - 0s - loss: 0.0076 - val_loss: 0.0029\n",
      "Epoch 66/100\n",
      "59/59 - 0s - loss: 0.0076 - val_loss: 0.0027\n",
      "Epoch 67/100\n",
      "59/59 - 0s - loss: 0.0075 - val_loss: 0.0032\n",
      "Epoch 68/100\n",
      "59/59 - 0s - loss: 0.0074 - val_loss: 0.0028\n",
      "Epoch 69/100\n",
      "59/59 - 0s - loss: 0.0075 - val_loss: 0.0030\n",
      "Epoch 70/100\n",
      "59/59 - 0s - loss: 0.0074 - val_loss: 0.0028\n",
      "Epoch 71/100\n",
      "59/59 - 0s - loss: 0.0076 - val_loss: 0.0036\n",
      "Epoch 72/100\n",
      "59/59 - 0s - loss: 0.0076 - val_loss: 0.0030\n",
      "Epoch 73/100\n",
      "59/59 - 0s - loss: 0.0075 - val_loss: 0.0028\n",
      "Epoch 74/100\n",
      "59/59 - 0s - loss: 0.0074 - val_loss: 0.0028\n",
      "Epoch 75/100\n",
      "59/59 - 0s - loss: 0.0074 - val_loss: 0.0028\n",
      "Epoch 76/100\n",
      "59/59 - 0s - loss: 0.0074 - val_loss: 0.0028\n",
      "Epoch 77/100\n",
      "59/59 - 0s - loss: 0.0074 - val_loss: 0.0030\n",
      "Epoch 78/100\n",
      "59/59 - 0s - loss: 0.0074 - val_loss: 0.0031\n",
      "Epoch 79/100\n",
      "59/59 - 0s - loss: 0.0074 - val_loss: 0.0031\n",
      "Epoch 80/100\n",
      "59/59 - 0s - loss: 0.0076 - val_loss: 0.0036\n",
      "Epoch 81/100\n",
      "59/59 - 0s - loss: 0.0072 - val_loss: 0.0029\n",
      "Epoch 82/100\n",
      "59/59 - 0s - loss: 0.0071 - val_loss: 0.0033\n",
      "Epoch 83/100\n",
      "59/59 - 0s - loss: 0.0073 - val_loss: 0.0031\n",
      "Epoch 84/100\n",
      "59/59 - 0s - loss: 0.0075 - val_loss: 0.0029\n",
      "Epoch 85/100\n",
      "59/59 - 0s - loss: 0.0070 - val_loss: 0.0035\n",
      "Epoch 86/100\n",
      "59/59 - 0s - loss: 0.0073 - val_loss: 0.0034\n",
      "Epoch 87/100\n",
      "59/59 - 0s - loss: 0.0071 - val_loss: 0.0032\n",
      "Epoch 88/100\n",
      "59/59 - 0s - loss: 0.0071 - val_loss: 0.0031\n",
      "Epoch 89/100\n",
      "59/59 - 0s - loss: 0.0071 - val_loss: 0.0030\n",
      "Epoch 90/100\n",
      "59/59 - 0s - loss: 0.0073 - val_loss: 0.0030\n",
      "Epoch 91/100\n",
      "59/59 - 0s - loss: 0.0075 - val_loss: 0.0030\n",
      "Epoch 92/100\n",
      "59/59 - 0s - loss: 0.0072 - val_loss: 0.0030\n",
      "Epoch 93/100\n",
      "59/59 - 0s - loss: 0.0071 - val_loss: 0.0034\n",
      "Epoch 94/100\n",
      "59/59 - 0s - loss: 0.0070 - val_loss: 0.0033\n",
      "Epoch 95/100\n",
      "59/59 - 0s - loss: 0.0072 - val_loss: 0.0030\n",
      "Epoch 96/100\n",
      "59/59 - 0s - loss: 0.0071 - val_loss: 0.0030\n",
      "Epoch 97/100\n",
      "59/59 - 0s - loss: 0.0070 - val_loss: 0.0033\n",
      "Epoch 98/100\n",
      "59/59 - 0s - loss: 0.0069 - val_loss: 0.0031\n",
      "Epoch 99/100\n",
      "59/59 - 0s - loss: 0.0071 - val_loss: 0.0030\n",
      "Epoch 100/100\n",
      "59/59 - 0s - loss: 0.0070 - val_loss: 0.0031\n",
      "dict_keys(['loss', 'val_loss'])\n"
     ]
    },
    {
     "data": {
      "image/png": "[encoded data removed]",
      "text/plain": [
       "<Figure size 432x288 with 1 Axes>"
      ]
     },
     "metadata": {
      "needs_background": "light"
     },
     "output_type": "display_data"
    }
   ],
   "source": [
    "# reshape input to be [samples, time steps, features]\n",
    "X_train = np.reshape(X_train, (X_train.shape[0], 1, X_train.shape[1]))\n",
    "X_val = np.reshape(X_val, (X_val.shape[0], 1, X_val.shape[1]))\n",
    "\n",
    "# Generate LSTM network\n",
    "model = tf.keras.Sequential()\n",
    "model.add(LSTM(4, input_shape=(1, lookback)))\n",
    "model.add(Dense(1))\n",
    "model.compile(loss='mean_squared_error', optimizer='adam')\n",
    "history=model.fit(X_train, Y_train, validation_split=0.2, epochs=100, batch_size=1, verbose=2)\n",
    "\n",
    "\n",
    "# list all data in history\n",
    "print(history.history.keys())\n",
    "# summarize history for accuracy\n",
    "plt.plot(history.history['loss'])\n",
    "plt.plot(history.history['val_loss'])\n",
    "plt.title('model loss')\n",
    "plt.ylabel('loss')\n",
    "plt.xlabel('epoch')\n",
    "plt.legend(['train', 'val'], loc='upper left')\n",
    "plt.show()"
   ]
  },
  {
   "cell_type": "code",
   "execution_count": 32,
   "metadata": {},
   "outputs": [],
   "source": [
    "# Generate predictions\n",
    "trainpred = model.predict(X_train)\n",
    "valpred = model.predict(X_val)"
   ]
  },
  {
   "cell_type": "code",
   "execution_count": 33,
   "metadata": {},
   "outputs": [
    {
     "data": {
      "text/plain": [
       "array([[0.6768276 ],\n",
       "       [0.7283366 ],\n",
       "       [0.7558924 ],\n",
       "       [0.70726144],\n",
       "       [0.575852  ],\n",
       "       [0.26408112],\n",
       "       [0.2292373 ],\n",
       "       [0.14303198],\n",
       "       [0.16624218],\n",
       "       [0.1502012 ],\n",
       "       [0.1306953 ],\n",
       "       [0.09542358],\n",
       "       [0.10341621],\n",
       "       [0.05351183],\n",
       "       [0.0404336 ],\n",
       "       [0.08051829],\n",
       "       [0.04557893],\n",
       "       [0.02292243],\n",
       "       [0.08572666],\n",
       "       [0.03779862],\n",
       "       [0.04482689],\n",
       "       [0.10364738],\n",
       "       [0.39966965],\n",
       "       [0.20421243],\n",
       "       [0.04880127],\n",
       "       [0.06666274],\n",
       "       [0.02011591],\n",
       "       [0.02717945],\n",
       "       [0.06340496],\n",
       "       [0.10786119],\n",
       "       [0.08027521],\n",
       "       [0.09886094],\n",
       "       [0.08586712],\n",
       "       [0.06300423],\n",
       "       [0.05980276],\n",
       "       [0.18396556],\n",
       "       [0.13948318],\n",
       "       [0.13860652],\n",
       "       [0.1962947 ],\n",
       "       [0.18162468],\n",
       "       [0.19564493],\n",
       "       [0.19950262],\n",
       "       [0.17306818],\n",
       "       [0.19455765],\n",
       "       [0.21114898],\n",
       "       [0.29758835],\n",
       "       [0.4040677 ],\n",
       "       [0.43133444],\n",
       "       [0.3783384 ],\n",
       "       [0.41200042],\n",
       "       [0.5633881 ],\n",
       "       [0.7172913 ],\n",
       "       [0.83006954],\n",
       "       [0.86375034],\n",
       "       [0.9010909 ],\n",
       "       [0.95095384],\n",
       "       [0.8995502 ],\n",
       "       [0.7297369 ],\n",
       "       [0.44669822],\n",
       "       [0.30775255],\n",
       "       [0.25096753],\n",
       "       [0.2413083 ],\n",
       "       [0.25752783],\n",
       "       [0.1849458 ],\n",
       "       [0.14756793],\n",
       "       [0.16531233],\n",
       "       [0.13287348],\n",
       "       [0.09047022],\n",
       "       [0.07645011],\n",
       "       [0.0776211 ],\n",
       "       [0.05979884],\n",
       "       [0.09554087],\n",
       "       [0.12133509],\n",
       "       [0.04652416]], dtype=float32)"
      ]
     },
     "execution_count": 33,
     "metadata": {},
     "output_type": "execute_result"
    }
   ],
   "source": [
    "trainpred"
   ]
  },
  {
   "cell_type": "code",
   "execution_count": 34,
   "metadata": {},
   "outputs": [
    {
     "data": {
      "text/plain": [
       "array([[0.03016543],\n",
       "       [0.15376104],\n",
       "       [0.1843693 ],\n",
       "       [0.14064643],\n",
       "       [0.13348736],\n",
       "       [0.18929355],\n",
       "       [0.22856727],\n",
       "       [0.12607157],\n",
       "       [0.35001445],\n",
       "       [0.62391967],\n",
       "       [1.0488011 ],\n",
       "       [0.79397964],\n",
       "       [0.7998853 ],\n",
       "       [0.69526327]], dtype=float32)"
      ]
     },
     "execution_count": 34,
     "metadata": {},
     "output_type": "execute_result"
    }
   ],
   "source": [
    "valpred"
   ]
  },
  {
   "cell_type": "code",
   "execution_count": 35,
   "metadata": {},
   "outputs": [],
   "source": [
    "# Convert predictions back to normal values\n",
    "trainpred = scaler.inverse_transform(trainpred)\n",
    "Y_train = scaler.inverse_transform([Y_train])\n",
    "valpred = scaler.inverse_transform(valpred)\n",
    "Y_val = scaler.inverse_transform([Y_val])\n",
    "predictions = valpred"
   ]
  },
  {
   "cell_type": "code",
   "execution_count": 36,
   "metadata": {},
   "outputs": [
    {
     "data": {
      "text/plain": [
       "(1, 74)"
      ]
     },
     "execution_count": 36,
     "metadata": {},
     "output_type": "execute_result"
    }
   ],
   "source": [
    "Y_train.shape"
   ]
  },
  {
   "cell_type": "code",
   "execution_count": 37,
   "metadata": {},
   "outputs": [
    {
     "data": {
      "text/plain": [
       "(1, 14)"
      ]
     },
     "execution_count": 37,
     "metadata": {},
     "output_type": "execute_result"
    }
   ],
   "source": [
    "Y_val.shape"
   ]
  },
  {
   "cell_type": "code",
   "execution_count": 38,
   "metadata": {},
   "outputs": [
    {
     "data": {
      "text/plain": [
       "(74, 1, 5)"
      ]
     },
     "execution_count": 38,
     "metadata": {},
     "output_type": "execute_result"
    }
   ],
   "source": [
    "X_train.shape"
   ]
  },
  {
   "cell_type": "code",
   "execution_count": 39,
   "metadata": {},
   "outputs": [
    {
     "data": {
      "text/plain": [
       "(14, 1, 5)"
      ]
     },
     "execution_count": 39,
     "metadata": {},
     "output_type": "execute_result"
    }
   ],
   "source": [
    "X_val.shape"
   ]
  },
  {
   "cell_type": "code",
   "execution_count": 40,
   "metadata": {},
   "outputs": [
    {
     "data": {
      "text/plain": [
       "array([[84.21057304, 86.57272505, 85.52727158, 80.55318773, 66.06516171,\n",
       "        65.11016794, 57.99361229, 59.26656286, 55.35374074, 55.33907329,\n",
       "        52.04438521, 53.48657657, 49.83399501, 49.97139592, 51.74377207,\n",
       "        50.31032958, 48.72030888, 52.35889732, 49.51065775, 50.47781228,\n",
       "        53.05801353, 69.95173884, 57.31516482, 50.50215654, 48.93392121,\n",
       "        49.25674437, 49.49370686, 51.58829004, 53.92123908, 52.02940371,\n",
       "        52.90035922, 51.74671298, 51.05788066, 50.54853521, 58.15110742,\n",
       "        54.95016427, 55.35576363, 57.04491307, 57.37028804, 57.77912128,\n",
       "        57.75333317, 56.49274965, 57.73937504, 58.49245992, 63.14298667,\n",
       "        67.69263524, 68.75593485, 66.16474888, 68.54246277, 75.85223229,\n",
       "        82.62419379, 87.35117653, 89.94977431, 94.34125619, 98.80672269,\n",
       "        98.10973529, 92.29821159, 79.73130599, 73.29330591, 68.34787761,\n",
       "        65.54717451, 63.47180375, 58.56051399, 56.1434251 , 56.59706939,\n",
       "        54.84207679, 52.38897699, 51.3282378 , 51.69402143, 50.82669138,\n",
       "        53.06544575, 54.21783576, 49.90539353, 54.72448566]])"
      ]
     },
     "execution_count": 40,
     "metadata": {},
     "output_type": "execute_result"
    }
   ],
   "source": [
    "Y_train"
   ]
  },
  {
   "cell_type": "code",
   "execution_count": 41,
   "metadata": {},
   "outputs": [
    {
     "data": {
      "text/plain": [
       "array([[56.18551429, 57.79941043, 55.27926087, 53.95722826, 57.43459459,\n",
       "        59.7281459 , 54.04828244, 65.76393443, 78.04821622, 98.80672269,\n",
       "        82.1267268 , 90.48381679, 85.81940503, 84.46819121]])"
      ]
     },
     "execution_count": 41,
     "metadata": {},
     "output_type": "execute_result"
    }
   ],
   "source": [
    "Y_val"
   ]
  },
  {
   "cell_type": "code",
   "execution_count": 42,
   "metadata": {},
   "outputs": [
    {
     "data": {
      "text/plain": [
       "array([[[0.35915778, 0.42256282, 0.53159902, 0.6084246 , 0.63902841]],\n",
       "\n",
       "       [[0.42256282, 0.53159902, 0.6084246 , 0.63902841, 0.70858066]],\n",
       "\n",
       "       [[0.53159902, 0.6084246 , 0.63902841, 0.70858066, 0.75574219]],\n",
       "\n",
       "       [[0.6084246 , 0.63902841, 0.70858066, 0.75574219, 0.7348692 ]],\n",
       "\n",
       "       [[0.63902841, 0.70858066, 0.75574219, 0.7348692 , 0.63555916]],\n",
       "\n",
       "       [[0.70858066, 0.75574219, 0.7348692 , 0.63555916, 0.34629856]],\n",
       "\n",
       "       [[0.75574219, 0.7348692 , 0.63555916, 0.34629856, 0.32723163]],\n",
       "\n",
       "       [[0.7348692 , 0.63555916, 0.34629856, 0.32723163, 0.18514608]],\n",
       "\n",
       "       [[0.63555916, 0.34629856, 0.32723163, 0.18514608, 0.21056117]],\n",
       "\n",
       "       [[0.34629856, 0.32723163, 0.18514608, 0.21056117, 0.13243974]],\n",
       "\n",
       "       [[0.32723163, 0.18514608, 0.21056117, 0.13243974, 0.1321469 ]],\n",
       "\n",
       "       [[0.18514608, 0.21056117, 0.13243974, 0.1321469 , 0.06636683]],\n",
       "\n",
       "       [[0.21056117, 0.13243974, 0.1321469 , 0.06636683, 0.09516089]],\n",
       "\n",
       "       [[0.13243974, 0.1321469 , 0.06636683, 0.09516089, 0.02223529]],\n",
       "\n",
       "       [[0.1321469 , 0.06636683, 0.09516089, 0.02223529, 0.02497857]],\n",
       "\n",
       "       [[0.06636683, 0.09516089, 0.02223529, 0.02497857, 0.06036494]],\n",
       "\n",
       "       [[0.09516089, 0.02223529, 0.02497857, 0.06036494, 0.03174555]],\n",
       "\n",
       "       [[0.02223529, 0.02497857, 0.06036494, 0.03174555, 0.        ]],\n",
       "\n",
       "       [[0.02497857, 0.06036494, 0.03174555, 0.        , 0.07264622]],\n",
       "\n",
       "       [[0.06036494, 0.03174555, 0.        , 0.07264622, 0.01577971]],\n",
       "\n",
       "       [[0.03174555, 0.        , 0.07264622, 0.01577971, 0.03508942]],\n",
       "\n",
       "       [[0.        , 0.07264622, 0.01577971, 0.03508942, 0.08660442]],\n",
       "\n",
       "       [[0.07264622, 0.01577971, 0.03508942, 0.08660442, 0.42389599]],\n",
       "\n",
       "       [[0.01577971, 0.03508942, 0.08660442, 0.42389599, 0.17160055]],\n",
       "\n",
       "       [[0.03508942, 0.08660442, 0.42389599, 0.17160055, 0.03557547]],\n",
       "\n",
       "       [[0.08660442, 0.42389599, 0.17160055, 0.03557547, 0.00426488]],\n",
       "\n",
       "       [[0.42389599, 0.17160055, 0.03557547, 0.00426488, 0.0107102 ]],\n",
       "\n",
       "       [[0.17160055, 0.03557547, 0.00426488, 0.0107102 , 0.01544127]],\n",
       "\n",
       "       [[0.03557547, 0.00426488, 0.0107102 , 0.01544127, 0.05726066]],\n",
       "\n",
       "       [[0.00426488, 0.0107102 , 0.01544127, 0.05726066, 0.10383914]],\n",
       "\n",
       "       [[0.0107102 , 0.01544127, 0.05726066, 0.10383914, 0.06606771]],\n",
       "\n",
       "       [[0.01544127, 0.05726066, 0.10383914, 0.06606771, 0.08345677]],\n",
       "\n",
       "       [[0.05726066, 0.10383914, 0.06606771, 0.08345677, 0.06042365]],\n",
       "\n",
       "       [[0.10383914, 0.06606771, 0.08345677, 0.06042365, 0.04667078]],\n",
       "\n",
       "       [[0.06606771, 0.08345677, 0.06042365, 0.04667078, 0.03650144]],\n",
       "\n",
       "       [[0.08345677, 0.06042365, 0.04667078, 0.03650144, 0.18829055]],\n",
       "\n",
       "       [[0.06042365, 0.04667078, 0.03650144, 0.18829055, 0.12438214]],\n",
       "\n",
       "       [[0.04667078, 0.03650144, 0.18829055, 0.12438214, 0.13248013]],\n",
       "\n",
       "       [[0.03650144, 0.18829055, 0.12438214, 0.13248013, 0.16620484]],\n",
       "\n",
       "       [[0.18829055, 0.12438214, 0.13248013, 0.16620484, 0.17270111]],\n",
       "\n",
       "       [[0.12438214, 0.13248013, 0.16620484, 0.17270111, 0.18086367]],\n",
       "\n",
       "       [[0.13248013, 0.16620484, 0.17270111, 0.18086367, 0.18034879]],\n",
       "\n",
       "       [[0.16620484, 0.17270111, 0.18086367, 0.18034879, 0.15518062]],\n",
       "\n",
       "       [[0.17270111, 0.18086367, 0.18034879, 0.15518062, 0.18007011]],\n",
       "\n",
       "       [[0.18086367, 0.18034879, 0.15518062, 0.18007011, 0.19510582]],\n",
       "\n",
       "       [[0.18034879, 0.15518062, 0.18007011, 0.19510582, 0.28795589]],\n",
       "\n",
       "       [[0.15518062, 0.18007011, 0.19510582, 0.28795589, 0.37879187]],\n",
       "\n",
       "       [[0.18007011, 0.19510582, 0.28795589, 0.37879187, 0.40002117]],\n",
       "\n",
       "       [[0.19510582, 0.28795589, 0.37879187, 0.40002117, 0.34828686]],\n",
       "\n",
       "       [[0.28795589, 0.37879187, 0.40002117, 0.34828686, 0.3957591 ]],\n",
       "\n",
       "       [[0.37879187, 0.40002117, 0.34828686, 0.3957591 , 0.54170226]],\n",
       "\n",
       "       [[0.40002117, 0.34828686, 0.3957591 , 0.54170226, 0.67690781]],\n",
       "\n",
       "       [[0.34828686, 0.3957591 , 0.54170226, 0.67690781, 0.77128436]],\n",
       "\n",
       "       [[0.3957591 , 0.54170226, 0.67690781, 0.77128436, 0.82316665]],\n",
       "\n",
       "       [[0.54170226, 0.67690781, 0.77128436, 0.82316665, 0.91084475]],\n",
       "\n",
       "       [[0.67690781, 0.77128436, 0.82316665, 0.91084475, 1.        ]],\n",
       "\n",
       "       [[0.77128436, 0.82316665, 0.91084475, 1.        , 0.9860843 ]],\n",
       "\n",
       "       [[0.82316665, 0.91084475, 1.        , 0.9860843 , 0.87005436]],\n",
       "\n",
       "       [[0.91084475, 1.        , 0.9860843 , 0.87005436, 0.61914988]],\n",
       "\n",
       "       [[1.        , 0.9860843 , 0.87005436, 0.61914988, 0.49061203]],\n",
       "\n",
       "       [[0.9860843 , 0.87005436, 0.61914988, 0.49061203, 0.39187411]],\n",
       "\n",
       "       [[0.87005436, 0.61914988, 0.49061203, 0.39187411, 0.33595669]],\n",
       "\n",
       "       [[0.61914988, 0.49061203, 0.39187411, 0.33595669, 0.29452088]],\n",
       "\n",
       "       [[0.49061203, 0.39187411, 0.33595669, 0.29452088, 0.19646456]],\n",
       "\n",
       "       [[0.39187411, 0.33595669, 0.29452088, 0.19646456, 0.14820618]],\n",
       "\n",
       "       [[0.33595669, 0.29452088, 0.19646456, 0.14820618, 0.15726342]],\n",
       "\n",
       "       [[0.29452088, 0.19646456, 0.14820618, 0.15726342, 0.12222412]],\n",
       "\n",
       "       [[0.19646456, 0.14820618, 0.15726342, 0.12222412, 0.07324677]],\n",
       "\n",
       "       [[0.14820618, 0.15726342, 0.12222412, 0.07324677, 0.05206859]],\n",
       "\n",
       "       [[0.15726342, 0.12222412, 0.07324677, 0.05206859, 0.05937164]],\n",
       "\n",
       "       [[0.12222412, 0.07324677, 0.05206859, 0.05937164, 0.04205497]],\n",
       "\n",
       "       [[0.07324677, 0.05206859, 0.05937164, 0.04205497, 0.0867528 ]],\n",
       "\n",
       "       [[0.05206859, 0.05937164, 0.04205497, 0.0867528 , 0.10976084]],\n",
       "\n",
       "       [[0.05937164, 0.04205497, 0.0867528 , 0.10976084, 0.0236608 ]]])"
      ]
     },
     "execution_count": 42,
     "metadata": {},
     "output_type": "execute_result"
    }
   ],
   "source": [
    "X_train"
   ]
  },
  {
   "cell_type": "code",
   "execution_count": 43,
   "metadata": {},
   "outputs": [
    {
     "data": {
      "text/plain": [
       "array([[[0.11246921, 0.        , 0.05951986, 0.03609647, 0.02119781]],\n",
       "\n",
       "       [[0.        , 0.05951986, 0.03609647, 0.02119781, 0.14904651]],\n",
       "\n",
       "       [[0.05951986, 0.03609647, 0.02119781, 0.14904651, 0.18126875]],\n",
       "\n",
       "       [[0.03609647, 0.02119781, 0.14904651, 0.18126875, 0.13095272]],\n",
       "\n",
       "       [[0.02119781, 0.14904651, 0.18126875, 0.13095272, 0.10455768]],\n",
       "\n",
       "       [[0.14904651, 0.18126875, 0.13095272, 0.10455768, 0.17398502]],\n",
       "\n",
       "       [[0.18126875, 0.13095272, 0.10455768, 0.17398502, 0.21977691]],\n",
       "\n",
       "       [[0.13095272, 0.10455768, 0.17398502, 0.21977691, 0.10637562]],\n",
       "\n",
       "       [[0.10455768, 0.17398502, 0.21977691, 0.10637562, 0.34028441]],\n",
       "\n",
       "       [[0.17398502, 0.21977691, 0.10637562, 0.34028441, 0.58554616]],\n",
       "\n",
       "       [[0.21977691, 0.10637562, 0.34028441, 0.58554616, 1.        ]],\n",
       "\n",
       "       [[0.10637562, 0.34028441, 0.58554616, 1.        , 0.66697564]],\n",
       "\n",
       "       [[0.34028441, 0.58554616, 1.        , 0.66697564, 0.83382907]],\n",
       "\n",
       "       [[0.58554616, 1.        , 0.66697564, 0.83382907, 0.74070179]]])"
      ]
     },
     "execution_count": 43,
     "metadata": {},
     "output_type": "execute_result"
    }
   ],
   "source": [
    "X_val"
   ]
  },
  {
   "cell_type": "code",
   "execution_count": 44,
   "metadata": {},
   "outputs": [
    {
     "name": "stdout",
     "output_type": "stream",
     "text": [
      "Train Score: 3.88 RMSE\n",
      "Validation Score: 8.78 RMSE\n"
     ]
    }
   ],
   "source": [
    "# calculate RMSE\n",
    "trainScore = math.sqrt(mean_squared_error(Y_train[0], trainpred[:,0]))\n",
    "print('Train Score: %.2f RMSE' % (trainScore))\n",
    "valScore = math.sqrt(mean_squared_error(Y_val[0], valpred[:,0]))\n",
    "print('Validation Score: %.2f RMSE' % (valScore))"
   ]
  },
  {
   "cell_type": "code",
   "execution_count": 45,
   "metadata": {},
   "outputs": [],
   "source": [
    "# Train predictions\n",
    "trainpredPlot = np.empty_like(df)\n",
    "trainpredPlot[:, :] = np.nan\n",
    "trainpredPlot[lookback:len(trainpred)+lookback, :] = trainpred"
   ]
  },
  {
   "cell_type": "code",
   "execution_count": 46,
   "metadata": {},
   "outputs": [],
   "source": [
    "# Validation predictions\n",
    "valpredPlot = np.empty_like(df)\n",
    "valpredPlot[:, :] = np.nan\n",
    "valpredPlot[len(trainpred)+(lookback*2)+1:len(df)-1, :] = valpred"
   ]
  },
  {
   "cell_type": "code",
   "execution_count": 47,
   "metadata": {},
   "outputs": [
    {
     "data": {
      "image/png": "[encoded data removed]",
      "text/plain": [
       "<Figure size 432x288 with 1 Axes>"
      ]
     },
     "metadata": {
      "needs_background": "light"
     },
     "output_type": "display_data"
    }
   ],
   "source": [
    "# Plot all predictions\n",
    "inversetransform, =plt.plot(scaler.inverse_transform(df))\n",
    "trainpred, =plt.plot(scaler.inverse_transform(trainpredPlot))\n",
    "valpred, =plt.plot(scaler.inverse_transform(valpredPlot))\n",
    "plt.xlabel('Number of weeks')\n",
    "plt.ylabel('Cancellations')\n",
    "plt.title(\"Predicted vs. Actual Weekly ADR\")\n",
    "plt.show()"
   ]
  },
  {
   "cell_type": "code",
   "execution_count": 48,
   "metadata": {},
   "outputs": [],
   "source": [
    "Y_val=Y_val.reshape(-1)\n",
    "Y_val.shape\n",
    "Y_val=pd.Series(Y_val)"
   ]
  },
  {
   "cell_type": "code",
   "execution_count": 49,
   "metadata": {},
   "outputs": [
    {
     "data": {
      "text/plain": [
       "0     56.185514\n",
       "1     57.799410\n",
       "2     55.279261\n",
       "3     53.957228\n",
       "4     57.434595\n",
       "5     59.728146\n",
       "6     54.048282\n",
       "7     65.763934\n",
       "8     78.048216\n",
       "9     98.806723\n",
       "10    82.126727\n",
       "11    90.483817\n",
       "12    85.819405\n",
       "13    84.468191\n",
       "dtype: float64"
      ]
     },
     "execution_count": 49,
     "metadata": {},
     "output_type": "execute_result"
    }
   ],
   "source": [
    "Y_val"
   ]
  },
  {
   "cell_type": "code",
   "execution_count": 50,
   "metadata": {},
   "outputs": [
    {
     "data": {
      "text/plain": [
       "69.9963892828086"
      ]
     },
     "execution_count": 50,
     "metadata": {},
     "output_type": "execute_result"
    }
   ],
   "source": [
    "np.mean(Y_val)"
   ]
  },
  {
   "cell_type": "code",
   "execution_count": 51,
   "metadata": {},
   "outputs": [],
   "source": [
    "predictions=predictions.reshape(-1)\n",
    "predictions.shape\n",
    "predictions=pd.Series(predictions)"
   ]
  },
  {
   "cell_type": "code",
   "execution_count": 52,
   "metadata": {},
   "outputs": [
    {
     "data": {
      "text/plain": [
       "0      50.231186\n",
       "1      56.421646\n",
       "2      57.954708\n",
       "3      55.764786\n",
       "4      55.406212\n",
       "5      58.201340\n",
       "6      60.168423\n",
       "7      55.034782\n",
       "8      66.251274\n",
       "9      79.970207\n",
       "10    101.250992\n",
       "11     88.487900\n",
       "12     88.783691\n",
       "13     83.543549\n",
       "dtype: float32"
      ]
     },
     "execution_count": 52,
     "metadata": {},
     "output_type": "execute_result"
    }
   ],
   "source": [
    "predictions"
   ]
  },
  {
   "cell_type": "code",
   "execution_count": 53,
   "metadata": {},
   "outputs": [],
   "source": [
    "import numpy as np\n",
    "\n",
    "def mda(actual: np.ndarray, predicted: np.ndarray):\n",
    "    \"\"\" Mean Directional Accuracy \"\"\"\n",
    "    return np.mean((np.sign(actual[1:] - actual[:-1]) == np.sign(predicted[1:] - predicted[:-1])).astype(int))"
   ]
  },
  {
   "cell_type": "code",
   "execution_count": 54,
   "metadata": {},
   "outputs": [
    {
     "data": {
      "text/plain": [
       "0.8571428571428571"
      ]
     },
     "execution_count": 54,
     "metadata": {},
     "output_type": "execute_result"
    }
   ],
   "source": [
    "mda(Y_val, predictions)"
   ]
  },
  {
   "cell_type": "code",
   "execution_count": 55,
   "metadata": {},
   "outputs": [
    {
     "name": "stdout",
     "output_type": "stream",
     "text": [
      "RMSE: 8.783666\n"
     ]
    }
   ],
   "source": [
    "# https://machinelearningmastery.com/time-series-forecasting-performance-measures-with-python/\n",
    "\n",
    "mse = mean_squared_error(Y_val, predictions)\n",
    "rmse = sqrt(mse)\n",
    "print('RMSE: %f' % rmse)"
   ]
  },
  {
   "cell_type": "code",
   "execution_count": 56,
   "metadata": {},
   "outputs": [
    {
     "data": {
      "text/plain": [
       "0     -5.954328\n",
       "1     -1.377764\n",
       "2      2.675447\n",
       "3      1.807558\n",
       "4     -2.028383\n",
       "5     -1.526806\n",
       "6      6.120140\n",
       "7    -10.729152\n",
       "8    -11.796942\n",
       "9    -18.836515\n",
       "10    19.124265\n",
       "11    -1.995917\n",
       "12     2.964286\n",
       "13    -0.924643\n",
       "dtype: float64"
      ]
     },
     "execution_count": 56,
     "metadata": {},
     "output_type": "execute_result"
    }
   ],
   "source": [
    "forecast_error = (predictions-Y_val)\n",
    "forecast_error"
   ]
  },
  {
   "cell_type": "code",
   "execution_count": 57,
   "metadata": {},
   "outputs": [
    {
     "data": {
      "text/plain": [
       "-1.6056253188367735"
      ]
     },
     "execution_count": 57,
     "metadata": {},
     "output_type": "execute_result"
    }
   ],
   "source": [
    "mean_forecast_error = np.mean(forecast_error)\n",
    "mean_forecast_error"
   ]
  },
  {
   "cell_type": "code",
   "execution_count": 58,
   "metadata": {},
   "outputs": [
    {
     "data": {
      "text/plain": [
       "array([[[0.35915778, 0.42256282, 0.53159902, 0.6084246 , 0.63902841]],\n",
       "\n",
       "       [[0.42256282, 0.53159902, 0.6084246 , 0.63902841, 0.70858066]],\n",
       "\n",
       "       [[0.53159902, 0.6084246 , 0.63902841, 0.70858066, 0.75574219]],\n",
       "\n",
       "       [[0.6084246 , 0.63902841, 0.70858066, 0.75574219, 0.7348692 ]],\n",
       "\n",
       "       [[0.63902841, 0.70858066, 0.75574219, 0.7348692 , 0.63555916]],\n",
       "\n",
       "       [[0.70858066, 0.75574219, 0.7348692 , 0.63555916, 0.34629856]],\n",
       "\n",
       "       [[0.75574219, 0.7348692 , 0.63555916, 0.34629856, 0.32723163]],\n",
       "\n",
       "       [[0.7348692 , 0.63555916, 0.34629856, 0.32723163, 0.18514608]],\n",
       "\n",
       "       [[0.63555916, 0.34629856, 0.32723163, 0.18514608, 0.21056117]],\n",
       "\n",
       "       [[0.34629856, 0.32723163, 0.18514608, 0.21056117, 0.13243974]],\n",
       "\n",
       "       [[0.32723163, 0.18514608, 0.21056117, 0.13243974, 0.1321469 ]],\n",
       "\n",
       "       [[0.18514608, 0.21056117, 0.13243974, 0.1321469 , 0.06636683]],\n",
       "\n",
       "       [[0.21056117, 0.13243974, 0.1321469 , 0.06636683, 0.09516089]],\n",
       "\n",
       "       [[0.13243974, 0.1321469 , 0.06636683, 0.09516089, 0.02223529]],\n",
       "\n",
       "       [[0.1321469 , 0.06636683, 0.09516089, 0.02223529, 0.02497857]],\n",
       "\n",
       "       [[0.06636683, 0.09516089, 0.02223529, 0.02497857, 0.06036494]],\n",
       "\n",
       "       [[0.09516089, 0.02223529, 0.02497857, 0.06036494, 0.03174555]],\n",
       "\n",
       "       [[0.02223529, 0.02497857, 0.06036494, 0.03174555, 0.        ]],\n",
       "\n",
       "       [[0.02497857, 0.06036494, 0.03174555, 0.        , 0.07264622]],\n",
       "\n",
       "       [[0.06036494, 0.03174555, 0.        , 0.07264622, 0.01577971]],\n",
       "\n",
       "       [[0.03174555, 0.        , 0.07264622, 0.01577971, 0.03508942]],\n",
       "\n",
       "       [[0.        , 0.07264622, 0.01577971, 0.03508942, 0.08660442]],\n",
       "\n",
       "       [[0.07264622, 0.01577971, 0.03508942, 0.08660442, 0.42389599]],\n",
       "\n",
       "       [[0.01577971, 0.03508942, 0.08660442, 0.42389599, 0.17160055]],\n",
       "\n",
       "       [[0.03508942, 0.08660442, 0.42389599, 0.17160055, 0.03557547]],\n",
       "\n",
       "       [[0.08660442, 0.42389599, 0.17160055, 0.03557547, 0.00426488]],\n",
       "\n",
       "       [[0.42389599, 0.17160055, 0.03557547, 0.00426488, 0.0107102 ]],\n",
       "\n",
       "       [[0.17160055, 0.03557547, 0.00426488, 0.0107102 , 0.01544127]],\n",
       "\n",
       "       [[0.03557547, 0.00426488, 0.0107102 , 0.01544127, 0.05726066]],\n",
       "\n",
       "       [[0.00426488, 0.0107102 , 0.01544127, 0.05726066, 0.10383914]],\n",
       "\n",
       "       [[0.0107102 , 0.01544127, 0.05726066, 0.10383914, 0.06606771]],\n",
       "\n",
       "       [[0.01544127, 0.05726066, 0.10383914, 0.06606771, 0.08345677]],\n",
       "\n",
       "       [[0.05726066, 0.10383914, 0.06606771, 0.08345677, 0.06042365]],\n",
       "\n",
       "       [[0.10383914, 0.06606771, 0.08345677, 0.06042365, 0.04667078]],\n",
       "\n",
       "       [[0.06606771, 0.08345677, 0.06042365, 0.04667078, 0.03650144]],\n",
       "\n",
       "       [[0.08345677, 0.06042365, 0.04667078, 0.03650144, 0.18829055]],\n",
       "\n",
       "       [[0.06042365, 0.04667078, 0.03650144, 0.18829055, 0.12438214]],\n",
       "\n",
       "       [[0.04667078, 0.03650144, 0.18829055, 0.12438214, 0.13248013]],\n",
       "\n",
       "       [[0.03650144, 0.18829055, 0.12438214, 0.13248013, 0.16620484]],\n",
       "\n",
       "       [[0.18829055, 0.12438214, 0.13248013, 0.16620484, 0.17270111]],\n",
       "\n",
       "       [[0.12438214, 0.13248013, 0.16620484, 0.17270111, 0.18086367]],\n",
       "\n",
       "       [[0.13248013, 0.16620484, 0.17270111, 0.18086367, 0.18034879]],\n",
       "\n",
       "       [[0.16620484, 0.17270111, 0.18086367, 0.18034879, 0.15518062]],\n",
       "\n",
       "       [[0.17270111, 0.18086367, 0.18034879, 0.15518062, 0.18007011]],\n",
       "\n",
       "       [[0.18086367, 0.18034879, 0.15518062, 0.18007011, 0.19510582]],\n",
       "\n",
       "       [[0.18034879, 0.15518062, 0.18007011, 0.19510582, 0.28795589]],\n",
       "\n",
       "       [[0.15518062, 0.18007011, 0.19510582, 0.28795589, 0.37879187]],\n",
       "\n",
       "       [[0.18007011, 0.19510582, 0.28795589, 0.37879187, 0.40002117]],\n",
       "\n",
       "       [[0.19510582, 0.28795589, 0.37879187, 0.40002117, 0.34828686]],\n",
       "\n",
       "       [[0.28795589, 0.37879187, 0.40002117, 0.34828686, 0.3957591 ]],\n",
       "\n",
       "       [[0.37879187, 0.40002117, 0.34828686, 0.3957591 , 0.54170226]],\n",
       "\n",
       "       [[0.40002117, 0.34828686, 0.3957591 , 0.54170226, 0.67690781]],\n",
       "\n",
       "       [[0.34828686, 0.3957591 , 0.54170226, 0.67690781, 0.77128436]],\n",
       "\n",
       "       [[0.3957591 , 0.54170226, 0.67690781, 0.77128436, 0.82316665]],\n",
       "\n",
       "       [[0.54170226, 0.67690781, 0.77128436, 0.82316665, 0.91084475]],\n",
       "\n",
       "       [[0.67690781, 0.77128436, 0.82316665, 0.91084475, 1.        ]],\n",
       "\n",
       "       [[0.77128436, 0.82316665, 0.91084475, 1.        , 0.9860843 ]],\n",
       "\n",
       "       [[0.82316665, 0.91084475, 1.        , 0.9860843 , 0.87005436]],\n",
       "\n",
       "       [[0.91084475, 1.        , 0.9860843 , 0.87005436, 0.61914988]],\n",
       "\n",
       "       [[1.        , 0.9860843 , 0.87005436, 0.61914988, 0.49061203]],\n",
       "\n",
       "       [[0.9860843 , 0.87005436, 0.61914988, 0.49061203, 0.39187411]],\n",
       "\n",
       "       [[0.87005436, 0.61914988, 0.49061203, 0.39187411, 0.33595669]],\n",
       "\n",
       "       [[0.61914988, 0.49061203, 0.39187411, 0.33595669, 0.29452088]],\n",
       "\n",
       "       [[0.49061203, 0.39187411, 0.33595669, 0.29452088, 0.19646456]],\n",
       "\n",
       "       [[0.39187411, 0.33595669, 0.29452088, 0.19646456, 0.14820618]],\n",
       "\n",
       "       [[0.33595669, 0.29452088, 0.19646456, 0.14820618, 0.15726342]],\n",
       "\n",
       "       [[0.29452088, 0.19646456, 0.14820618, 0.15726342, 0.12222412]],\n",
       "\n",
       "       [[0.19646456, 0.14820618, 0.15726342, 0.12222412, 0.07324677]],\n",
       "\n",
       "       [[0.14820618, 0.15726342, 0.12222412, 0.07324677, 0.05206859]],\n",
       "\n",
       "       [[0.15726342, 0.12222412, 0.07324677, 0.05206859, 0.05937164]],\n",
       "\n",
       "       [[0.12222412, 0.07324677, 0.05206859, 0.05937164, 0.04205497]],\n",
       "\n",
       "       [[0.07324677, 0.05206859, 0.05937164, 0.04205497, 0.0867528 ]],\n",
       "\n",
       "       [[0.05206859, 0.05937164, 0.04205497, 0.0867528 , 0.10976084]],\n",
       "\n",
       "       [[0.05937164, 0.04205497, 0.0867528 , 0.10976084, 0.0236608 ]]])"
      ]
     },
     "execution_count": 58,
     "metadata": {},
     "output_type": "execute_result"
    }
   ],
   "source": [
    "X_train"
   ]
  },
  {
   "cell_type": "code",
   "execution_count": 59,
   "metadata": {},
   "outputs": [
    {
     "data": {
      "text/plain": [
       "(74, 1, 5)"
      ]
     },
     "execution_count": 59,
     "metadata": {},
     "output_type": "execute_result"
    }
   ],
   "source": [
    "X_train.shape"
   ]
  },
  {
   "cell_type": "markdown",
   "metadata": {},
   "source": [
    "## Validate Predictions on Test Data"
   ]
  },
  {
   "cell_type": "code",
   "execution_count": 60,
   "metadata": {},
   "outputs": [],
   "source": [
    "Xnew = np.array([tseries.iloc[95:100],tseries.iloc[96:101],tseries.iloc[97:102],tseries.iloc[98:103],tseries.iloc[99:104],tseries.iloc[100:105],tseries.iloc[101:106],tseries.iloc[102:107],tseries.iloc[103:108],tseries.iloc[104:109],tseries.iloc[105:110],tseries.iloc[106:111],tseries.iloc[107:112],tseries.iloc[108:113],tseries.iloc[109:114]])"
   ]
  },
  {
   "cell_type": "code",
   "execution_count": 61,
   "metadata": {},
   "outputs": [
    {
     "data": {
      "text/plain": [
       "array([[ 82.1267268 ,  90.48381679,  85.81940503,  84.46819121,\n",
       "         83.25621451],\n",
       "       [ 90.48381679,  85.81940503,  84.46819121,  83.25621451,\n",
       "         84.12304147],\n",
       "       [ 85.81940503,  84.46819121,  83.25621451,  84.12304147,\n",
       "        102.08452794],\n",
       "       [ 84.46819121,  83.25621451,  84.12304147, 102.08452794,\n",
       "        113.74824022],\n",
       "       [ 83.25621451,  84.12304147, 102.08452794, 113.74824022,\n",
       "        117.55218509],\n",
       "       [ 84.12304147, 102.08452794, 113.74824022, 117.55218509,\n",
       "        124.05833795],\n",
       "       [102.08452794, 113.74824022, 117.55218509, 124.05833795,\n",
       "        127.02865337],\n",
       "       [113.74824022, 117.55218509, 124.05833795, 127.02865337,\n",
       "        151.23568966],\n",
       "       [117.55218509, 124.05833795, 127.02865337, 151.23568966,\n",
       "        172.26865909],\n",
       "       [124.05833795, 127.02865337, 151.23568966, 172.26865909,\n",
       "        189.16831978],\n",
       "       [127.02865337, 151.23568966, 172.26865909, 189.16831978,\n",
       "        198.22268542],\n",
       "       [151.23568966, 172.26865909, 189.16831978, 198.22268542,\n",
       "        208.71251185],\n",
       "       [172.26865909, 189.16831978, 198.22268542, 208.71251185,\n",
       "        211.52835052],\n",
       "       [189.16831978, 198.22268542, 208.71251185, 211.52835052,\n",
       "        211.16204036],\n",
       "       [198.22268542, 208.71251185, 211.52835052, 211.16204036,\n",
       "        210.28488251]])"
      ]
     },
     "execution_count": 61,
     "metadata": {},
     "output_type": "execute_result"
    }
   ],
   "source": [
    "Xnew"
   ]
  },
  {
   "cell_type": "code",
   "execution_count": 62,
   "metadata": {},
   "outputs": [],
   "source": [
    "Xnew = scaler.fit_transform(Xnew)\n",
    "Xnew\n",
    "Xnewformat = np.reshape(Xnew, (Xnew.shape[0], 1, Xnew.shape[1]))\n",
    "ynew=model.predict(Xnewformat)"
   ]
  },
  {
   "cell_type": "code",
   "execution_count": 63,
   "metadata": {},
   "outputs": [
    {
     "data": {
      "text/plain": [
       "(15, 5)"
      ]
     },
     "execution_count": 63,
     "metadata": {},
     "output_type": "execute_result"
    }
   ],
   "source": [
    "Xnew.shape"
   ]
  },
  {
   "cell_type": "code",
   "execution_count": 64,
   "metadata": {},
   "outputs": [
    {
     "data": {
      "text/plain": [
       "array([[0.02911448],\n",
       "       [0.02332726],\n",
       "       [0.13809595],\n",
       "       [0.22962333],\n",
       "       [0.2725696 ],\n",
       "       [0.34899533],\n",
       "       [0.3710577 ],\n",
       "       [0.556644  ],\n",
       "       [0.7516146 ],\n",
       "       [0.8891489 ],\n",
       "       [0.9482267 ],\n",
       "       [0.9543825 ],\n",
       "       [0.9082619 ],\n",
       "       [0.8376899 ],\n",
       "       [0.78826576]], dtype=float32)"
      ]
     },
     "execution_count": 64,
     "metadata": {},
     "output_type": "execute_result"
    }
   ],
   "source": [
    "ynew"
   ]
  },
  {
   "cell_type": "code",
   "execution_count": 65,
   "metadata": {},
   "outputs": [
    {
     "data": {
      "text/plain": [
       "numpy.ndarray"
      ]
     },
     "execution_count": 65,
     "metadata": {},
     "output_type": "execute_result"
    }
   ],
   "source": [
    "type(ynew)"
   ]
  },
  {
   "cell_type": "code",
   "execution_count": 66,
   "metadata": {},
   "outputs": [
    {
     "data": {
      "text/plain": [
       "(15, 1)"
      ]
     },
     "execution_count": 66,
     "metadata": {},
     "output_type": "execute_result"
    }
   ],
   "source": [
    "ynew.shape"
   ]
  },
  {
   "cell_type": "code",
   "execution_count": 67,
   "metadata": {},
   "outputs": [
    {
     "data": {
      "text/plain": [
       "FullDate\n",
       "201721     84.123041\n",
       "201722    102.084528\n",
       "201723    113.748240\n",
       "201724    117.552185\n",
       "201725    124.058338\n",
       "201726    127.028653\n",
       "201727    151.235690\n",
       "201728    172.268659\n",
       "201729    189.168320\n",
       "201730    198.222685\n",
       "201731    208.712512\n",
       "201732    211.528351\n",
       "201733    211.162040\n",
       "201734    210.284883\n",
       "201735    186.204007\n",
       "Name: ADR, dtype: float64"
      ]
     },
     "execution_count": 67,
     "metadata": {},
     "output_type": "execute_result"
    }
   ],
   "source": [
    "actual = tseries.iloc[100:115]\n",
    "actual"
   ]
  },
  {
   "cell_type": "code",
   "execution_count": 68,
   "metadata": {},
   "outputs": [
    {
     "data": {
      "text/plain": [
       "array([ 84.12304147, 102.08452794, 113.74824022, 117.55218509,\n",
       "       124.05833795, 127.02865337, 151.23568966, 172.26865909,\n",
       "       189.16831978, 198.22268542, 208.71251185, 211.52835052,\n",
       "       211.16204036, 210.28488251, 186.20400722])"
      ]
     },
     "execution_count": 68,
     "metadata": {},
     "output_type": "execute_result"
    }
   ],
   "source": [
    "actual = np.array(actual)\n",
    "actual"
   ]
  },
  {
   "cell_type": "code",
   "execution_count": 69,
   "metadata": {},
   "outputs": [
    {
     "data": {
      "text/plain": [
       "(15, 1)"
      ]
     },
     "execution_count": 69,
     "metadata": {},
     "output_type": "execute_result"
    }
   ],
   "source": [
    "actual=actual.reshape(15,-1)\n",
    "actual.shape"
   ]
  },
  {
   "cell_type": "code",
   "execution_count": 70,
   "metadata": {},
   "outputs": [
    {
     "data": {
      "text/plain": [
       "array([[ 84.12304147],\n",
       "       [102.08452794],\n",
       "       [113.74824022],\n",
       "       [117.55218509],\n",
       "       [124.05833795],\n",
       "       [127.02865337],\n",
       "       [151.23568966],\n",
       "       [172.26865909],\n",
       "       [189.16831978],\n",
       "       [198.22268542],\n",
       "       [208.71251185],\n",
       "       [211.52835052],\n",
       "       [211.16204036],\n",
       "       [210.28488251],\n",
       "       [186.20400722]])"
      ]
     },
     "execution_count": 70,
     "metadata": {},
     "output_type": "execute_result"
    }
   ],
   "source": [
    "actual"
   ]
  },
  {
   "cell_type": "code",
   "execution_count": 71,
   "metadata": {},
   "outputs": [],
   "source": [
    "ynew=ynew.reshape(-1)\n",
    "actual=actual.reshape(-1)\n",
    "actualpd=pd.Series(actual)"
   ]
  },
  {
   "cell_type": "code",
   "execution_count": 72,
   "metadata": {},
   "outputs": [
    {
     "data": {
      "text/plain": [
       "41.754230769230766"
      ]
     },
     "execution_count": 72,
     "metadata": {},
     "output_type": "execute_result"
    }
   ],
   "source": [
    "np.min(df)"
   ]
  },
  {
   "cell_type": "code",
   "execution_count": 73,
   "metadata": {},
   "outputs": [
    {
     "data": {
      "text/plain": [
       "array([0.02911448, 0.02332726, 0.13809595, 0.22962333, 0.2725696 ,\n",
       "       0.34899533, 0.3710577 , 0.556644  , 0.7516146 , 0.8891489 ,\n",
       "       0.9482267 , 0.9543825 , 0.9082619 , 0.8376899 , 0.78826576],\n",
       "      dtype=float32)"
      ]
     },
     "execution_count": 73,
     "metadata": {},
     "output_type": "execute_result"
    }
   ],
   "source": [
    "ynew"
   ]
  },
  {
   "cell_type": "code",
   "execution_count": 74,
   "metadata": {},
   "outputs": [],
   "source": [
    "maxt=np.max(tseries)"
   ]
  },
  {
   "cell_type": "code",
   "execution_count": 75,
   "metadata": {},
   "outputs": [],
   "source": [
    "mint=np.min(tseries)"
   ]
  },
  {
   "cell_type": "code",
   "execution_count": 76,
   "metadata": {},
   "outputs": [],
   "source": [
    "ynew = ynew * np.abs(maxt-mint) + np.min(tseries)\n",
    "ynewpd=pd.Series(ynew)"
   ]
  },
  {
   "cell_type": "code",
   "execution_count": 77,
   "metadata": {},
   "outputs": [
    {
     "data": {
      "text/plain": [
       "0      84.123041\n",
       "1     102.084528\n",
       "2     113.748240\n",
       "3     117.552185\n",
       "4     124.058338\n",
       "5     127.028653\n",
       "6     151.235690\n",
       "7     172.268659\n",
       "8     189.168320\n",
       "9     198.222685\n",
       "10    208.712512\n",
       "11    211.528351\n",
       "12    211.162040\n",
       "13    210.284883\n",
       "14    186.204007\n",
       "dtype: float64"
      ]
     },
     "execution_count": 77,
     "metadata": {},
     "output_type": "execute_result"
    }
   ],
   "source": [
    "actualpd"
   ]
  },
  {
   "cell_type": "code",
   "execution_count": 78,
   "metadata": {},
   "outputs": [
    {
     "data": {
      "text/plain": [
       "0      46.697117\n",
       "1      45.714596\n",
       "2      65.199348\n",
       "3      80.738327\n",
       "4      88.029495\n",
       "5     101.004608\n",
       "6     104.750229\n",
       "7     136.257980\n",
       "8     169.358932\n",
       "9     192.708694\n",
       "10    202.738586\n",
       "11    203.783676\n",
       "12    195.953598\n",
       "13    183.972290\n",
       "14    175.581360\n",
       "dtype: float32"
      ]
     },
     "execution_count": 78,
     "metadata": {},
     "output_type": "execute_result"
    }
   ],
   "source": [
    "ynewpd"
   ]
  },
  {
   "cell_type": "code",
   "execution_count": 79,
   "metadata": {},
   "outputs": [
    {
     "data": {
      "text/plain": [
       "0.8666666666666667"
      ]
     },
     "execution_count": 79,
     "metadata": {},
     "output_type": "execute_result"
    }
   ],
   "source": [
    "mda(actualpd, ynewpd)"
   ]
  },
  {
   "cell_type": "code",
   "execution_count": 80,
   "metadata": {},
   "outputs": [
    {
     "name": "stdout",
     "output_type": "stream",
     "text": [
      "RMSE: 31.914984\n"
     ]
    }
   ],
   "source": [
    "mse = mean_squared_error(actualpd, ynewpd)\n",
    "rmse = sqrt(mse)\n",
    "print('RMSE: %f' % rmse)"
   ]
  },
  {
   "cell_type": "code",
   "execution_count": 81,
   "metadata": {},
   "outputs": [
    {
     "data": {
      "text/plain": [
       "0    -37.425925\n",
       "1    -56.369932\n",
       "2    -48.548892\n",
       "3    -36.813858\n",
       "4    -36.028843\n",
       "5    -26.024045\n",
       "6    -46.485461\n",
       "7    -36.010679\n",
       "8    -19.809387\n",
       "9     -5.513991\n",
       "10    -5.973925\n",
       "11    -7.744674\n",
       "12   -15.208442\n",
       "13   -26.312592\n",
       "14   -10.622647\n",
       "dtype: float64"
      ]
     },
     "execution_count": 81,
     "metadata": {},
     "output_type": "execute_result"
    }
   ],
   "source": [
    "forecast_error = (ynewpd-actualpd)\n",
    "forecast_error"
   ]
  },
  {
   "cell_type": "code",
   "execution_count": 82,
   "metadata": {},
   "outputs": [
    {
     "data": {
      "text/plain": [
       "-27.659552949861602"
      ]
     },
     "execution_count": 82,
     "metadata": {},
     "output_type": "execute_result"
    }
   ],
   "source": [
    "mean_forecast_error = np.mean(forecast_error)\n",
    "mean_forecast_error"
   ]
  },
  {
   "cell_type": "code",
   "execution_count": 83,
   "metadata": {},
   "outputs": [
    {
     "data": {
      "image/png": "[encoded data removed]",
      "text/plain": [
       "<Figure size 432x288 with 1 Axes>"
      ]
     },
     "metadata": {
      "needs_background": "light"
     },
     "output_type": "display_data"
    }
   ],
   "source": [
    "predictons, =plt.plot(ynewpd, label='Predictions')\n",
    "actual, =plt.plot(actualpd, label='Actual')\n",
    "plt.xlabel('Number of weeks')\n",
    "plt.ylabel('Weekly ADR')\n",
    "plt.title(\"Predicted vs. Actual Weekly ADR\")\n",
    "plt.legend(loc = 'upper center')\n",
    "plt.show()"
   ]
  },
  {
   "cell_type": "code",
   "execution_count": 84,
   "metadata": {},
   "outputs": [
    {
     "data": {
      "text/plain": [
       "160.492142162915"
      ]
     },
     "execution_count": 84,
     "metadata": {},
     "output_type": "execute_result"
    }
   ],
   "source": [
    "np.mean(actualpd)"
   ]
  }
 ],
 "metadata": {
  "kernelspec": {
   "display_name": "Python 3",
   "language": "python",
   "name": "python3"
  },
  "language_info": {
   "codemirror_mode": {
    "name": "ipython",
    "version": 3
   },
   "file_extension": ".py",
   "mimetype": "text/x-python",
   "name": "python",
   "nbconvert_exporter": "python",
   "pygments_lexer": "ipython3",
   "version": "3.6.9"
  }
 },
 "nbformat": 4,
 "nbformat_minor": 2
}
