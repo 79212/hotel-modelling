{
 "cells": [
  {
   "cell_type": "markdown",
   "metadata": {},
   "source": [
    "## Python version"
   ]
  },
  {
   "cell_type": "code",
   "execution_count": 1,
   "metadata": {},
   "outputs": [
    {
     "name": "stdout",
     "output_type": "stream",
     "text": [
      "3.6.9\n"
     ]
    }
   ],
   "source": [
    "from platform import python_version\n",
    "print(python_version())"
   ]
  },
  {
   "cell_type": "markdown",
   "metadata": {},
   "source": [
    "## Import Libraries"
   ]
  },
  {
   "cell_type": "code",
   "execution_count": 2,
   "metadata": {},
   "outputs": [
    {
     "name": "stdout",
     "output_type": "stream",
     "text": [
      "2.2.0\n"
     ]
    }
   ],
   "source": [
    "import tensorflow as tf\n",
    "print(tf.__version__)"
   ]
  },
  {
   "cell_type": "code",
   "execution_count": 3,
   "metadata": {},
   "outputs": [],
   "source": [
    "tf.random.set_seed(1234)"
   ]
  },
  {
   "cell_type": "code",
   "execution_count": 4,
   "metadata": {},
   "outputs": [],
   "source": [
    "import csv\n",
    "import math\n",
    "import matplotlib.pyplot as plt\n",
    "import numpy as np\n",
    "import os\n",
    "import pandas as pd\n",
    "import random\n",
    "import statsmodels.api as sm\n",
    "import statsmodels.formula.api as smf\n",
    "\n",
    "from math import sqrt\n",
    "from numpy.random import seed\n",
    "seed(1)\n",
    "from pandas import DataFrame\n",
    "from sklearn.metrics import mean_squared_error\n",
    "from sklearn.model_selection import train_test_split\n",
    "from sklearn.preprocessing import MinMaxScaler\n",
    "from statsmodels.tsa.stattools import adfuller\n",
    "from tensorflow.keras.layers import Dense\n",
    "from tensorflow.keras import layers\n",
    "from tensorflow.keras.layers import LSTM\n",
    "\n",
    "dtypes = {\n",
    "        'IsCanceled':                                    'float64',\n",
    "        'LeadTime':                                          'float64',\n",
    "        'StaysInWeekendNights':                                     'float64',\n",
    "        'StaysInWeekNights':                                     'float64',\n",
    "        'Adults':                            'float64',\n",
    "        'Children':                            'float64',\n",
    "        'Babies':                                  'float64',\n",
    "        'Meal':                                    'category',\n",
    "        'Country':                                               'category',\n",
    "        'MarketSegment':                                    'category',\n",
    "        'DistributionChannel':                                       'category',\n",
    "        'IsRepeatedGuest':                               'float64',\n",
    "        'PreviousCancellations':                                    'float64',\n",
    "        'PreviousBookingsNotCanceled':                          'float64',\n",
    "        'ReservedRoomType':                                             'category',\n",
    "        'AssignedRoomType':                                            'category',\n",
    "        'BookingChanges':                                                'float64',\n",
    "        'DepositType':                                              'category',\n",
    "        'Agent':                                              'category',\n",
    "        'Company':                                 'category',\n",
    "        'DaysInWaitingList':                                           'float64',\n",
    "        'CustomerType':                                           'category',\n",
    "        'ADR':                                          'float64',\n",
    "        'RequiredCarParkingSpaces':                                      'float64',\n",
    "        'TotalOfSpecialRequests':                                              'float64',\n",
    "        'ReservationStatus':                                                'category'\n",
    "        }"
   ]
  },
  {
   "cell_type": "markdown",
   "metadata": {},
   "source": [
    "## Data Import and Manipulation"
   ]
  },
  {
   "cell_type": "code",
   "execution_count": 5,
   "metadata": {},
   "outputs": [],
   "source": [
    "train_df = pd.read_csv(\"H1full.csv\", dtype=dtypes, converters={'ArrivalDateWeekNumber': '{:0>2}'.format})"
   ]
  },
  {
   "cell_type": "code",
   "execution_count": 6,
   "metadata": {},
   "outputs": [
    {
     "data": {
      "text/plain": [
       "pandas.core.frame.DataFrame"
      ]
     },
     "execution_count": 6,
     "metadata": {},
     "output_type": "execute_result"
    }
   ],
   "source": [
    "a=train_df.head()\n",
    "b=train_df\n",
    "b\n",
    "c=b.sort_values(['ArrivalDateYear','ArrivalDateWeekNumber'], ascending=True)\n",
    "c=pd.DataFrame(c)\n",
    "c\n",
    "type(c)"
   ]
  },
  {
   "cell_type": "code",
   "execution_count": 7,
   "metadata": {},
   "outputs": [
    {
     "data": {
      "text/html": [
       "<div>\n",
       "<style scoped>\n",
       "    .dataframe tbody tr th:only-of-type {\n",
       "        vertical-align: middle;\n",
       "    }\n",
       "\n",
       "    .dataframe tbody tr th {\n",
       "        vertical-align: top;\n",
       "    }\n",
       "\n",
       "    .dataframe thead th {\n",
       "        text-align: right;\n",
       "    }\n",
       "</style>\n",
       "<table border=\"1\" class=\"dataframe\">\n",
       "  <thead>\n",
       "    <tr style=\"text-align: right;\">\n",
       "      <th></th>\n",
       "      <th>ArrivalDateYear</th>\n",
       "      <th>ArrivalDateWeekNumber</th>\n",
       "    </tr>\n",
       "  </thead>\n",
       "  <tbody>\n",
       "    <tr>\n",
       "      <th>0</th>\n",
       "      <td>2015</td>\n",
       "      <td>27</td>\n",
       "    </tr>\n",
       "    <tr>\n",
       "      <th>1</th>\n",
       "      <td>2015</td>\n",
       "      <td>27</td>\n",
       "    </tr>\n",
       "    <tr>\n",
       "      <th>2</th>\n",
       "      <td>2015</td>\n",
       "      <td>27</td>\n",
       "    </tr>\n",
       "    <tr>\n",
       "      <th>3</th>\n",
       "      <td>2015</td>\n",
       "      <td>27</td>\n",
       "    </tr>\n",
       "    <tr>\n",
       "      <th>4</th>\n",
       "      <td>2015</td>\n",
       "      <td>27</td>\n",
       "    </tr>\n",
       "    <tr>\n",
       "      <th>...</th>\n",
       "      <td>...</td>\n",
       "      <td>...</td>\n",
       "    </tr>\n",
       "    <tr>\n",
       "      <th>40055</th>\n",
       "      <td>2017</td>\n",
       "      <td>35</td>\n",
       "    </tr>\n",
       "    <tr>\n",
       "      <th>40056</th>\n",
       "      <td>2017</td>\n",
       "      <td>35</td>\n",
       "    </tr>\n",
       "    <tr>\n",
       "      <th>40057</th>\n",
       "      <td>2017</td>\n",
       "      <td>35</td>\n",
       "    </tr>\n",
       "    <tr>\n",
       "      <th>40058</th>\n",
       "      <td>2017</td>\n",
       "      <td>35</td>\n",
       "    </tr>\n",
       "    <tr>\n",
       "      <th>40059</th>\n",
       "      <td>2017</td>\n",
       "      <td>35</td>\n",
       "    </tr>\n",
       "  </tbody>\n",
       "</table>\n",
       "<p>40060 rows × 2 columns</p>\n",
       "</div>"
      ],
      "text/plain": [
       "       ArrivalDateYear ArrivalDateWeekNumber\n",
       "0                 2015                    27\n",
       "1                 2015                    27\n",
       "2                 2015                    27\n",
       "3                 2015                    27\n",
       "4                 2015                    27\n",
       "...                ...                   ...\n",
       "40055             2017                    35\n",
       "40056             2017                    35\n",
       "40057             2017                    35\n",
       "40058             2017                    35\n",
       "40059             2017                    35\n",
       "\n",
       "[40060 rows x 2 columns]"
      ]
     },
     "execution_count": 7,
     "metadata": {},
     "output_type": "execute_result"
    }
   ],
   "source": [
    "df = DataFrame(c, columns= ['ArrivalDateYear', 'ArrivalDateWeekNumber']) \n",
    "df"
   ]
  },
  {
   "cell_type": "code",
   "execution_count": 8,
   "metadata": {},
   "outputs": [
    {
     "name": "stdout",
     "output_type": "stream",
     "text": [
      "0        201527\n",
      "1        201527\n",
      "2        201527\n",
      "3        201527\n",
      "4        201527\n",
      "          ...  \n",
      "40055    201735\n",
      "40056    201735\n",
      "40057    201735\n",
      "40058    201735\n",
      "40059    201735\n",
      "Length: 40060, dtype: object\n"
     ]
    }
   ],
   "source": [
    "# https://datatofish.com/concatenate-values-python/\n",
    "\n",
    "df1 = df['ArrivalDateYear'].map(str) + df['ArrivalDateWeekNumber'].map(str)\n",
    "print (df1)\n",
    "df1=pd.DataFrame(df1)"
   ]
  },
  {
   "cell_type": "code",
   "execution_count": 9,
   "metadata": {
    "scrolled": true
   },
   "outputs": [
    {
     "data": {
      "text/html": [
       "<div>\n",
       "<style scoped>\n",
       "    .dataframe tbody tr th:only-of-type {\n",
       "        vertical-align: middle;\n",
       "    }\n",
       "\n",
       "    .dataframe tbody tr th {\n",
       "        vertical-align: top;\n",
       "    }\n",
       "\n",
       "    .dataframe thead th {\n",
       "        text-align: right;\n",
       "    }\n",
       "</style>\n",
       "<table border=\"1\" class=\"dataframe\">\n",
       "  <thead>\n",
       "    <tr style=\"text-align: right;\">\n",
       "      <th></th>\n",
       "      <th>IsCanceled</th>\n",
       "    </tr>\n",
       "  </thead>\n",
       "  <tbody>\n",
       "    <tr>\n",
       "      <th>0</th>\n",
       "      <td>0.0</td>\n",
       "    </tr>\n",
       "    <tr>\n",
       "      <th>1</th>\n",
       "      <td>0.0</td>\n",
       "    </tr>\n",
       "    <tr>\n",
       "      <th>2</th>\n",
       "      <td>0.0</td>\n",
       "    </tr>\n",
       "    <tr>\n",
       "      <th>3</th>\n",
       "      <td>0.0</td>\n",
       "    </tr>\n",
       "    <tr>\n",
       "      <th>4</th>\n",
       "      <td>0.0</td>\n",
       "    </tr>\n",
       "    <tr>\n",
       "      <th>...</th>\n",
       "      <td>...</td>\n",
       "    </tr>\n",
       "    <tr>\n",
       "      <th>40055</th>\n",
       "      <td>0.0</td>\n",
       "    </tr>\n",
       "    <tr>\n",
       "      <th>40056</th>\n",
       "      <td>0.0</td>\n",
       "    </tr>\n",
       "    <tr>\n",
       "      <th>40057</th>\n",
       "      <td>0.0</td>\n",
       "    </tr>\n",
       "    <tr>\n",
       "      <th>40058</th>\n",
       "      <td>0.0</td>\n",
       "    </tr>\n",
       "    <tr>\n",
       "      <th>40059</th>\n",
       "      <td>0.0</td>\n",
       "    </tr>\n",
       "  </tbody>\n",
       "</table>\n",
       "<p>40060 rows × 1 columns</p>\n",
       "</div>"
      ],
      "text/plain": [
       "       IsCanceled\n",
       "0             0.0\n",
       "1             0.0\n",
       "2             0.0\n",
       "3             0.0\n",
       "4             0.0\n",
       "...           ...\n",
       "40055         0.0\n",
       "40056         0.0\n",
       "40057         0.0\n",
       "40058         0.0\n",
       "40059         0.0\n",
       "\n",
       "[40060 rows x 1 columns]"
      ]
     },
     "execution_count": 9,
     "metadata": {},
     "output_type": "execute_result"
    }
   ],
   "source": [
    "df2 = DataFrame(c, columns= ['IsCanceled']) \n",
    "df2"
   ]
  },
  {
   "cell_type": "code",
   "execution_count": 10,
   "metadata": {},
   "outputs": [
    {
     "data": {
      "text/plain": [
       "pandas.core.frame.DataFrame"
      ]
     },
     "execution_count": 10,
     "metadata": {},
     "output_type": "execute_result"
    }
   ],
   "source": [
    "type(df1)"
   ]
  },
  {
   "cell_type": "code",
   "execution_count": 11,
   "metadata": {},
   "outputs": [],
   "source": [
    "df3=pd.concat([df1, df2], axis = 1)\n",
    "df3\n",
    "df3.columns = ['FullDate', 'IsCanceled']"
   ]
  },
  {
   "cell_type": "code",
   "execution_count": 12,
   "metadata": {},
   "outputs": [
    {
     "data": {
      "text/html": [
       "<div>\n",
       "<style scoped>\n",
       "    .dataframe tbody tr th:only-of-type {\n",
       "        vertical-align: middle;\n",
       "    }\n",
       "\n",
       "    .dataframe tbody tr th {\n",
       "        vertical-align: top;\n",
       "    }\n",
       "\n",
       "    .dataframe thead th {\n",
       "        text-align: right;\n",
       "    }\n",
       "</style>\n",
       "<table border=\"1\" class=\"dataframe\">\n",
       "  <thead>\n",
       "    <tr style=\"text-align: right;\">\n",
       "      <th></th>\n",
       "      <th>FullDate</th>\n",
       "      <th>IsCanceled</th>\n",
       "    </tr>\n",
       "  </thead>\n",
       "  <tbody>\n",
       "    <tr>\n",
       "      <th>0</th>\n",
       "      <td>201527</td>\n",
       "      <td>0.0</td>\n",
       "    </tr>\n",
       "    <tr>\n",
       "      <th>1</th>\n",
       "      <td>201527</td>\n",
       "      <td>0.0</td>\n",
       "    </tr>\n",
       "    <tr>\n",
       "      <th>2</th>\n",
       "      <td>201527</td>\n",
       "      <td>0.0</td>\n",
       "    </tr>\n",
       "    <tr>\n",
       "      <th>3</th>\n",
       "      <td>201527</td>\n",
       "      <td>0.0</td>\n",
       "    </tr>\n",
       "    <tr>\n",
       "      <th>4</th>\n",
       "      <td>201527</td>\n",
       "      <td>0.0</td>\n",
       "    </tr>\n",
       "    <tr>\n",
       "      <th>...</th>\n",
       "      <td>...</td>\n",
       "      <td>...</td>\n",
       "    </tr>\n",
       "    <tr>\n",
       "      <th>13799</th>\n",
       "      <td>201735</td>\n",
       "      <td>1.0</td>\n",
       "    </tr>\n",
       "    <tr>\n",
       "      <th>13800</th>\n",
       "      <td>201735</td>\n",
       "      <td>1.0</td>\n",
       "    </tr>\n",
       "    <tr>\n",
       "      <th>13801</th>\n",
       "      <td>201735</td>\n",
       "      <td>1.0</td>\n",
       "    </tr>\n",
       "    <tr>\n",
       "      <th>13802</th>\n",
       "      <td>201735</td>\n",
       "      <td>1.0</td>\n",
       "    </tr>\n",
       "    <tr>\n",
       "      <th>27627</th>\n",
       "      <td>201735</td>\n",
       "      <td>1.0</td>\n",
       "    </tr>\n",
       "  </tbody>\n",
       "</table>\n",
       "<p>40060 rows × 2 columns</p>\n",
       "</div>"
      ],
      "text/plain": [
       "      FullDate  IsCanceled\n",
       "0       201527         0.0\n",
       "1       201527         0.0\n",
       "2       201527         0.0\n",
       "3       201527         0.0\n",
       "4       201527         0.0\n",
       "...        ...         ...\n",
       "13799   201735         1.0\n",
       "13800   201735         1.0\n",
       "13801   201735         1.0\n",
       "13802   201735         1.0\n",
       "27627   201735         1.0\n",
       "\n",
       "[40060 rows x 2 columns]"
      ]
     },
     "execution_count": 12,
     "metadata": {},
     "output_type": "execute_result"
    }
   ],
   "source": [
    "df3\n",
    "df3.sort_values(['FullDate','IsCanceled'], ascending=True)"
   ]
  },
  {
   "cell_type": "code",
   "execution_count": 13,
   "metadata": {},
   "outputs": [
    {
     "data": {
      "text/html": [
       "<div>\n",
       "<style scoped>\n",
       "    .dataframe tbody tr th:only-of-type {\n",
       "        vertical-align: middle;\n",
       "    }\n",
       "\n",
       "    .dataframe tbody tr th {\n",
       "        vertical-align: top;\n",
       "    }\n",
       "\n",
       "    .dataframe thead th {\n",
       "        text-align: right;\n",
       "    }\n",
       "</style>\n",
       "<table border=\"1\" class=\"dataframe\">\n",
       "  <thead>\n",
       "    <tr style=\"text-align: right;\">\n",
       "      <th></th>\n",
       "      <th>IsCanceled</th>\n",
       "    </tr>\n",
       "    <tr>\n",
       "      <th>FullDate</th>\n",
       "      <th></th>\n",
       "    </tr>\n",
       "  </thead>\n",
       "  <tbody>\n",
       "    <tr>\n",
       "      <th>201527</th>\n",
       "      <td>41.0</td>\n",
       "    </tr>\n",
       "    <tr>\n",
       "      <th>201528</th>\n",
       "      <td>48.0</td>\n",
       "    </tr>\n",
       "    <tr>\n",
       "      <th>201529</th>\n",
       "      <td>87.0</td>\n",
       "    </tr>\n",
       "    <tr>\n",
       "      <th>201530</th>\n",
       "      <td>74.0</td>\n",
       "    </tr>\n",
       "    <tr>\n",
       "      <th>201531</th>\n",
       "      <td>101.0</td>\n",
       "    </tr>\n",
       "    <tr>\n",
       "      <th>...</th>\n",
       "      <td>...</td>\n",
       "    </tr>\n",
       "    <tr>\n",
       "      <th>201731</th>\n",
       "      <td>173.0</td>\n",
       "    </tr>\n",
       "    <tr>\n",
       "      <th>201732</th>\n",
       "      <td>140.0</td>\n",
       "    </tr>\n",
       "    <tr>\n",
       "      <th>201733</th>\n",
       "      <td>182.0</td>\n",
       "    </tr>\n",
       "    <tr>\n",
       "      <th>201734</th>\n",
       "      <td>143.0</td>\n",
       "    </tr>\n",
       "    <tr>\n",
       "      <th>201735</th>\n",
       "      <td>100.0</td>\n",
       "    </tr>\n",
       "  </tbody>\n",
       "</table>\n",
       "<p>115 rows × 1 columns</p>\n",
       "</div>"
      ],
      "text/plain": [
       "          IsCanceled\n",
       "FullDate            \n",
       "201527          41.0\n",
       "201528          48.0\n",
       "201529          87.0\n",
       "201530          74.0\n",
       "201531         101.0\n",
       "...              ...\n",
       "201731         173.0\n",
       "201732         140.0\n",
       "201733         182.0\n",
       "201734         143.0\n",
       "201735         100.0\n",
       "\n",
       "[115 rows x 1 columns]"
      ]
     },
     "execution_count": 13,
     "metadata": {},
     "output_type": "execute_result"
    }
   ],
   "source": [
    "df4 = df3.groupby('FullDate').agg(sum)\n",
    "df4\n",
    "df4.sort_values(['FullDate'], ascending=True)"
   ]
  },
  {
   "cell_type": "code",
   "execution_count": 14,
   "metadata": {},
   "outputs": [
    {
     "data": {
      "text/plain": [
       "FullDate\n",
       "201527     41.0\n",
       "201528     48.0\n",
       "201529     87.0\n",
       "201530     74.0\n",
       "201531    101.0\n",
       "          ...  \n",
       "201731    173.0\n",
       "201732    140.0\n",
       "201733    182.0\n",
       "201734    143.0\n",
       "201735    100.0\n",
       "Name: IsCanceled, Length: 115, dtype: float64"
      ]
     },
     "execution_count": 14,
     "metadata": {},
     "output_type": "execute_result"
    }
   ],
   "source": [
    "tseries=df4['IsCanceled']\n",
    "tseries"
   ]
  },
  {
   "cell_type": "code",
   "execution_count": 15,
   "metadata": {},
   "outputs": [
    {
     "name": "stdout",
     "output_type": "stream",
     "text": [
      "ADF Statistic: -2.914054\n",
      "p-value: 0.043738\n",
      "Critical Values:\n",
      "\t1%: -3.490\n",
      "\t5%: -2.888\n",
      "\t10%: -2.581\n"
     ]
    }
   ],
   "source": [
    "result = adfuller(tseries)\n",
    "print('ADF Statistic: %f' % result[0])\n",
    "print('p-value: %f' % result[1])\n",
    "print('Critical Values:')\n",
    "for key, value in result[4].items():\n",
    "    print('\\t%s: %.3f' % (key, value))"
   ]
  },
  {
   "cell_type": "code",
   "execution_count": 16,
   "metadata": {},
   "outputs": [
    {
     "data": {
      "image/png": "[encoded data removed]",
      "text/plain": [
       "<Figure size 432x288 with 1 Axes>"
      ]
     },
     "metadata": {
      "needs_background": "light"
     },
     "output_type": "display_data"
    }
   ],
   "source": [
    "import matplotlib.pyplot as plt\n",
    "plt.plot(tseries)\n",
    "plt.tick_params(\n",
    "    axis='x',          # changes apply to the x-axis\n",
    "    which='both',      # both major and minor ticks are affected\n",
    "    bottom=False,      # ticks along the bottom edge are off\n",
    "    top=False,         # ticks along the top edge are off\n",
    "    labelbottom=False) # labels along the bottom edge are off\n",
    "plt.ylabel('Cancellations')\n",
    "plt.title(\"Cancellations Per Week\")\n",
    "plt.show()"
   ]
  },
  {
   "cell_type": "code",
   "execution_count": 17,
   "metadata": {},
   "outputs": [
    {
     "data": {
      "text/html": [
       "<div>\n",
       "<style scoped>\n",
       "    .dataframe tbody tr th:only-of-type {\n",
       "        vertical-align: middle;\n",
       "    }\n",
       "\n",
       "    .dataframe tbody tr th {\n",
       "        vertical-align: top;\n",
       "    }\n",
       "\n",
       "    .dataframe thead th {\n",
       "        text-align: right;\n",
       "    }\n",
       "</style>\n",
       "<table border=\"1\" class=\"dataframe\">\n",
       "  <thead>\n",
       "    <tr style=\"text-align: right;\">\n",
       "      <th></th>\n",
       "      <th>IsCanceled</th>\n",
       "    </tr>\n",
       "    <tr>\n",
       "      <th>FullDate</th>\n",
       "      <th></th>\n",
       "    </tr>\n",
       "  </thead>\n",
       "  <tbody>\n",
       "    <tr>\n",
       "      <th>201527</th>\n",
       "      <td>41.0</td>\n",
       "    </tr>\n",
       "    <tr>\n",
       "      <th>201528</th>\n",
       "      <td>48.0</td>\n",
       "    </tr>\n",
       "    <tr>\n",
       "      <th>201529</th>\n",
       "      <td>87.0</td>\n",
       "    </tr>\n",
       "    <tr>\n",
       "      <th>201530</th>\n",
       "      <td>74.0</td>\n",
       "    </tr>\n",
       "    <tr>\n",
       "      <th>201531</th>\n",
       "      <td>101.0</td>\n",
       "    </tr>\n",
       "    <tr>\n",
       "      <th>...</th>\n",
       "      <td>...</td>\n",
       "    </tr>\n",
       "    <tr>\n",
       "      <th>201731</th>\n",
       "      <td>173.0</td>\n",
       "    </tr>\n",
       "    <tr>\n",
       "      <th>201732</th>\n",
       "      <td>140.0</td>\n",
       "    </tr>\n",
       "    <tr>\n",
       "      <th>201733</th>\n",
       "      <td>182.0</td>\n",
       "    </tr>\n",
       "    <tr>\n",
       "      <th>201734</th>\n",
       "      <td>143.0</td>\n",
       "    </tr>\n",
       "    <tr>\n",
       "      <th>201735</th>\n",
       "      <td>100.0</td>\n",
       "    </tr>\n",
       "  </tbody>\n",
       "</table>\n",
       "<p>115 rows × 1 columns</p>\n",
       "</div>"
      ],
      "text/plain": [
       "          IsCanceled\n",
       "FullDate            \n",
       "201527          41.0\n",
       "201528          48.0\n",
       "201529          87.0\n",
       "201530          74.0\n",
       "201531         101.0\n",
       "...              ...\n",
       "201731         173.0\n",
       "201732         140.0\n",
       "201733         182.0\n",
       "201734         143.0\n",
       "201735         100.0\n",
       "\n",
       "[115 rows x 1 columns]"
      ]
     },
     "execution_count": 17,
     "metadata": {},
     "output_type": "execute_result"
    }
   ],
   "source": [
    "df=pd.DataFrame(tseries)\n",
    "df"
   ]
  },
  {
   "cell_type": "code",
   "execution_count": 18,
   "metadata": {},
   "outputs": [],
   "source": [
    "df = df[:100]"
   ]
  },
  {
   "cell_type": "code",
   "execution_count": 19,
   "metadata": {},
   "outputs": [
    {
     "data": {
      "text/html": [
       "<div>\n",
       "<style scoped>\n",
       "    .dataframe tbody tr th:only-of-type {\n",
       "        vertical-align: middle;\n",
       "    }\n",
       "\n",
       "    .dataframe tbody tr th {\n",
       "        vertical-align: top;\n",
       "    }\n",
       "\n",
       "    .dataframe thead th {\n",
       "        text-align: right;\n",
       "    }\n",
       "</style>\n",
       "<table border=\"1\" class=\"dataframe\">\n",
       "  <thead>\n",
       "    <tr style=\"text-align: right;\">\n",
       "      <th></th>\n",
       "      <th>IsCanceled</th>\n",
       "    </tr>\n",
       "    <tr>\n",
       "      <th>FullDate</th>\n",
       "      <th></th>\n",
       "    </tr>\n",
       "  </thead>\n",
       "  <tbody>\n",
       "    <tr>\n",
       "      <th>201527</th>\n",
       "      <td>41.0</td>\n",
       "    </tr>\n",
       "    <tr>\n",
       "      <th>201528</th>\n",
       "      <td>48.0</td>\n",
       "    </tr>\n",
       "    <tr>\n",
       "      <th>201529</th>\n",
       "      <td>87.0</td>\n",
       "    </tr>\n",
       "    <tr>\n",
       "      <th>201530</th>\n",
       "      <td>74.0</td>\n",
       "    </tr>\n",
       "    <tr>\n",
       "      <th>201531</th>\n",
       "      <td>101.0</td>\n",
       "    </tr>\n",
       "    <tr>\n",
       "      <th>...</th>\n",
       "      <td>...</td>\n",
       "    </tr>\n",
       "    <tr>\n",
       "      <th>201716</th>\n",
       "      <td>104.0</td>\n",
       "    </tr>\n",
       "    <tr>\n",
       "      <th>201717</th>\n",
       "      <td>106.0</td>\n",
       "    </tr>\n",
       "    <tr>\n",
       "      <th>201718</th>\n",
       "      <td>167.0</td>\n",
       "    </tr>\n",
       "    <tr>\n",
       "      <th>201719</th>\n",
       "      <td>106.0</td>\n",
       "    </tr>\n",
       "    <tr>\n",
       "      <th>201720</th>\n",
       "      <td>79.0</td>\n",
       "    </tr>\n",
       "  </tbody>\n",
       "</table>\n",
       "<p>100 rows × 1 columns</p>\n",
       "</div>"
      ],
      "text/plain": [
       "          IsCanceled\n",
       "FullDate            \n",
       "201527          41.0\n",
       "201528          48.0\n",
       "201529          87.0\n",
       "201530          74.0\n",
       "201531         101.0\n",
       "...              ...\n",
       "201716         104.0\n",
       "201717         106.0\n",
       "201718         167.0\n",
       "201719         106.0\n",
       "201720          79.0\n",
       "\n",
       "[100 rows x 1 columns]"
      ]
     },
     "execution_count": 19,
     "metadata": {},
     "output_type": "execute_result"
    }
   ],
   "source": [
    "df"
   ]
  },
  {
   "cell_type": "code",
   "execution_count": 20,
   "metadata": {},
   "outputs": [],
   "source": [
    "df=np.array(df)"
   ]
  },
  {
   "cell_type": "markdown",
   "metadata": {},
   "source": [
    "### Training and Validation data partition"
   ]
  },
  {
   "cell_type": "code",
   "execution_count": 21,
   "metadata": {},
   "outputs": [],
   "source": [
    "train_size = int(len(df) * 0.8)\n",
    "val_size = len(df) - train_size\n",
    "train, val = df[0:train_size,:], df[train_size:len(df),:]"
   ]
  },
  {
   "cell_type": "markdown",
   "metadata": {},
   "source": [
    "### Form dataset matrix"
   ]
  },
  {
   "cell_type": "code",
   "execution_count": 22,
   "metadata": {},
   "outputs": [],
   "source": [
    "def create_dataset(df, previous=1):\n",
    "    dataX, dataY = [], []\n",
    "    for i in range(len(df)-previous-1):\n",
    "        a = df[i:(i+previous), 0]\n",
    "        dataX.append(a)\n",
    "        dataY.append(df[i + previous, 0])\n",
    "    return np.array(dataX), np.array(dataY)"
   ]
  },
  {
   "cell_type": "code",
   "execution_count": 23,
   "metadata": {},
   "outputs": [
    {
     "data": {
      "text/plain": [
       "array([[ 41.],\n",
       "       [ 48.],\n",
       "       [ 87.],\n",
       "       [ 74.],\n",
       "       [101.],\n",
       "       [ 68.],\n",
       "       [ 96.],\n",
       "       [ 69.],\n",
       "       [ 88.],\n",
       "       [148.],\n",
       "       [ 76.],\n",
       "       [186.],\n",
       "       [123.],\n",
       "       [ 91.],\n",
       "       [198.],\n",
       "       [ 16.],\n",
       "       [ 94.],\n",
       "       [ 44.],\n",
       "       [ 45.],\n",
       "       [ 54.],\n",
       "       [ 63.],\n",
       "       [ 18.],\n",
       "       [127.],\n",
       "       [ 24.],\n",
       "       [ 37.],\n",
       "       [ 79.],\n",
       "       [ 43.],\n",
       "       [ 35.],\n",
       "       [ 40.],\n",
       "       [ 14.],\n",
       "       [ 14.],\n",
       "       [ 15.],\n",
       "       [ 57.],\n",
       "       [176.],\n",
       "       [ 33.],\n",
       "       [133.],\n",
       "       [ 88.],\n",
       "       [ 48.],\n",
       "       [ 65.],\n",
       "       [118.],\n",
       "       [ 65.],\n",
       "       [ 80.],\n",
       "       [ 98.],\n",
       "       [116.],\n",
       "       [222.],\n",
       "       [ 79.],\n",
       "       [143.],\n",
       "       [141.],\n",
       "       [ 82.],\n",
       "       [ 99.],\n",
       "       [ 77.],\n",
       "       [110.],\n",
       "       [ 75.],\n",
       "       [ 80.],\n",
       "       [ 75.],\n",
       "       [119.],\n",
       "       [120.],\n",
       "       [ 98.],\n",
       "       [124.],\n",
       "       [149.],\n",
       "       [145.],\n",
       "       [118.],\n",
       "       [106.],\n",
       "       [121.],\n",
       "       [ 67.],\n",
       "       [129.],\n",
       "       [112.],\n",
       "       [118.],\n",
       "       [ 85.],\n",
       "       [182.],\n",
       "       [134.],\n",
       "       [111.],\n",
       "       [ 70.],\n",
       "       [ 39.],\n",
       "       [ 59.],\n",
       "       [ 74.],\n",
       "       [ 57.],\n",
       "       [ 36.],\n",
       "       [ 84.],\n",
       "       [ 95.],\n",
       "       [ 54.],\n",
       "       [ 42.],\n",
       "       [ 43.],\n",
       "       [ 51.],\n",
       "       [ 51.],\n",
       "       [ 91.],\n",
       "       [ 96.],\n",
       "       [128.],\n",
       "       [ 77.],\n",
       "       [126.],\n",
       "       [ 83.],\n",
       "       [ 49.],\n",
       "       [105.],\n",
       "       [109.],\n",
       "       [179.],\n",
       "       [104.],\n",
       "       [106.],\n",
       "       [167.],\n",
       "       [106.],\n",
       "       [ 79.]])"
      ]
     },
     "execution_count": 23,
     "metadata": {},
     "output_type": "execute_result"
    }
   ],
   "source": [
    "df"
   ]
  },
  {
   "cell_type": "markdown",
   "metadata": {},
   "source": [
    "## Normalize dataset with MinMaxScaler"
   ]
  },
  {
   "cell_type": "code",
   "execution_count": 24,
   "metadata": {},
   "outputs": [
    {
     "data": {
      "text/plain": [
       "array([[0.12980769],\n",
       "       [0.16346154],\n",
       "       [0.35096154],\n",
       "       [0.28846154],\n",
       "       [0.41826923],\n",
       "       [0.25961538],\n",
       "       [0.39423077],\n",
       "       [0.26442308],\n",
       "       [0.35576923],\n",
       "       [0.64423077],\n",
       "       [0.29807692],\n",
       "       [0.82692308],\n",
       "       [0.52403846],\n",
       "       [0.37019231],\n",
       "       [0.88461538],\n",
       "       [0.00961538],\n",
       "       [0.38461538],\n",
       "       [0.14423077],\n",
       "       [0.14903846],\n",
       "       [0.19230769],\n",
       "       [0.23557692],\n",
       "       [0.01923077],\n",
       "       [0.54326923],\n",
       "       [0.04807692],\n",
       "       [0.11057692],\n",
       "       [0.3125    ],\n",
       "       [0.13942308],\n",
       "       [0.10096154],\n",
       "       [0.125     ],\n",
       "       [0.        ],\n",
       "       [0.        ],\n",
       "       [0.00480769],\n",
       "       [0.20673077],\n",
       "       [0.77884615],\n",
       "       [0.09134615],\n",
       "       [0.57211538],\n",
       "       [0.35576923],\n",
       "       [0.16346154],\n",
       "       [0.24519231],\n",
       "       [0.5       ],\n",
       "       [0.24519231],\n",
       "       [0.31730769],\n",
       "       [0.40384615],\n",
       "       [0.49038462],\n",
       "       [1.        ],\n",
       "       [0.3125    ],\n",
       "       [0.62019231],\n",
       "       [0.61057692],\n",
       "       [0.32692308],\n",
       "       [0.40865385],\n",
       "       [0.30288462],\n",
       "       [0.46153846],\n",
       "       [0.29326923],\n",
       "       [0.31730769],\n",
       "       [0.29326923],\n",
       "       [0.50480769],\n",
       "       [0.50961538],\n",
       "       [0.40384615],\n",
       "       [0.52884615],\n",
       "       [0.64903846],\n",
       "       [0.62980769],\n",
       "       [0.5       ],\n",
       "       [0.44230769],\n",
       "       [0.51442308],\n",
       "       [0.25480769],\n",
       "       [0.55288462],\n",
       "       [0.47115385],\n",
       "       [0.5       ],\n",
       "       [0.34134615],\n",
       "       [0.80769231],\n",
       "       [0.57692308],\n",
       "       [0.46634615],\n",
       "       [0.26923077],\n",
       "       [0.12019231],\n",
       "       [0.21634615],\n",
       "       [0.28846154],\n",
       "       [0.20673077],\n",
       "       [0.10576923],\n",
       "       [0.33653846],\n",
       "       [0.38942308]])"
      ]
     },
     "execution_count": 24,
     "metadata": {},
     "output_type": "execute_result"
    }
   ],
   "source": [
    "scaler = MinMaxScaler(feature_range=(0, 1))\n",
    "train = scaler.fit_transform(train)\n",
    "train"
   ]
  },
  {
   "cell_type": "code",
   "execution_count": 25,
   "metadata": {},
   "outputs": [
    {
     "data": {
      "text/plain": [
       "array([[0.08759124],\n",
       "       [0.        ],\n",
       "       [0.00729927],\n",
       "       [0.06569343],\n",
       "       [0.06569343],\n",
       "       [0.35766423],\n",
       "       [0.39416058],\n",
       "       [0.62773723],\n",
       "       [0.25547445],\n",
       "       [0.61313869],\n",
       "       [0.29927007],\n",
       "       [0.05109489],\n",
       "       [0.45985401],\n",
       "       [0.48905109],\n",
       "       [1.        ],\n",
       "       [0.45255474],\n",
       "       [0.46715328],\n",
       "       [0.91240876],\n",
       "       [0.46715328],\n",
       "       [0.27007299]])"
      ]
     },
     "execution_count": 25,
     "metadata": {},
     "output_type": "execute_result"
    }
   ],
   "source": [
    "val = scaler.fit_transform(val)\n",
    "val"
   ]
  },
  {
   "cell_type": "code",
   "execution_count": 26,
   "metadata": {},
   "outputs": [],
   "source": [
    "# Lookback period\n",
    "lookback = 5\n",
    "X_train, Y_train = create_dataset(train, lookback)\n",
    "X_val, Y_val = create_dataset(val, lookback)"
   ]
  },
  {
   "cell_type": "code",
   "execution_count": 27,
   "metadata": {},
   "outputs": [
    {
     "data": {
      "text/plain": [
       "array([[0.12980769, 0.16346154, 0.35096154, 0.28846154, 0.41826923],\n",
       "       [0.16346154, 0.35096154, 0.28846154, 0.41826923, 0.25961538],\n",
       "       [0.35096154, 0.28846154, 0.41826923, 0.25961538, 0.39423077],\n",
       "       [0.28846154, 0.41826923, 0.25961538, 0.39423077, 0.26442308],\n",
       "       [0.41826923, 0.25961538, 0.39423077, 0.26442308, 0.35576923],\n",
       "       [0.25961538, 0.39423077, 0.26442308, 0.35576923, 0.64423077],\n",
       "       [0.39423077, 0.26442308, 0.35576923, 0.64423077, 0.29807692],\n",
       "       [0.26442308, 0.35576923, 0.64423077, 0.29807692, 0.82692308],\n",
       "       [0.35576923, 0.64423077, 0.29807692, 0.82692308, 0.52403846],\n",
       "       [0.64423077, 0.29807692, 0.82692308, 0.52403846, 0.37019231],\n",
       "       [0.29807692, 0.82692308, 0.52403846, 0.37019231, 0.88461538],\n",
       "       [0.82692308, 0.52403846, 0.37019231, 0.88461538, 0.00961538],\n",
       "       [0.52403846, 0.37019231, 0.88461538, 0.00961538, 0.38461538],\n",
       "       [0.37019231, 0.88461538, 0.00961538, 0.38461538, 0.14423077],\n",
       "       [0.88461538, 0.00961538, 0.38461538, 0.14423077, 0.14903846],\n",
       "       [0.00961538, 0.38461538, 0.14423077, 0.14903846, 0.19230769],\n",
       "       [0.38461538, 0.14423077, 0.14903846, 0.19230769, 0.23557692],\n",
       "       [0.14423077, 0.14903846, 0.19230769, 0.23557692, 0.01923077],\n",
       "       [0.14903846, 0.19230769, 0.23557692, 0.01923077, 0.54326923],\n",
       "       [0.19230769, 0.23557692, 0.01923077, 0.54326923, 0.04807692],\n",
       "       [0.23557692, 0.01923077, 0.54326923, 0.04807692, 0.11057692],\n",
       "       [0.01923077, 0.54326923, 0.04807692, 0.11057692, 0.3125    ],\n",
       "       [0.54326923, 0.04807692, 0.11057692, 0.3125    , 0.13942308],\n",
       "       [0.04807692, 0.11057692, 0.3125    , 0.13942308, 0.10096154],\n",
       "       [0.11057692, 0.3125    , 0.13942308, 0.10096154, 0.125     ],\n",
       "       [0.3125    , 0.13942308, 0.10096154, 0.125     , 0.        ],\n",
       "       [0.13942308, 0.10096154, 0.125     , 0.        , 0.        ],\n",
       "       [0.10096154, 0.125     , 0.        , 0.        , 0.00480769],\n",
       "       [0.125     , 0.        , 0.        , 0.00480769, 0.20673077],\n",
       "       [0.        , 0.        , 0.00480769, 0.20673077, 0.77884615],\n",
       "       [0.        , 0.00480769, 0.20673077, 0.77884615, 0.09134615],\n",
       "       [0.00480769, 0.20673077, 0.77884615, 0.09134615, 0.57211538],\n",
       "       [0.20673077, 0.77884615, 0.09134615, 0.57211538, 0.35576923],\n",
       "       [0.77884615, 0.09134615, 0.57211538, 0.35576923, 0.16346154],\n",
       "       [0.09134615, 0.57211538, 0.35576923, 0.16346154, 0.24519231],\n",
       "       [0.57211538, 0.35576923, 0.16346154, 0.24519231, 0.5       ],\n",
       "       [0.35576923, 0.16346154, 0.24519231, 0.5       , 0.24519231],\n",
       "       [0.16346154, 0.24519231, 0.5       , 0.24519231, 0.31730769],\n",
       "       [0.24519231, 0.5       , 0.24519231, 0.31730769, 0.40384615],\n",
       "       [0.5       , 0.24519231, 0.31730769, 0.40384615, 0.49038462],\n",
       "       [0.24519231, 0.31730769, 0.40384615, 0.49038462, 1.        ],\n",
       "       [0.31730769, 0.40384615, 0.49038462, 1.        , 0.3125    ],\n",
       "       [0.40384615, 0.49038462, 1.        , 0.3125    , 0.62019231],\n",
       "       [0.49038462, 1.        , 0.3125    , 0.62019231, 0.61057692],\n",
       "       [1.        , 0.3125    , 0.62019231, 0.61057692, 0.32692308],\n",
       "       [0.3125    , 0.62019231, 0.61057692, 0.32692308, 0.40865385],\n",
       "       [0.62019231, 0.61057692, 0.32692308, 0.40865385, 0.30288462],\n",
       "       [0.61057692, 0.32692308, 0.40865385, 0.30288462, 0.46153846],\n",
       "       [0.32692308, 0.40865385, 0.30288462, 0.46153846, 0.29326923],\n",
       "       [0.40865385, 0.30288462, 0.46153846, 0.29326923, 0.31730769],\n",
       "       [0.30288462, 0.46153846, 0.29326923, 0.31730769, 0.29326923],\n",
       "       [0.46153846, 0.29326923, 0.31730769, 0.29326923, 0.50480769],\n",
       "       [0.29326923, 0.31730769, 0.29326923, 0.50480769, 0.50961538],\n",
       "       [0.31730769, 0.29326923, 0.50480769, 0.50961538, 0.40384615],\n",
       "       [0.29326923, 0.50480769, 0.50961538, 0.40384615, 0.52884615],\n",
       "       [0.50480769, 0.50961538, 0.40384615, 0.52884615, 0.64903846],\n",
       "       [0.50961538, 0.40384615, 0.52884615, 0.64903846, 0.62980769],\n",
       "       [0.40384615, 0.52884615, 0.64903846, 0.62980769, 0.5       ],\n",
       "       [0.52884615, 0.64903846, 0.62980769, 0.5       , 0.44230769],\n",
       "       [0.64903846, 0.62980769, 0.5       , 0.44230769, 0.51442308],\n",
       "       [0.62980769, 0.5       , 0.44230769, 0.51442308, 0.25480769],\n",
       "       [0.5       , 0.44230769, 0.51442308, 0.25480769, 0.55288462],\n",
       "       [0.44230769, 0.51442308, 0.25480769, 0.55288462, 0.47115385],\n",
       "       [0.51442308, 0.25480769, 0.55288462, 0.47115385, 0.5       ],\n",
       "       [0.25480769, 0.55288462, 0.47115385, 0.5       , 0.34134615],\n",
       "       [0.55288462, 0.47115385, 0.5       , 0.34134615, 0.80769231],\n",
       "       [0.47115385, 0.5       , 0.34134615, 0.80769231, 0.57692308],\n",
       "       [0.5       , 0.34134615, 0.80769231, 0.57692308, 0.46634615],\n",
       "       [0.34134615, 0.80769231, 0.57692308, 0.46634615, 0.26923077],\n",
       "       [0.80769231, 0.57692308, 0.46634615, 0.26923077, 0.12019231],\n",
       "       [0.57692308, 0.46634615, 0.26923077, 0.12019231, 0.21634615],\n",
       "       [0.46634615, 0.26923077, 0.12019231, 0.21634615, 0.28846154],\n",
       "       [0.26923077, 0.12019231, 0.21634615, 0.28846154, 0.20673077],\n",
       "       [0.12019231, 0.21634615, 0.28846154, 0.20673077, 0.10576923]])"
      ]
     },
     "execution_count": 27,
     "metadata": {},
     "output_type": "execute_result"
    }
   ],
   "source": [
    "X_train"
   ]
  },
  {
   "cell_type": "code",
   "execution_count": 28,
   "metadata": {},
   "outputs": [
    {
     "data": {
      "text/plain": [
       "array([0.25961538, 0.39423077, 0.26442308, 0.35576923, 0.64423077,\n",
       "       0.29807692, 0.82692308, 0.52403846, 0.37019231, 0.88461538,\n",
       "       0.00961538, 0.38461538, 0.14423077, 0.14903846, 0.19230769,\n",
       "       0.23557692, 0.01923077, 0.54326923, 0.04807692, 0.11057692,\n",
       "       0.3125    , 0.13942308, 0.10096154, 0.125     , 0.        ,\n",
       "       0.        , 0.00480769, 0.20673077, 0.77884615, 0.09134615,\n",
       "       0.57211538, 0.35576923, 0.16346154, 0.24519231, 0.5       ,\n",
       "       0.24519231, 0.31730769, 0.40384615, 0.49038462, 1.        ,\n",
       "       0.3125    , 0.62019231, 0.61057692, 0.32692308, 0.40865385,\n",
       "       0.30288462, 0.46153846, 0.29326923, 0.31730769, 0.29326923,\n",
       "       0.50480769, 0.50961538, 0.40384615, 0.52884615, 0.64903846,\n",
       "       0.62980769, 0.5       , 0.44230769, 0.51442308, 0.25480769,\n",
       "       0.55288462, 0.47115385, 0.5       , 0.34134615, 0.80769231,\n",
       "       0.57692308, 0.46634615, 0.26923077, 0.12019231, 0.21634615,\n",
       "       0.28846154, 0.20673077, 0.10576923, 0.33653846])"
      ]
     },
     "execution_count": 28,
     "metadata": {},
     "output_type": "execute_result"
    }
   ],
   "source": [
    "Y_train"
   ]
  },
  {
   "cell_type": "markdown",
   "metadata": {},
   "source": [
    "## Configure LSTM model"
   ]
  },
  {
   "cell_type": "code",
   "execution_count": 29,
   "metadata": {},
   "outputs": [
    {
     "name": "stdout",
     "output_type": "stream",
     "text": [
      "Epoch 1/20\n",
      "59/59 - 0s - loss: 0.0900 - val_loss: 0.0430\n",
      "Epoch 2/20\n",
      "59/59 - 0s - loss: 0.0600 - val_loss: 0.0327\n",
      "Epoch 3/20\n",
      "59/59 - 0s - loss: 0.0523 - val_loss: 0.0332\n",
      "Epoch 4/20\n",
      "59/59 - 0s - loss: 0.0503 - val_loss: 0.0345\n",
      "Epoch 5/20\n",
      "59/59 - 0s - loss: 0.0500 - val_loss: 0.0348\n",
      "Epoch 6/20\n",
      "59/59 - 0s - loss: 0.0493 - val_loss: 0.0339\n",
      "Epoch 7/20\n",
      "59/59 - 0s - loss: 0.0487 - val_loss: 0.0344\n",
      "Epoch 8/20\n",
      "59/59 - 0s - loss: 0.0482 - val_loss: 0.0333\n",
      "Epoch 9/20\n",
      "59/59 - 0s - loss: 0.0479 - val_loss: 0.0348\n",
      "Epoch 10/20\n",
      "59/59 - 0s - loss: 0.0477 - val_loss: 0.0338\n",
      "Epoch 11/20\n",
      "59/59 - 0s - loss: 0.0467 - val_loss: 0.0332\n",
      "Epoch 12/20\n",
      "59/59 - 0s - loss: 0.0469 - val_loss: 0.0334\n",
      "Epoch 13/20\n",
      "59/59 - 0s - loss: 0.0467 - val_loss: 0.0341\n",
      "Epoch 14/20\n",
      "59/59 - 0s - loss: 0.0468 - val_loss: 0.0328\n",
      "Epoch 15/20\n",
      "59/59 - 0s - loss: 0.0455 - val_loss: 0.0336\n",
      "Epoch 16/20\n",
      "59/59 - 0s - loss: 0.0455 - val_loss: 0.0341\n",
      "Epoch 17/20\n",
      "59/59 - 0s - loss: 0.0451 - val_loss: 0.0330\n",
      "Epoch 18/20\n",
      "59/59 - 0s - loss: 0.0447 - val_loss: 0.0336\n",
      "Epoch 19/20\n",
      "59/59 - 0s - loss: 0.0445 - val_loss: 0.0327\n",
      "Epoch 20/20\n",
      "59/59 - 0s - loss: 0.0449 - val_loss: 0.0326\n",
      "dict_keys(['loss', 'val_loss'])\n"
     ]
    },
    {
     "data": {
      "image/png": "[encoded data removed]",
      "text/plain": [
       "<Figure size 432x288 with 1 Axes>"
      ]
     },
     "metadata": {
      "needs_background": "light"
     },
     "output_type": "display_data"
    }
   ],
   "source": [
    "# reshape input to be [samples, time steps, features]\n",
    "X_train = np.reshape(X_train, (X_train.shape[0], 1, X_train.shape[1]))\n",
    "X_val = np.reshape(X_val, (X_val.shape[0], 1, X_val.shape[1]))\n",
    "\n",
    "# Generate LSTM network\n",
    "model = tf.keras.Sequential()\n",
    "model.add(LSTM(4, input_shape=(1, lookback)))\n",
    "model.add(Dense(1))\n",
    "model.compile(loss='mean_squared_error', optimizer='adam')\n",
    "history=model.fit(X_train, Y_train, validation_split=0.2, epochs=20, batch_size=1, verbose=2)\n",
    "\n",
    "\n",
    "# list all data in history\n",
    "print(history.history.keys())\n",
    "# summarize history for accuracy\n",
    "plt.plot(history.history['loss'])\n",
    "plt.plot(history.history['val_loss'])\n",
    "plt.title('model loss')\n",
    "plt.ylabel('loss')\n",
    "plt.xlabel('epoch')\n",
    "plt.legend(['train', 'val'], loc='upper left')\n",
    "plt.show()"
   ]
  },
  {
   "cell_type": "code",
   "execution_count": 30,
   "metadata": {},
   "outputs": [],
   "source": [
    "# Generate predictions\n",
    "trainpred = model.predict(X_train)\n",
    "valpred = model.predict(X_val)"
   ]
  },
  {
   "cell_type": "code",
   "execution_count": 31,
   "metadata": {},
   "outputs": [
    {
     "data": {
      "text/plain": [
       "array([[0.3215823 ],\n",
       "       [0.31417784],\n",
       "       [0.36324587],\n",
       "       [0.33181378],\n",
       "       [0.35984743],\n",
       "       [0.3869952 ],\n",
       "       [0.37591544],\n",
       "       [0.46419215],\n",
       "       [0.44193903],\n",
       "       [0.48450175],\n",
       "       [0.4797964 ],\n",
       "       [0.43590906],\n",
       "       [0.43243054],\n",
       "       [0.3203495 ],\n",
       "       [0.34621626],\n",
       "       [0.24165499],\n",
       "       [0.28310347],\n",
       "       [0.21718305],\n",
       "       [0.3127226 ],\n",
       "       [0.2454654 ],\n",
       "       [0.26239026],\n",
       "       [0.2629845 ],\n",
       "       [0.2820602 ],\n",
       "       [0.222487  ],\n",
       "       [0.23119816],\n",
       "       [0.2151818 ],\n",
       "       [0.18030173],\n",
       "       [0.16523004],\n",
       "       [0.19792587],\n",
       "       [0.30422252],\n",
       "       [0.24430704],\n",
       "       [0.37741634],\n",
       "       [0.35477087],\n",
       "       [0.3924438 ],\n",
       "       [0.30328965],\n",
       "       [0.37300023],\n",
       "       [0.3233993 ],\n",
       "       [0.32872394],\n",
       "       [0.347504  ],\n",
       "       [0.39300323],\n",
       "       [0.46190646],\n",
       "       [0.43124673],\n",
       "       [0.51044416],\n",
       "       [0.46612468],\n",
       "       [0.49944463],\n",
       "       [0.41573194],\n",
       "       [0.4050945 ],\n",
       "       [0.41217116],\n",
       "       [0.3535268 ],\n",
       "       [0.3670689 ],\n",
       "       [0.3395944 ],\n",
       "       [0.38461128],\n",
       "       [0.3813706 ],\n",
       "       [0.39560091],\n",
       "       [0.41951177],\n",
       "       [0.45797423],\n",
       "       [0.48032805],\n",
       "       [0.47247335],\n",
       "       [0.471378  ],\n",
       "       [0.4693714 ],\n",
       "       [0.41918108],\n",
       "       [0.43233052],\n",
       "       [0.40575862],\n",
       "       [0.4391553 ],\n",
       "       [0.38931987],\n",
       "       [0.48000303],\n",
       "       [0.45886374],\n",
       "       [0.48642102],\n",
       "       [0.41612056],\n",
       "       [0.40250975],\n",
       "       [0.33899298],\n",
       "       [0.31145495],\n",
       "       [0.2777093 ],\n",
       "       [0.2465736 ]], dtype=float32)"
      ]
     },
     "execution_count": 31,
     "metadata": {},
     "output_type": "execute_result"
    }
   ],
   "source": [
    "trainpred"
   ]
  },
  {
   "cell_type": "code",
   "execution_count": 32,
   "metadata": {},
   "outputs": [
    {
     "data": {
      "text/plain": [
       "array([[0.17056428],\n",
       "       [0.22605199],\n",
       "       [0.26085022],\n",
       "       [0.35358366],\n",
       "       [0.331452  ],\n",
       "       [0.4386295 ],\n",
       "       [0.38714108],\n",
       "       [0.36378738],\n",
       "       [0.34848252],\n",
       "       [0.37286165],\n",
       "       [0.46212247],\n",
       "       [0.419031  ],\n",
       "       [0.5066292 ],\n",
       "       [0.50156856]], dtype=float32)"
      ]
     },
     "execution_count": 32,
     "metadata": {},
     "output_type": "execute_result"
    }
   ],
   "source": [
    "valpred"
   ]
  },
  {
   "cell_type": "code",
   "execution_count": 33,
   "metadata": {},
   "outputs": [],
   "source": [
    "# Convert predictions back to normal values\n",
    "trainpred = scaler.inverse_transform(trainpred)\n",
    "Y_train = scaler.inverse_transform([Y_train])\n",
    "valpred = scaler.inverse_transform(valpred)\n",
    "Y_val = scaler.inverse_transform([Y_val])\n",
    "predictions = valpred"
   ]
  },
  {
   "cell_type": "code",
   "execution_count": 34,
   "metadata": {},
   "outputs": [
    {
     "data": {
      "text/plain": [
       "(1, 74)"
      ]
     },
     "execution_count": 34,
     "metadata": {},
     "output_type": "execute_result"
    }
   ],
   "source": [
    "Y_train.shape"
   ]
  },
  {
   "cell_type": "code",
   "execution_count": 35,
   "metadata": {},
   "outputs": [
    {
     "data": {
      "text/plain": [
       "(1, 14)"
      ]
     },
     "execution_count": 35,
     "metadata": {},
     "output_type": "execute_result"
    }
   ],
   "source": [
    "Y_val.shape"
   ]
  },
  {
   "cell_type": "code",
   "execution_count": 36,
   "metadata": {},
   "outputs": [
    {
     "data": {
      "text/plain": [
       "(74, 1, 5)"
      ]
     },
     "execution_count": 36,
     "metadata": {},
     "output_type": "execute_result"
    }
   ],
   "source": [
    "X_train.shape"
   ]
  },
  {
   "cell_type": "code",
   "execution_count": 37,
   "metadata": {},
   "outputs": [
    {
     "data": {
      "text/plain": [
       "(14, 1, 5)"
      ]
     },
     "execution_count": 37,
     "metadata": {},
     "output_type": "execute_result"
    }
   ],
   "source": [
    "X_val.shape"
   ]
  },
  {
   "cell_type": "code",
   "execution_count": 38,
   "metadata": {},
   "outputs": [
    {
     "data": {
      "text/plain": [
       "array([[ 77.56730769,  96.00961538,  78.22596154,  90.74038462,\n",
       "        130.25961538,  82.83653846, 155.28846154, 113.79326923,\n",
       "         92.71634615, 163.19230769,  43.31730769,  94.69230769,\n",
       "         61.75961538,  62.41826923,  68.34615385,  74.27403846,\n",
       "         44.63461538, 116.42788462,  48.58653846,  57.14903846,\n",
       "         84.8125    ,  61.10096154,  55.83173077,  59.125     ,\n",
       "         42.        ,  42.        ,  42.65865385,  70.32211538,\n",
       "        148.70192308,  54.51442308, 120.37980769,  90.74038462,\n",
       "         64.39423077,  75.59134615, 110.5       ,  75.59134615,\n",
       "         85.47115385,  97.32692308, 109.18269231, 179.        ,\n",
       "         84.8125    , 126.96634615, 125.64903846,  86.78846154,\n",
       "         97.98557692,  83.49519231, 105.23076923,  82.17788462,\n",
       "         85.47115385,  82.17788462, 111.15865385, 111.81730769,\n",
       "         97.32692308, 114.45192308, 130.91826923, 128.28365385,\n",
       "        110.5       , 102.59615385, 112.47596154,  76.90865385,\n",
       "        117.74519231, 106.54807692, 110.5       ,  88.76442308,\n",
       "        152.65384615, 121.03846154, 105.88942308,  78.88461538,\n",
       "         58.46634615,  71.63942308,  81.51923077,  70.32211538,\n",
       "         56.49038462,  88.10576923]])"
      ]
     },
     "execution_count": 38,
     "metadata": {},
     "output_type": "execute_result"
    }
   ],
   "source": [
    "Y_train"
   ]
  },
  {
   "cell_type": "code",
   "execution_count": 39,
   "metadata": {},
   "outputs": [
    {
     "data": {
      "text/plain": [
       "array([[ 91.,  96., 128.,  77., 126.,  83.,  49., 105., 109., 179., 104.,\n",
       "        106., 167., 106.]])"
      ]
     },
     "execution_count": 39,
     "metadata": {},
     "output_type": "execute_result"
    }
   ],
   "source": [
    "Y_val"
   ]
  },
  {
   "cell_type": "code",
   "execution_count": 40,
   "metadata": {},
   "outputs": [
    {
     "data": {
      "text/plain": [
       "array([[[0.12980769, 0.16346154, 0.35096154, 0.28846154, 0.41826923]],\n",
       "\n",
       "       [[0.16346154, 0.35096154, 0.28846154, 0.41826923, 0.25961538]],\n",
       "\n",
       "       [[0.35096154, 0.28846154, 0.41826923, 0.25961538, 0.39423077]],\n",
       "\n",
       "       [[0.28846154, 0.41826923, 0.25961538, 0.39423077, 0.26442308]],\n",
       "\n",
       "       [[0.41826923, 0.25961538, 0.39423077, 0.26442308, 0.35576923]],\n",
       "\n",
       "       [[0.25961538, 0.39423077, 0.26442308, 0.35576923, 0.64423077]],\n",
       "\n",
       "       [[0.39423077, 0.26442308, 0.35576923, 0.64423077, 0.29807692]],\n",
       "\n",
       "       [[0.26442308, 0.35576923, 0.64423077, 0.29807692, 0.82692308]],\n",
       "\n",
       "       [[0.35576923, 0.64423077, 0.29807692, 0.82692308, 0.52403846]],\n",
       "\n",
       "       [[0.64423077, 0.29807692, 0.82692308, 0.52403846, 0.37019231]],\n",
       "\n",
       "       [[0.29807692, 0.82692308, 0.52403846, 0.37019231, 0.88461538]],\n",
       "\n",
       "       [[0.82692308, 0.52403846, 0.37019231, 0.88461538, 0.00961538]],\n",
       "\n",
       "       [[0.52403846, 0.37019231, 0.88461538, 0.00961538, 0.38461538]],\n",
       "\n",
       "       [[0.37019231, 0.88461538, 0.00961538, 0.38461538, 0.14423077]],\n",
       "\n",
       "       [[0.88461538, 0.00961538, 0.38461538, 0.14423077, 0.14903846]],\n",
       "\n",
       "       [[0.00961538, 0.38461538, 0.14423077, 0.14903846, 0.19230769]],\n",
       "\n",
       "       [[0.38461538, 0.14423077, 0.14903846, 0.19230769, 0.23557692]],\n",
       "\n",
       "       [[0.14423077, 0.14903846, 0.19230769, 0.23557692, 0.01923077]],\n",
       "\n",
       "       [[0.14903846, 0.19230769, 0.23557692, 0.01923077, 0.54326923]],\n",
       "\n",
       "       [[0.19230769, 0.23557692, 0.01923077, 0.54326923, 0.04807692]],\n",
       "\n",
       "       [[0.23557692, 0.01923077, 0.54326923, 0.04807692, 0.11057692]],\n",
       "\n",
       "       [[0.01923077, 0.54326923, 0.04807692, 0.11057692, 0.3125    ]],\n",
       "\n",
       "       [[0.54326923, 0.04807692, 0.11057692, 0.3125    , 0.13942308]],\n",
       "\n",
       "       [[0.04807692, 0.11057692, 0.3125    , 0.13942308, 0.10096154]],\n",
       "\n",
       "       [[0.11057692, 0.3125    , 0.13942308, 0.10096154, 0.125     ]],\n",
       "\n",
       "       [[0.3125    , 0.13942308, 0.10096154, 0.125     , 0.        ]],\n",
       "\n",
       "       [[0.13942308, 0.10096154, 0.125     , 0.        , 0.        ]],\n",
       "\n",
       "       [[0.10096154, 0.125     , 0.        , 0.        , 0.00480769]],\n",
       "\n",
       "       [[0.125     , 0.        , 0.        , 0.00480769, 0.20673077]],\n",
       "\n",
       "       [[0.        , 0.        , 0.00480769, 0.20673077, 0.77884615]],\n",
       "\n",
       "       [[0.        , 0.00480769, 0.20673077, 0.77884615, 0.09134615]],\n",
       "\n",
       "       [[0.00480769, 0.20673077, 0.77884615, 0.09134615, 0.57211538]],\n",
       "\n",
       "       [[0.20673077, 0.77884615, 0.09134615, 0.57211538, 0.35576923]],\n",
       "\n",
       "       [[0.77884615, 0.09134615, 0.57211538, 0.35576923, 0.16346154]],\n",
       "\n",
       "       [[0.09134615, 0.57211538, 0.35576923, 0.16346154, 0.24519231]],\n",
       "\n",
       "       [[0.57211538, 0.35576923, 0.16346154, 0.24519231, 0.5       ]],\n",
       "\n",
       "       [[0.35576923, 0.16346154, 0.24519231, 0.5       , 0.24519231]],\n",
       "\n",
       "       [[0.16346154, 0.24519231, 0.5       , 0.24519231, 0.31730769]],\n",
       "\n",
       "       [[0.24519231, 0.5       , 0.24519231, 0.31730769, 0.40384615]],\n",
       "\n",
       "       [[0.5       , 0.24519231, 0.31730769, 0.40384615, 0.49038462]],\n",
       "\n",
       "       [[0.24519231, 0.31730769, 0.40384615, 0.49038462, 1.        ]],\n",
       "\n",
       "       [[0.31730769, 0.40384615, 0.49038462, 1.        , 0.3125    ]],\n",
       "\n",
       "       [[0.40384615, 0.49038462, 1.        , 0.3125    , 0.62019231]],\n",
       "\n",
       "       [[0.49038462, 1.        , 0.3125    , 0.62019231, 0.61057692]],\n",
       "\n",
       "       [[1.        , 0.3125    , 0.62019231, 0.61057692, 0.32692308]],\n",
       "\n",
       "       [[0.3125    , 0.62019231, 0.61057692, 0.32692308, 0.40865385]],\n",
       "\n",
       "       [[0.62019231, 0.61057692, 0.32692308, 0.40865385, 0.30288462]],\n",
       "\n",
       "       [[0.61057692, 0.32692308, 0.40865385, 0.30288462, 0.46153846]],\n",
       "\n",
       "       [[0.32692308, 0.40865385, 0.30288462, 0.46153846, 0.29326923]],\n",
       "\n",
       "       [[0.40865385, 0.30288462, 0.46153846, 0.29326923, 0.31730769]],\n",
       "\n",
       "       [[0.30288462, 0.46153846, 0.29326923, 0.31730769, 0.29326923]],\n",
       "\n",
       "       [[0.46153846, 0.29326923, 0.31730769, 0.29326923, 0.50480769]],\n",
       "\n",
       "       [[0.29326923, 0.31730769, 0.29326923, 0.50480769, 0.50961538]],\n",
       "\n",
       "       [[0.31730769, 0.29326923, 0.50480769, 0.50961538, 0.40384615]],\n",
       "\n",
       "       [[0.29326923, 0.50480769, 0.50961538, 0.40384615, 0.52884615]],\n",
       "\n",
       "       [[0.50480769, 0.50961538, 0.40384615, 0.52884615, 0.64903846]],\n",
       "\n",
       "       [[0.50961538, 0.40384615, 0.52884615, 0.64903846, 0.62980769]],\n",
       "\n",
       "       [[0.40384615, 0.52884615, 0.64903846, 0.62980769, 0.5       ]],\n",
       "\n",
       "       [[0.52884615, 0.64903846, 0.62980769, 0.5       , 0.44230769]],\n",
       "\n",
       "       [[0.64903846, 0.62980769, 0.5       , 0.44230769, 0.51442308]],\n",
       "\n",
       "       [[0.62980769, 0.5       , 0.44230769, 0.51442308, 0.25480769]],\n",
       "\n",
       "       [[0.5       , 0.44230769, 0.51442308, 0.25480769, 0.55288462]],\n",
       "\n",
       "       [[0.44230769, 0.51442308, 0.25480769, 0.55288462, 0.47115385]],\n",
       "\n",
       "       [[0.51442308, 0.25480769, 0.55288462, 0.47115385, 0.5       ]],\n",
       "\n",
       "       [[0.25480769, 0.55288462, 0.47115385, 0.5       , 0.34134615]],\n",
       "\n",
       "       [[0.55288462, 0.47115385, 0.5       , 0.34134615, 0.80769231]],\n",
       "\n",
       "       [[0.47115385, 0.5       , 0.34134615, 0.80769231, 0.57692308]],\n",
       "\n",
       "       [[0.5       , 0.34134615, 0.80769231, 0.57692308, 0.46634615]],\n",
       "\n",
       "       [[0.34134615, 0.80769231, 0.57692308, 0.46634615, 0.26923077]],\n",
       "\n",
       "       [[0.80769231, 0.57692308, 0.46634615, 0.26923077, 0.12019231]],\n",
       "\n",
       "       [[0.57692308, 0.46634615, 0.26923077, 0.12019231, 0.21634615]],\n",
       "\n",
       "       [[0.46634615, 0.26923077, 0.12019231, 0.21634615, 0.28846154]],\n",
       "\n",
       "       [[0.26923077, 0.12019231, 0.21634615, 0.28846154, 0.20673077]],\n",
       "\n",
       "       [[0.12019231, 0.21634615, 0.28846154, 0.20673077, 0.10576923]]])"
      ]
     },
     "execution_count": 40,
     "metadata": {},
     "output_type": "execute_result"
    }
   ],
   "source": [
    "X_train"
   ]
  },
  {
   "cell_type": "code",
   "execution_count": 41,
   "metadata": {},
   "outputs": [
    {
     "data": {
      "text/plain": [
       "array([[[0.08759124, 0.        , 0.00729927, 0.06569343, 0.06569343]],\n",
       "\n",
       "       [[0.        , 0.00729927, 0.06569343, 0.06569343, 0.35766423]],\n",
       "\n",
       "       [[0.00729927, 0.06569343, 0.06569343, 0.35766423, 0.39416058]],\n",
       "\n",
       "       [[0.06569343, 0.06569343, 0.35766423, 0.39416058, 0.62773723]],\n",
       "\n",
       "       [[0.06569343, 0.35766423, 0.39416058, 0.62773723, 0.25547445]],\n",
       "\n",
       "       [[0.35766423, 0.39416058, 0.62773723, 0.25547445, 0.61313869]],\n",
       "\n",
       "       [[0.39416058, 0.62773723, 0.25547445, 0.61313869, 0.29927007]],\n",
       "\n",
       "       [[0.62773723, 0.25547445, 0.61313869, 0.29927007, 0.05109489]],\n",
       "\n",
       "       [[0.25547445, 0.61313869, 0.29927007, 0.05109489, 0.45985401]],\n",
       "\n",
       "       [[0.61313869, 0.29927007, 0.05109489, 0.45985401, 0.48905109]],\n",
       "\n",
       "       [[0.29927007, 0.05109489, 0.45985401, 0.48905109, 1.        ]],\n",
       "\n",
       "       [[0.05109489, 0.45985401, 0.48905109, 1.        , 0.45255474]],\n",
       "\n",
       "       [[0.45985401, 0.48905109, 1.        , 0.45255474, 0.46715328]],\n",
       "\n",
       "       [[0.48905109, 1.        , 0.45255474, 0.46715328, 0.91240876]]])"
      ]
     },
     "execution_count": 41,
     "metadata": {},
     "output_type": "execute_result"
    }
   ],
   "source": [
    "X_val"
   ]
  },
  {
   "cell_type": "code",
   "execution_count": 42,
   "metadata": {},
   "outputs": [
    {
     "name": "stdout",
     "output_type": "stream",
     "text": [
      "Train Score: 27.88 RMSE\n",
      "Validation Score: 36.79 RMSE\n"
     ]
    }
   ],
   "source": [
    "# calculate RMSE\n",
    "trainScore = math.sqrt(mean_squared_error(Y_train[0], trainpred[:,0]))\n",
    "print('Train Score: %.2f RMSE' % (trainScore))\n",
    "valScore = math.sqrt(mean_squared_error(Y_val[0], valpred[:,0]))\n",
    "print('Validation Score: %.2f RMSE' % (valScore))"
   ]
  },
  {
   "cell_type": "code",
   "execution_count": 43,
   "metadata": {},
   "outputs": [],
   "source": [
    "# Train predictions\n",
    "trainpredPlot = np.empty_like(df)\n",
    "trainpredPlot[:, :] = np.nan\n",
    "trainpredPlot[lookback:len(trainpred)+lookback, :] = trainpred"
   ]
  },
  {
   "cell_type": "code",
   "execution_count": 44,
   "metadata": {},
   "outputs": [],
   "source": [
    "# Validation predictions\n",
    "valpredPlot = np.empty_like(df)\n",
    "valpredPlot[:, :] = np.nan\n",
    "valpredPlot[len(trainpred)+(lookback*2)+1:len(df)-1, :] = valpred"
   ]
  },
  {
   "cell_type": "code",
   "execution_count": 45,
   "metadata": {},
   "outputs": [
    {
     "data": {
      "image/png": "[encoded data removed]",
      "text/plain": [
       "<Figure size 432x288 with 1 Axes>"
      ]
     },
     "metadata": {
      "needs_background": "light"
     },
     "output_type": "display_data"
    }
   ],
   "source": [
    "# Plot all predictions\n",
    "inversetransform, =plt.plot(scaler.inverse_transform(df))\n",
    "trainpred, =plt.plot(trainpredPlot)\n",
    "valpred, =plt.plot(valpredPlot)\n",
    "plt.xlabel('Number of weeks')\n",
    "plt.ylabel('Cancellations')\n",
    "plt.title(\"Predicted vs. Actual Cancellations Per Week\")\n",
    "plt.show()"
   ]
  },
  {
   "cell_type": "code",
   "execution_count": 46,
   "metadata": {},
   "outputs": [],
   "source": [
    "Y_val=Y_val.reshape(-1)\n",
    "Y_val.shape\n",
    "Y_val=pd.Series(Y_val)"
   ]
  },
  {
   "cell_type": "code",
   "execution_count": 47,
   "metadata": {},
   "outputs": [
    {
     "data": {
      "text/plain": [
       "0      91.0\n",
       "1      96.0\n",
       "2     128.0\n",
       "3      77.0\n",
       "4     126.0\n",
       "5      83.0\n",
       "6      49.0\n",
       "7     105.0\n",
       "8     109.0\n",
       "9     179.0\n",
       "10    104.0\n",
       "11    106.0\n",
       "12    167.0\n",
       "13    106.0\n",
       "dtype: float64"
      ]
     },
     "execution_count": 47,
     "metadata": {},
     "output_type": "execute_result"
    }
   ],
   "source": [
    "Y_val"
   ]
  },
  {
   "cell_type": "code",
   "execution_count": 48,
   "metadata": {},
   "outputs": [],
   "source": [
    "predictions=predictions.reshape(-1)\n",
    "predictions.shape\n",
    "predictions=pd.Series(predictions)"
   ]
  },
  {
   "cell_type": "code",
   "execution_count": 49,
   "metadata": {},
   "outputs": [
    {
     "data": {
      "text/plain": [
       "0      65.367310\n",
       "1      72.969124\n",
       "2      77.736481\n",
       "3      90.440964\n",
       "4      87.408928\n",
       "5     102.092239\n",
       "6      95.038330\n",
       "7      91.838875\n",
       "8      89.742111\n",
       "9      93.082047\n",
       "10    105.310783\n",
       "11     99.407249\n",
       "12    111.408203\n",
       "13    110.714890\n",
       "dtype: float32"
      ]
     },
     "execution_count": 49,
     "metadata": {},
     "output_type": "execute_result"
    }
   ],
   "source": [
    "predictions"
   ]
  },
  {
   "cell_type": "code",
   "execution_count": 50,
   "metadata": {},
   "outputs": [],
   "source": [
    "import numpy as np\n",
    "\n",
    "def mda(actual: np.ndarray, predicted: np.ndarray):\n",
    "    \"\"\" Mean Directional Accuracy \"\"\"\n",
    "    return np.mean((np.sign(actual[1:] - actual[:-1]) == np.sign(predicted[1:] - predicted[:-1])).astype(int))"
   ]
  },
  {
   "cell_type": "code",
   "execution_count": 51,
   "metadata": {},
   "outputs": [
    {
     "data": {
      "text/plain": [
       "0.8571428571428571"
      ]
     },
     "execution_count": 51,
     "metadata": {},
     "output_type": "execute_result"
    }
   ],
   "source": [
    "mda(Y_val, predictions)"
   ]
  },
  {
   "cell_type": "code",
   "execution_count": 52,
   "metadata": {},
   "outputs": [
    {
     "name": "stdout",
     "output_type": "stream",
     "text": [
      "RMSE: 36.792552\n"
     ]
    }
   ],
   "source": [
    "# https://machinelearningmastery.com/time-series-forecasting-performance-measures-with-python/\n",
    "\n",
    "mse = mean_squared_error(Y_val, predictions)\n",
    "rmse = sqrt(mse)\n",
    "print('RMSE: %f' % rmse)"
   ]
  },
  {
   "cell_type": "code",
   "execution_count": 53,
   "metadata": {},
   "outputs": [
    {
     "data": {
      "text/plain": [
       "0    -25.632690\n",
       "1    -23.030876\n",
       "2    -50.263519\n",
       "3     13.440964\n",
       "4    -38.591072\n",
       "5     19.092239\n",
       "6     46.038330\n",
       "7    -13.161125\n",
       "8    -19.257889\n",
       "9    -85.917953\n",
       "10     1.310783\n",
       "11    -6.592751\n",
       "12   -55.591797\n",
       "13     4.714890\n",
       "dtype: float64"
      ]
     },
     "execution_count": 53,
     "metadata": {},
     "output_type": "execute_result"
    }
   ],
   "source": [
    "forecast_error = (predictions-Y_val)\n",
    "forecast_error"
   ]
  },
  {
   "cell_type": "code",
   "execution_count": 54,
   "metadata": {},
   "outputs": [
    {
     "data": {
      "text/plain": [
       "-16.674461909702845"
      ]
     },
     "execution_count": 54,
     "metadata": {},
     "output_type": "execute_result"
    }
   ],
   "source": [
    "mean_forecast_error = np.mean(forecast_error)\n",
    "mean_forecast_error"
   ]
  },
  {
   "cell_type": "code",
   "execution_count": 55,
   "metadata": {},
   "outputs": [
    {
     "data": {
      "text/plain": [
       "array([[[0.12980769, 0.16346154, 0.35096154, 0.28846154, 0.41826923]],\n",
       "\n",
       "       [[0.16346154, 0.35096154, 0.28846154, 0.41826923, 0.25961538]],\n",
       "\n",
       "       [[0.35096154, 0.28846154, 0.41826923, 0.25961538, 0.39423077]],\n",
       "\n",
       "       [[0.28846154, 0.41826923, 0.25961538, 0.39423077, 0.26442308]],\n",
       "\n",
       "       [[0.41826923, 0.25961538, 0.39423077, 0.26442308, 0.35576923]],\n",
       "\n",
       "       [[0.25961538, 0.39423077, 0.26442308, 0.35576923, 0.64423077]],\n",
       "\n",
       "       [[0.39423077, 0.26442308, 0.35576923, 0.64423077, 0.29807692]],\n",
       "\n",
       "       [[0.26442308, 0.35576923, 0.64423077, 0.29807692, 0.82692308]],\n",
       "\n",
       "       [[0.35576923, 0.64423077, 0.29807692, 0.82692308, 0.52403846]],\n",
       "\n",
       "       [[0.64423077, 0.29807692, 0.82692308, 0.52403846, 0.37019231]],\n",
       "\n",
       "       [[0.29807692, 0.82692308, 0.52403846, 0.37019231, 0.88461538]],\n",
       "\n",
       "       [[0.82692308, 0.52403846, 0.37019231, 0.88461538, 0.00961538]],\n",
       "\n",
       "       [[0.52403846, 0.37019231, 0.88461538, 0.00961538, 0.38461538]],\n",
       "\n",
       "       [[0.37019231, 0.88461538, 0.00961538, 0.38461538, 0.14423077]],\n",
       "\n",
       "       [[0.88461538, 0.00961538, 0.38461538, 0.14423077, 0.14903846]],\n",
       "\n",
       "       [[0.00961538, 0.38461538, 0.14423077, 0.14903846, 0.19230769]],\n",
       "\n",
       "       [[0.38461538, 0.14423077, 0.14903846, 0.19230769, 0.23557692]],\n",
       "\n",
       "       [[0.14423077, 0.14903846, 0.19230769, 0.23557692, 0.01923077]],\n",
       "\n",
       "       [[0.14903846, 0.19230769, 0.23557692, 0.01923077, 0.54326923]],\n",
       "\n",
       "       [[0.19230769, 0.23557692, 0.01923077, 0.54326923, 0.04807692]],\n",
       "\n",
       "       [[0.23557692, 0.01923077, 0.54326923, 0.04807692, 0.11057692]],\n",
       "\n",
       "       [[0.01923077, 0.54326923, 0.04807692, 0.11057692, 0.3125    ]],\n",
       "\n",
       "       [[0.54326923, 0.04807692, 0.11057692, 0.3125    , 0.13942308]],\n",
       "\n",
       "       [[0.04807692, 0.11057692, 0.3125    , 0.13942308, 0.10096154]],\n",
       "\n",
       "       [[0.11057692, 0.3125    , 0.13942308, 0.10096154, 0.125     ]],\n",
       "\n",
       "       [[0.3125    , 0.13942308, 0.10096154, 0.125     , 0.        ]],\n",
       "\n",
       "       [[0.13942308, 0.10096154, 0.125     , 0.        , 0.        ]],\n",
       "\n",
       "       [[0.10096154, 0.125     , 0.        , 0.        , 0.00480769]],\n",
       "\n",
       "       [[0.125     , 0.        , 0.        , 0.00480769, 0.20673077]],\n",
       "\n",
       "       [[0.        , 0.        , 0.00480769, 0.20673077, 0.77884615]],\n",
       "\n",
       "       [[0.        , 0.00480769, 0.20673077, 0.77884615, 0.09134615]],\n",
       "\n",
       "       [[0.00480769, 0.20673077, 0.77884615, 0.09134615, 0.57211538]],\n",
       "\n",
       "       [[0.20673077, 0.77884615, 0.09134615, 0.57211538, 0.35576923]],\n",
       "\n",
       "       [[0.77884615, 0.09134615, 0.57211538, 0.35576923, 0.16346154]],\n",
       "\n",
       "       [[0.09134615, 0.57211538, 0.35576923, 0.16346154, 0.24519231]],\n",
       "\n",
       "       [[0.57211538, 0.35576923, 0.16346154, 0.24519231, 0.5       ]],\n",
       "\n",
       "       [[0.35576923, 0.16346154, 0.24519231, 0.5       , 0.24519231]],\n",
       "\n",
       "       [[0.16346154, 0.24519231, 0.5       , 0.24519231, 0.31730769]],\n",
       "\n",
       "       [[0.24519231, 0.5       , 0.24519231, 0.31730769, 0.40384615]],\n",
       "\n",
       "       [[0.5       , 0.24519231, 0.31730769, 0.40384615, 0.49038462]],\n",
       "\n",
       "       [[0.24519231, 0.31730769, 0.40384615, 0.49038462, 1.        ]],\n",
       "\n",
       "       [[0.31730769, 0.40384615, 0.49038462, 1.        , 0.3125    ]],\n",
       "\n",
       "       [[0.40384615, 0.49038462, 1.        , 0.3125    , 0.62019231]],\n",
       "\n",
       "       [[0.49038462, 1.        , 0.3125    , 0.62019231, 0.61057692]],\n",
       "\n",
       "       [[1.        , 0.3125    , 0.62019231, 0.61057692, 0.32692308]],\n",
       "\n",
       "       [[0.3125    , 0.62019231, 0.61057692, 0.32692308, 0.40865385]],\n",
       "\n",
       "       [[0.62019231, 0.61057692, 0.32692308, 0.40865385, 0.30288462]],\n",
       "\n",
       "       [[0.61057692, 0.32692308, 0.40865385, 0.30288462, 0.46153846]],\n",
       "\n",
       "       [[0.32692308, 0.40865385, 0.30288462, 0.46153846, 0.29326923]],\n",
       "\n",
       "       [[0.40865385, 0.30288462, 0.46153846, 0.29326923, 0.31730769]],\n",
       "\n",
       "       [[0.30288462, 0.46153846, 0.29326923, 0.31730769, 0.29326923]],\n",
       "\n",
       "       [[0.46153846, 0.29326923, 0.31730769, 0.29326923, 0.50480769]],\n",
       "\n",
       "       [[0.29326923, 0.31730769, 0.29326923, 0.50480769, 0.50961538]],\n",
       "\n",
       "       [[0.31730769, 0.29326923, 0.50480769, 0.50961538, 0.40384615]],\n",
       "\n",
       "       [[0.29326923, 0.50480769, 0.50961538, 0.40384615, 0.52884615]],\n",
       "\n",
       "       [[0.50480769, 0.50961538, 0.40384615, 0.52884615, 0.64903846]],\n",
       "\n",
       "       [[0.50961538, 0.40384615, 0.52884615, 0.64903846, 0.62980769]],\n",
       "\n",
       "       [[0.40384615, 0.52884615, 0.64903846, 0.62980769, 0.5       ]],\n",
       "\n",
       "       [[0.52884615, 0.64903846, 0.62980769, 0.5       , 0.44230769]],\n",
       "\n",
       "       [[0.64903846, 0.62980769, 0.5       , 0.44230769, 0.51442308]],\n",
       "\n",
       "       [[0.62980769, 0.5       , 0.44230769, 0.51442308, 0.25480769]],\n",
       "\n",
       "       [[0.5       , 0.44230769, 0.51442308, 0.25480769, 0.55288462]],\n",
       "\n",
       "       [[0.44230769, 0.51442308, 0.25480769, 0.55288462, 0.47115385]],\n",
       "\n",
       "       [[0.51442308, 0.25480769, 0.55288462, 0.47115385, 0.5       ]],\n",
       "\n",
       "       [[0.25480769, 0.55288462, 0.47115385, 0.5       , 0.34134615]],\n",
       "\n",
       "       [[0.55288462, 0.47115385, 0.5       , 0.34134615, 0.80769231]],\n",
       "\n",
       "       [[0.47115385, 0.5       , 0.34134615, 0.80769231, 0.57692308]],\n",
       "\n",
       "       [[0.5       , 0.34134615, 0.80769231, 0.57692308, 0.46634615]],\n",
       "\n",
       "       [[0.34134615, 0.80769231, 0.57692308, 0.46634615, 0.26923077]],\n",
       "\n",
       "       [[0.80769231, 0.57692308, 0.46634615, 0.26923077, 0.12019231]],\n",
       "\n",
       "       [[0.57692308, 0.46634615, 0.26923077, 0.12019231, 0.21634615]],\n",
       "\n",
       "       [[0.46634615, 0.26923077, 0.12019231, 0.21634615, 0.28846154]],\n",
       "\n",
       "       [[0.26923077, 0.12019231, 0.21634615, 0.28846154, 0.20673077]],\n",
       "\n",
       "       [[0.12019231, 0.21634615, 0.28846154, 0.20673077, 0.10576923]]])"
      ]
     },
     "execution_count": 55,
     "metadata": {},
     "output_type": "execute_result"
    }
   ],
   "source": [
    "X_train"
   ]
  },
  {
   "cell_type": "code",
   "execution_count": 56,
   "metadata": {},
   "outputs": [
    {
     "data": {
      "text/plain": [
       "(74, 1, 5)"
      ]
     },
     "execution_count": 56,
     "metadata": {},
     "output_type": "execute_result"
    }
   ],
   "source": [
    "X_train.shape"
   ]
  },
  {
   "cell_type": "markdown",
   "metadata": {},
   "source": [
    "## Validate Predictions on Test Data"
   ]
  },
  {
   "cell_type": "code",
   "execution_count": 57,
   "metadata": {},
   "outputs": [],
   "source": [
    "# Test (unseen) predictions\n",
    "# (t) and (t-5)\n",
    "Xnew = np.array([[130,202,117,152,131],[202,117,152,131,161],[117,152,131,161,131],[152,131,161,131,139],[131,161,131,139,150],[161,131,139,150,157],[131,139,150,157,173],[139,150,157,173,140],[150,157,173,140,182],[157,173,140,182,143]])"
   ]
  },
  {
   "cell_type": "code",
   "execution_count": 58,
   "metadata": {},
   "outputs": [
    {
     "data": {
      "text/plain": [
       "array([[130, 202, 117, 152, 131],\n",
       "       [202, 117, 152, 131, 161],\n",
       "       [117, 152, 131, 161, 131],\n",
       "       [152, 131, 161, 131, 139],\n",
       "       [131, 161, 131, 139, 150],\n",
       "       [161, 131, 139, 150, 157],\n",
       "       [131, 139, 150, 157, 173],\n",
       "       [139, 150, 157, 173, 140],\n",
       "       [150, 157, 173, 140, 182],\n",
       "       [157, 173, 140, 182, 143]])"
      ]
     },
     "execution_count": 58,
     "metadata": {},
     "output_type": "execute_result"
    }
   ],
   "source": [
    "Xnew"
   ]
  },
  {
   "cell_type": "code",
   "execution_count": 59,
   "metadata": {},
   "outputs": [],
   "source": [
    "Xnew = scaler.fit_transform(Xnew)\n",
    "Xnew\n",
    "Xnewformat = np.reshape(Xnew, (Xnew.shape[0], 1, Xnew.shape[1]))\n",
    "ynew=model.predict(Xnewformat)"
   ]
  },
  {
   "cell_type": "code",
   "execution_count": 60,
   "metadata": {},
   "outputs": [
    {
     "data": {
      "text/plain": [
       "(10, 5)"
      ]
     },
     "execution_count": 60,
     "metadata": {},
     "output_type": "execute_result"
    }
   ],
   "source": [
    "Xnew.shape"
   ]
  },
  {
   "cell_type": "code",
   "execution_count": 61,
   "metadata": {},
   "outputs": [
    {
     "data": {
      "text/plain": [
       "array([[0.27727354],\n",
       "       [0.45804977],\n",
       "       [0.25362176],\n",
       "       [0.3388384 ],\n",
       "       [0.3194186 ],\n",
       "       [0.40099186],\n",
       "       [0.4551957 ],\n",
       "       [0.40919757],\n",
       "       [0.54847217],\n",
       "       [0.45020878]], dtype=float32)"
      ]
     },
     "execution_count": 61,
     "metadata": {},
     "output_type": "execute_result"
    }
   ],
   "source": [
    "ynew"
   ]
  },
  {
   "cell_type": "code",
   "execution_count": 62,
   "metadata": {},
   "outputs": [
    {
     "data": {
      "text/plain": [
       "numpy.ndarray"
      ]
     },
     "execution_count": 62,
     "metadata": {},
     "output_type": "execute_result"
    }
   ],
   "source": [
    "type(ynew)"
   ]
  },
  {
   "cell_type": "code",
   "execution_count": 63,
   "metadata": {},
   "outputs": [
    {
     "data": {
      "text/plain": [
       "(10, 1)"
      ]
     },
     "execution_count": 63,
     "metadata": {},
     "output_type": "execute_result"
    }
   ],
   "source": [
    "ynew.shape"
   ]
  },
  {
   "cell_type": "code",
   "execution_count": 64,
   "metadata": {},
   "outputs": [],
   "source": [
    "actual = np.array([[161,131,139,150,157,173,140,182,143,100]])"
   ]
  },
  {
   "cell_type": "code",
   "execution_count": 65,
   "metadata": {},
   "outputs": [
    {
     "data": {
      "text/plain": [
       "(10, 1)"
      ]
     },
     "execution_count": 65,
     "metadata": {},
     "output_type": "execute_result"
    }
   ],
   "source": [
    "actual=actual.reshape(10,-1)\n",
    "actual.shape"
   ]
  },
  {
   "cell_type": "code",
   "execution_count": 66,
   "metadata": {},
   "outputs": [
    {
     "data": {
      "text/plain": [
       "array([[161],\n",
       "       [131],\n",
       "       [139],\n",
       "       [150],\n",
       "       [157],\n",
       "       [173],\n",
       "       [140],\n",
       "       [182],\n",
       "       [143],\n",
       "       [100]])"
      ]
     },
     "execution_count": 66,
     "metadata": {},
     "output_type": "execute_result"
    }
   ],
   "source": [
    "actual"
   ]
  },
  {
   "cell_type": "code",
   "execution_count": 67,
   "metadata": {},
   "outputs": [],
   "source": [
    "ynew=ynew.reshape(-1)\n",
    "actual=actual.reshape(-1)\n",
    "actualpd=pd.Series(actual)"
   ]
  },
  {
   "cell_type": "code",
   "execution_count": 68,
   "metadata": {},
   "outputs": [
    {
     "data": {
      "text/plain": [
       "14.0"
      ]
     },
     "execution_count": 68,
     "metadata": {},
     "output_type": "execute_result"
    }
   ],
   "source": [
    "np.min(df)"
   ]
  },
  {
   "cell_type": "code",
   "execution_count": 69,
   "metadata": {},
   "outputs": [
    {
     "data": {
      "text/plain": [
       "array([0.27727354, 0.45804977, 0.25362176, 0.3388384 , 0.3194186 ,\n",
       "       0.40099186, 0.4551957 , 0.40919757, 0.54847217, 0.45020878],\n",
       "      dtype=float32)"
      ]
     },
     "execution_count": 69,
     "metadata": {},
     "output_type": "execute_result"
    }
   ],
   "source": [
    "ynew"
   ]
  },
  {
   "cell_type": "code",
   "execution_count": 70,
   "metadata": {},
   "outputs": [],
   "source": [
    "maxcancel=np.max(tseries)"
   ]
  },
  {
   "cell_type": "code",
   "execution_count": 71,
   "metadata": {},
   "outputs": [],
   "source": [
    "mincancel=np.min(tseries)"
   ]
  },
  {
   "cell_type": "code",
   "execution_count": 72,
   "metadata": {},
   "outputs": [],
   "source": [
    "ynew = ynew * np.abs(maxcancel-mincancel) + np.min(tseries)\n",
    "ynewpd=pd.Series(ynew)"
   ]
  },
  {
   "cell_type": "code",
   "execution_count": 73,
   "metadata": {},
   "outputs": [
    {
     "data": {
      "text/plain": [
       "0    161\n",
       "1    131\n",
       "2    139\n",
       "3    150\n",
       "4    157\n",
       "5    173\n",
       "6    140\n",
       "7    182\n",
       "8    143\n",
       "9    100\n",
       "dtype: int64"
      ]
     },
     "execution_count": 73,
     "metadata": {},
     "output_type": "execute_result"
    }
   ],
   "source": [
    "actualpd"
   ]
  },
  {
   "cell_type": "code",
   "execution_count": 74,
   "metadata": {},
   "outputs": [
    {
     "data": {
      "text/plain": [
       "0     71.672897\n",
       "1    109.274353\n",
       "2     66.753326\n",
       "3     84.478386\n",
       "4     80.439072\n",
       "5     97.406303\n",
       "6    108.680702\n",
       "7     99.113098\n",
       "8    128.082214\n",
       "9    107.643425\n",
       "dtype: float32"
      ]
     },
     "execution_count": 74,
     "metadata": {},
     "output_type": "execute_result"
    }
   ],
   "source": [
    "ynewpd"
   ]
  },
  {
   "cell_type": "code",
   "execution_count": 75,
   "metadata": {},
   "outputs": [
    {
     "data": {
      "text/plain": [
       "0.8"
      ]
     },
     "execution_count": 75,
     "metadata": {},
     "output_type": "execute_result"
    }
   ],
   "source": [
    "mda(actualpd, ynewpd)"
   ]
  },
  {
   "cell_type": "code",
   "execution_count": 76,
   "metadata": {},
   "outputs": [
    {
     "name": "stdout",
     "output_type": "stream",
     "text": [
      "RMSE: 61.377586\n"
     ]
    }
   ],
   "source": [
    "mse = mean_squared_error(actualpd, ynewpd)\n",
    "rmse = sqrt(mse)\n",
    "print('RMSE: %f' % rmse)"
   ]
  },
  {
   "cell_type": "code",
   "execution_count": 77,
   "metadata": {},
   "outputs": [
    {
     "data": {
      "text/plain": [
       "0   -89.327103\n",
       "1   -21.725647\n",
       "2   -72.246674\n",
       "3   -65.521614\n",
       "4   -76.560928\n",
       "5   -75.593697\n",
       "6   -31.319298\n",
       "7   -82.886902\n",
       "8   -14.917786\n",
       "9     7.643425\n",
       "dtype: float64"
      ]
     },
     "execution_count": 77,
     "metadata": {},
     "output_type": "execute_result"
    }
   ],
   "source": [
    "forecast_error = (ynewpd-actualpd)\n",
    "forecast_error"
   ]
  },
  {
   "cell_type": "code",
   "execution_count": 78,
   "metadata": {},
   "outputs": [
    {
     "data": {
      "text/plain": [
       "-52.24562225341797"
      ]
     },
     "execution_count": 78,
     "metadata": {},
     "output_type": "execute_result"
    }
   ],
   "source": [
    "mean_forecast_error = np.mean(forecast_error)\n",
    "mean_forecast_error"
   ]
  },
  {
   "cell_type": "code",
   "execution_count": 79,
   "metadata": {},
   "outputs": [
    {
     "data": {
      "image/png": "[encoded data removed]",
      "text/plain": [
       "<Figure size 432x288 with 1 Axes>"
      ]
     },
     "metadata": {
      "needs_background": "light"
     },
     "output_type": "display_data"
    }
   ],
   "source": [
    "predictons, =plt.plot(ynewpd, label='Predictions')\n",
    "actual, =plt.plot(actualpd, label='Actual')\n",
    "plt.xlabel('Number of weeks')\n",
    "plt.ylabel('Cancellations')\n",
    "plt.title(\"Predicted vs. Actual Cancellations Per Week\")\n",
    "plt.legend(loc = 'upper center')\n",
    "plt.show()"
   ]
  }
 ],
 "metadata": {
  "kernelspec": {
   "display_name": "Python 3",
   "language": "python",
   "name": "python3"
  },
  "language_info": {
   "codemirror_mode": {
    "name": "ipython",
    "version": 3
   },
   "file_extension": ".py",
   "mimetype": "text/x-python",
   "name": "python",
   "nbconvert_exporter": "python",
   "pygments_lexer": "ipython3",
   "version": "3.6.9"
  }
 },
 "nbformat": 4,
 "nbformat_minor": 2
}
