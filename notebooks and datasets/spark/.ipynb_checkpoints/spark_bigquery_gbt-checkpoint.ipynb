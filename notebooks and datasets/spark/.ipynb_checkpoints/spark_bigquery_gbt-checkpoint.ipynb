{
 "cells": [
  {
   "cell_type": "markdown",
   "metadata": {},
   "source": [
    "## Connection to Google BigQuery"
   ]
  },
  {
   "cell_type": "code",
   "execution_count": 1,
   "metadata": {},
   "outputs": [],
   "source": [
    "from pythonbq import pythonbq\n",
    "\n",
    "myProject=pythonbq(\n",
    "  bq_key_path='json_file',\n",
    "  project_id='project_id'\n",
    ")"
   ]
  },
  {
   "cell_type": "code",
   "execution_count": 2,
   "metadata": {},
   "outputs": [
    {
     "name": "stderr",
     "output_type": "stream",
     "text": [
      "Downloading: 100%|██████████| 40060/40060 [00:10<00:00, 3830.35rows/s]\n"
     ]
    }
   ],
   "source": [
    "SQL_CODE_TRAIN=\"\"\"\n",
    "SELECT * FROM `mghotels.h1data`\n",
    "\"\"\"\n",
    "output=myProject.query(sql=SQL_CODE_TRAIN)"
   ]
  },
  {
   "cell_type": "code",
   "execution_count": 3,
   "metadata": {},
   "outputs": [
    {
     "data": {
      "text/html": [
       "<div>\n",
       "<style scoped>\n",
       "    .dataframe tbody tr th:only-of-type {\n",
       "        vertical-align: middle;\n",
       "    }\n",
       "\n",
       "    .dataframe tbody tr th {\n",
       "        vertical-align: top;\n",
       "    }\n",
       "\n",
       "    .dataframe thead th {\n",
       "        text-align: right;\n",
       "    }\n",
       "</style>\n",
       "<table border=\"1\" class=\"dataframe\">\n",
       "  <thead>\n",
       "    <tr style=\"text-align: right;\">\n",
       "      <th></th>\n",
       "      <th>IsCanceled</th>\n",
       "      <th>LeadTime</th>\n",
       "      <th>ArrivalDateYear</th>\n",
       "      <th>ArrivalDateMonth</th>\n",
       "      <th>ArrivalDateWeekNumber</th>\n",
       "      <th>ArrivalDateDayOfMonth</th>\n",
       "      <th>StaysInWeekendNights</th>\n",
       "      <th>StaysInWeekNights</th>\n",
       "      <th>Adults</th>\n",
       "      <th>Children</th>\n",
       "      <th>...</th>\n",
       "      <th>DepositType</th>\n",
       "      <th>Agent</th>\n",
       "      <th>Company</th>\n",
       "      <th>DaysInWaitingList</th>\n",
       "      <th>CustomerType</th>\n",
       "      <th>ADR</th>\n",
       "      <th>RequiredCarParkingSpaces</th>\n",
       "      <th>TotalOfSpecialRequests</th>\n",
       "      <th>ReservationStatus</th>\n",
       "      <th>ReservationStatusDate</th>\n",
       "    </tr>\n",
       "  </thead>\n",
       "  <tbody>\n",
       "    <tr>\n",
       "      <th>0</th>\n",
       "      <td>0</td>\n",
       "      <td>4</td>\n",
       "      <td>2015</td>\n",
       "      <td>November</td>\n",
       "      <td>45</td>\n",
       "      <td>2</td>\n",
       "      <td>1</td>\n",
       "      <td>1</td>\n",
       "      <td>1</td>\n",
       "      <td>0</td>\n",
       "      <td>...</td>\n",
       "      <td>No Deposit</td>\n",
       "      <td>1</td>\n",
       "      <td>NULL</td>\n",
       "      <td>0</td>\n",
       "      <td>Transient</td>\n",
       "      <td>25.00</td>\n",
       "      <td>0</td>\n",
       "      <td>0</td>\n",
       "      <td>Check-Out</td>\n",
       "      <td>2015-11-04</td>\n",
       "    </tr>\n",
       "    <tr>\n",
       "      <th>1</th>\n",
       "      <td>0</td>\n",
       "      <td>5</td>\n",
       "      <td>2015</td>\n",
       "      <td>November</td>\n",
       "      <td>49</td>\n",
       "      <td>30</td>\n",
       "      <td>1</td>\n",
       "      <td>3</td>\n",
       "      <td>1</td>\n",
       "      <td>0</td>\n",
       "      <td>...</td>\n",
       "      <td>No Deposit</td>\n",
       "      <td>1</td>\n",
       "      <td>NULL</td>\n",
       "      <td>0</td>\n",
       "      <td>Transient</td>\n",
       "      <td>25.00</td>\n",
       "      <td>0</td>\n",
       "      <td>0</td>\n",
       "      <td>Check-Out</td>\n",
       "      <td>2015-12-04</td>\n",
       "    </tr>\n",
       "    <tr>\n",
       "      <th>2</th>\n",
       "      <td>0</td>\n",
       "      <td>11</td>\n",
       "      <td>2016</td>\n",
       "      <td>January</td>\n",
       "      <td>2</td>\n",
       "      <td>3</td>\n",
       "      <td>2</td>\n",
       "      <td>1</td>\n",
       "      <td>2</td>\n",
       "      <td>0</td>\n",
       "      <td>...</td>\n",
       "      <td>No Deposit</td>\n",
       "      <td>1</td>\n",
       "      <td>NULL</td>\n",
       "      <td>0</td>\n",
       "      <td>Transient</td>\n",
       "      <td>39.00</td>\n",
       "      <td>1</td>\n",
       "      <td>1</td>\n",
       "      <td>Check-Out</td>\n",
       "      <td>2016-01-06</td>\n",
       "    </tr>\n",
       "    <tr>\n",
       "      <th>3</th>\n",
       "      <td>0</td>\n",
       "      <td>258</td>\n",
       "      <td>2015</td>\n",
       "      <td>July</td>\n",
       "      <td>28</td>\n",
       "      <td>6</td>\n",
       "      <td>2</td>\n",
       "      <td>5</td>\n",
       "      <td>2</td>\n",
       "      <td>0</td>\n",
       "      <td>...</td>\n",
       "      <td>No Deposit</td>\n",
       "      <td>2</td>\n",
       "      <td>NULL</td>\n",
       "      <td>0</td>\n",
       "      <td>Contract</td>\n",
       "      <td>47.25</td>\n",
       "      <td>0</td>\n",
       "      <td>0</td>\n",
       "      <td>Check-Out</td>\n",
       "      <td>2015-07-13</td>\n",
       "    </tr>\n",
       "    <tr>\n",
       "      <th>4</th>\n",
       "      <td>1</td>\n",
       "      <td>292</td>\n",
       "      <td>2015</td>\n",
       "      <td>July</td>\n",
       "      <td>28</td>\n",
       "      <td>7</td>\n",
       "      <td>2</td>\n",
       "      <td>5</td>\n",
       "      <td>2</td>\n",
       "      <td>0</td>\n",
       "      <td>...</td>\n",
       "      <td>No Deposit</td>\n",
       "      <td>2</td>\n",
       "      <td>NULL</td>\n",
       "      <td>0</td>\n",
       "      <td>Contract</td>\n",
       "      <td>47.25</td>\n",
       "      <td>0</td>\n",
       "      <td>0</td>\n",
       "      <td>Canceled</td>\n",
       "      <td>2015-03-25</td>\n",
       "    </tr>\n",
       "    <tr>\n",
       "      <th>...</th>\n",
       "      <td>...</td>\n",
       "      <td>...</td>\n",
       "      <td>...</td>\n",
       "      <td>...</td>\n",
       "      <td>...</td>\n",
       "      <td>...</td>\n",
       "      <td>...</td>\n",
       "      <td>...</td>\n",
       "      <td>...</td>\n",
       "      <td>...</td>\n",
       "      <td>...</td>\n",
       "      <td>...</td>\n",
       "      <td>...</td>\n",
       "      <td>...</td>\n",
       "      <td>...</td>\n",
       "      <td>...</td>\n",
       "      <td>...</td>\n",
       "      <td>...</td>\n",
       "      <td>...</td>\n",
       "      <td>...</td>\n",
       "      <td>...</td>\n",
       "    </tr>\n",
       "    <tr>\n",
       "      <th>40055</th>\n",
       "      <td>1</td>\n",
       "      <td>0</td>\n",
       "      <td>2015</td>\n",
       "      <td>July</td>\n",
       "      <td>29</td>\n",
       "      <td>17</td>\n",
       "      <td>0</td>\n",
       "      <td>1</td>\n",
       "      <td>2</td>\n",
       "      <td>0</td>\n",
       "      <td>...</td>\n",
       "      <td>No Deposit</td>\n",
       "      <td>NULL</td>\n",
       "      <td>NULL</td>\n",
       "      <td>0</td>\n",
       "      <td>Transient</td>\n",
       "      <td>8.00</td>\n",
       "      <td>0</td>\n",
       "      <td>0</td>\n",
       "      <td>Canceled</td>\n",
       "      <td>2015-07-17</td>\n",
       "    </tr>\n",
       "    <tr>\n",
       "      <th>40056</th>\n",
       "      <td>0</td>\n",
       "      <td>0</td>\n",
       "      <td>2015</td>\n",
       "      <td>July</td>\n",
       "      <td>28</td>\n",
       "      <td>9</td>\n",
       "      <td>0</td>\n",
       "      <td>1</td>\n",
       "      <td>1</td>\n",
       "      <td>0</td>\n",
       "      <td>...</td>\n",
       "      <td>No Deposit</td>\n",
       "      <td>NULL</td>\n",
       "      <td>NULL</td>\n",
       "      <td>0</td>\n",
       "      <td>Transient</td>\n",
       "      <td>82.00</td>\n",
       "      <td>0</td>\n",
       "      <td>0</td>\n",
       "      <td>Check-Out</td>\n",
       "      <td>2015-07-10</td>\n",
       "    </tr>\n",
       "    <tr>\n",
       "      <th>40057</th>\n",
       "      <td>0</td>\n",
       "      <td>0</td>\n",
       "      <td>2015</td>\n",
       "      <td>August</td>\n",
       "      <td>32</td>\n",
       "      <td>4</td>\n",
       "      <td>0</td>\n",
       "      <td>1</td>\n",
       "      <td>2</td>\n",
       "      <td>0</td>\n",
       "      <td>...</td>\n",
       "      <td>No Deposit</td>\n",
       "      <td>NULL</td>\n",
       "      <td>NULL</td>\n",
       "      <td>0</td>\n",
       "      <td>Transient</td>\n",
       "      <td>172.00</td>\n",
       "      <td>0</td>\n",
       "      <td>0</td>\n",
       "      <td>Check-Out</td>\n",
       "      <td>2015-08-05</td>\n",
       "    </tr>\n",
       "    <tr>\n",
       "      <th>40058</th>\n",
       "      <td>1</td>\n",
       "      <td>0</td>\n",
       "      <td>2016</td>\n",
       "      <td>February</td>\n",
       "      <td>8</td>\n",
       "      <td>15</td>\n",
       "      <td>0</td>\n",
       "      <td>0</td>\n",
       "      <td>0</td>\n",
       "      <td>0</td>\n",
       "      <td>...</td>\n",
       "      <td>No Deposit</td>\n",
       "      <td>NULL</td>\n",
       "      <td>383</td>\n",
       "      <td>0</td>\n",
       "      <td>Transient</td>\n",
       "      <td>0.00</td>\n",
       "      <td>0</td>\n",
       "      <td>0</td>\n",
       "      <td>Canceled</td>\n",
       "      <td>2016-02-15</td>\n",
       "    </tr>\n",
       "    <tr>\n",
       "      <th>40059</th>\n",
       "      <td>1</td>\n",
       "      <td>0</td>\n",
       "      <td>2016</td>\n",
       "      <td>November</td>\n",
       "      <td>48</td>\n",
       "      <td>21</td>\n",
       "      <td>0</td>\n",
       "      <td>0</td>\n",
       "      <td>0</td>\n",
       "      <td>0</td>\n",
       "      <td>...</td>\n",
       "      <td>No Deposit</td>\n",
       "      <td>NULL</td>\n",
       "      <td>386</td>\n",
       "      <td>0</td>\n",
       "      <td>Group</td>\n",
       "      <td>0.00</td>\n",
       "      <td>0</td>\n",
       "      <td>0</td>\n",
       "      <td>Canceled</td>\n",
       "      <td>2016-11-21</td>\n",
       "    </tr>\n",
       "  </tbody>\n",
       "</table>\n",
       "<p>40060 rows × 31 columns</p>\n",
       "</div>"
      ],
      "text/plain": [
       "       IsCanceled  LeadTime  ArrivalDateYear ArrivalDateMonth  \\\n",
       "0               0         4             2015         November   \n",
       "1               0         5             2015         November   \n",
       "2               0        11             2016          January   \n",
       "3               0       258             2015             July   \n",
       "4               1       292             2015             July   \n",
       "...           ...       ...              ...              ...   \n",
       "40055           1         0             2015             July   \n",
       "40056           0         0             2015             July   \n",
       "40057           0         0             2015           August   \n",
       "40058           1         0             2016         February   \n",
       "40059           1         0             2016         November   \n",
       "\n",
       "       ArrivalDateWeekNumber  ArrivalDateDayOfMonth  StaysInWeekendNights  \\\n",
       "0                         45                      2                     1   \n",
       "1                         49                     30                     1   \n",
       "2                          2                      3                     2   \n",
       "3                         28                      6                     2   \n",
       "4                         28                      7                     2   \n",
       "...                      ...                    ...                   ...   \n",
       "40055                     29                     17                     0   \n",
       "40056                     28                      9                     0   \n",
       "40057                     32                      4                     0   \n",
       "40058                      8                     15                     0   \n",
       "40059                     48                     21                     0   \n",
       "\n",
       "       StaysInWeekNights  Adults  Children  ...      DepositType        Agent  \\\n",
       "0                      1       1         0  ...  No Deposit                 1   \n",
       "1                      3       1         0  ...  No Deposit                 1   \n",
       "2                      1       2         0  ...  No Deposit                 1   \n",
       "3                      5       2         0  ...  No Deposit                 2   \n",
       "4                      5       2         0  ...  No Deposit                 2   \n",
       "...                  ...     ...       ...  ...              ...          ...   \n",
       "40055                  1       2         0  ...  No Deposit              NULL   \n",
       "40056                  1       1         0  ...  No Deposit              NULL   \n",
       "40057                  1       2         0  ...  No Deposit              NULL   \n",
       "40058                  0       0         0  ...  No Deposit              NULL   \n",
       "40059                  0       0         0  ...  No Deposit              NULL   \n",
       "\n",
       "           Company DaysInWaitingList CustomerType     ADR  \\\n",
       "0             NULL                 0    Transient   25.00   \n",
       "1             NULL                 0    Transient   25.00   \n",
       "2             NULL                 0    Transient   39.00   \n",
       "3             NULL                 0     Contract   47.25   \n",
       "4             NULL                 0     Contract   47.25   \n",
       "...            ...               ...          ...     ...   \n",
       "40055         NULL                 0    Transient    8.00   \n",
       "40056         NULL                 0    Transient   82.00   \n",
       "40057         NULL                 0    Transient  172.00   \n",
       "40058          383                 0    Transient    0.00   \n",
       "40059          386                 0        Group    0.00   \n",
       "\n",
       "       RequiredCarParkingSpaces  TotalOfSpecialRequests ReservationStatus  \\\n",
       "0                             0                       0         Check-Out   \n",
       "1                             0                       0         Check-Out   \n",
       "2                             1                       1         Check-Out   \n",
       "3                             0                       0         Check-Out   \n",
       "4                             0                       0          Canceled   \n",
       "...                         ...                     ...               ...   \n",
       "40055                         0                       0          Canceled   \n",
       "40056                         0                       0         Check-Out   \n",
       "40057                         0                       0         Check-Out   \n",
       "40058                         0                       0          Canceled   \n",
       "40059                         0                       0          Canceled   \n",
       "\n",
       "      ReservationStatusDate  \n",
       "0                2015-11-04  \n",
       "1                2015-12-04  \n",
       "2                2016-01-06  \n",
       "3                2015-07-13  \n",
       "4                2015-03-25  \n",
       "...                     ...  \n",
       "40055            2015-07-17  \n",
       "40056            2015-07-10  \n",
       "40057            2015-08-05  \n",
       "40058            2016-02-15  \n",
       "40059            2016-11-21  \n",
       "\n",
       "[40060 rows x 31 columns]"
      ]
     },
     "execution_count": 3,
     "metadata": {},
     "output_type": "execute_result"
    }
   ],
   "source": [
    "output"
   ]
  },
  {
   "cell_type": "markdown",
   "metadata": {},
   "source": [
    "## Initialise SparkSession and Load Data"
   ]
  },
  {
   "cell_type": "code",
   "execution_count": 4,
   "metadata": {},
   "outputs": [],
   "source": [
    "from pyspark.sql import SparkSession\n",
    "# initialise sparkContext\n",
    "spark = SparkSession.builder \\\n",
    "    .master('local') \\\n",
    "    .appName('myAppName') \\\n",
    "    .config('spark.executor.memory', '5gb') \\\n",
    "    .config(\"spark.cores.max\", \"6\") \\\n",
    "    .getOrCreate()\n",
    "\n",
    "sc = spark.sparkContext\n",
    "\n",
    "from pyspark.sql import SQLContext\n",
    "sqlContext = SQLContext(sc)"
   ]
  },
  {
   "cell_type": "code",
   "execution_count": 5,
   "metadata": {},
   "outputs": [],
   "source": [
    "import pyspark\n",
    "import pyarrow\n",
    "import pandas as pd"
   ]
  },
  {
   "cell_type": "code",
   "execution_count": 6,
   "metadata": {},
   "outputs": [
    {
     "data": {
      "text/plain": [
       "pandas.core.frame.DataFrame"
      ]
     },
     "execution_count": 6,
     "metadata": {},
     "output_type": "execute_result"
    }
   ],
   "source": [
    "type(output)"
   ]
  },
  {
   "cell_type": "code",
   "execution_count": 7,
   "metadata": {},
   "outputs": [],
   "source": [
    "dataset = sqlContext.createDataFrame(output)\n",
    "# If reading from CSV:\n",
    "# dataset= spark.read.load(\"H1full.csv\", format=\"csv\", header=\"true\", inferSchema=True)\n",
    "\n",
    "dataset\n",
    "cols = dataset.columns"
   ]
  },
  {
   "cell_type": "code",
   "execution_count": 8,
   "metadata": {},
   "outputs": [
    {
     "data": {
      "text/plain": [
       "pyspark.sql.dataframe.DataFrame"
      ]
     },
     "execution_count": 8,
     "metadata": {},
     "output_type": "execute_result"
    }
   ],
   "source": [
    "type(dataset)"
   ]
  },
  {
   "cell_type": "markdown",
   "metadata": {},
   "source": [
    "## Print Schema"
   ]
  },
  {
   "cell_type": "code",
   "execution_count": 9,
   "metadata": {},
   "outputs": [
    {
     "name": "stdout",
     "output_type": "stream",
     "text": [
      "root\n",
      " |-- IsCanceled: long (nullable = true)\n",
      " |-- LeadTime: long (nullable = true)\n",
      " |-- ArrivalDateYear: long (nullable = true)\n",
      " |-- ArrivalDateMonth: string (nullable = true)\n",
      " |-- ArrivalDateWeekNumber: long (nullable = true)\n",
      " |-- ArrivalDateDayOfMonth: long (nullable = true)\n",
      " |-- StaysInWeekendNights: long (nullable = true)\n",
      " |-- StaysInWeekNights: long (nullable = true)\n",
      " |-- Adults: long (nullable = true)\n",
      " |-- Children: long (nullable = true)\n",
      " |-- Babies: long (nullable = true)\n",
      " |-- Meal: string (nullable = true)\n",
      " |-- Country: string (nullable = true)\n",
      " |-- MarketSegment: string (nullable = true)\n",
      " |-- DistributionChannel: string (nullable = true)\n",
      " |-- IsRepeatedGuest: long (nullable = true)\n",
      " |-- PreviousCancellations: long (nullable = true)\n",
      " |-- PreviousBookingsNotCanceled: long (nullable = true)\n",
      " |-- ReservedRoomType: string (nullable = true)\n",
      " |-- AssignedRoomType: string (nullable = true)\n",
      " |-- BookingChanges: long (nullable = true)\n",
      " |-- DepositType: string (nullable = true)\n",
      " |-- Agent: string (nullable = true)\n",
      " |-- Company: string (nullable = true)\n",
      " |-- DaysInWaitingList: long (nullable = true)\n",
      " |-- CustomerType: string (nullable = true)\n",
      " |-- ADR: double (nullable = true)\n",
      " |-- RequiredCarParkingSpaces: long (nullable = true)\n",
      " |-- TotalOfSpecialRequests: long (nullable = true)\n",
      " |-- ReservationStatus: string (nullable = true)\n",
      " |-- ReservationStatusDate: timestamp (nullable = true)\n",
      "\n"
     ]
    }
   ],
   "source": [
    "dataset.printSchema()"
   ]
  },
  {
   "cell_type": "markdown",
   "metadata": {},
   "source": [
    "## Pipeline and Data Transformation"
   ]
  },
  {
   "cell_type": "code",
   "execution_count": 10,
   "metadata": {},
   "outputs": [],
   "source": [
    "# https://towardsdatascience.com/machine-learning-with-pyspark-and-mllib-solving-a-binary-classification-problem-96396065d2aa\n",
    "# https://docs.databricks.com/applications/machine-learning/mllib/binary-classification-mllib-pipelines.html\n",
    "\n",
    "from pyspark.ml import Pipeline\n",
    "from pyspark.ml.feature import OneHotEncoderEstimator, StringIndexer, VectorAssembler\n",
    "categoricalColumns = [\"Country\", \"MarketSegment\", \"ArrivalDateMonth\", \"DepositType\", \"CustomerType\"]\n",
    "\n",
    "stages = []\n",
    "for categoricalCol in categoricalColumns:\n",
    "    stringIndexer = StringIndexer(inputCol=categoricalCol, outputCol=categoricalCol + \"Index\")\n",
    "    encoder = OneHotEncoderEstimator(inputCols=[stringIndexer.getOutputCol()], outputCols=[categoricalCol + \"classVec\"])\n",
    "    stages += [stringIndexer, encoder]"
   ]
  },
  {
   "cell_type": "markdown",
   "metadata": {},
   "source": [
    "## Convert label into label indices using the StringIndexer"
   ]
  },
  {
   "cell_type": "code",
   "execution_count": 11,
   "metadata": {},
   "outputs": [],
   "source": [
    "label_stringIdx = StringIndexer(inputCol=\"IsCanceled\", outputCol=\"label\")\n",
    "stages += [label_stringIdx]"
   ]
  },
  {
   "cell_type": "markdown",
   "metadata": {},
   "source": [
    "## Transform all features into a vector using VectorAssembler"
   ]
  },
  {
   "cell_type": "code",
   "execution_count": 12,
   "metadata": {},
   "outputs": [],
   "source": [
    "numericCols = [\"LeadTime\", \"ArrivalDateYear\", \"ArrivalDateWeekNumber\", \"ArrivalDateDayOfMonth\", \"RequiredCarParkingSpaces\"]\n",
    "assemblerInputs = [c + \"classVec\" for c in categoricalColumns] + numericCols\n",
    "assembler = VectorAssembler(inputCols=assemblerInputs, outputCol=\"features\")\n",
    "stages += [assembler]"
   ]
  },
  {
   "cell_type": "markdown",
   "metadata": {},
   "source": [
    "## GBTClassifier"
   ]
  },
  {
   "cell_type": "code",
   "execution_count": 13,
   "metadata": {},
   "outputs": [],
   "source": [
    "from pyspark.ml.classification import GBTClassifier\n",
    "  \n",
    "partialPipeline = Pipeline().setStages(stages)\n",
    "pipelineModel = partialPipeline.fit(dataset)\n",
    "preppedDataDF = pipelineModel.transform(dataset)"
   ]
  },
  {
   "cell_type": "code",
   "execution_count": 14,
   "metadata": {},
   "outputs": [],
   "source": [
    "gbtClassifier = GBTClassifier()\n",
    "trainedModel = gbtClassifier.fit(preppedDataDF)"
   ]
  },
  {
   "cell_type": "code",
   "execution_count": 15,
   "metadata": {},
   "outputs": [
    {
     "data": {
      "text/plain": [
       "GBTClassifier_5842fd1ea2d7"
      ]
     },
     "metadata": {},
     "output_type": "display_data"
    },
    {
     "data": {
      "text/plain": [
       "DataFrame[IsCanceled: bigint, LeadTime: bigint, ArrivalDateYear: bigint, ArrivalDateMonth: string, ArrivalDateWeekNumber: bigint, ArrivalDateDayOfMonth: bigint, StaysInWeekendNights: bigint, StaysInWeekNights: bigint, Adults: bigint, Children: bigint, Babies: bigint, Meal: string, Country: string, MarketSegment: string, DistributionChannel: string, IsRepeatedGuest: bigint, PreviousCancellations: bigint, PreviousBookingsNotCanceled: bigint, ReservedRoomType: string, AssignedRoomType: string, BookingChanges: bigint, DepositType: string, Agent: string, Company: string, DaysInWaitingList: bigint, CustomerType: string, ADR: double, RequiredCarParkingSpaces: bigint, TotalOfSpecialRequests: bigint, ReservationStatus: string, ReservationStatusDate: timestamp, CountryIndex: double, CountryclassVec: vector, MarketSegmentIndex: double, MarketSegmentclassVec: vector, ArrivalDateMonthIndex: double, ArrivalDateMonthclassVec: vector, DepositTypeIndex: double, DepositTypeclassVec: vector, CustomerTypeIndex: double, CustomerTypeclassVec: vector, label: double, features: vector]"
      ]
     },
     "metadata": {},
     "output_type": "display_data"
    }
   ],
   "source": [
    "display(gbtClassifier, preppedDataDF)"
   ]
  },
  {
   "cell_type": "code",
   "execution_count": 16,
   "metadata": {},
   "outputs": [
    {
     "data": {
      "text/plain": [
       "DataFrame[label: double, features: vector, IsCanceled: bigint, LeadTime: bigint, ArrivalDateYear: bigint, ArrivalDateMonth: string, ArrivalDateWeekNumber: bigint, ArrivalDateDayOfMonth: bigint, StaysInWeekendNights: bigint, StaysInWeekNights: bigint, Adults: bigint, Children: bigint, Babies: bigint, Meal: string, Country: string, MarketSegment: string, DistributionChannel: string, IsRepeatedGuest: bigint, PreviousCancellations: bigint, PreviousBookingsNotCanceled: bigint, ReservedRoomType: string, AssignedRoomType: string, BookingChanges: bigint, DepositType: string, Agent: string, Company: string, DaysInWaitingList: bigint, CustomerType: string, ADR: double, RequiredCarParkingSpaces: bigint, TotalOfSpecialRequests: bigint, ReservationStatus: string, ReservationStatusDate: timestamp]"
      ]
     },
     "metadata": {},
     "output_type": "display_data"
    }
   ],
   "source": [
    "selectedcols = [\"label\", \"features\"] + cols\n",
    "dataset = preppedDataDF.select(selectedcols)\n",
    "display(dataset)"
   ]
  },
  {
   "cell_type": "markdown",
   "metadata": {},
   "source": [
    "## Train-Test Split"
   ]
  },
  {
   "cell_type": "code",
   "execution_count": 17,
   "metadata": {},
   "outputs": [
    {
     "name": "stdout",
     "output_type": "stream",
     "text": [
      "28056\n",
      "12004\n"
     ]
    }
   ],
   "source": [
    "(trainingData, testData) = dataset.randomSplit([0.7, 0.3], seed=100)\n",
    "print(trainingData.count())\n",
    "print(testData.count())"
   ]
  },
  {
   "cell_type": "code",
   "execution_count": 18,
   "metadata": {},
   "outputs": [],
   "source": [
    "lrModel = gbtClassifier.fit(trainingData)"
   ]
  },
  {
   "cell_type": "code",
   "execution_count": 19,
   "metadata": {},
   "outputs": [
    {
     "data": {
      "text/plain": [
       "DataFrame[label: double, features: vector, IsCanceled: bigint, LeadTime: bigint, ArrivalDateYear: bigint, ArrivalDateMonth: string, ArrivalDateWeekNumber: bigint, ArrivalDateDayOfMonth: bigint, StaysInWeekendNights: bigint, StaysInWeekNights: bigint, Adults: bigint, Children: bigint, Babies: bigint, Meal: string, Country: string, MarketSegment: string, DistributionChannel: string, IsRepeatedGuest: bigint, PreviousCancellations: bigint, PreviousBookingsNotCanceled: bigint, ReservedRoomType: string, AssignedRoomType: string, BookingChanges: bigint, DepositType: string, Agent: string, Company: string, DaysInWaitingList: bigint, CustomerType: string, ADR: double, RequiredCarParkingSpaces: bigint, TotalOfSpecialRequests: bigint, ReservationStatus: string, ReservationStatusDate: timestamp, rawPrediction: vector, probability: vector, prediction: double]"
      ]
     },
     "execution_count": 19,
     "metadata": {},
     "output_type": "execute_result"
    }
   ],
   "source": [
    "predictions = lrModel.transform(testData)\n",
    "predictions"
   ]
  },
  {
   "cell_type": "code",
   "execution_count": 20,
   "metadata": {},
   "outputs": [
    {
     "data": {
      "text/plain": [
       "DataFrame[label: double, prediction: double, probability: vector]"
      ]
     },
     "metadata": {},
     "output_type": "display_data"
    }
   ],
   "source": [
    "selected = predictions.select(\"label\", \"prediction\", \"probability\")\n",
    "display(selected)"
   ]
  },
  {
   "cell_type": "markdown",
   "metadata": {},
   "source": [
    "## Model Evaluation"
   ]
  },
  {
   "cell_type": "code",
   "execution_count": 21,
   "metadata": {},
   "outputs": [
    {
     "data": {
      "text/plain": [
       "0.916480924536761"
      ]
     },
     "execution_count": 21,
     "metadata": {},
     "output_type": "execute_result"
    }
   ],
   "source": [
    "from pyspark.ml.evaluation import BinaryClassificationEvaluator\n",
    "\n",
    "evaluator = BinaryClassificationEvaluator(rawPredictionCol=\"rawPrediction\")\n",
    "evaluator.evaluate(predictions)"
   ]
  },
  {
   "cell_type": "code",
   "execution_count": 22,
   "metadata": {},
   "outputs": [
    {
     "data": {
      "text/plain": [
       "'areaUnderROC'"
      ]
     },
     "execution_count": 22,
     "metadata": {},
     "output_type": "execute_result"
    }
   ],
   "source": [
    "evaluator.getMetricName()"
   ]
  },
  {
   "cell_type": "code",
   "execution_count": 23,
   "metadata": {},
   "outputs": [
    {
     "name": "stdout",
     "output_type": "stream",
     "text": [
      "cacheNodeIds: If false, the algorithm will pass trees to executors to match instances with nodes. If true, the algorithm will cache node IDs for each instance. Caching can speed up training of deeper trees. (default: False)\n",
      "checkpointInterval: set checkpoint interval (>= 1) or disable checkpoint (-1). E.g. 10 means that the cache will get checkpointed every 10 iterations. Note: this setting will be ignored if the checkpoint directory is not set in the SparkContext (default: 10)\n",
      "featureSubsetStrategy: The number of features to consider for splits at each tree node. Supported options: auto, all, onethird, sqrt, log2, (0.0-1.0], [1-n]. (default: all)\n",
      "featuresCol: features column name (default: features)\n",
      "impurity: Criterion used for information gain calculation (case-insensitive). Supported options: entropy, gini (undefined)\n",
      "labelCol: label column name (default: label)\n",
      "lossType: Loss function which GBT tries to minimize (case-insensitive). Supported options: logistic (default: logistic)\n",
      "maxBins: Max number of bins for discretizing continuous features.  Must be at least 2 and at least number of categories for any categorical feature. (default: 32)\n",
      "maxDepth: Maximum depth of the tree. (Nonnegative) E.g., depth 0 means 1 leaf node; depth 1 means 1 internal node + 2 leaf nodes. (default: 5)\n",
      "maxIter: maximum number of iterations (>= 0) (default: 20)\n",
      "maxMemoryInMB: Maximum memory in MB allocated to histogram aggregation. (default: 256)\n",
      "minInfoGain: Minimum information gain for a split to be considered at a tree node. (default: 0.0)\n",
      "minInstancesPerNode: Minimum number of instances each child must have after split.  If a split causes the left or right child to have fewer than minInstancesPerNode, the split will be discarded as invalid. Must be at least 1. (default: 1)\n",
      "predictionCol: prediction column name (default: prediction)\n",
      "probabilityCol: Column name for predicted class conditional probabilities. Note: Not all models output well-calibrated probability estimates! These probabilities should be treated as confidences, not precise probabilities (undefined)\n",
      "rawPredictionCol: raw prediction (a.k.a. confidence) column name (undefined)\n",
      "seed: random seed (default: -7465285390916191462)\n",
      "stepSize: Step size (a.k.a. learning rate) in interval (0, 1] for shrinking the contribution of each estimator. (default: 0.1)\n",
      "subsamplingRate: Fraction of the training data used for learning each decision tree, in range (0, 1]. (default: 1.0)\n",
      "thresholds: Thresholds in multi-class classification to adjust the probability of predicting each class. Array must have length equal to the number of classes, with values > 0 excepting that at most one value may be 0. The class with largest value p/t is predicted, where p is the original probability of that class and t is the class's threshold (undefined)\n",
      "validationIndicatorCol: name of the column that indicates whether each row is for training or for validation. False indicates training; true indicates validation. (undefined)\n",
      "validationTol: Threshold for stopping early when fit with validation is used.If the error rate on the validation input changes by less than the validationTol,then learning will stop early (before `maxIter`).This parameter is ignored when fit without validation is used. (undefined)\n"
     ]
    }
   ],
   "source": [
    "print(lrModel.explainParams())"
   ]
  },
  {
   "cell_type": "code",
   "execution_count": 24,
   "metadata": {},
   "outputs": [],
   "source": [
    "predictions = lrModel.transform(testData)"
   ]
  },
  {
   "cell_type": "code",
   "execution_count": 25,
   "metadata": {},
   "outputs": [
    {
     "data": {
      "text/plain": [
       "0.916480924536761"
      ]
     },
     "execution_count": 25,
     "metadata": {},
     "output_type": "execute_result"
    }
   ],
   "source": [
    "evaluator.evaluate(predictions)"
   ]
  },
  {
   "cell_type": "code",
   "execution_count": 26,
   "metadata": {},
   "outputs": [
    {
     "data": {
      "text/plain": [
       "DataFrame[label: double, prediction: double, probability: vector]"
      ]
     },
     "metadata": {},
     "output_type": "display_data"
    }
   ],
   "source": [
    "selected = predictions.select(\"label\", \"prediction\", \"probability\")\n",
    "display(selected)"
   ]
  },
  {
   "cell_type": "code",
   "execution_count": 27,
   "metadata": {},
   "outputs": [
    {
     "data": {
      "text/plain": [
       "pyspark.sql.dataframe.DataFrame"
      ]
     },
     "execution_count": 27,
     "metadata": {},
     "output_type": "execute_result"
    }
   ],
   "source": [
    "type(selected)"
   ]
  },
  {
   "cell_type": "code",
   "execution_count": 28,
   "metadata": {},
   "outputs": [],
   "source": [
    "selected.toPandas().to_csv('predictionsh1_gbt.csv')"
   ]
  },
  {
   "cell_type": "markdown",
   "metadata": {},
   "source": [
    "## H2: Predictions on Test Data"
   ]
  },
  {
   "cell_type": "code",
   "execution_count": 29,
   "metadata": {},
   "outputs": [
    {
     "name": "stderr",
     "output_type": "stream",
     "text": [
      "Downloading: 100%|██████████| 2996/2996 [00:01<00:00, 2441.46rows/s]\n"
     ]
    }
   ],
   "source": [
    "SQL_CODE_TEST=\"\"\"\n",
    "SELECT * FROM `mghotels.h2data`\n",
    "\"\"\"\n",
    "output_test=myProject.query(sql=SQL_CODE_TEST)\n",
    "\n",
    "datasettwo = sqlContext.createDataFrame(output_test)\n",
    "# If reading from CSV:\n",
    "# dataset= spark.read.load(\"H1full.csv\", format=\"csv\", header=\"true\", inferSchema=True)\n",
    "\n",
    "datasettwo\n",
    "cols = datasettwo.columns\n",
    "\n",
    "pipelineModel = partialPipeline.fit(datasettwo)\n",
    "preppedDataDF = pipelineModel.transform(datasettwo)"
   ]
  },
  {
   "cell_type": "code",
   "execution_count": 30,
   "metadata": {},
   "outputs": [
    {
     "data": {
      "text/plain": [
       "DataFrame[IsCanceled: bigint, LeadTime: bigint, ArrivalDateYear: bigint, ArrivalDateMonth: string, ArrivalDateWeekNumber: bigint, ArrivalDateDayOfMonth: bigint, StaysInWeekendNights: bigint, StaysInWeekNights: bigint, Adults: bigint, Children: bigint, Babies: bigint, Meal: string, Country: string, MarketSegment: string, DistributionChannel: string, IsRepeatedGuest: bigint, PreviousCancellations: bigint, PreviousBookingsNotCanceled: bigint, ReservedRoomType: string, AssignedRoomType: string, BookingChanges: bigint, DepositType: string, Agent: string, Company: string, DaysInWaitingList: bigint, CustomerType: string, ADR: double, RequiredCarParkingSpaces: bigint, TotalOfSpecialRequests: bigint, ReservationStatus: string, ReservationStatusDate: timestamp, CountryIndex: double, CountryclassVec: vector, MarketSegmentIndex: double, MarketSegmentclassVec: vector, ArrivalDateMonthIndex: double, ArrivalDateMonthclassVec: vector, DepositTypeIndex: double, DepositTypeclassVec: vector, CustomerTypeIndex: double, CustomerTypeclassVec: vector, label: double, features: vector]"
      ]
     },
     "execution_count": 30,
     "metadata": {},
     "output_type": "execute_result"
    }
   ],
   "source": [
    "preppedDataDF"
   ]
  },
  {
   "cell_type": "code",
   "execution_count": 31,
   "metadata": {},
   "outputs": [
    {
     "data": {
      "text/plain": [
       "DataFrame[label: double, features: vector, IsCanceled: bigint, LeadTime: bigint, ArrivalDateYear: bigint, ArrivalDateMonth: string, ArrivalDateWeekNumber: bigint, ArrivalDateDayOfMonth: bigint, StaysInWeekendNights: bigint, StaysInWeekNights: bigint, Adults: bigint, Children: bigint, Babies: bigint, Meal: string, Country: string, MarketSegment: string, DistributionChannel: string, IsRepeatedGuest: bigint, PreviousCancellations: bigint, PreviousBookingsNotCanceled: bigint, ReservedRoomType: string, AssignedRoomType: string, BookingChanges: bigint, DepositType: string, Agent: string, Company: string, DaysInWaitingList: bigint, CustomerType: string, ADR: double, RequiredCarParkingSpaces: bigint, TotalOfSpecialRequests: bigint, ReservationStatus: string, ReservationStatusDate: timestamp]"
      ]
     },
     "metadata": {},
     "output_type": "display_data"
    }
   ],
   "source": [
    "selectedcols = [\"label\", \"features\"] + cols\n",
    "datasettest = preppedDataDF.select(selectedcols)\n",
    "display(datasettest)"
   ]
  },
  {
   "cell_type": "code",
   "execution_count": 32,
   "metadata": {},
   "outputs": [
    {
     "data": {
      "text/plain": [
       "DataFrame[label: double, features: vector, IsCanceled: bigint, LeadTime: bigint, ArrivalDateYear: bigint, ArrivalDateMonth: string, ArrivalDateWeekNumber: bigint, ArrivalDateDayOfMonth: bigint, StaysInWeekendNights: bigint, StaysInWeekNights: bigint, Adults: bigint, Children: bigint, Babies: bigint, Meal: string, Country: string, MarketSegment: string, DistributionChannel: string, IsRepeatedGuest: bigint, PreviousCancellations: bigint, PreviousBookingsNotCanceled: bigint, ReservedRoomType: string, AssignedRoomType: string, BookingChanges: bigint, DepositType: string, Agent: string, Company: string, DaysInWaitingList: bigint, CustomerType: string, ADR: double, RequiredCarParkingSpaces: bigint, TotalOfSpecialRequests: bigint, ReservationStatus: string, ReservationStatusDate: timestamp, rawPrediction: vector, probability: vector, prediction: double]"
      ]
     },
     "execution_count": 32,
     "metadata": {},
     "output_type": "execute_result"
    }
   ],
   "source": [
    "predictionstwo = lrModel.transform(datasettest)\n",
    "predictionstwo"
   ]
  },
  {
   "cell_type": "code",
   "execution_count": 33,
   "metadata": {},
   "outputs": [
    {
     "data": {
      "text/plain": [
       "DataFrame[label: double, features: vector, IsCanceled: bigint, LeadTime: bigint, ArrivalDateYear: bigint, ArrivalDateMonth: string, ArrivalDateWeekNumber: bigint, ArrivalDateDayOfMonth: bigint, StaysInWeekendNights: bigint, StaysInWeekNights: bigint, Adults: bigint, Children: bigint, Babies: bigint, Meal: string, Country: string, MarketSegment: string, DistributionChannel: string, IsRepeatedGuest: bigint, PreviousCancellations: bigint, PreviousBookingsNotCanceled: bigint, ReservedRoomType: string, AssignedRoomType: string, BookingChanges: bigint, DepositType: string, Agent: string, Company: string, DaysInWaitingList: bigint, CustomerType: string, ADR: double, RequiredCarParkingSpaces: bigint, TotalOfSpecialRequests: bigint, ReservationStatus: string, ReservationStatusDate: timestamp, rawPrediction: vector, probability: vector, prediction: double]"
      ]
     },
     "execution_count": 33,
     "metadata": {},
     "output_type": "execute_result"
    }
   ],
   "source": [
    "predictionstwo"
   ]
  },
  {
   "cell_type": "code",
   "execution_count": 34,
   "metadata": {},
   "outputs": [
    {
     "data": {
      "text/plain": [
       "pyspark.sql.dataframe.DataFrame"
      ]
     },
     "execution_count": 34,
     "metadata": {},
     "output_type": "execute_result"
    }
   ],
   "source": [
    "type(predictions)"
   ]
  },
  {
   "cell_type": "code",
   "execution_count": 35,
   "metadata": {},
   "outputs": [
    {
     "data": {
      "text/plain": [
       "pyspark.sql.dataframe.DataFrame"
      ]
     },
     "execution_count": 35,
     "metadata": {},
     "output_type": "execute_result"
    }
   ],
   "source": [
    "type(predictionstwo)"
   ]
  },
  {
   "cell_type": "code",
   "execution_count": 36,
   "metadata": {},
   "outputs": [
    {
     "data": {
      "text/plain": [
       "DataFrame[label: double, prediction: double, probability: vector]"
      ]
     },
     "metadata": {},
     "output_type": "display_data"
    }
   ],
   "source": [
    "selectedtwo = predictionstwo.select(\"label\", \"prediction\", \"probability\")\n",
    "display(selectedtwo)"
   ]
  },
  {
   "cell_type": "code",
   "execution_count": 37,
   "metadata": {},
   "outputs": [],
   "source": [
    "selected.toPandas().to_csv('predictionsh2_gbt.csv')"
   ]
  },
  {
   "cell_type": "markdown",
   "metadata": {},
   "source": [
    "## Confusion Matrix"
   ]
  },
  {
   "cell_type": "code",
   "execution_count": 38,
   "metadata": {},
   "outputs": [],
   "source": [
    "import numpy as np\n",
    "from numpy.random import seed\n",
    "seed(1)\n",
    "from sklearn.metrics import classification_report,confusion_matrix"
   ]
  },
  {
   "cell_type": "code",
   "execution_count": 39,
   "metadata": {},
   "outputs": [
    {
     "data": {
      "text/html": [
       "<div>\n",
       "<style scoped>\n",
       "    .dataframe tbody tr th:only-of-type {\n",
       "        vertical-align: middle;\n",
       "    }\n",
       "\n",
       "    .dataframe tbody tr th {\n",
       "        vertical-align: top;\n",
       "    }\n",
       "\n",
       "    .dataframe thead th {\n",
       "        text-align: right;\n",
       "    }\n",
       "</style>\n",
       "<table border=\"1\" class=\"dataframe\">\n",
       "  <thead>\n",
       "    <tr style=\"text-align: right;\">\n",
       "      <th></th>\n",
       "      <th>Unnamed: 0</th>\n",
       "      <th>label</th>\n",
       "      <th>prediction</th>\n",
       "      <th>probability</th>\n",
       "    </tr>\n",
       "  </thead>\n",
       "  <tbody>\n",
       "    <tr>\n",
       "      <th>0</th>\n",
       "      <td>0</td>\n",
       "      <td>0.0</td>\n",
       "      <td>0.0</td>\n",
       "      <td>[0.8852330674289964,0.11476693257100357]</td>\n",
       "    </tr>\n",
       "    <tr>\n",
       "      <th>1</th>\n",
       "      <td>1</td>\n",
       "      <td>0.0</td>\n",
       "      <td>0.0</td>\n",
       "      <td>[0.8852330674289964,0.11476693257100357]</td>\n",
       "    </tr>\n",
       "    <tr>\n",
       "      <th>2</th>\n",
       "      <td>2</td>\n",
       "      <td>0.0</td>\n",
       "      <td>0.0</td>\n",
       "      <td>[0.8689277768893195,0.13107222311068045]</td>\n",
       "    </tr>\n",
       "    <tr>\n",
       "      <th>3</th>\n",
       "      <td>3</td>\n",
       "      <td>0.0</td>\n",
       "      <td>0.0</td>\n",
       "      <td>[0.8628777034681392,0.1371222965318608]</td>\n",
       "    </tr>\n",
       "    <tr>\n",
       "      <th>4</th>\n",
       "      <td>4</td>\n",
       "      <td>0.0</td>\n",
       "      <td>0.0</td>\n",
       "      <td>[0.8526392009582818,0.14736079904171817]</td>\n",
       "    </tr>\n",
       "    <tr>\n",
       "      <th>...</th>\n",
       "      <td>...</td>\n",
       "      <td>...</td>\n",
       "      <td>...</td>\n",
       "      <td>...</td>\n",
       "    </tr>\n",
       "    <tr>\n",
       "      <th>11999</th>\n",
       "      <td>11999</td>\n",
       "      <td>1.0</td>\n",
       "      <td>1.0</td>\n",
       "      <td>[0.4867888836057888,0.5132111163942112]</td>\n",
       "    </tr>\n",
       "    <tr>\n",
       "      <th>12000</th>\n",
       "      <td>12000</td>\n",
       "      <td>1.0</td>\n",
       "      <td>0.0</td>\n",
       "      <td>[0.8538122415822146,0.14618775841778542]</td>\n",
       "    </tr>\n",
       "    <tr>\n",
       "      <th>12001</th>\n",
       "      <td>12001</td>\n",
       "      <td>1.0</td>\n",
       "      <td>0.0</td>\n",
       "      <td>[0.8538122415822146,0.14618775841778542]</td>\n",
       "    </tr>\n",
       "    <tr>\n",
       "      <th>12002</th>\n",
       "      <td>12002</td>\n",
       "      <td>1.0</td>\n",
       "      <td>0.0</td>\n",
       "      <td>[0.6939130815763881,0.3060869184236119]</td>\n",
       "    </tr>\n",
       "    <tr>\n",
       "      <th>12003</th>\n",
       "      <td>12003</td>\n",
       "      <td>1.0</td>\n",
       "      <td>1.0</td>\n",
       "      <td>[0.4223197835323432,0.5776802164676569]</td>\n",
       "    </tr>\n",
       "  </tbody>\n",
       "</table>\n",
       "<p>12004 rows × 4 columns</p>\n",
       "</div>"
      ],
      "text/plain": [
       "       Unnamed: 0  label  prediction                               probability\n",
       "0               0    0.0         0.0  [0.8852330674289964,0.11476693257100357]\n",
       "1               1    0.0         0.0  [0.8852330674289964,0.11476693257100357]\n",
       "2               2    0.0         0.0  [0.8689277768893195,0.13107222311068045]\n",
       "3               3    0.0         0.0   [0.8628777034681392,0.1371222965318608]\n",
       "4               4    0.0         0.0  [0.8526392009582818,0.14736079904171817]\n",
       "...           ...    ...         ...                                       ...\n",
       "11999       11999    1.0         1.0   [0.4867888836057888,0.5132111163942112]\n",
       "12000       12000    1.0         0.0  [0.8538122415822146,0.14618775841778542]\n",
       "12001       12001    1.0         0.0  [0.8538122415822146,0.14618775841778542]\n",
       "12002       12002    1.0         0.0   [0.6939130815763881,0.3060869184236119]\n",
       "12003       12003    1.0         1.0   [0.4223197835323432,0.5776802164676569]\n",
       "\n",
       "[12004 rows x 4 columns]"
      ]
     },
     "execution_count": 39,
     "metadata": {},
     "output_type": "execute_result"
    }
   ],
   "source": [
    "mydata=pd.read_csv(\"predictionsh2_gbt.csv\")\n",
    "mydata"
   ]
  },
  {
   "cell_type": "code",
   "execution_count": 40,
   "metadata": {},
   "outputs": [],
   "source": [
    "label=mydata['label']\n",
    "prediction=mydata['prediction']"
   ]
  },
  {
   "cell_type": "code",
   "execution_count": 41,
   "metadata": {},
   "outputs": [
    {
     "name": "stdout",
     "output_type": "stream",
     "text": [
      "[[7864  752]\n",
      " [1095 2293]]\n",
      "              precision    recall  f1-score   support\n",
      "\n",
      "         0.0       0.88      0.91      0.89      8616\n",
      "         1.0       0.75      0.68      0.71      3388\n",
      "\n",
      "    accuracy                           0.85     12004\n",
      "   macro avg       0.82      0.79      0.80     12004\n",
      "weighted avg       0.84      0.85      0.84     12004\n",
      "\n"
     ]
    }
   ],
   "source": [
    "print(confusion_matrix(label,prediction))\n",
    "print(classification_report(label,prediction))"
   ]
  },
  {
   "cell_type": "code",
   "execution_count": null,
   "metadata": {},
   "outputs": [],
   "source": []
  }
 ],
 "metadata": {
  "kernelspec": {
   "display_name": "Python 3",
   "language": "python",
   "name": "python3"
  },
  "language_info": {
   "codemirror_mode": {
    "name": "ipython",
    "version": 3
   },
   "file_extension": ".py",
   "mimetype": "text/x-python",
   "name": "python",
   "nbconvert_exporter": "python",
   "pygments_lexer": "ipython3",
   "version": "3.6.5"
  }
 },
 "nbformat": 4,
 "nbformat_minor": 4
}
