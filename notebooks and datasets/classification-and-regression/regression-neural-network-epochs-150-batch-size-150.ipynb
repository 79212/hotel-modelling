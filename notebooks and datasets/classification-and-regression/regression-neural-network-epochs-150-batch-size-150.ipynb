{
 "cells": [
  {
   "cell_type": "markdown",
   "metadata": {},
   "source": [
    "## Python version"
   ]
  },
  {
   "cell_type": "code",
   "execution_count": 1,
   "metadata": {},
   "outputs": [
    {
     "name": "stdout",
     "output_type": "stream",
     "text": [
      "3.6.5\n"
     ]
    }
   ],
   "source": [
    "from platform import python_version\n",
    "print(python_version())"
   ]
  },
  {
   "cell_type": "code",
   "execution_count": 2,
   "metadata": {},
   "outputs": [
    {
     "name": "stderr",
     "output_type": "stream",
     "text": [
      "/home/michael/anaconda3/lib/python3.6/site-packages/tensorflow/python/framework/dtypes.py:523: FutureWarning: Passing (type, 1) or '1type' as a synonym of type is deprecated; in a future version of numpy, it will be understood as (type, (1,)) / '(1,)type'.\n",
      "  _np_qint8 = np.dtype([(\"qint8\", np.int8, 1)])\n",
      "/home/michael/anaconda3/lib/python3.6/site-packages/tensorflow/python/framework/dtypes.py:524: FutureWarning: Passing (type, 1) or '1type' as a synonym of type is deprecated; in a future version of numpy, it will be understood as (type, (1,)) / '(1,)type'.\n",
      "  _np_quint8 = np.dtype([(\"quint8\", np.uint8, 1)])\n",
      "/home/michael/anaconda3/lib/python3.6/site-packages/tensorflow/python/framework/dtypes.py:525: FutureWarning: Passing (type, 1) or '1type' as a synonym of type is deprecated; in a future version of numpy, it will be understood as (type, (1,)) / '(1,)type'.\n",
      "  _np_qint16 = np.dtype([(\"qint16\", np.int16, 1)])\n",
      "/home/michael/anaconda3/lib/python3.6/site-packages/tensorflow/python/framework/dtypes.py:526: FutureWarning: Passing (type, 1) or '1type' as a synonym of type is deprecated; in a future version of numpy, it will be understood as (type, (1,)) / '(1,)type'.\n",
      "  _np_quint16 = np.dtype([(\"quint16\", np.uint16, 1)])\n",
      "/home/michael/anaconda3/lib/python3.6/site-packages/tensorflow/python/framework/dtypes.py:527: FutureWarning: Passing (type, 1) or '1type' as a synonym of type is deprecated; in a future version of numpy, it will be understood as (type, (1,)) / '(1,)type'.\n",
      "  _np_qint32 = np.dtype([(\"qint32\", np.int32, 1)])\n",
      "/home/michael/anaconda3/lib/python3.6/site-packages/tensorflow/python/framework/dtypes.py:532: FutureWarning: Passing (type, 1) or '1type' as a synonym of type is deprecated; in a future version of numpy, it will be understood as (type, (1,)) / '(1,)type'.\n",
      "  np_resource = np.dtype([(\"resource\", np.ubyte, 1)])\n",
      "/home/michael/anaconda3/lib/python3.6/site-packages/tensorboard/compat/tensorflow_stub/dtypes.py:541: FutureWarning: Passing (type, 1) or '1type' as a synonym of type is deprecated; in a future version of numpy, it will be understood as (type, (1,)) / '(1,)type'.\n",
      "  _np_qint8 = np.dtype([(\"qint8\", np.int8, 1)])\n",
      "/home/michael/anaconda3/lib/python3.6/site-packages/tensorboard/compat/tensorflow_stub/dtypes.py:542: FutureWarning: Passing (type, 1) or '1type' as a synonym of type is deprecated; in a future version of numpy, it will be understood as (type, (1,)) / '(1,)type'.\n",
      "  _np_quint8 = np.dtype([(\"quint8\", np.uint8, 1)])\n",
      "/home/michael/anaconda3/lib/python3.6/site-packages/tensorboard/compat/tensorflow_stub/dtypes.py:543: FutureWarning: Passing (type, 1) or '1type' as a synonym of type is deprecated; in a future version of numpy, it will be understood as (type, (1,)) / '(1,)type'.\n",
      "  _np_qint16 = np.dtype([(\"qint16\", np.int16, 1)])\n",
      "/home/michael/anaconda3/lib/python3.6/site-packages/tensorboard/compat/tensorflow_stub/dtypes.py:544: FutureWarning: Passing (type, 1) or '1type' as a synonym of type is deprecated; in a future version of numpy, it will be understood as (type, (1,)) / '(1,)type'.\n",
      "  _np_quint16 = np.dtype([(\"quint16\", np.uint16, 1)])\n",
      "/home/michael/anaconda3/lib/python3.6/site-packages/tensorboard/compat/tensorflow_stub/dtypes.py:545: FutureWarning: Passing (type, 1) or '1type' as a synonym of type is deprecated; in a future version of numpy, it will be understood as (type, (1,)) / '(1,)type'.\n",
      "  _np_qint32 = np.dtype([(\"qint32\", np.int32, 1)])\n",
      "/home/michael/anaconda3/lib/python3.6/site-packages/tensorboard/compat/tensorflow_stub/dtypes.py:550: FutureWarning: Passing (type, 1) or '1type' as a synonym of type is deprecated; in a future version of numpy, it will be understood as (type, (1,)) / '(1,)type'.\n",
      "  np_resource = np.dtype([(\"resource\", np.ubyte, 1)])\n"
     ]
    }
   ],
   "source": [
    "import tensorflow\n",
    "tensorflow.random.set_seed(1234)"
   ]
  },
  {
   "cell_type": "markdown",
   "metadata": {},
   "source": [
    "## Import Libraries"
   ]
  },
  {
   "cell_type": "code",
   "execution_count": 3,
   "metadata": {},
   "outputs": [
    {
     "name": "stderr",
     "output_type": "stream",
     "text": [
      "/home/michael/anaconda3/lib/python3.6/site-packages/statsmodels/tools/_testing.py:19: FutureWarning: pandas.util.testing is deprecated. Use the functions in the public API at pandas.testing instead.\n",
      "  import pandas.util.testing as tm\n"
     ]
    }
   ],
   "source": [
    "import numpy as np\n",
    "from numpy.random import seed\n",
    "seed(1)\n",
    "\n",
    "from tensorflow.python.keras.models import Sequential\n",
    "from tensorflow.python.keras.layers import Dense\n",
    "from tensorflow.python.keras.wrappers.scikit_learn import KerasRegressor\n",
    "import statsmodels.api as sm\n",
    "import statsmodels.formula.api as smf\n",
    "import matplotlib.pyplot as plt\n",
    "import pandas as pd\n",
    "import math\n",
    "from sklearn.model_selection import train_test_split\n",
    "from sklearn.model_selection import cross_val_score\n",
    "from sklearn.model_selection import KFold\n",
    "from sklearn.pipeline import Pipeline\n",
    "from sklearn.preprocessing import MinMaxScaler"
   ]
  },
  {
   "cell_type": "markdown",
   "metadata": {},
   "source": [
    "## Import Data"
   ]
  },
  {
   "cell_type": "code",
   "execution_count": 4,
   "metadata": {},
   "outputs": [
    {
     "data": {
      "text/html": [
       "<div>\n",
       "<style scoped>\n",
       "    .dataframe tbody tr th:only-of-type {\n",
       "        vertical-align: middle;\n",
       "    }\n",
       "\n",
       "    .dataframe tbody tr th {\n",
       "        vertical-align: top;\n",
       "    }\n",
       "\n",
       "    .dataframe thead th {\n",
       "        text-align: right;\n",
       "    }\n",
       "</style>\n",
       "<table border=\"1\" class=\"dataframe\">\n",
       "  <thead>\n",
       "    <tr style=\"text-align: right;\">\n",
       "      <th></th>\n",
       "      <th>IsCanceled</th>\n",
       "      <th>LeadTime</th>\n",
       "      <th>ArrivalDateYear</th>\n",
       "      <th>ArrivalDateMonth</th>\n",
       "      <th>ArrivalDateWeekNumber</th>\n",
       "      <th>ArrivalDateDayOfMonth</th>\n",
       "      <th>StaysInWeekendNights</th>\n",
       "      <th>StaysInWeekNights</th>\n",
       "      <th>Adults</th>\n",
       "      <th>Children</th>\n",
       "      <th>...</th>\n",
       "      <th>DepositType</th>\n",
       "      <th>Agent</th>\n",
       "      <th>Company</th>\n",
       "      <th>DaysInWaitingList</th>\n",
       "      <th>CustomerType</th>\n",
       "      <th>ADR</th>\n",
       "      <th>RequiredCarParkingSpaces</th>\n",
       "      <th>TotalOfSpecialRequests</th>\n",
       "      <th>ReservationStatus</th>\n",
       "      <th>ReservationStatusDate</th>\n",
       "    </tr>\n",
       "  </thead>\n",
       "  <tbody>\n",
       "    <tr>\n",
       "      <th>0</th>\n",
       "      <td>0</td>\n",
       "      <td>342</td>\n",
       "      <td>2015</td>\n",
       "      <td>July</td>\n",
       "      <td>27</td>\n",
       "      <td>1</td>\n",
       "      <td>0</td>\n",
       "      <td>0</td>\n",
       "      <td>2</td>\n",
       "      <td>0</td>\n",
       "      <td>...</td>\n",
       "      <td>No Deposit</td>\n",
       "      <td>NULL</td>\n",
       "      <td>NULL</td>\n",
       "      <td>0</td>\n",
       "      <td>Transient</td>\n",
       "      <td>0.00</td>\n",
       "      <td>0</td>\n",
       "      <td>0</td>\n",
       "      <td>Check-Out</td>\n",
       "      <td>2015-07-01</td>\n",
       "    </tr>\n",
       "    <tr>\n",
       "      <th>1</th>\n",
       "      <td>0</td>\n",
       "      <td>737</td>\n",
       "      <td>2015</td>\n",
       "      <td>July</td>\n",
       "      <td>27</td>\n",
       "      <td>1</td>\n",
       "      <td>0</td>\n",
       "      <td>0</td>\n",
       "      <td>2</td>\n",
       "      <td>0</td>\n",
       "      <td>...</td>\n",
       "      <td>No Deposit</td>\n",
       "      <td>NULL</td>\n",
       "      <td>NULL</td>\n",
       "      <td>0</td>\n",
       "      <td>Transient</td>\n",
       "      <td>0.00</td>\n",
       "      <td>0</td>\n",
       "      <td>0</td>\n",
       "      <td>Check-Out</td>\n",
       "      <td>2015-07-01</td>\n",
       "    </tr>\n",
       "    <tr>\n",
       "      <th>2</th>\n",
       "      <td>0</td>\n",
       "      <td>7</td>\n",
       "      <td>2015</td>\n",
       "      <td>July</td>\n",
       "      <td>27</td>\n",
       "      <td>1</td>\n",
       "      <td>0</td>\n",
       "      <td>1</td>\n",
       "      <td>1</td>\n",
       "      <td>0</td>\n",
       "      <td>...</td>\n",
       "      <td>No Deposit</td>\n",
       "      <td>NULL</td>\n",
       "      <td>NULL</td>\n",
       "      <td>0</td>\n",
       "      <td>Transient</td>\n",
       "      <td>75.00</td>\n",
       "      <td>0</td>\n",
       "      <td>0</td>\n",
       "      <td>Check-Out</td>\n",
       "      <td>2015-07-02</td>\n",
       "    </tr>\n",
       "    <tr>\n",
       "      <th>3</th>\n",
       "      <td>0</td>\n",
       "      <td>13</td>\n",
       "      <td>2015</td>\n",
       "      <td>July</td>\n",
       "      <td>27</td>\n",
       "      <td>1</td>\n",
       "      <td>0</td>\n",
       "      <td>1</td>\n",
       "      <td>1</td>\n",
       "      <td>0</td>\n",
       "      <td>...</td>\n",
       "      <td>No Deposit</td>\n",
       "      <td>304</td>\n",
       "      <td>NULL</td>\n",
       "      <td>0</td>\n",
       "      <td>Transient</td>\n",
       "      <td>75.00</td>\n",
       "      <td>0</td>\n",
       "      <td>0</td>\n",
       "      <td>Check-Out</td>\n",
       "      <td>2015-07-02</td>\n",
       "    </tr>\n",
       "    <tr>\n",
       "      <th>4</th>\n",
       "      <td>0</td>\n",
       "      <td>14</td>\n",
       "      <td>2015</td>\n",
       "      <td>July</td>\n",
       "      <td>27</td>\n",
       "      <td>1</td>\n",
       "      <td>0</td>\n",
       "      <td>2</td>\n",
       "      <td>2</td>\n",
       "      <td>0</td>\n",
       "      <td>...</td>\n",
       "      <td>No Deposit</td>\n",
       "      <td>240</td>\n",
       "      <td>NULL</td>\n",
       "      <td>0</td>\n",
       "      <td>Transient</td>\n",
       "      <td>98.00</td>\n",
       "      <td>0</td>\n",
       "      <td>1</td>\n",
       "      <td>Check-Out</td>\n",
       "      <td>2015-07-03</td>\n",
       "    </tr>\n",
       "    <tr>\n",
       "      <th>...</th>\n",
       "      <td>...</td>\n",
       "      <td>...</td>\n",
       "      <td>...</td>\n",
       "      <td>...</td>\n",
       "      <td>...</td>\n",
       "      <td>...</td>\n",
       "      <td>...</td>\n",
       "      <td>...</td>\n",
       "      <td>...</td>\n",
       "      <td>...</td>\n",
       "      <td>...</td>\n",
       "      <td>...</td>\n",
       "      <td>...</td>\n",
       "      <td>...</td>\n",
       "      <td>...</td>\n",
       "      <td>...</td>\n",
       "      <td>...</td>\n",
       "      <td>...</td>\n",
       "      <td>...</td>\n",
       "      <td>...</td>\n",
       "      <td>...</td>\n",
       "    </tr>\n",
       "    <tr>\n",
       "      <th>40055</th>\n",
       "      <td>0</td>\n",
       "      <td>212</td>\n",
       "      <td>2017</td>\n",
       "      <td>August</td>\n",
       "      <td>35</td>\n",
       "      <td>31</td>\n",
       "      <td>2</td>\n",
       "      <td>8</td>\n",
       "      <td>2</td>\n",
       "      <td>1</td>\n",
       "      <td>...</td>\n",
       "      <td>No Deposit</td>\n",
       "      <td>143</td>\n",
       "      <td>NULL</td>\n",
       "      <td>0</td>\n",
       "      <td>Transient</td>\n",
       "      <td>89.75</td>\n",
       "      <td>0</td>\n",
       "      <td>0</td>\n",
       "      <td>Check-Out</td>\n",
       "      <td>2017-09-10</td>\n",
       "    </tr>\n",
       "    <tr>\n",
       "      <th>40056</th>\n",
       "      <td>0</td>\n",
       "      <td>169</td>\n",
       "      <td>2017</td>\n",
       "      <td>August</td>\n",
       "      <td>35</td>\n",
       "      <td>30</td>\n",
       "      <td>2</td>\n",
       "      <td>9</td>\n",
       "      <td>2</td>\n",
       "      <td>0</td>\n",
       "      <td>...</td>\n",
       "      <td>No Deposit</td>\n",
       "      <td>250</td>\n",
       "      <td>NULL</td>\n",
       "      <td>0</td>\n",
       "      <td>Transient-Party</td>\n",
       "      <td>202.27</td>\n",
       "      <td>0</td>\n",
       "      <td>1</td>\n",
       "      <td>Check-Out</td>\n",
       "      <td>2017-09-10</td>\n",
       "    </tr>\n",
       "    <tr>\n",
       "      <th>40057</th>\n",
       "      <td>0</td>\n",
       "      <td>204</td>\n",
       "      <td>2017</td>\n",
       "      <td>August</td>\n",
       "      <td>35</td>\n",
       "      <td>29</td>\n",
       "      <td>4</td>\n",
       "      <td>10</td>\n",
       "      <td>2</td>\n",
       "      <td>0</td>\n",
       "      <td>...</td>\n",
       "      <td>No Deposit</td>\n",
       "      <td>250</td>\n",
       "      <td>NULL</td>\n",
       "      <td>0</td>\n",
       "      <td>Transient</td>\n",
       "      <td>153.57</td>\n",
       "      <td>0</td>\n",
       "      <td>3</td>\n",
       "      <td>Check-Out</td>\n",
       "      <td>2017-09-12</td>\n",
       "    </tr>\n",
       "    <tr>\n",
       "      <th>40058</th>\n",
       "      <td>0</td>\n",
       "      <td>211</td>\n",
       "      <td>2017</td>\n",
       "      <td>August</td>\n",
       "      <td>35</td>\n",
       "      <td>31</td>\n",
       "      <td>4</td>\n",
       "      <td>10</td>\n",
       "      <td>2</td>\n",
       "      <td>0</td>\n",
       "      <td>...</td>\n",
       "      <td>No Deposit</td>\n",
       "      <td>40</td>\n",
       "      <td>NULL</td>\n",
       "      <td>0</td>\n",
       "      <td>Contract</td>\n",
       "      <td>112.80</td>\n",
       "      <td>0</td>\n",
       "      <td>1</td>\n",
       "      <td>Check-Out</td>\n",
       "      <td>2017-09-14</td>\n",
       "    </tr>\n",
       "    <tr>\n",
       "      <th>40059</th>\n",
       "      <td>0</td>\n",
       "      <td>161</td>\n",
       "      <td>2017</td>\n",
       "      <td>August</td>\n",
       "      <td>35</td>\n",
       "      <td>31</td>\n",
       "      <td>4</td>\n",
       "      <td>10</td>\n",
       "      <td>2</td>\n",
       "      <td>0</td>\n",
       "      <td>...</td>\n",
       "      <td>No Deposit</td>\n",
       "      <td>69</td>\n",
       "      <td>NULL</td>\n",
       "      <td>0</td>\n",
       "      <td>Transient</td>\n",
       "      <td>99.06</td>\n",
       "      <td>0</td>\n",
       "      <td>0</td>\n",
       "      <td>Check-Out</td>\n",
       "      <td>2017-09-14</td>\n",
       "    </tr>\n",
       "  </tbody>\n",
       "</table>\n",
       "<p>40060 rows × 31 columns</p>\n",
       "</div>"
      ],
      "text/plain": [
       "       IsCanceled  LeadTime  ArrivalDateYear ArrivalDateMonth  \\\n",
       "0               0       342             2015             July   \n",
       "1               0       737             2015             July   \n",
       "2               0         7             2015             July   \n",
       "3               0        13             2015             July   \n",
       "4               0        14             2015             July   \n",
       "...           ...       ...              ...              ...   \n",
       "40055           0       212             2017           August   \n",
       "40056           0       169             2017           August   \n",
       "40057           0       204             2017           August   \n",
       "40058           0       211             2017           August   \n",
       "40059           0       161             2017           August   \n",
       "\n",
       "       ArrivalDateWeekNumber  ArrivalDateDayOfMonth  StaysInWeekendNights  \\\n",
       "0                         27                      1                     0   \n",
       "1                         27                      1                     0   \n",
       "2                         27                      1                     0   \n",
       "3                         27                      1                     0   \n",
       "4                         27                      1                     0   \n",
       "...                      ...                    ...                   ...   \n",
       "40055                     35                     31                     2   \n",
       "40056                     35                     30                     2   \n",
       "40057                     35                     29                     4   \n",
       "40058                     35                     31                     4   \n",
       "40059                     35                     31                     4   \n",
       "\n",
       "       StaysInWeekNights  Adults  Children  ...      DepositType        Agent  \\\n",
       "0                      0       2         0  ...  No Deposit              NULL   \n",
       "1                      0       2         0  ...  No Deposit              NULL   \n",
       "2                      1       1         0  ...  No Deposit              NULL   \n",
       "3                      1       1         0  ...  No Deposit               304   \n",
       "4                      2       2         0  ...  No Deposit               240   \n",
       "...                  ...     ...       ...  ...              ...          ...   \n",
       "40055                  8       2         1  ...  No Deposit               143   \n",
       "40056                  9       2         0  ...  No Deposit               250   \n",
       "40057                 10       2         0  ...  No Deposit               250   \n",
       "40058                 10       2         0  ...  No Deposit                40   \n",
       "40059                 10       2         0  ...  No Deposit                69   \n",
       "\n",
       "           Company DaysInWaitingList     CustomerType     ADR  \\\n",
       "0             NULL                 0        Transient    0.00   \n",
       "1             NULL                 0        Transient    0.00   \n",
       "2             NULL                 0        Transient   75.00   \n",
       "3             NULL                 0        Transient   75.00   \n",
       "4             NULL                 0        Transient   98.00   \n",
       "...            ...               ...              ...     ...   \n",
       "40055         NULL                 0        Transient   89.75   \n",
       "40056         NULL                 0  Transient-Party  202.27   \n",
       "40057         NULL                 0        Transient  153.57   \n",
       "40058         NULL                 0         Contract  112.80   \n",
       "40059         NULL                 0        Transient   99.06   \n",
       "\n",
       "       RequiredCarParkingSpaces  TotalOfSpecialRequests ReservationStatus  \\\n",
       "0                             0                       0         Check-Out   \n",
       "1                             0                       0         Check-Out   \n",
       "2                             0                       0         Check-Out   \n",
       "3                             0                       0         Check-Out   \n",
       "4                             0                       1         Check-Out   \n",
       "...                         ...                     ...               ...   \n",
       "40055                         0                       0         Check-Out   \n",
       "40056                         0                       1         Check-Out   \n",
       "40057                         0                       3         Check-Out   \n",
       "40058                         0                       1         Check-Out   \n",
       "40059                         0                       0         Check-Out   \n",
       "\n",
       "      ReservationStatusDate  \n",
       "0                2015-07-01  \n",
       "1                2015-07-01  \n",
       "2                2015-07-02  \n",
       "3                2015-07-02  \n",
       "4                2015-07-03  \n",
       "...                     ...  \n",
       "40055            2017-09-10  \n",
       "40056            2017-09-10  \n",
       "40057            2017-09-12  \n",
       "40058            2017-09-14  \n",
       "40059            2017-09-14  \n",
       "\n",
       "[40060 rows x 31 columns]"
      ]
     },
     "execution_count": 4,
     "metadata": {},
     "output_type": "execute_result"
    }
   ],
   "source": [
    "train_df = pd.read_csv('H1full.csv')\n",
    "a=train_df.head()\n",
    "b=train_df\n",
    "b\n",
    "b.sort_values(['ArrivalDateYear','ArrivalDateWeekNumber'], ascending=True)"
   ]
  },
  {
   "cell_type": "markdown",
   "metadata": {},
   "source": [
    "## Numerical Variables"
   ]
  },
  {
   "cell_type": "code",
   "execution_count": 5,
   "metadata": {},
   "outputs": [],
   "source": [
    "leadtime = train_df['LeadTime']\n",
    "arrivaldateyear = train_df['ArrivalDateYear']\n",
    "arrivaldateweekno = train_df['ArrivalDateWeekNumber']\n",
    "arrivaldatedayofmonth = train_df['ArrivalDateDayOfMonth']\n",
    "staysweekendnights = train_df['StaysInWeekendNights']\n",
    "staysweeknights = train_df['StaysInWeekNights']\n",
    "adults = train_df['Adults']\n",
    "children = train_df['Children']\n",
    "babies = train_df['Babies']\n",
    "isrepeatedguest = train_df['IsRepeatedGuest'] \n",
    "previouscancellations = train_df['PreviousCancellations']\n",
    "previousbookingsnotcanceled = train_df['PreviousBookingsNotCanceled']\n",
    "bookingchanges = train_df['BookingChanges']\n",
    "agent = train_df['Agent']\n",
    "company = train_df['Company']\n",
    "dayswaitinglist = train_df['DaysInWaitingList']\n",
    "adr = train_df['ADR']\n",
    "rcps = train_df['RequiredCarParkingSpaces']\n",
    "totalsqr = train_df['TotalOfSpecialRequests']"
   ]
  },
  {
   "cell_type": "code",
   "execution_count": 6,
   "metadata": {},
   "outputs": [],
   "source": [
    "y1 = np.array(leadtime)"
   ]
  },
  {
   "cell_type": "markdown",
   "metadata": {},
   "source": [
    "## Categorical Variables"
   ]
  },
  {
   "cell_type": "code",
   "execution_count": 7,
   "metadata": {},
   "outputs": [],
   "source": [
    "IsCanceled = train_df['IsCanceled']\n",
    "arrivaldatemonth = train_df.ArrivalDateMonth.astype(\"category\").cat.codes\n",
    "arrivaldatemonthcat=pd.Series(arrivaldatemonth)\n",
    "mealcat=train_df.Meal.astype(\"category\").cat.codes\n",
    "mealcat=pd.Series(mealcat)\n",
    "countrycat=train_df.Country.astype(\"category\").cat.codes\n",
    "countrycat=pd.Series(countrycat)\n",
    "marketsegmentcat=train_df.MarketSegment.astype(\"category\").cat.codes\n",
    "marketsegmentcat=pd.Series(marketsegmentcat)\n",
    "distributionchannelcat=train_df.DistributionChannel.astype(\"category\").cat.codes\n",
    "distributionchannelcat=pd.Series(distributionchannelcat)\n",
    "reservedroomtypecat=train_df.ReservedRoomType.astype(\"category\").cat.codes\n",
    "reservedroomtypecat=pd.Series(reservedroomtypecat)\n",
    "assignedroomtypecat=train_df.AssignedRoomType.astype(\"category\").cat.codes\n",
    "assignedroomtypecat=pd.Series(assignedroomtypecat)\n",
    "deposittypecat=train_df.DepositType.astype(\"category\").cat.codes\n",
    "deposittypecat=pd.Series(deposittypecat)\n",
    "customertypecat=train_df.CustomerType.astype(\"category\").cat.codes\n",
    "customertypecat=pd.Series(customertypecat)\n",
    "reservationstatuscat=train_df.ReservationStatus.astype(\"category\").cat.codes\n",
    "reservationstatuscat=pd.Series(reservationstatuscat)"
   ]
  },
  {
   "cell_type": "code",
   "execution_count": 8,
   "metadata": {},
   "outputs": [],
   "source": [
    "x1 = np.column_stack((IsCanceled,countrycat,marketsegmentcat,deposittypecat,customertypecat,rcps,arrivaldateyear,arrivaldatemonthcat,arrivaldateweekno,arrivaldatedayofmonth))\n",
    "x1 = sm.add_constant(x1, prepend=True)"
   ]
  },
  {
   "cell_type": "markdown",
   "metadata": {},
   "source": [
    "## Scaling, Train-Test Split and Neural Network Configuration"
   ]
  },
  {
   "cell_type": "code",
   "execution_count": 9,
   "metadata": {},
   "outputs": [
    {
     "name": "stdout",
     "output_type": "stream",
     "text": [
      "MinMaxScaler(copy=True, feature_range=(0, 1))\n",
      "MinMaxScaler(copy=True, feature_range=(0, 1))\n"
     ]
    }
   ],
   "source": [
    "#Variables\n",
    "y1=np.reshape(y1, (-1,1))\n",
    "scaler_x = MinMaxScaler()\n",
    "scaler_y = MinMaxScaler()\n",
    "print(scaler_x.fit(x1))\n",
    "xscale=scaler_x.transform(x1)\n",
    "print(scaler_y.fit(y1))\n",
    "yscale=scaler_y.transform(y1)"
   ]
  },
  {
   "cell_type": "code",
   "execution_count": 10,
   "metadata": {},
   "outputs": [
    {
     "name": "stdout",
     "output_type": "stream",
     "text": [
      "Model: \"sequential\"\n",
      "_________________________________________________________________\n",
      "Layer (type)                 Output Shape              Param #   \n",
      "=================================================================\n",
      "dense (Dense)                (None, 11)                132       \n",
      "_________________________________________________________________\n",
      "dense_1 (Dense)              (None, 2003)              24036     \n",
      "_________________________________________________________________\n",
      "dense_2 (Dense)              (None, 1)                 2004      \n",
      "=================================================================\n",
      "Total params: 26,172\n",
      "Trainable params: 26,172\n",
      "Non-trainable params: 0\n",
      "_________________________________________________________________\n"
     ]
    }
   ],
   "source": [
    "X_train, X_test, y_train, y_test = train_test_split(xscale, yscale)\n",
    "\n",
    "model = Sequential()\n",
    "model.add(Dense(11, input_dim=11, kernel_initializer='normal', activation='relu'))\n",
    "model.add(Dense(2003, activation='relu'))\n",
    "model.add(Dense(1, activation='linear'))\n",
    "model.summary()"
   ]
  },
  {
   "cell_type": "code",
   "execution_count": 11,
   "metadata": {},
   "outputs": [
    {
     "name": "stdout",
     "output_type": "stream",
     "text": [
      "Train on 24036 samples, validate on 6009 samples\n",
      "Epoch 1/150\n",
      "24036/24036 [==============================] - 1s 60us/sample - loss: 0.0147 - mse: 0.0147 - mae: 0.0962 - val_loss: 0.0130 - val_mse: 0.0130 - val_mae: 0.0888\n",
      "Epoch 2/150\n",
      "24036/24036 [==============================] - 1s 41us/sample - loss: 0.0124 - mse: 0.0124 - mae: 0.0869 - val_loss: 0.0119 - val_mse: 0.0119 - val_mae: 0.0842\n",
      "Epoch 3/150\n",
      "24036/24036 [==============================] - 1s 40us/sample - loss: 0.0113 - mse: 0.0113 - mae: 0.0816 - val_loss: 0.0116 - val_mse: 0.0116 - val_mae: 0.0862\n",
      "Epoch 4/150\n",
      "24036/24036 [==============================] - 1s 40us/sample - loss: 0.0109 - mse: 0.0109 - mae: 0.0795 - val_loss: 0.0111 - val_mse: 0.0111 - val_mae: 0.0794\n",
      "Epoch 5/150\n",
      "24036/24036 [==============================] - 1s 43us/sample - loss: 0.0107 - mse: 0.0107 - mae: 0.0787 - val_loss: 0.0113 - val_mse: 0.0113 - val_mae: 0.0784\n",
      "Epoch 6/150\n",
      "24036/24036 [==============================] - 1s 38us/sample - loss: 0.0106 - mse: 0.0106 - mae: 0.0781 - val_loss: 0.0104 - val_mse: 0.0104 - val_mae: 0.0768\n",
      "Epoch 7/150\n",
      "24036/24036 [==============================] - 1s 38us/sample - loss: 0.0106 - mse: 0.0106 - mae: 0.0777 - val_loss: 0.0108 - val_mse: 0.0108 - val_mae: 0.0763\n",
      "Epoch 8/150\n",
      "24036/24036 [==============================] - 1s 38us/sample - loss: 0.0104 - mse: 0.0104 - mae: 0.0768 - val_loss: 0.0103 - val_mse: 0.0103 - val_mae: 0.0761\n",
      "Epoch 9/150\n",
      "24036/24036 [==============================] - 1s 39us/sample - loss: 0.0103 - mse: 0.0103 - mae: 0.0761 - val_loss: 0.0106 - val_mse: 0.0106 - val_mae: 0.0783\n",
      "Epoch 10/150\n",
      "24036/24036 [==============================] - 1s 39us/sample - loss: 0.0102 - mse: 0.0102 - mae: 0.0756 - val_loss: 0.0101 - val_mse: 0.0101 - val_mae: 0.0759\n",
      "Epoch 11/150\n",
      "24036/24036 [==============================] - 1s 40us/sample - loss: 0.0101 - mse: 0.0101 - mae: 0.0751 - val_loss: 0.0103 - val_mse: 0.0103 - val_mae: 0.0773\n",
      "Epoch 12/150\n",
      "24036/24036 [==============================] - 1s 39us/sample - loss: 0.0101 - mse: 0.0101 - mae: 0.0752 - val_loss: 0.0100 - val_mse: 0.0100 - val_mae: 0.0741\n",
      "Epoch 13/150\n",
      "24036/24036 [==============================] - 1s 42us/sample - loss: 0.0101 - mse: 0.0101 - mae: 0.0753 - val_loss: 0.0100 - val_mse: 0.0100 - val_mae: 0.0754\n",
      "Epoch 14/150\n",
      "24036/24036 [==============================] - 1s 41us/sample - loss: 0.0100 - mse: 0.0100 - mae: 0.0746 - val_loss: 0.0099 - val_mse: 0.0099 - val_mae: 0.0737\n",
      "Epoch 15/150\n",
      "24036/24036 [==============================] - 1s 40us/sample - loss: 0.0098 - mse: 0.0098 - mae: 0.0741 - val_loss: 0.0102 - val_mse: 0.0102 - val_mae: 0.0760\n",
      "Epoch 16/150\n",
      "24036/24036 [==============================] - 1s 41us/sample - loss: 0.0099 - mse: 0.0099 - mae: 0.0744 - val_loss: 0.0101 - val_mse: 0.0101 - val_mae: 0.0760\n",
      "Epoch 17/150\n",
      "24036/24036 [==============================] - 1s 41us/sample - loss: 0.0098 - mse: 0.0098 - mae: 0.0737 - val_loss: 0.0100 - val_mse: 0.0100 - val_mae: 0.0732\n",
      "Epoch 18/150\n",
      "24036/24036 [==============================] - 1s 40us/sample - loss: 0.0098 - mse: 0.0098 - mae: 0.0740 - val_loss: 0.0101 - val_mse: 0.0101 - val_mae: 0.0766\n",
      "Epoch 19/150\n",
      "24036/24036 [==============================] - 1s 39us/sample - loss: 0.0098 - mse: 0.0098 - mae: 0.0736 - val_loss: 0.0100 - val_mse: 0.0100 - val_mae: 0.0766\n",
      "Epoch 20/150\n",
      "24036/24036 [==============================] - 1s 40us/sample - loss: 0.0098 - mse: 0.0098 - mae: 0.0738 - val_loss: 0.0097 - val_mse: 0.0097 - val_mae: 0.0729\n",
      "Epoch 21/150\n",
      "24036/24036 [==============================] - 1s 40us/sample - loss: 0.0097 - mse: 0.0097 - mae: 0.0732 - val_loss: 0.0100 - val_mse: 0.0100 - val_mae: 0.0730\n",
      "Epoch 22/150\n",
      "24036/24036 [==============================] - 1s 41us/sample - loss: 0.0097 - mse: 0.0097 - mae: 0.0733 - val_loss: 0.0098 - val_mse: 0.0098 - val_mae: 0.0722\n",
      "Epoch 23/150\n",
      "24036/24036 [==============================] - 1s 40us/sample - loss: 0.0097 - mse: 0.0097 - mae: 0.0733 - val_loss: 0.0098 - val_mse: 0.0098 - val_mae: 0.0728\n",
      "Epoch 24/150\n",
      "24036/24036 [==============================] - 1s 39us/sample - loss: 0.0097 - mse: 0.0097 - mae: 0.0733 - val_loss: 0.0098 - val_mse: 0.0098 - val_mae: 0.0733\n",
      "Epoch 25/150\n",
      "24036/24036 [==============================] - 1s 37us/sample - loss: 0.0096 - mse: 0.0096 - mae: 0.0727 - val_loss: 0.0096 - val_mse: 0.0096 - val_mae: 0.0720\n",
      "Epoch 26/150\n",
      "24036/24036 [==============================] - 1s 42us/sample - loss: 0.0096 - mse: 0.0096 - mae: 0.0728 - val_loss: 0.0096 - val_mse: 0.0096 - val_mae: 0.0718\n",
      "Epoch 27/150\n",
      "24036/24036 [==============================] - 1s 40us/sample - loss: 0.0095 - mse: 0.0095 - mae: 0.0724 - val_loss: 0.0097 - val_mse: 0.0097 - val_mae: 0.0715\n",
      "Epoch 28/150\n",
      "24036/24036 [==============================] - 1s 42us/sample - loss: 0.0095 - mse: 0.0095 - mae: 0.0726 - val_loss: 0.0098 - val_mse: 0.0098 - val_mae: 0.0722\n",
      "Epoch 29/150\n",
      "24036/24036 [==============================] - 1s 38us/sample - loss: 0.0095 - mse: 0.0095 - mae: 0.0724 - val_loss: 0.0096 - val_mse: 0.0096 - val_mae: 0.0728\n",
      "Epoch 30/150\n",
      "24036/24036 [==============================] - 1s 36us/sample - loss: 0.0096 - mse: 0.0096 - mae: 0.0727 - val_loss: 0.0105 - val_mse: 0.0105 - val_mae: 0.0778\n",
      "Epoch 31/150\n",
      "24036/24036 [==============================] - 1s 38us/sample - loss: 0.0095 - mse: 0.0095 - mae: 0.0726 - val_loss: 0.0099 - val_mse: 0.0099 - val_mae: 0.0742\n",
      "Epoch 32/150\n",
      "24036/24036 [==============================] - 1s 36us/sample - loss: 0.0094 - mse: 0.0094 - mae: 0.0722 - val_loss: 0.0096 - val_mse: 0.0096 - val_mae: 0.0735\n",
      "Epoch 33/150\n",
      "24036/24036 [==============================] - 1s 37us/sample - loss: 0.0095 - mse: 0.0095 - mae: 0.0722 - val_loss: 0.0096 - val_mse: 0.0096 - val_mae: 0.0732\n",
      "Epoch 34/150\n",
      "24036/24036 [==============================] - 1s 36us/sample - loss: 0.0094 - mse: 0.0094 - mae: 0.0723 - val_loss: 0.0096 - val_mse: 0.0096 - val_mae: 0.0733\n",
      "Epoch 35/150\n",
      "24036/24036 [==============================] - 1s 37us/sample - loss: 0.0094 - mse: 0.0094 - mae: 0.0720 - val_loss: 0.0094 - val_mse: 0.0094 - val_mae: 0.0713\n",
      "Epoch 36/150\n",
      "24036/24036 [==============================] - 1s 36us/sample - loss: 0.0094 - mse: 0.0094 - mae: 0.0718 - val_loss: 0.0095 - val_mse: 0.0095 - val_mae: 0.0731\n",
      "Epoch 37/150\n",
      "24036/24036 [==============================] - 1s 38us/sample - loss: 0.0094 - mse: 0.0094 - mae: 0.0718 - val_loss: 0.0096 - val_mse: 0.0096 - val_mae: 0.0734\n",
      "Epoch 38/150\n",
      "24036/24036 [==============================] - 1s 39us/sample - loss: 0.0094 - mse: 0.0094 - mae: 0.0717 - val_loss: 0.0095 - val_mse: 0.0095 - val_mae: 0.0727\n",
      "Epoch 39/150\n",
      "24036/24036 [==============================] - 1s 39us/sample - loss: 0.0094 - mse: 0.0094 - mae: 0.0719 - val_loss: 0.0095 - val_mse: 0.0095 - val_mae: 0.0724\n",
      "Epoch 40/150\n",
      "24036/24036 [==============================] - 1s 39us/sample - loss: 0.0094 - mse: 0.0094 - mae: 0.0717 - val_loss: 0.0096 - val_mse: 0.0096 - val_mae: 0.0729\n",
      "Epoch 41/150\n",
      "24036/24036 [==============================] - 1s 38us/sample - loss: 0.0093 - mse: 0.0093 - mae: 0.0714 - val_loss: 0.0096 - val_mse: 0.0096 - val_mae: 0.0750\n",
      "Epoch 42/150\n",
      "24036/24036 [==============================] - 1s 37us/sample - loss: 0.0093 - mse: 0.0093 - mae: 0.0711 - val_loss: 0.0095 - val_mse: 0.0095 - val_mae: 0.0711\n",
      "Epoch 43/150\n",
      "24036/24036 [==============================] - 1s 39us/sample - loss: 0.0093 - mse: 0.0093 - mae: 0.0713 - val_loss: 0.0098 - val_mse: 0.0098 - val_mae: 0.0753\n",
      "Epoch 44/150\n",
      "24036/24036 [==============================] - 1s 39us/sample - loss: 0.0093 - mse: 0.0093 - mae: 0.0713 - val_loss: 0.0096 - val_mse: 0.0096 - val_mae: 0.0737\n",
      "Epoch 45/150\n",
      "24036/24036 [==============================] - 1s 38us/sample - loss: 0.0093 - mse: 0.0093 - mae: 0.0715 - val_loss: 0.0094 - val_mse: 0.0094 - val_mae: 0.0715\n",
      "Epoch 46/150\n",
      "24036/24036 [==============================] - 1s 38us/sample - loss: 0.0092 - mse: 0.0092 - mae: 0.0707 - val_loss: 0.0093 - val_mse: 0.0093 - val_mae: 0.0708\n",
      "Epoch 47/150\n",
      "24036/24036 [==============================] - 1s 38us/sample - loss: 0.0092 - mse: 0.0092 - mae: 0.0712 - val_loss: 0.0096 - val_mse: 0.0096 - val_mae: 0.0739\n",
      "Epoch 48/150\n"
     ]
    },
    {
     "name": "stdout",
     "output_type": "stream",
     "text": [
      "24036/24036 [==============================] - 1s 38us/sample - loss: 0.0092 - mse: 0.0092 - mae: 0.0707 - val_loss: 0.0094 - val_mse: 0.0094 - val_mae: 0.0727\n",
      "Epoch 49/150\n",
      "24036/24036 [==============================] - 1s 40us/sample - loss: 0.0092 - mse: 0.0092 - mae: 0.0709 - val_loss: 0.0097 - val_mse: 0.0097 - val_mae: 0.0714\n",
      "Epoch 50/150\n",
      "24036/24036 [==============================] - 1s 36us/sample - loss: 0.0092 - mse: 0.0092 - mae: 0.0708 - val_loss: 0.0101 - val_mse: 0.0101 - val_mae: 0.0726\n",
      "Epoch 51/150\n",
      "24036/24036 [==============================] - 1s 39us/sample - loss: 0.0092 - mse: 0.0092 - mae: 0.0706 - val_loss: 0.0093 - val_mse: 0.0093 - val_mae: 0.0714\n",
      "Epoch 52/150\n",
      "24036/24036 [==============================] - 1s 38us/sample - loss: 0.0092 - mse: 0.0092 - mae: 0.0707 - val_loss: 0.0096 - val_mse: 0.0096 - val_mae: 0.0713\n",
      "Epoch 53/150\n",
      "24036/24036 [==============================] - 1s 38us/sample - loss: 0.0091 - mse: 0.0091 - mae: 0.0706 - val_loss: 0.0094 - val_mse: 0.0094 - val_mae: 0.0722\n",
      "Epoch 54/150\n",
      "24036/24036 [==============================] - 1s 40us/sample - loss: 0.0091 - mse: 0.0091 - mae: 0.0703 - val_loss: 0.0098 - val_mse: 0.0098 - val_mae: 0.0722\n",
      "Epoch 55/150\n",
      "24036/24036 [==============================] - 1s 39us/sample - loss: 0.0091 - mse: 0.0091 - mae: 0.0705 - val_loss: 0.0095 - val_mse: 0.0095 - val_mae: 0.0714\n",
      "Epoch 56/150\n",
      "24036/24036 [==============================] - 1s 39us/sample - loss: 0.0091 - mse: 0.0091 - mae: 0.0700 - val_loss: 0.0095 - val_mse: 0.0095 - val_mae: 0.0730\n",
      "Epoch 57/150\n",
      "24036/24036 [==============================] - 1s 38us/sample - loss: 0.0090 - mse: 0.0090 - mae: 0.0700 - val_loss: 0.0092 - val_mse: 0.0092 - val_mae: 0.0720\n",
      "Epoch 58/150\n",
      "24036/24036 [==============================] - 1s 39us/sample - loss: 0.0090 - mse: 0.0090 - mae: 0.0700 - val_loss: 0.0092 - val_mse: 0.0092 - val_mae: 0.0702\n",
      "Epoch 59/150\n",
      "24036/24036 [==============================] - 1s 38us/sample - loss: 0.0091 - mse: 0.0091 - mae: 0.0702 - val_loss: 0.0093 - val_mse: 0.0093 - val_mae: 0.0720\n",
      "Epoch 60/150\n",
      "24036/24036 [==============================] - 1s 42us/sample - loss: 0.0091 - mse: 0.0091 - mae: 0.0700 - val_loss: 0.0092 - val_mse: 0.0092 - val_mae: 0.0704\n",
      "Epoch 61/150\n",
      "24036/24036 [==============================] - 1s 46us/sample - loss: 0.0090 - mse: 0.0090 - mae: 0.0698 - val_loss: 0.0093 - val_mse: 0.0093 - val_mae: 0.0721\n",
      "Epoch 62/150\n",
      "24036/24036 [==============================] - 1s 42us/sample - loss: 0.0090 - mse: 0.0090 - mae: 0.0697 - val_loss: 0.0095 - val_mse: 0.0095 - val_mae: 0.0723\n",
      "Epoch 63/150\n",
      "24036/24036 [==============================] - 1s 42us/sample - loss: 0.0090 - mse: 0.0090 - mae: 0.0698 - val_loss: 0.0092 - val_mse: 0.0092 - val_mae: 0.0699\n",
      "Epoch 64/150\n",
      "24036/24036 [==============================] - 1s 44us/sample - loss: 0.0090 - mse: 0.0090 - mae: 0.0696 - val_loss: 0.0100 - val_mse: 0.0100 - val_mae: 0.0724\n",
      "Epoch 65/150\n",
      "24036/24036 [==============================] - 1s 42us/sample - loss: 0.0090 - mse: 0.0090 - mae: 0.0698 - val_loss: 0.0093 - val_mse: 0.0093 - val_mae: 0.0698\n",
      "Epoch 66/150\n",
      "24036/24036 [==============================] - 1s 37us/sample - loss: 0.0090 - mse: 0.0090 - mae: 0.0695 - val_loss: 0.0092 - val_mse: 0.0092 - val_mae: 0.0708\n",
      "Epoch 67/150\n",
      "24036/24036 [==============================] - 1s 40us/sample - loss: 0.0089 - mse: 0.0089 - mae: 0.0696 - val_loss: 0.0094 - val_mse: 0.0094 - val_mae: 0.0730\n",
      "Epoch 68/150\n",
      "24036/24036 [==============================] - 1s 39us/sample - loss: 0.0089 - mse: 0.0089 - mae: 0.0694 - val_loss: 0.0092 - val_mse: 0.0092 - val_mae: 0.0716\n",
      "Epoch 69/150\n",
      "24036/24036 [==============================] - 1s 41us/sample - loss: 0.0090 - mse: 0.0090 - mae: 0.0695 - val_loss: 0.0091 - val_mse: 0.0091 - val_mae: 0.0704\n",
      "Epoch 70/150\n",
      "24036/24036 [==============================] - 1s 38us/sample - loss: 0.0089 - mse: 0.0089 - mae: 0.0694 - val_loss: 0.0093 - val_mse: 0.0093 - val_mae: 0.0698\n",
      "Epoch 71/150\n",
      "24036/24036 [==============================] - 1s 43us/sample - loss: 0.0090 - mse: 0.0090 - mae: 0.0697 - val_loss: 0.0091 - val_mse: 0.0091 - val_mae: 0.0710\n",
      "Epoch 72/150\n",
      "24036/24036 [==============================] - 1s 44us/sample - loss: 0.0089 - mse: 0.0089 - mae: 0.0693 - val_loss: 0.0092 - val_mse: 0.0092 - val_mae: 0.0695\n",
      "Epoch 73/150\n",
      "24036/24036 [==============================] - 1s 47us/sample - loss: 0.0089 - mse: 0.0089 - mae: 0.0692 - val_loss: 0.0093 - val_mse: 0.0093 - val_mae: 0.0709\n",
      "Epoch 74/150\n",
      "24036/24036 [==============================] - 1s 46us/sample - loss: 0.0089 - mse: 0.0089 - mae: 0.0692 - val_loss: 0.0094 - val_mse: 0.0094 - val_mae: 0.0724\n",
      "Epoch 75/150\n",
      "24036/24036 [==============================] - 1s 44us/sample - loss: 0.0088 - mse: 0.0088 - mae: 0.0687 - val_loss: 0.0092 - val_mse: 0.0092 - val_mae: 0.0712\n",
      "Epoch 76/150\n",
      "24036/24036 [==============================] - 1s 42us/sample - loss: 0.0089 - mse: 0.0089 - mae: 0.0692 - val_loss: 0.0094 - val_mse: 0.0094 - val_mae: 0.0700\n",
      "Epoch 77/150\n",
      "24036/24036 [==============================] - 1s 41us/sample - loss: 0.0089 - mse: 0.0089 - mae: 0.0694 - val_loss: 0.0091 - val_mse: 0.0091 - val_mae: 0.0695\n",
      "Epoch 78/150\n",
      "24036/24036 [==============================] - 1s 40us/sample - loss: 0.0089 - mse: 0.0089 - mae: 0.0693 - val_loss: 0.0092 - val_mse: 0.0092 - val_mae: 0.0695\n",
      "Epoch 79/150\n",
      "24036/24036 [==============================] - 1s 38us/sample - loss: 0.0088 - mse: 0.0088 - mae: 0.0687 - val_loss: 0.0091 - val_mse: 0.0091 - val_mae: 0.0714\n",
      "Epoch 80/150\n",
      "24036/24036 [==============================] - 1s 41us/sample - loss: 0.0088 - mse: 0.0088 - mae: 0.0686 - val_loss: 0.0093 - val_mse: 0.0093 - val_mae: 0.0714\n",
      "Epoch 81/150\n",
      "24036/24036 [==============================] - 1s 38us/sample - loss: 0.0088 - mse: 0.0088 - mae: 0.0689 - val_loss: 0.0091 - val_mse: 0.0091 - val_mae: 0.0700\n",
      "Epoch 82/150\n",
      "24036/24036 [==============================] - 1s 40us/sample - loss: 0.0088 - mse: 0.0088 - mae: 0.0690 - val_loss: 0.0094 - val_mse: 0.0094 - val_mae: 0.0727\n",
      "Epoch 83/150\n",
      "24036/24036 [==============================] - 1s 38us/sample - loss: 0.0088 - mse: 0.0088 - mae: 0.0686 - val_loss: 0.0091 - val_mse: 0.0091 - val_mae: 0.0711\n",
      "Epoch 84/150\n",
      "24036/24036 [==============================] - 1s 40us/sample - loss: 0.0087 - mse: 0.0087 - mae: 0.0685 - val_loss: 0.0096 - val_mse: 0.0096 - val_mae: 0.0708\n",
      "Epoch 85/150\n",
      "24036/24036 [==============================] - 1s 39us/sample - loss: 0.0088 - mse: 0.0088 - mae: 0.0686 - val_loss: 0.0092 - val_mse: 0.0092 - val_mae: 0.0706\n",
      "Epoch 86/150\n",
      "24036/24036 [==============================] - 1s 42us/sample - loss: 0.0087 - mse: 0.0087 - mae: 0.0686 - val_loss: 0.0092 - val_mse: 0.0092 - val_mae: 0.0712\n",
      "Epoch 87/150\n",
      "24036/24036 [==============================] - 1s 41us/sample - loss: 0.0087 - mse: 0.0087 - mae: 0.0685 - val_loss: 0.0093 - val_mse: 0.0093 - val_mae: 0.0708\n",
      "Epoch 88/150\n",
      "24036/24036 [==============================] - 1s 40us/sample - loss: 0.0087 - mse: 0.0087 - mae: 0.0681 - val_loss: 0.0091 - val_mse: 0.0091 - val_mae: 0.0702\n",
      "Epoch 89/150\n",
      "24036/24036 [==============================] - 1s 42us/sample - loss: 0.0087 - mse: 0.0087 - mae: 0.0684 - val_loss: 0.0092 - val_mse: 0.0092 - val_mae: 0.0694\n",
      "Epoch 90/150\n",
      "24036/24036 [==============================] - 1s 42us/sample - loss: 0.0087 - mse: 0.0087 - mae: 0.0680 - val_loss: 0.0091 - val_mse: 0.0091 - val_mae: 0.0714\n",
      "Epoch 91/150\n",
      "24036/24036 [==============================] - 1s 40us/sample - loss: 0.0087 - mse: 0.0087 - mae: 0.0685 - val_loss: 0.0090 - val_mse: 0.0090 - val_mae: 0.0691\n",
      "Epoch 92/150\n",
      "24036/24036 [==============================] - 1s 41us/sample - loss: 0.0087 - mse: 0.0087 - mae: 0.0681 - val_loss: 0.0092 - val_mse: 0.0092 - val_mae: 0.0688\n",
      "Epoch 93/150\n",
      "24036/24036 [==============================] - 1s 44us/sample - loss: 0.0086 - mse: 0.0086 - mae: 0.0679 - val_loss: 0.0091 - val_mse: 0.0091 - val_mae: 0.0689\n",
      "Epoch 94/150\n",
      "24036/24036 [==============================] - 1s 43us/sample - loss: 0.0086 - mse: 0.0086 - mae: 0.0677 - val_loss: 0.0093 - val_mse: 0.0093 - val_mae: 0.0728\n",
      "Epoch 95/150\n"
     ]
    },
    {
     "name": "stdout",
     "output_type": "stream",
     "text": [
      "24036/24036 [==============================] - 1s 40us/sample - loss: 0.0087 - mse: 0.0087 - mae: 0.0683 - val_loss: 0.0092 - val_mse: 0.0092 - val_mae: 0.0699\n",
      "Epoch 96/150\n",
      "24036/24036 [==============================] - 1s 41us/sample - loss: 0.0086 - mse: 0.0086 - mae: 0.0679 - val_loss: 0.0092 - val_mse: 0.0092 - val_mae: 0.0717\n",
      "Epoch 97/150\n",
      "24036/24036 [==============================] - 1s 42us/sample - loss: 0.0086 - mse: 0.0086 - mae: 0.0679 - val_loss: 0.0090 - val_mse: 0.0090 - val_mae: 0.0693\n",
      "Epoch 98/150\n",
      "24036/24036 [==============================] - 1s 40us/sample - loss: 0.0087 - mse: 0.0087 - mae: 0.0684 - val_loss: 0.0091 - val_mse: 0.0091 - val_mae: 0.0712\n",
      "Epoch 99/150\n",
      "24036/24036 [==============================] - 1s 40us/sample - loss: 0.0086 - mse: 0.0086 - mae: 0.0677 - val_loss: 0.0091 - val_mse: 0.0091 - val_mae: 0.0708\n",
      "Epoch 100/150\n",
      "24036/24036 [==============================] - 1s 38us/sample - loss: 0.0086 - mse: 0.0086 - mae: 0.0676 - val_loss: 0.0092 - val_mse: 0.0092 - val_mae: 0.0696\n",
      "Epoch 101/150\n",
      "24036/24036 [==============================] - 1s 37us/sample - loss: 0.0086 - mse: 0.0086 - mae: 0.0677 - val_loss: 0.0091 - val_mse: 0.0091 - val_mae: 0.0688\n",
      "Epoch 102/150\n",
      "24036/24036 [==============================] - 1s 39us/sample - loss: 0.0085 - mse: 0.0085 - mae: 0.0674 - val_loss: 0.0093 - val_mse: 0.0093 - val_mae: 0.0746\n",
      "Epoch 103/150\n",
      "24036/24036 [==============================] - 1s 37us/sample - loss: 0.0086 - mse: 0.0086 - mae: 0.0682 - val_loss: 0.0091 - val_mse: 0.0091 - val_mae: 0.0692\n",
      "Epoch 104/150\n",
      "24036/24036 [==============================] - 1s 38us/sample - loss: 0.0086 - mse: 0.0086 - mae: 0.0678 - val_loss: 0.0091 - val_mse: 0.0091 - val_mae: 0.0689\n",
      "Epoch 105/150\n",
      "24036/24036 [==============================] - 1s 37us/sample - loss: 0.0086 - mse: 0.0086 - mae: 0.0675 - val_loss: 0.0089 - val_mse: 0.0089 - val_mae: 0.0685\n",
      "Epoch 106/150\n",
      "24036/24036 [==============================] - 1s 40us/sample - loss: 0.0086 - mse: 0.0086 - mae: 0.0677 - val_loss: 0.0098 - val_mse: 0.0098 - val_mae: 0.0720\n",
      "Epoch 107/150\n",
      "24036/24036 [==============================] - 1s 48us/sample - loss: 0.0086 - mse: 0.0086 - mae: 0.0678 - val_loss: 0.0091 - val_mse: 0.0091 - val_mae: 0.0698\n",
      "Epoch 108/150\n",
      "24036/24036 [==============================] - 1s 48us/sample - loss: 0.0085 - mse: 0.0085 - mae: 0.0676 - val_loss: 0.0090 - val_mse: 0.0090 - val_mae: 0.0681\n",
      "Epoch 109/150\n",
      "24036/24036 [==============================] - 1s 39us/sample - loss: 0.0085 - mse: 0.0085 - mae: 0.0674 - val_loss: 0.0091 - val_mse: 0.0091 - val_mae: 0.0705\n",
      "Epoch 110/150\n",
      "24036/24036 [==============================] - 1s 38us/sample - loss: 0.0085 - mse: 0.0085 - mae: 0.0672 - val_loss: 0.0090 - val_mse: 0.0090 - val_mae: 0.0694\n",
      "Epoch 111/150\n",
      "24036/24036 [==============================] - 1s 38us/sample - loss: 0.0085 - mse: 0.0085 - mae: 0.0673 - val_loss: 0.0090 - val_mse: 0.0090 - val_mae: 0.0687\n",
      "Epoch 112/150\n",
      "24036/24036 [==============================] - 1s 36us/sample - loss: 0.0085 - mse: 0.0085 - mae: 0.0671 - val_loss: 0.0092 - val_mse: 0.0092 - val_mae: 0.0712\n",
      "Epoch 113/150\n",
      "24036/24036 [==============================] - 1s 40us/sample - loss: 0.0085 - mse: 0.0085 - mae: 0.0671 - val_loss: 0.0090 - val_mse: 0.0090 - val_mae: 0.0711\n",
      "Epoch 114/150\n",
      "24036/24036 [==============================] - 1s 37us/sample - loss: 0.0085 - mse: 0.0085 - mae: 0.0671 - val_loss: 0.0089 - val_mse: 0.0089 - val_mae: 0.0693\n",
      "Epoch 115/150\n",
      "24036/24036 [==============================] - 1s 39us/sample - loss: 0.0084 - mse: 0.0084 - mae: 0.0668 - val_loss: 0.0092 - val_mse: 0.0092 - val_mae: 0.0704\n",
      "Epoch 116/150\n",
      "24036/24036 [==============================] - 1s 40us/sample - loss: 0.0084 - mse: 0.0084 - mae: 0.0668 - val_loss: 0.0091 - val_mse: 0.0091 - val_mae: 0.0702\n",
      "Epoch 117/150\n",
      "24036/24036 [==============================] - 1s 41us/sample - loss: 0.0085 - mse: 0.0085 - mae: 0.0672 - val_loss: 0.0089 - val_mse: 0.0089 - val_mae: 0.0690\n",
      "Epoch 118/150\n",
      "24036/24036 [==============================] - 1s 40us/sample - loss: 0.0085 - mse: 0.0085 - mae: 0.0672 - val_loss: 0.0089 - val_mse: 0.0089 - val_mae: 0.0695\n",
      "Epoch 119/150\n",
      "24036/24036 [==============================] - 1s 40us/sample - loss: 0.0084 - mse: 0.0084 - mae: 0.0667 - val_loss: 0.0091 - val_mse: 0.0091 - val_mae: 0.0692\n",
      "Epoch 120/150\n",
      "24036/24036 [==============================] - 1s 40us/sample - loss: 0.0084 - mse: 0.0084 - mae: 0.0672 - val_loss: 0.0089 - val_mse: 0.0089 - val_mae: 0.0673\n",
      "Epoch 121/150\n",
      "24036/24036 [==============================] - 1s 37us/sample - loss: 0.0084 - mse: 0.0084 - mae: 0.0666 - val_loss: 0.0088 - val_mse: 0.0088 - val_mae: 0.0682\n",
      "Epoch 122/150\n",
      "24036/24036 [==============================] - 1s 42us/sample - loss: 0.0084 - mse: 0.0084 - mae: 0.0668 - val_loss: 0.0090 - val_mse: 0.0090 - val_mae: 0.0689\n",
      "Epoch 123/150\n",
      "24036/24036 [==============================] - 1s 37us/sample - loss: 0.0084 - mse: 0.0084 - mae: 0.0671 - val_loss: 0.0090 - val_mse: 0.0090 - val_mae: 0.0679\n",
      "Epoch 124/150\n",
      "24036/24036 [==============================] - 1s 40us/sample - loss: 0.0084 - mse: 0.0084 - mae: 0.0666 - val_loss: 0.0089 - val_mse: 0.0089 - val_mae: 0.0695\n",
      "Epoch 125/150\n",
      "24036/24036 [==============================] - 1s 40us/sample - loss: 0.0084 - mse: 0.0084 - mae: 0.0665 - val_loss: 0.0091 - val_mse: 0.0091 - val_mae: 0.0688\n",
      "Epoch 126/150\n",
      "24036/24036 [==============================] - 1s 42us/sample - loss: 0.0084 - mse: 0.0084 - mae: 0.0668 - val_loss: 0.0090 - val_mse: 0.0090 - val_mae: 0.0708\n",
      "Epoch 127/150\n",
      "24036/24036 [==============================] - 1s 42us/sample - loss: 0.0084 - mse: 0.0084 - mae: 0.0667 - val_loss: 0.0088 - val_mse: 0.0088 - val_mae: 0.0677\n",
      "Epoch 128/150\n",
      "24036/24036 [==============================] - 1s 41us/sample - loss: 0.0083 - mse: 0.0083 - mae: 0.0664 - val_loss: 0.0089 - val_mse: 0.0089 - val_mae: 0.0690\n",
      "Epoch 129/150\n",
      "24036/24036 [==============================] - 1s 38us/sample - loss: 0.0083 - mse: 0.0083 - mae: 0.0665 - val_loss: 0.0091 - val_mse: 0.0091 - val_mae: 0.0692\n",
      "Epoch 130/150\n",
      "24036/24036 [==============================] - 1s 43us/sample - loss: 0.0084 - mse: 0.0084 - mae: 0.0668 - val_loss: 0.0089 - val_mse: 0.0089 - val_mae: 0.0684\n",
      "Epoch 131/150\n",
      "24036/24036 [==============================] - 1s 43us/sample - loss: 0.0084 - mse: 0.0084 - mae: 0.0667 - val_loss: 0.0090 - val_mse: 0.0090 - val_mae: 0.0695\n",
      "Epoch 132/150\n",
      "24036/24036 [==============================] - 1s 38us/sample - loss: 0.0083 - mse: 0.0083 - mae: 0.0664 - val_loss: 0.0089 - val_mse: 0.0089 - val_mae: 0.0682\n",
      "Epoch 133/150\n",
      "24036/24036 [==============================] - 1s 40us/sample - loss: 0.0083 - mse: 0.0083 - mae: 0.0665 - val_loss: 0.0089 - val_mse: 0.0089 - val_mae: 0.0683\n",
      "Epoch 134/150\n",
      "24036/24036 [==============================] - 1s 41us/sample - loss: 0.0083 - mse: 0.0083 - mae: 0.0664 - val_loss: 0.0089 - val_mse: 0.0089 - val_mae: 0.0690\n",
      "Epoch 135/150\n",
      "24036/24036 [==============================] - 1s 43us/sample - loss: 0.0083 - mse: 0.0083 - mae: 0.0666 - val_loss: 0.0089 - val_mse: 0.0089 - val_mae: 0.0683\n",
      "Epoch 136/150\n",
      "24036/24036 [==============================] - 1s 41us/sample - loss: 0.0083 - mse: 0.0083 - mae: 0.0663 - val_loss: 0.0089 - val_mse: 0.0089 - val_mae: 0.0697\n",
      "Epoch 137/150\n",
      "24036/24036 [==============================] - 1s 38us/sample - loss: 0.0083 - mse: 0.0083 - mae: 0.0663 - val_loss: 0.0089 - val_mse: 0.0089 - val_mae: 0.0692\n",
      "Epoch 138/150\n",
      "24036/24036 [==============================] - 1s 40us/sample - loss: 0.0083 - mse: 0.0083 - mae: 0.0663 - val_loss: 0.0090 - val_mse: 0.0090 - val_mae: 0.0687\n",
      "Epoch 139/150\n",
      "24036/24036 [==============================] - 1s 39us/sample - loss: 0.0083 - mse: 0.0083 - mae: 0.0666 - val_loss: 0.0094 - val_mse: 0.0094 - val_mae: 0.0716\n",
      "Epoch 140/150\n",
      "24036/24036 [==============================] - 1s 44us/sample - loss: 0.0083 - mse: 0.0083 - mae: 0.0667 - val_loss: 0.0088 - val_mse: 0.0088 - val_mae: 0.0688\n",
      "Epoch 141/150\n",
      "24036/24036 [==============================] - 1s 46us/sample - loss: 0.0083 - mse: 0.0083 - mae: 0.0663 - val_loss: 0.0090 - val_mse: 0.0090 - val_mae: 0.0694\n",
      "Epoch 142/150\n"
     ]
    },
    {
     "name": "stdout",
     "output_type": "stream",
     "text": [
      "24036/24036 [==============================] - 1s 46us/sample - loss: 0.0082 - mse: 0.0082 - mae: 0.0660 - val_loss: 0.0090 - val_mse: 0.0090 - val_mae: 0.0687\n",
      "Epoch 143/150\n",
      "24036/24036 [==============================] - 1s 43us/sample - loss: 0.0083 - mse: 0.0083 - mae: 0.0660 - val_loss: 0.0089 - val_mse: 0.0089 - val_mae: 0.0699\n",
      "Epoch 144/150\n",
      "24036/24036 [==============================] - 1s 38us/sample - loss: 0.0083 - mse: 0.0083 - mae: 0.0662 - val_loss: 0.0090 - val_mse: 0.0090 - val_mae: 0.0695\n",
      "Epoch 145/150\n",
      "24036/24036 [==============================] - 1s 37us/sample - loss: 0.0082 - mse: 0.0082 - mae: 0.0661 - val_loss: 0.0089 - val_mse: 0.0089 - val_mae: 0.0703\n",
      "Epoch 146/150\n",
      "24036/24036 [==============================] - 1s 38us/sample - loss: 0.0082 - mse: 0.0082 - mae: 0.0659 - val_loss: 0.0088 - val_mse: 0.0088 - val_mae: 0.0672\n",
      "Epoch 147/150\n",
      "24036/24036 [==============================] - 1s 37us/sample - loss: 0.0083 - mse: 0.0083 - mae: 0.0662 - val_loss: 0.0090 - val_mse: 0.0090 - val_mae: 0.0692\n",
      "Epoch 148/150\n",
      "24036/24036 [==============================] - 1s 37us/sample - loss: 0.0082 - mse: 0.0082 - mae: 0.0659 - val_loss: 0.0093 - val_mse: 0.0093 - val_mae: 0.0724\n",
      "Epoch 149/150\n",
      "24036/24036 [==============================] - 1s 41us/sample - loss: 0.0083 - mse: 0.0083 - mae: 0.0665 - val_loss: 0.0088 - val_mse: 0.0088 - val_mae: 0.0689\n",
      "Epoch 150/150\n",
      "24036/24036 [==============================] - 1s 39us/sample - loss: 0.0082 - mse: 0.0082 - mae: 0.0658 - val_loss: 0.0091 - val_mse: 0.0091 - val_mae: 0.0710\n"
     ]
    }
   ],
   "source": [
    "model.compile(loss='mse', optimizer='adam', metrics=['mse','mae'])\n",
    "history=model.fit(X_train, y_train, epochs=150, batch_size=100,  verbose=1, validation_split=0.2)\n",
    "predictions = model.predict(X_test)"
   ]
  },
  {
   "cell_type": "code",
   "execution_count": 12,
   "metadata": {},
   "outputs": [
    {
     "name": "stdout",
     "output_type": "stream",
     "text": [
      "dict_keys(['loss', 'mse', 'mae', 'val_loss', 'val_mse', 'val_mae'])\n"
     ]
    },
    {
     "data": {
      "image/png": "[encoded data removed]",
      "text/plain": [
       "<Figure size 432x288 with 1 Axes>"
      ]
     },
     "metadata": {
      "needs_background": "light"
     },
     "output_type": "display_data"
    }
   ],
   "source": [
    "print(history.history.keys())\n",
    "# \"Loss\"\n",
    "plt.plot(history.history['loss'])\n",
    "plt.plot(history.history['val_loss'])\n",
    "plt.title('model loss')\n",
    "plt.ylabel('loss')\n",
    "plt.xlabel('epoch')\n",
    "plt.legend(['train', 'validation'], loc='upper left')\n",
    "plt.show()"
   ]
  },
  {
   "cell_type": "markdown",
   "metadata": {},
   "source": [
    "## Validate Predictions on Test Data"
   ]
  },
  {
   "cell_type": "code",
   "execution_count": 13,
   "metadata": {},
   "outputs": [
    {
     "data": {
      "text/html": [
       "<div>\n",
       "<style scoped>\n",
       "    .dataframe tbody tr th:only-of-type {\n",
       "        vertical-align: middle;\n",
       "    }\n",
       "\n",
       "    .dataframe tbody tr th {\n",
       "        vertical-align: top;\n",
       "    }\n",
       "\n",
       "    .dataframe thead th {\n",
       "        text-align: right;\n",
       "    }\n",
       "</style>\n",
       "<table border=\"1\" class=\"dataframe\">\n",
       "  <thead>\n",
       "    <tr style=\"text-align: right;\">\n",
       "      <th></th>\n",
       "      <th>IsCanceled</th>\n",
       "      <th>LeadTime</th>\n",
       "      <th>ArrivalDateYear</th>\n",
       "      <th>ArrivalDateMonth</th>\n",
       "      <th>ArrivalDateWeekNumber</th>\n",
       "      <th>ArrivalDateDayOfMonth</th>\n",
       "      <th>StaysInWeekendNights</th>\n",
       "      <th>StaysInWeekNights</th>\n",
       "      <th>Adults</th>\n",
       "      <th>Children</th>\n",
       "      <th>...</th>\n",
       "      <th>DepositType</th>\n",
       "      <th>Agent</th>\n",
       "      <th>Company</th>\n",
       "      <th>DaysInWaitingList</th>\n",
       "      <th>CustomerType</th>\n",
       "      <th>ADR</th>\n",
       "      <th>RequiredCarParkingSpaces</th>\n",
       "      <th>TotalOfSpecialRequests</th>\n",
       "      <th>ReservationStatus</th>\n",
       "      <th>ReservationStatusDate</th>\n",
       "    </tr>\n",
       "  </thead>\n",
       "  <tbody>\n",
       "    <tr>\n",
       "      <th>0</th>\n",
       "      <td>0</td>\n",
       "      <td>6</td>\n",
       "      <td>2015</td>\n",
       "      <td>July</td>\n",
       "      <td>27</td>\n",
       "      <td>1</td>\n",
       "      <td>0</td>\n",
       "      <td>2</td>\n",
       "      <td>1</td>\n",
       "      <td>0.0</td>\n",
       "      <td>...</td>\n",
       "      <td>No Deposit</td>\n",
       "      <td>6</td>\n",
       "      <td>NULL</td>\n",
       "      <td>0</td>\n",
       "      <td>Transient</td>\n",
       "      <td>0.0</td>\n",
       "      <td>0</td>\n",
       "      <td>0</td>\n",
       "      <td>Check-Out</td>\n",
       "      <td>2015-07-03</td>\n",
       "    </tr>\n",
       "    <tr>\n",
       "      <th>1</th>\n",
       "      <td>1</td>\n",
       "      <td>88</td>\n",
       "      <td>2015</td>\n",
       "      <td>July</td>\n",
       "      <td>27</td>\n",
       "      <td>1</td>\n",
       "      <td>0</td>\n",
       "      <td>4</td>\n",
       "      <td>2</td>\n",
       "      <td>0.0</td>\n",
       "      <td>...</td>\n",
       "      <td>No Deposit</td>\n",
       "      <td>9</td>\n",
       "      <td>NULL</td>\n",
       "      <td>0</td>\n",
       "      <td>Transient</td>\n",
       "      <td>76.5</td>\n",
       "      <td>0</td>\n",
       "      <td>1</td>\n",
       "      <td>Canceled</td>\n",
       "      <td>2015-07-01</td>\n",
       "    </tr>\n",
       "    <tr>\n",
       "      <th>2</th>\n",
       "      <td>1</td>\n",
       "      <td>65</td>\n",
       "      <td>2015</td>\n",
       "      <td>July</td>\n",
       "      <td>27</td>\n",
       "      <td>1</td>\n",
       "      <td>0</td>\n",
       "      <td>4</td>\n",
       "      <td>1</td>\n",
       "      <td>0.0</td>\n",
       "      <td>...</td>\n",
       "      <td>No Deposit</td>\n",
       "      <td>9</td>\n",
       "      <td>NULL</td>\n",
       "      <td>0</td>\n",
       "      <td>Transient</td>\n",
       "      <td>68.0</td>\n",
       "      <td>0</td>\n",
       "      <td>1</td>\n",
       "      <td>Canceled</td>\n",
       "      <td>2015-04-30</td>\n",
       "    </tr>\n",
       "    <tr>\n",
       "      <th>3</th>\n",
       "      <td>1</td>\n",
       "      <td>92</td>\n",
       "      <td>2015</td>\n",
       "      <td>July</td>\n",
       "      <td>27</td>\n",
       "      <td>1</td>\n",
       "      <td>2</td>\n",
       "      <td>4</td>\n",
       "      <td>2</td>\n",
       "      <td>0.0</td>\n",
       "      <td>...</td>\n",
       "      <td>No Deposit</td>\n",
       "      <td>9</td>\n",
       "      <td>NULL</td>\n",
       "      <td>0</td>\n",
       "      <td>Transient</td>\n",
       "      <td>76.5</td>\n",
       "      <td>0</td>\n",
       "      <td>2</td>\n",
       "      <td>Canceled</td>\n",
       "      <td>2015-06-23</td>\n",
       "    </tr>\n",
       "    <tr>\n",
       "      <th>4</th>\n",
       "      <td>1</td>\n",
       "      <td>100</td>\n",
       "      <td>2015</td>\n",
       "      <td>July</td>\n",
       "      <td>27</td>\n",
       "      <td>2</td>\n",
       "      <td>0</td>\n",
       "      <td>2</td>\n",
       "      <td>2</td>\n",
       "      <td>0.0</td>\n",
       "      <td>...</td>\n",
       "      <td>No Deposit</td>\n",
       "      <td>9</td>\n",
       "      <td>NULL</td>\n",
       "      <td>0</td>\n",
       "      <td>Transient</td>\n",
       "      <td>76.5</td>\n",
       "      <td>0</td>\n",
       "      <td>1</td>\n",
       "      <td>Canceled</td>\n",
       "      <td>2015-04-02</td>\n",
       "    </tr>\n",
       "  </tbody>\n",
       "</table>\n",
       "<p>5 rows × 31 columns</p>\n",
       "</div>"
      ],
      "text/plain": [
       "   IsCanceled  LeadTime  ArrivalDateYear ArrivalDateMonth  \\\n",
       "0           0         6             2015             July   \n",
       "1           1        88             2015             July   \n",
       "2           1        65             2015             July   \n",
       "3           1        92             2015             July   \n",
       "4           1       100             2015             July   \n",
       "\n",
       "   ArrivalDateWeekNumber  ArrivalDateDayOfMonth  StaysInWeekendNights  \\\n",
       "0                     27                      1                     0   \n",
       "1                     27                      1                     0   \n",
       "2                     27                      1                     0   \n",
       "3                     27                      1                     2   \n",
       "4                     27                      2                     0   \n",
       "\n",
       "   StaysInWeekNights  Adults  Children  ...      DepositType        Agent  \\\n",
       "0                  2       1       0.0  ...  No Deposit                 6   \n",
       "1                  4       2       0.0  ...  No Deposit                 9   \n",
       "2                  4       1       0.0  ...  No Deposit                 9   \n",
       "3                  4       2       0.0  ...  No Deposit                 9   \n",
       "4                  2       2       0.0  ...  No Deposit                 9   \n",
       "\n",
       "       Company DaysInWaitingList CustomerType   ADR  RequiredCarParkingSpaces  \\\n",
       "0         NULL                 0    Transient   0.0                         0   \n",
       "1         NULL                 0    Transient  76.5                         0   \n",
       "2         NULL                 0    Transient  68.0                         0   \n",
       "3         NULL                 0    Transient  76.5                         0   \n",
       "4         NULL                 0    Transient  76.5                         0   \n",
       "\n",
       "   TotalOfSpecialRequests ReservationStatus ReservationStatusDate  \n",
       "0                       0         Check-Out            2015-07-03  \n",
       "1                       1          Canceled            2015-07-01  \n",
       "2                       1          Canceled            2015-04-30  \n",
       "3                       2          Canceled            2015-06-23  \n",
       "4                       1          Canceled            2015-04-02  \n",
       "\n",
       "[5 rows x 31 columns]"
      ]
     },
     "execution_count": 13,
     "metadata": {},
     "output_type": "execute_result"
    }
   ],
   "source": [
    "h2data = pd.read_csv('H2full.csv')\n",
    "a=h2data.head()\n",
    "a"
   ]
  },
  {
   "cell_type": "code",
   "execution_count": 14,
   "metadata": {},
   "outputs": [],
   "source": [
    "t_leadtime = h2data['LeadTime'] #1\n",
    "t_arrivaldateyear = h2data['ArrivalDateYear']\n",
    "t_arrivaldateweekno = h2data['ArrivalDateWeekNumber']\n",
    "t_arrivaldatedayofmonth = h2data['ArrivalDateDayOfMonth']\n",
    "t_staysweekendnights = h2data['StaysInWeekendNights'] #2\n",
    "t_staysweeknights = h2data['StaysInWeekNights'] #3\n",
    "t_adults = h2data['Adults'] #4\n",
    "t_children = h2data['Children'] #5\n",
    "t_babies = h2data['Babies'] #6\n",
    "t_isrepeatedguest = h2data['IsRepeatedGuest'] #11\n",
    "t_previouscancellations = h2data['PreviousCancellations'] #12\n",
    "t_previousbookingsnotcanceled = h2data['PreviousBookingsNotCanceled'] #13\n",
    "t_bookingchanges = h2data['BookingChanges'] #16\n",
    "t_agent = h2data['Agent'] #18\n",
    "t_company = h2data['Company'] #19\n",
    "t_dayswaitinglist = h2data['DaysInWaitingList'] #20\n",
    "t_adr = h2data['ADR'] #22\n",
    "t_rcps = h2data['RequiredCarParkingSpaces'] #23\n",
    "t_totalsqr = h2data['TotalOfSpecialRequests'] #24"
   ]
  },
  {
   "cell_type": "code",
   "execution_count": 15,
   "metadata": {},
   "outputs": [],
   "source": [
    "# Categorical variables\n",
    "t_IsCanceled = h2data['IsCanceled']\n",
    "t_arrivaldatemonth = h2data.ArrivalDateMonth.astype(\"category\").cat.codes\n",
    "t_arrivaldatemonthcat = pd.Series(t_arrivaldatemonth)\n",
    "t_mealcat=h2data.Meal.astype(\"category\").cat.codes\n",
    "t_mealcat=pd.Series(t_mealcat)\n",
    "t_countrycat=h2data.Country.astype(\"category\").cat.codes\n",
    "t_countrycat=pd.Series(t_countrycat)\n",
    "t_marketsegmentcat=h2data.MarketSegment.astype(\"category\").cat.codes\n",
    "t_marketsegmentcat=pd.Series(t_marketsegmentcat)\n",
    "t_distributionchannelcat=h2data.DistributionChannel.astype(\"category\").cat.codes\n",
    "t_distributionchannelcat=pd.Series(t_distributionchannelcat)\n",
    "t_reservedroomtypecat=h2data.ReservedRoomType.astype(\"category\").cat.codes\n",
    "t_reservedroomtypecat=pd.Series(t_reservedroomtypecat)\n",
    "t_assignedroomtypecat=h2data.AssignedRoomType.astype(\"category\").cat.codes\n",
    "t_assignedroomtypecat=pd.Series(t_assignedroomtypecat)\n",
    "t_deposittypecat=h2data.DepositType.astype(\"category\").cat.codes\n",
    "t_deposittypecat=pd.Series(t_deposittypecat)\n",
    "t_customertypecat=h2data.CustomerType.astype(\"category\").cat.codes\n",
    "t_customertypecat=pd.Series(t_customertypecat)\n",
    "t_reservationstatuscat=h2data.ReservationStatus.astype(\"category\").cat.codes\n",
    "t_reservationstatuscat=pd.Series(t_reservationstatuscat)"
   ]
  },
  {
   "cell_type": "code",
   "execution_count": 16,
   "metadata": {},
   "outputs": [],
   "source": [
    "atest = np.column_stack((t_IsCanceled,t_countrycat,t_marketsegmentcat,t_deposittypecat,t_customertypecat,t_rcps,t_arrivaldateyear,t_arrivaldatemonthcat,t_arrivaldateweekno,t_arrivaldatedayofmonth))\n",
    "atest = sm.add_constant(atest, prepend=True)\n",
    "btest = t_leadtime\n",
    "btest=btest.values"
   ]
  },
  {
   "cell_type": "code",
   "execution_count": 17,
   "metadata": {},
   "outputs": [
    {
     "data": {
      "text/plain": [
       "(79330, 11)"
      ]
     },
     "execution_count": 17,
     "metadata": {},
     "output_type": "execute_result"
    }
   ],
   "source": [
    "np.shape(atest)"
   ]
  },
  {
   "cell_type": "code",
   "execution_count": 18,
   "metadata": {},
   "outputs": [
    {
     "name": "stdout",
     "output_type": "stream",
     "text": [
      "MinMaxScaler(copy=True, feature_range=(0, 1))\n"
     ]
    }
   ],
   "source": [
    "scaler_atest = MinMaxScaler()\n",
    "print(scaler_atest.fit(atest))\n",
    "ascale=scaler_atest.transform(atest)"
   ]
  },
  {
   "cell_type": "code",
   "execution_count": 19,
   "metadata": {},
   "outputs": [
    {
     "data": {
      "text/plain": [
       "(79330, 11)"
      ]
     },
     "execution_count": 19,
     "metadata": {},
     "output_type": "execute_result"
    }
   ],
   "source": [
    "np.shape(ascale)"
   ]
  },
  {
   "cell_type": "code",
   "execution_count": 20,
   "metadata": {},
   "outputs": [
    {
     "data": {
      "text/plain": [
       "array([[0.15977663],\n",
       "       [0.16012543],\n",
       "       [0.16012543],\n",
       "       ...,\n",
       "       [0.1792542 ],\n",
       "       [0.18326768],\n",
       "       [0.17791012]], dtype=float32)"
      ]
     },
     "execution_count": 20,
     "metadata": {},
     "output_type": "execute_result"
    }
   ],
   "source": [
    "bpred = model.predict(ascale)\n",
    "bpred"
   ]
  },
  {
   "cell_type": "code",
   "execution_count": 21,
   "metadata": {},
   "outputs": [],
   "source": [
    "bpred = scaler_y.inverse_transform(bpred)"
   ]
  },
  {
   "cell_type": "code",
   "execution_count": 22,
   "metadata": {},
   "outputs": [
    {
     "data": {
      "text/plain": [
       "array([[117.75537],\n",
       "       [118.01244],\n",
       "       [118.01244],\n",
       "       ...,\n",
       "       [132.11035],\n",
       "       [135.06828],\n",
       "       [131.11975]], dtype=float32)"
      ]
     },
     "execution_count": 22,
     "metadata": {},
     "output_type": "execute_result"
    }
   ],
   "source": [
    "bpred"
   ]
  },
  {
   "cell_type": "code",
   "execution_count": 23,
   "metadata": {},
   "outputs": [
    {
     "data": {
      "text/plain": [
       "array([  6,  88,  65, ...,  34, 109, 205])"
      ]
     },
     "execution_count": 23,
     "metadata": {},
     "output_type": "execute_result"
    }
   ],
   "source": [
    "btest"
   ]
  },
  {
   "cell_type": "code",
   "execution_count": 24,
   "metadata": {},
   "outputs": [
    {
     "data": {
      "text/plain": [
       "(79330,)"
      ]
     },
     "execution_count": 24,
     "metadata": {},
     "output_type": "execute_result"
    }
   ],
   "source": [
    "np.shape(btest)"
   ]
  },
  {
   "cell_type": "code",
   "execution_count": 25,
   "metadata": {},
   "outputs": [
    {
     "data": {
      "text/plain": [
       "(79330, 1)"
      ]
     },
     "execution_count": 25,
     "metadata": {},
     "output_type": "execute_result"
    }
   ],
   "source": [
    "np.shape(bpred)"
   ]
  },
  {
   "cell_type": "code",
   "execution_count": 26,
   "metadata": {},
   "outputs": [],
   "source": [
    "bpred=np.reshape(bpred, (79330,)) "
   ]
  },
  {
   "cell_type": "code",
   "execution_count": 27,
   "metadata": {},
   "outputs": [
    {
     "data": {
      "text/plain": [
       "(79330,)"
      ]
     },
     "execution_count": 27,
     "metadata": {},
     "output_type": "execute_result"
    }
   ],
   "source": [
    "np.shape(bpred)"
   ]
  },
  {
   "cell_type": "code",
   "execution_count": 28,
   "metadata": {},
   "outputs": [
    {
     "data": {
      "text/plain": [
       "80.70327151341507"
      ]
     },
     "execution_count": 28,
     "metadata": {},
     "output_type": "execute_result"
    }
   ],
   "source": [
    "# https://scikit-learn.org/stable/modules/generated/sklearn.metrics.mean_absolute_error.html\n",
    "\n",
    "from sklearn.metrics import mean_absolute_error\n",
    "from sklearn.metrics import mean_squared_error\n",
    "from sklearn.metrics import r2_score\n",
    "mean_absolute_error(btest, bpred)"
   ]
  },
  {
   "cell_type": "code",
   "execution_count": 29,
   "metadata": {},
   "outputs": [
    {
     "data": {
      "text/plain": [
       "11303.501809202482"
      ]
     },
     "execution_count": 29,
     "metadata": {},
     "output_type": "execute_result"
    }
   ],
   "source": [
    "mean_squared_error(btest, bpred)"
   ]
  },
  {
   "cell_type": "code",
   "execution_count": 30,
   "metadata": {},
   "outputs": [
    {
     "data": {
      "text/plain": [
       "106.31792797643529"
      ]
     },
     "execution_count": 30,
     "metadata": {},
     "output_type": "execute_result"
    }
   ],
   "source": [
    "math.sqrt(mean_squared_error(btest, bpred))"
   ]
  },
  {
   "cell_type": "code",
   "execution_count": 31,
   "metadata": {},
   "outputs": [
    {
     "data": {
      "text/plain": [
       "109.73572419009201"
      ]
     },
     "execution_count": 31,
     "metadata": {},
     "output_type": "execute_result"
    }
   ],
   "source": [
    "np.mean(btest)"
   ]
  },
  {
   "cell_type": "code",
   "execution_count": 32,
   "metadata": {},
   "outputs": [
    {
     "data": {
      "text/plain": [
       "133.78531"
      ]
     },
     "execution_count": 32,
     "metadata": {},
     "output_type": "execute_result"
    }
   ],
   "source": [
    "np.mean(bpred)"
   ]
  }
 ],
 "metadata": {
  "kernelspec": {
   "display_name": "Python 3",
   "language": "python",
   "name": "python3"
  },
  "language_info": {
   "codemirror_mode": {
    "name": "ipython",
    "version": 3
   },
   "file_extension": ".py",
   "mimetype": "text/x-python",
   "name": "python",
   "nbconvert_exporter": "python",
   "pygments_lexer": "ipython3",
   "version": "3.6.5"
  }
 },
 "nbformat": 4,
 "nbformat_minor": 4
}
