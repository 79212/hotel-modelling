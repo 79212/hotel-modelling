{
 "cells": [
  {
   "cell_type": "code",
   "execution_count": 1,
   "metadata": {},
   "outputs": [
    {
     "name": "stderr",
     "output_type": "stream",
     "text": [
      "/home/michael/anaconda3/lib/python3.6/site-packages/statsmodels/tools/_testing.py:19: FutureWarning: pandas.util.testing is deprecated. Use the functions in the public API at pandas.testing instead.\n",
      "  import pandas.util.testing as tm\n"
     ]
    }
   ],
   "source": [
    "import os\n",
    "import csv\n",
    "import random\n",
    "import statsmodels.api as sm\n",
    "import statsmodels.formula.api as smf\n",
    "import numpy as np\n",
    "import pandas as pd\n",
    "from sklearn.model_selection import train_test_split\n",
    "from sklearn.linear_model import LogisticRegression\n",
    "from sklearn.ensemble import ExtraTreesClassifier\n",
    "from sklearn.preprocessing import MinMaxScaler\n",
    "\n",
    "dtypes = {\n",
    "        'IsCanceled':                                    'float64',\n",
    "        'LeadTime':                                          'float64',\n",
    "        'StaysInWeekendNights':                                     'float64',\n",
    "        'StaysInWeekNights':                                     'float64',\n",
    "        'Adults':                            'float64',\n",
    "        'Children':                            'float64',\n",
    "        'Babies':                                  'float64',\n",
    "        'Meal':                                    'category',\n",
    "        'Country':                                               'category',\n",
    "        'MarketSegment':                                    'category',\n",
    "        'DistributionChannel':                                       'category',\n",
    "        'IsRepeatedGuest':                               'float64',\n",
    "        'PreviousCancellations':                                    'float64',\n",
    "        'PreviousBookingsNotCanceled':                          'float64',\n",
    "        'ReservedRoomType':                                             'category',\n",
    "        'AssignedRoomType':                                            'category',\n",
    "        'BookingChanges':                                                'float64',\n",
    "        'DepositType':                                              'category',\n",
    "        'Agent':                                              'category',\n",
    "        'Company':                                 'category',\n",
    "        'DaysInWaitingList':                                           'float64',\n",
    "        'CustomerType':                                           'category',\n",
    "        'ADR':                                          'float64',\n",
    "        'RequiredCarParkingSpaces':                                      'float64',\n",
    "        'TotalOfSpecialRequests':                                              'float64',\n",
    "        'ReservationStatus':                                                'category'\n",
    "        }"
   ]
  },
  {
   "cell_type": "code",
   "execution_count": 2,
   "metadata": {},
   "outputs": [],
   "source": [
    "train_df = pd.read_csv(\"H2full.csv\", dtype=dtypes, converters={'ArrivalDateWeekNumber': '{:0>2}'.format})"
   ]
  },
  {
   "cell_type": "code",
   "execution_count": 3,
   "metadata": {},
   "outputs": [
    {
     "data": {
      "text/plain": [
       "pandas.core.frame.DataFrame"
      ]
     },
     "execution_count": 3,
     "metadata": {},
     "output_type": "execute_result"
    }
   ],
   "source": [
    "a=train_df.head()\n",
    "b=train_df\n",
    "b\n",
    "c=b.sort_values(['ArrivalDateYear','ArrivalDateWeekNumber'], ascending=True)\n",
    "c=pd.DataFrame(c)\n",
    "c\n",
    "type(c)"
   ]
  },
  {
   "cell_type": "code",
   "execution_count": 4,
   "metadata": {},
   "outputs": [
    {
     "data": {
      "text/html": [
       "<div>\n",
       "<style scoped>\n",
       "    .dataframe tbody tr th:only-of-type {\n",
       "        vertical-align: middle;\n",
       "    }\n",
       "\n",
       "    .dataframe tbody tr th {\n",
       "        vertical-align: top;\n",
       "    }\n",
       "\n",
       "    .dataframe thead th {\n",
       "        text-align: right;\n",
       "    }\n",
       "</style>\n",
       "<table border=\"1\" class=\"dataframe\">\n",
       "  <thead>\n",
       "    <tr style=\"text-align: right;\">\n",
       "      <th></th>\n",
       "      <th>ArrivalDateYear</th>\n",
       "      <th>ArrivalDateWeekNumber</th>\n",
       "    </tr>\n",
       "  </thead>\n",
       "  <tbody>\n",
       "    <tr>\n",
       "      <th>0</th>\n",
       "      <td>2015</td>\n",
       "      <td>27</td>\n",
       "    </tr>\n",
       "    <tr>\n",
       "      <th>1</th>\n",
       "      <td>2015</td>\n",
       "      <td>27</td>\n",
       "    </tr>\n",
       "    <tr>\n",
       "      <th>2</th>\n",
       "      <td>2015</td>\n",
       "      <td>27</td>\n",
       "    </tr>\n",
       "    <tr>\n",
       "      <th>3</th>\n",
       "      <td>2015</td>\n",
       "      <td>27</td>\n",
       "    </tr>\n",
       "    <tr>\n",
       "      <th>4</th>\n",
       "      <td>2015</td>\n",
       "      <td>27</td>\n",
       "    </tr>\n",
       "    <tr>\n",
       "      <th>...</th>\n",
       "      <td>...</td>\n",
       "      <td>...</td>\n",
       "    </tr>\n",
       "    <tr>\n",
       "      <th>79325</th>\n",
       "      <td>2017</td>\n",
       "      <td>35</td>\n",
       "    </tr>\n",
       "    <tr>\n",
       "      <th>79326</th>\n",
       "      <td>2017</td>\n",
       "      <td>35</td>\n",
       "    </tr>\n",
       "    <tr>\n",
       "      <th>79327</th>\n",
       "      <td>2017</td>\n",
       "      <td>35</td>\n",
       "    </tr>\n",
       "    <tr>\n",
       "      <th>79328</th>\n",
       "      <td>2017</td>\n",
       "      <td>35</td>\n",
       "    </tr>\n",
       "    <tr>\n",
       "      <th>79329</th>\n",
       "      <td>2017</td>\n",
       "      <td>35</td>\n",
       "    </tr>\n",
       "  </tbody>\n",
       "</table>\n",
       "<p>79330 rows × 2 columns</p>\n",
       "</div>"
      ],
      "text/plain": [
       "       ArrivalDateYear ArrivalDateWeekNumber\n",
       "0                 2015                    27\n",
       "1                 2015                    27\n",
       "2                 2015                    27\n",
       "3                 2015                    27\n",
       "4                 2015                    27\n",
       "...                ...                   ...\n",
       "79325             2017                    35\n",
       "79326             2017                    35\n",
       "79327             2017                    35\n",
       "79328             2017                    35\n",
       "79329             2017                    35\n",
       "\n",
       "[79330 rows x 2 columns]"
      ]
     },
     "execution_count": 4,
     "metadata": {},
     "output_type": "execute_result"
    }
   ],
   "source": [
    "from pandas import DataFrame  \n",
    "\n",
    "df = DataFrame(c, columns= ['ArrivalDateYear', 'ArrivalDateWeekNumber']) \n",
    "df"
   ]
  },
  {
   "cell_type": "code",
   "execution_count": 5,
   "metadata": {},
   "outputs": [
    {
     "name": "stdout",
     "output_type": "stream",
     "text": [
      "0        201527\n",
      "1        201527\n",
      "2        201527\n",
      "3        201527\n",
      "4        201527\n",
      "          ...  \n",
      "79325    201735\n",
      "79326    201735\n",
      "79327    201735\n",
      "79328    201735\n",
      "79329    201735\n",
      "Length: 79330, dtype: object\n"
     ]
    }
   ],
   "source": [
    "# https://datatofish.com/concatenate-values-python/\n",
    "\n",
    "df1 = df['ArrivalDateYear'].map(str) + df['ArrivalDateWeekNumber'].map(str)\n",
    "print (df1)\n",
    "df1=pd.DataFrame(df1)"
   ]
  },
  {
   "cell_type": "code",
   "execution_count": 6,
   "metadata": {
    "scrolled": true
   },
   "outputs": [
    {
     "data": {
      "text/html": [
       "<div>\n",
       "<style scoped>\n",
       "    .dataframe tbody tr th:only-of-type {\n",
       "        vertical-align: middle;\n",
       "    }\n",
       "\n",
       "    .dataframe tbody tr th {\n",
       "        vertical-align: top;\n",
       "    }\n",
       "\n",
       "    .dataframe thead th {\n",
       "        text-align: right;\n",
       "    }\n",
       "</style>\n",
       "<table border=\"1\" class=\"dataframe\">\n",
       "  <thead>\n",
       "    <tr style=\"text-align: right;\">\n",
       "      <th></th>\n",
       "      <th>IsCanceled</th>\n",
       "    </tr>\n",
       "  </thead>\n",
       "  <tbody>\n",
       "    <tr>\n",
       "      <th>0</th>\n",
       "      <td>0.0</td>\n",
       "    </tr>\n",
       "    <tr>\n",
       "      <th>1</th>\n",
       "      <td>1.0</td>\n",
       "    </tr>\n",
       "    <tr>\n",
       "      <th>2</th>\n",
       "      <td>1.0</td>\n",
       "    </tr>\n",
       "    <tr>\n",
       "      <th>3</th>\n",
       "      <td>1.0</td>\n",
       "    </tr>\n",
       "    <tr>\n",
       "      <th>4</th>\n",
       "      <td>1.0</td>\n",
       "    </tr>\n",
       "    <tr>\n",
       "      <th>...</th>\n",
       "      <td>...</td>\n",
       "    </tr>\n",
       "    <tr>\n",
       "      <th>79325</th>\n",
       "      <td>0.0</td>\n",
       "    </tr>\n",
       "    <tr>\n",
       "      <th>79326</th>\n",
       "      <td>0.0</td>\n",
       "    </tr>\n",
       "    <tr>\n",
       "      <th>79327</th>\n",
       "      <td>0.0</td>\n",
       "    </tr>\n",
       "    <tr>\n",
       "      <th>79328</th>\n",
       "      <td>0.0</td>\n",
       "    </tr>\n",
       "    <tr>\n",
       "      <th>79329</th>\n",
       "      <td>0.0</td>\n",
       "    </tr>\n",
       "  </tbody>\n",
       "</table>\n",
       "<p>79330 rows × 1 columns</p>\n",
       "</div>"
      ],
      "text/plain": [
       "       IsCanceled\n",
       "0             0.0\n",
       "1             1.0\n",
       "2             1.0\n",
       "3             1.0\n",
       "4             1.0\n",
       "...           ...\n",
       "79325         0.0\n",
       "79326         0.0\n",
       "79327         0.0\n",
       "79328         0.0\n",
       "79329         0.0\n",
       "\n",
       "[79330 rows x 1 columns]"
      ]
     },
     "execution_count": 6,
     "metadata": {},
     "output_type": "execute_result"
    }
   ],
   "source": [
    "df2 = DataFrame(c, columns= ['IsCanceled']) \n",
    "df2"
   ]
  },
  {
   "cell_type": "code",
   "execution_count": 7,
   "metadata": {},
   "outputs": [
    {
     "data": {
      "text/plain": [
       "pandas.core.frame.DataFrame"
      ]
     },
     "execution_count": 7,
     "metadata": {},
     "output_type": "execute_result"
    }
   ],
   "source": [
    "type(df1)"
   ]
  },
  {
   "cell_type": "code",
   "execution_count": 8,
   "metadata": {},
   "outputs": [],
   "source": [
    "df3=pd.concat([df1, df2], axis = 1)\n",
    "df3\n",
    "df3.columns = ['FullDate', 'IsCanceled']"
   ]
  },
  {
   "cell_type": "code",
   "execution_count": 9,
   "metadata": {},
   "outputs": [
    {
     "data": {
      "text/html": [
       "<div>\n",
       "<style scoped>\n",
       "    .dataframe tbody tr th:only-of-type {\n",
       "        vertical-align: middle;\n",
       "    }\n",
       "\n",
       "    .dataframe tbody tr th {\n",
       "        vertical-align: top;\n",
       "    }\n",
       "\n",
       "    .dataframe thead th {\n",
       "        text-align: right;\n",
       "    }\n",
       "</style>\n",
       "<table border=\"1\" class=\"dataframe\">\n",
       "  <thead>\n",
       "    <tr style=\"text-align: right;\">\n",
       "      <th></th>\n",
       "      <th>FullDate</th>\n",
       "      <th>IsCanceled</th>\n",
       "    </tr>\n",
       "  </thead>\n",
       "  <tbody>\n",
       "    <tr>\n",
       "      <th>0</th>\n",
       "      <td>201527</td>\n",
       "      <td>0.0</td>\n",
       "    </tr>\n",
       "    <tr>\n",
       "      <th>6</th>\n",
       "      <td>201527</td>\n",
       "      <td>0.0</td>\n",
       "    </tr>\n",
       "    <tr>\n",
       "      <th>10</th>\n",
       "      <td>201527</td>\n",
       "      <td>0.0</td>\n",
       "    </tr>\n",
       "    <tr>\n",
       "      <th>11</th>\n",
       "      <td>201527</td>\n",
       "      <td>0.0</td>\n",
       "    </tr>\n",
       "    <tr>\n",
       "      <th>12</th>\n",
       "      <td>201527</td>\n",
       "      <td>0.0</td>\n",
       "    </tr>\n",
       "    <tr>\n",
       "      <th>...</th>\n",
       "      <td>...</td>\n",
       "      <td>...</td>\n",
       "    </tr>\n",
       "    <tr>\n",
       "      <th>33650</th>\n",
       "      <td>201735</td>\n",
       "      <td>1.0</td>\n",
       "    </tr>\n",
       "    <tr>\n",
       "      <th>33651</th>\n",
       "      <td>201735</td>\n",
       "      <td>1.0</td>\n",
       "    </tr>\n",
       "    <tr>\n",
       "      <th>33652</th>\n",
       "      <td>201735</td>\n",
       "      <td>1.0</td>\n",
       "    </tr>\n",
       "    <tr>\n",
       "      <th>33653</th>\n",
       "      <td>201735</td>\n",
       "      <td>1.0</td>\n",
       "    </tr>\n",
       "    <tr>\n",
       "      <th>45587</th>\n",
       "      <td>201735</td>\n",
       "      <td>1.0</td>\n",
       "    </tr>\n",
       "  </tbody>\n",
       "</table>\n",
       "<p>79330 rows × 2 columns</p>\n",
       "</div>"
      ],
      "text/plain": [
       "      FullDate  IsCanceled\n",
       "0       201527         0.0\n",
       "6       201527         0.0\n",
       "10      201527         0.0\n",
       "11      201527         0.0\n",
       "12      201527         0.0\n",
       "...        ...         ...\n",
       "33650   201735         1.0\n",
       "33651   201735         1.0\n",
       "33652   201735         1.0\n",
       "33653   201735         1.0\n",
       "45587   201735         1.0\n",
       "\n",
       "[79330 rows x 2 columns]"
      ]
     },
     "execution_count": 9,
     "metadata": {},
     "output_type": "execute_result"
    }
   ],
   "source": [
    "df3\n",
    "df3.sort_values(['FullDate','IsCanceled'], ascending=True)"
   ]
  },
  {
   "cell_type": "code",
   "execution_count": 10,
   "metadata": {},
   "outputs": [
    {
     "data": {
      "text/html": [
       "<div>\n",
       "<style scoped>\n",
       "    .dataframe tbody tr th:only-of-type {\n",
       "        vertical-align: middle;\n",
       "    }\n",
       "\n",
       "    .dataframe tbody tr th {\n",
       "        vertical-align: top;\n",
       "    }\n",
       "\n",
       "    .dataframe thead th {\n",
       "        text-align: right;\n",
       "    }\n",
       "</style>\n",
       "<table border=\"1\" class=\"dataframe\">\n",
       "  <thead>\n",
       "    <tr style=\"text-align: right;\">\n",
       "      <th></th>\n",
       "      <th>IsCanceled</th>\n",
       "    </tr>\n",
       "    <tr>\n",
       "      <th>FullDate</th>\n",
       "      <th></th>\n",
       "    </tr>\n",
       "  </thead>\n",
       "  <tbody>\n",
       "    <tr>\n",
       "      <th>201527</th>\n",
       "      <td>97.0</td>\n",
       "    </tr>\n",
       "    <tr>\n",
       "      <th>201528</th>\n",
       "      <td>153.0</td>\n",
       "    </tr>\n",
       "    <tr>\n",
       "      <th>201529</th>\n",
       "      <td>228.0</td>\n",
       "    </tr>\n",
       "    <tr>\n",
       "      <th>201530</th>\n",
       "      <td>321.0</td>\n",
       "    </tr>\n",
       "    <tr>\n",
       "      <th>201531</th>\n",
       "      <td>159.0</td>\n",
       "    </tr>\n",
       "    <tr>\n",
       "      <th>...</th>\n",
       "      <td>...</td>\n",
       "    </tr>\n",
       "    <tr>\n",
       "      <th>201731</th>\n",
       "      <td>253.0</td>\n",
       "    </tr>\n",
       "    <tr>\n",
       "      <th>201732</th>\n",
       "      <td>269.0</td>\n",
       "    </tr>\n",
       "    <tr>\n",
       "      <th>201733</th>\n",
       "      <td>341.0</td>\n",
       "    </tr>\n",
       "    <tr>\n",
       "      <th>201734</th>\n",
       "      <td>201.0</td>\n",
       "    </tr>\n",
       "    <tr>\n",
       "      <th>201735</th>\n",
       "      <td>129.0</td>\n",
       "    </tr>\n",
       "  </tbody>\n",
       "</table>\n",
       "<p>115 rows × 1 columns</p>\n",
       "</div>"
      ],
      "text/plain": [
       "          IsCanceled\n",
       "FullDate            \n",
       "201527          97.0\n",
       "201528         153.0\n",
       "201529         228.0\n",
       "201530         321.0\n",
       "201531         159.0\n",
       "...              ...\n",
       "201731         253.0\n",
       "201732         269.0\n",
       "201733         341.0\n",
       "201734         201.0\n",
       "201735         129.0\n",
       "\n",
       "[115 rows x 1 columns]"
      ]
     },
     "execution_count": 10,
     "metadata": {},
     "output_type": "execute_result"
    }
   ],
   "source": [
    "df4 = df3.groupby('FullDate').agg(sum)\n",
    "df4\n",
    "df4.sort_values(['FullDate'], ascending=True)"
   ]
  },
  {
   "cell_type": "code",
   "execution_count": 11,
   "metadata": {},
   "outputs": [
    {
     "data": {
      "text/plain": [
       "FullDate\n",
       "201527     97.0\n",
       "201528    153.0\n",
       "201529    228.0\n",
       "201530    321.0\n",
       "201531    159.0\n",
       "          ...  \n",
       "201731    253.0\n",
       "201732    269.0\n",
       "201733    341.0\n",
       "201734    201.0\n",
       "201735    129.0\n",
       "Name: IsCanceled, Length: 115, dtype: float64"
      ]
     },
     "execution_count": 11,
     "metadata": {},
     "output_type": "execute_result"
    }
   ],
   "source": [
    "tseries=df4['IsCanceled']\n",
    "tseries"
   ]
  },
  {
   "cell_type": "code",
   "execution_count": 12,
   "metadata": {},
   "outputs": [
    {
     "name": "stdout",
     "output_type": "stream",
     "text": [
      "ADF Statistic: -3.076840\n",
      "p-value: 0.028315\n",
      "Critical Values:\n",
      "\t1%: -3.495\n",
      "\t5%: -2.890\n",
      "\t10%: -2.582\n"
     ]
    }
   ],
   "source": [
    "from statsmodels.tsa.stattools import adfuller\n",
    "result = adfuller(tseries)\n",
    "print('ADF Statistic: %f' % result[0])\n",
    "print('p-value: %f' % result[1])\n",
    "print('Critical Values:')\n",
    "for key, value in result[4].items():\n",
    "    print('\\t%s: %.3f' % (key, value))"
   ]
  },
  {
   "cell_type": "code",
   "execution_count": 13,
   "metadata": {},
   "outputs": [
    {
     "data": {
      "image/png": "[encoded data removed]",
      "text/plain": [
       "<Figure size 432x288 with 1 Axes>"
      ]
     },
     "metadata": {
      "needs_background": "light"
     },
     "output_type": "display_data"
    }
   ],
   "source": [
    "import matplotlib.pyplot as plt\n",
    "plt.plot(tseries)\n",
    "plt.tick_params(\n",
    "    axis='x',          # changes apply to the x-axis\n",
    "    which='both',      # both major and minor ticks are affected\n",
    "    bottom=False,      # ticks along the bottom edge are off\n",
    "    top=False,         # ticks along the top edge are off\n",
    "    labelbottom=False) # labels along the bottom edge are off\n",
    "plt.ylabel('Cancellations')\n",
    "plt.title(\"Cancellations Per Week\")\n",
    "plt.show()"
   ]
  },
  {
   "cell_type": "code",
   "execution_count": 14,
   "metadata": {},
   "outputs": [
    {
     "data": {
      "text/html": [
       "<div>\n",
       "<style scoped>\n",
       "    .dataframe tbody tr th:only-of-type {\n",
       "        vertical-align: middle;\n",
       "    }\n",
       "\n",
       "    .dataframe tbody tr th {\n",
       "        vertical-align: top;\n",
       "    }\n",
       "\n",
       "    .dataframe thead th {\n",
       "        text-align: right;\n",
       "    }\n",
       "</style>\n",
       "<table border=\"1\" class=\"dataframe\">\n",
       "  <thead>\n",
       "    <tr style=\"text-align: right;\">\n",
       "      <th></th>\n",
       "      <th>IsCanceled</th>\n",
       "    </tr>\n",
       "    <tr>\n",
       "      <th>FullDate</th>\n",
       "      <th></th>\n",
       "    </tr>\n",
       "  </thead>\n",
       "  <tbody>\n",
       "    <tr>\n",
       "      <th>201527</th>\n",
       "      <td>97.0</td>\n",
       "    </tr>\n",
       "    <tr>\n",
       "      <th>201528</th>\n",
       "      <td>153.0</td>\n",
       "    </tr>\n",
       "    <tr>\n",
       "      <th>201529</th>\n",
       "      <td>228.0</td>\n",
       "    </tr>\n",
       "    <tr>\n",
       "      <th>201530</th>\n",
       "      <td>321.0</td>\n",
       "    </tr>\n",
       "    <tr>\n",
       "      <th>201531</th>\n",
       "      <td>159.0</td>\n",
       "    </tr>\n",
       "    <tr>\n",
       "      <th>...</th>\n",
       "      <td>...</td>\n",
       "    </tr>\n",
       "    <tr>\n",
       "      <th>201731</th>\n",
       "      <td>253.0</td>\n",
       "    </tr>\n",
       "    <tr>\n",
       "      <th>201732</th>\n",
       "      <td>269.0</td>\n",
       "    </tr>\n",
       "    <tr>\n",
       "      <th>201733</th>\n",
       "      <td>341.0</td>\n",
       "    </tr>\n",
       "    <tr>\n",
       "      <th>201734</th>\n",
       "      <td>201.0</td>\n",
       "    </tr>\n",
       "    <tr>\n",
       "      <th>201735</th>\n",
       "      <td>129.0</td>\n",
       "    </tr>\n",
       "  </tbody>\n",
       "</table>\n",
       "<p>115 rows × 1 columns</p>\n",
       "</div>"
      ],
      "text/plain": [
       "          IsCanceled\n",
       "FullDate            \n",
       "201527          97.0\n",
       "201528         153.0\n",
       "201529         228.0\n",
       "201530         321.0\n",
       "201531         159.0\n",
       "...              ...\n",
       "201731         253.0\n",
       "201732         269.0\n",
       "201733         341.0\n",
       "201734         201.0\n",
       "201735         129.0\n",
       "\n",
       "[115 rows x 1 columns]"
      ]
     },
     "execution_count": 14,
     "metadata": {},
     "output_type": "execute_result"
    }
   ],
   "source": [
    "df=pd.DataFrame(tseries)\n",
    "df"
   ]
  },
  {
   "cell_type": "code",
   "execution_count": 15,
   "metadata": {},
   "outputs": [],
   "source": [
    "df = df[:100]"
   ]
  },
  {
   "cell_type": "code",
   "execution_count": 16,
   "metadata": {},
   "outputs": [
    {
     "data": {
      "text/html": [
       "<div>\n",
       "<style scoped>\n",
       "    .dataframe tbody tr th:only-of-type {\n",
       "        vertical-align: middle;\n",
       "    }\n",
       "\n",
       "    .dataframe tbody tr th {\n",
       "        vertical-align: top;\n",
       "    }\n",
       "\n",
       "    .dataframe thead th {\n",
       "        text-align: right;\n",
       "    }\n",
       "</style>\n",
       "<table border=\"1\" class=\"dataframe\">\n",
       "  <thead>\n",
       "    <tr style=\"text-align: right;\">\n",
       "      <th></th>\n",
       "      <th>IsCanceled</th>\n",
       "    </tr>\n",
       "    <tr>\n",
       "      <th>FullDate</th>\n",
       "      <th></th>\n",
       "    </tr>\n",
       "  </thead>\n",
       "  <tbody>\n",
       "    <tr>\n",
       "      <th>201527</th>\n",
       "      <td>97.0</td>\n",
       "    </tr>\n",
       "    <tr>\n",
       "      <th>201528</th>\n",
       "      <td>153.0</td>\n",
       "    </tr>\n",
       "    <tr>\n",
       "      <th>201529</th>\n",
       "      <td>228.0</td>\n",
       "    </tr>\n",
       "    <tr>\n",
       "      <th>201530</th>\n",
       "      <td>321.0</td>\n",
       "    </tr>\n",
       "    <tr>\n",
       "      <th>201531</th>\n",
       "      <td>159.0</td>\n",
       "    </tr>\n",
       "    <tr>\n",
       "      <th>...</th>\n",
       "      <td>...</td>\n",
       "    </tr>\n",
       "    <tr>\n",
       "      <th>201716</th>\n",
       "      <td>417.0</td>\n",
       "    </tr>\n",
       "    <tr>\n",
       "      <th>201717</th>\n",
       "      <td>568.0</td>\n",
       "    </tr>\n",
       "    <tr>\n",
       "      <th>201718</th>\n",
       "      <td>532.0</td>\n",
       "    </tr>\n",
       "    <tr>\n",
       "      <th>201719</th>\n",
       "      <td>385.0</td>\n",
       "    </tr>\n",
       "    <tr>\n",
       "      <th>201720</th>\n",
       "      <td>666.0</td>\n",
       "    </tr>\n",
       "  </tbody>\n",
       "</table>\n",
       "<p>100 rows × 1 columns</p>\n",
       "</div>"
      ],
      "text/plain": [
       "          IsCanceled\n",
       "FullDate            \n",
       "201527          97.0\n",
       "201528         153.0\n",
       "201529         228.0\n",
       "201530         321.0\n",
       "201531         159.0\n",
       "...              ...\n",
       "201716         417.0\n",
       "201717         568.0\n",
       "201718         532.0\n",
       "201719         385.0\n",
       "201720         666.0\n",
       "\n",
       "[100 rows x 1 columns]"
      ]
     },
     "execution_count": 16,
     "metadata": {},
     "output_type": "execute_result"
    }
   ],
   "source": [
    "df"
   ]
  },
  {
   "cell_type": "code",
   "execution_count": 17,
   "metadata": {},
   "outputs": [],
   "source": [
    "# Form dataset matrix\n",
    "def create_dataset(df, previous=1):\n",
    "    dataX, dataY = [], []\n",
    "    for i in range(len(df)-previous-1):\n",
    "        a = df[i:(i+previous), 0]\n",
    "        dataX.append(a)\n",
    "        dataY.append(df[i + previous, 0])\n",
    "    return np.array(dataX), np.array(dataY)"
   ]
  },
  {
   "cell_type": "code",
   "execution_count": 18,
   "metadata": {},
   "outputs": [],
   "source": [
    "df=np.array(df)"
   ]
  },
  {
   "cell_type": "code",
   "execution_count": 19,
   "metadata": {},
   "outputs": [
    {
     "data": {
      "text/plain": [
       "array([[ 97.],\n",
       "       [153.],\n",
       "       [228.],\n",
       "       [321.],\n",
       "       [159.],\n",
       "       [308.],\n",
       "       [428.],\n",
       "       [191.],\n",
       "       [212.],\n",
       "       [266.],\n",
       "       [331.],\n",
       "       [429.],\n",
       "       [414.],\n",
       "       [324.],\n",
       "       [391.],\n",
       "       [434.],\n",
       "       [150.],\n",
       "       [199.],\n",
       "       [ 67.],\n",
       "       [ 81.],\n",
       "       [ 41.],\n",
       "       [103.],\n",
       "       [169.],\n",
       "       [263.],\n",
       "       [ 21.],\n",
       "       [ 43.],\n",
       "       [181.],\n",
       "       [ 40.],\n",
       "       [ 35.],\n",
       "       [ 65.],\n",
       "       [148.],\n",
       "       [148.],\n",
       "       [ 89.],\n",
       "       [117.],\n",
       "       [355.],\n",
       "       [213.],\n",
       "       [294.],\n",
       "       [134.],\n",
       "       [233.],\n",
       "       [433.],\n",
       "       [226.],\n",
       "       [341.],\n",
       "       [357.],\n",
       "       [394.],\n",
       "       [393.],\n",
       "       [293.],\n",
       "       [330.],\n",
       "       [382.],\n",
       "       [269.],\n",
       "       [398.],\n",
       "       [387.],\n",
       "       [626.],\n",
       "       [234.],\n",
       "       [338.],\n",
       "       [283.],\n",
       "       [210.],\n",
       "       [220.],\n",
       "       [211.],\n",
       "       [257.],\n",
       "       [309.],\n",
       "       [295.],\n",
       "       [276.],\n",
       "       [293.],\n",
       "       [348.],\n",
       "       [357.],\n",
       "       [321.],\n",
       "       [472.],\n",
       "       [379.],\n",
       "       [540.],\n",
       "       [473.],\n",
       "       [368.],\n",
       "       [538.],\n",
       "       [384.],\n",
       "       [233.],\n",
       "       [195.],\n",
       "       [295.],\n",
       "       [253.],\n",
       "       [152.],\n",
       "       [148.],\n",
       "       [325.],\n",
       "       [224.],\n",
       "       [278.],\n",
       "       [213.],\n",
       "       [293.],\n",
       "       [211.],\n",
       "       [148.],\n",
       "       [295.],\n",
       "       [277.],\n",
       "       [301.],\n",
       "       [229.],\n",
       "       [353.],\n",
       "       [283.],\n",
       "       [226.],\n",
       "       [432.],\n",
       "       [447.],\n",
       "       [417.],\n",
       "       [568.],\n",
       "       [532.],\n",
       "       [385.],\n",
       "       [666.]])"
      ]
     },
     "execution_count": 19,
     "metadata": {},
     "output_type": "execute_result"
    }
   ],
   "source": [
    "df"
   ]
  },
  {
   "cell_type": "code",
   "execution_count": 20,
   "metadata": {},
   "outputs": [
    {
     "data": {
      "text/plain": [
       "array([[0.11782946],\n",
       "       [0.20465116],\n",
       "       [0.32093023],\n",
       "       [0.46511628],\n",
       "       [0.21395349],\n",
       "       [0.44496124],\n",
       "       [0.63100775],\n",
       "       [0.26356589],\n",
       "       [0.29612403],\n",
       "       [0.37984496],\n",
       "       [0.48062016],\n",
       "       [0.63255814],\n",
       "       [0.60930233],\n",
       "       [0.46976744],\n",
       "       [0.57364341],\n",
       "       [0.64031008],\n",
       "       [0.2       ],\n",
       "       [0.27596899],\n",
       "       [0.07131783],\n",
       "       [0.09302326],\n",
       "       [0.03100775],\n",
       "       [0.12713178],\n",
       "       [0.22945736],\n",
       "       [0.3751938 ],\n",
       "       [0.        ],\n",
       "       [0.03410853],\n",
       "       [0.24806202],\n",
       "       [0.02945736],\n",
       "       [0.02170543],\n",
       "       [0.06821705],\n",
       "       [0.19689922],\n",
       "       [0.19689922],\n",
       "       [0.10542636],\n",
       "       [0.14883721],\n",
       "       [0.51782946],\n",
       "       [0.29767442],\n",
       "       [0.42325581],\n",
       "       [0.1751938 ],\n",
       "       [0.32868217],\n",
       "       [0.63875969],\n",
       "       [0.31782946],\n",
       "       [0.49612403],\n",
       "       [0.52093023],\n",
       "       [0.57829457],\n",
       "       [0.57674419],\n",
       "       [0.42170543],\n",
       "       [0.47906977],\n",
       "       [0.55968992],\n",
       "       [0.38449612],\n",
       "       [0.58449612],\n",
       "       [0.56744186],\n",
       "       [0.9379845 ],\n",
       "       [0.33023256],\n",
       "       [0.49147287],\n",
       "       [0.40620155],\n",
       "       [0.29302326],\n",
       "       [0.30852713],\n",
       "       [0.29457364],\n",
       "       [0.36589147],\n",
       "       [0.44651163],\n",
       "       [0.4248062 ],\n",
       "       [0.39534884],\n",
       "       [0.42170543],\n",
       "       [0.50697674],\n",
       "       [0.52093023],\n",
       "       [0.46511628],\n",
       "       [0.69922481],\n",
       "       [0.55503876],\n",
       "       [0.80465116],\n",
       "       [0.70077519],\n",
       "       [0.5379845 ],\n",
       "       [0.80155039],\n",
       "       [0.5627907 ],\n",
       "       [0.32868217],\n",
       "       [0.26976744],\n",
       "       [0.4248062 ],\n",
       "       [0.35968992],\n",
       "       [0.20310078],\n",
       "       [0.19689922],\n",
       "       [0.47131783],\n",
       "       [0.31472868],\n",
       "       [0.39844961],\n",
       "       [0.29767442],\n",
       "       [0.42170543],\n",
       "       [0.29457364],\n",
       "       [0.19689922],\n",
       "       [0.4248062 ],\n",
       "       [0.39689922],\n",
       "       [0.43410853],\n",
       "       [0.32248062],\n",
       "       [0.51472868],\n",
       "       [0.40620155],\n",
       "       [0.31782946],\n",
       "       [0.6372093 ],\n",
       "       [0.66046512],\n",
       "       [0.61395349],\n",
       "       [0.84806202],\n",
       "       [0.79224806],\n",
       "       [0.56434109],\n",
       "       [1.        ]])"
      ]
     },
     "execution_count": 20,
     "metadata": {},
     "output_type": "execute_result"
    }
   ],
   "source": [
    "# normalize dataset with MinMaxScaler\n",
    "scaler = MinMaxScaler(feature_range=(0, 1))\n",
    "df = scaler.fit_transform(df)\n",
    "df"
   ]
  },
  {
   "cell_type": "code",
   "execution_count": 21,
   "metadata": {},
   "outputs": [
    {
     "name": "stderr",
     "output_type": "stream",
     "text": [
      "/home/michael/anaconda3/lib/python3.6/site-packages/tensorflow/python/framework/dtypes.py:523: FutureWarning: Passing (type, 1) or '1type' as a synonym of type is deprecated; in a future version of numpy, it will be understood as (type, (1,)) / '(1,)type'.\n",
      "  _np_qint8 = np.dtype([(\"qint8\", np.int8, 1)])\n",
      "/home/michael/anaconda3/lib/python3.6/site-packages/tensorflow/python/framework/dtypes.py:524: FutureWarning: Passing (type, 1) or '1type' as a synonym of type is deprecated; in a future version of numpy, it will be understood as (type, (1,)) / '(1,)type'.\n",
      "  _np_quint8 = np.dtype([(\"quint8\", np.uint8, 1)])\n",
      "/home/michael/anaconda3/lib/python3.6/site-packages/tensorflow/python/framework/dtypes.py:525: FutureWarning: Passing (type, 1) or '1type' as a synonym of type is deprecated; in a future version of numpy, it will be understood as (type, (1,)) / '(1,)type'.\n",
      "  _np_qint16 = np.dtype([(\"qint16\", np.int16, 1)])\n",
      "/home/michael/anaconda3/lib/python3.6/site-packages/tensorflow/python/framework/dtypes.py:526: FutureWarning: Passing (type, 1) or '1type' as a synonym of type is deprecated; in a future version of numpy, it will be understood as (type, (1,)) / '(1,)type'.\n",
      "  _np_quint16 = np.dtype([(\"quint16\", np.uint16, 1)])\n",
      "/home/michael/anaconda3/lib/python3.6/site-packages/tensorflow/python/framework/dtypes.py:527: FutureWarning: Passing (type, 1) or '1type' as a synonym of type is deprecated; in a future version of numpy, it will be understood as (type, (1,)) / '(1,)type'.\n",
      "  _np_qint32 = np.dtype([(\"qint32\", np.int32, 1)])\n",
      "/home/michael/anaconda3/lib/python3.6/site-packages/tensorflow/python/framework/dtypes.py:532: FutureWarning: Passing (type, 1) or '1type' as a synonym of type is deprecated; in a future version of numpy, it will be understood as (type, (1,)) / '(1,)type'.\n",
      "  np_resource = np.dtype([(\"resource\", np.ubyte, 1)])\n",
      "/home/michael/anaconda3/lib/python3.6/site-packages/tensorboard/compat/tensorflow_stub/dtypes.py:541: FutureWarning: Passing (type, 1) or '1type' as a synonym of type is deprecated; in a future version of numpy, it will be understood as (type, (1,)) / '(1,)type'.\n",
      "  _np_qint8 = np.dtype([(\"qint8\", np.int8, 1)])\n",
      "/home/michael/anaconda3/lib/python3.6/site-packages/tensorboard/compat/tensorflow_stub/dtypes.py:542: FutureWarning: Passing (type, 1) or '1type' as a synonym of type is deprecated; in a future version of numpy, it will be understood as (type, (1,)) / '(1,)type'.\n",
      "  _np_quint8 = np.dtype([(\"quint8\", np.uint8, 1)])\n",
      "/home/michael/anaconda3/lib/python3.6/site-packages/tensorboard/compat/tensorflow_stub/dtypes.py:543: FutureWarning: Passing (type, 1) or '1type' as a synonym of type is deprecated; in a future version of numpy, it will be understood as (type, (1,)) / '(1,)type'.\n",
      "  _np_qint16 = np.dtype([(\"qint16\", np.int16, 1)])\n",
      "/home/michael/anaconda3/lib/python3.6/site-packages/tensorboard/compat/tensorflow_stub/dtypes.py:544: FutureWarning: Passing (type, 1) or '1type' as a synonym of type is deprecated; in a future version of numpy, it will be understood as (type, (1,)) / '(1,)type'.\n",
      "  _np_quint16 = np.dtype([(\"quint16\", np.uint16, 1)])\n",
      "/home/michael/anaconda3/lib/python3.6/site-packages/tensorboard/compat/tensorflow_stub/dtypes.py:545: FutureWarning: Passing (type, 1) or '1type' as a synonym of type is deprecated; in a future version of numpy, it will be understood as (type, (1,)) / '(1,)type'.\n",
      "  _np_qint32 = np.dtype([(\"qint32\", np.int32, 1)])\n",
      "/home/michael/anaconda3/lib/python3.6/site-packages/tensorboard/compat/tensorflow_stub/dtypes.py:550: FutureWarning: Passing (type, 1) or '1type' as a synonym of type is deprecated; in a future version of numpy, it will be understood as (type, (1,)) / '(1,)type'.\n",
      "  np_resource = np.dtype([(\"resource\", np.ubyte, 1)])\n"
     ]
    }
   ],
   "source": [
    "import tensorflow as tf\n",
    "from tensorflow.keras import layers\n",
    "from tensorflow.keras.layers import Dense\n",
    "from tensorflow.keras.layers import LSTM\n",
    "\n",
    "# Training and Validation data partition\n",
    "train_size = int(len(df) * 0.8)\n",
    "val_size = len(df) - train_size\n",
    "train, val = df[0:train_size,:], df[train_size:len(df),:]\n",
    "\n",
    "# Number of previous\n",
    "previous = 5\n",
    "X_train, Y_train = create_dataset(train, previous)\n",
    "X_val, Y_val = create_dataset(val, previous)"
   ]
  },
  {
   "cell_type": "code",
   "execution_count": 22,
   "metadata": {},
   "outputs": [
    {
     "data": {
      "text/plain": [
       "array([[0.11782946, 0.20465116, 0.32093023, 0.46511628, 0.21395349],\n",
       "       [0.20465116, 0.32093023, 0.46511628, 0.21395349, 0.44496124],\n",
       "       [0.32093023, 0.46511628, 0.21395349, 0.44496124, 0.63100775],\n",
       "       [0.46511628, 0.21395349, 0.44496124, 0.63100775, 0.26356589],\n",
       "       [0.21395349, 0.44496124, 0.63100775, 0.26356589, 0.29612403],\n",
       "       [0.44496124, 0.63100775, 0.26356589, 0.29612403, 0.37984496],\n",
       "       [0.63100775, 0.26356589, 0.29612403, 0.37984496, 0.48062016],\n",
       "       [0.26356589, 0.29612403, 0.37984496, 0.48062016, 0.63255814],\n",
       "       [0.29612403, 0.37984496, 0.48062016, 0.63255814, 0.60930233],\n",
       "       [0.37984496, 0.48062016, 0.63255814, 0.60930233, 0.46976744],\n",
       "       [0.48062016, 0.63255814, 0.60930233, 0.46976744, 0.57364341],\n",
       "       [0.63255814, 0.60930233, 0.46976744, 0.57364341, 0.64031008],\n",
       "       [0.60930233, 0.46976744, 0.57364341, 0.64031008, 0.2       ],\n",
       "       [0.46976744, 0.57364341, 0.64031008, 0.2       , 0.27596899],\n",
       "       [0.57364341, 0.64031008, 0.2       , 0.27596899, 0.07131783],\n",
       "       [0.64031008, 0.2       , 0.27596899, 0.07131783, 0.09302326],\n",
       "       [0.2       , 0.27596899, 0.07131783, 0.09302326, 0.03100775],\n",
       "       [0.27596899, 0.07131783, 0.09302326, 0.03100775, 0.12713178],\n",
       "       [0.07131783, 0.09302326, 0.03100775, 0.12713178, 0.22945736],\n",
       "       [0.09302326, 0.03100775, 0.12713178, 0.22945736, 0.3751938 ],\n",
       "       [0.03100775, 0.12713178, 0.22945736, 0.3751938 , 0.        ],\n",
       "       [0.12713178, 0.22945736, 0.3751938 , 0.        , 0.03410853],\n",
       "       [0.22945736, 0.3751938 , 0.        , 0.03410853, 0.24806202],\n",
       "       [0.3751938 , 0.        , 0.03410853, 0.24806202, 0.02945736],\n",
       "       [0.        , 0.03410853, 0.24806202, 0.02945736, 0.02170543],\n",
       "       [0.03410853, 0.24806202, 0.02945736, 0.02170543, 0.06821705],\n",
       "       [0.24806202, 0.02945736, 0.02170543, 0.06821705, 0.19689922],\n",
       "       [0.02945736, 0.02170543, 0.06821705, 0.19689922, 0.19689922],\n",
       "       [0.02170543, 0.06821705, 0.19689922, 0.19689922, 0.10542636],\n",
       "       [0.06821705, 0.19689922, 0.19689922, 0.10542636, 0.14883721],\n",
       "       [0.19689922, 0.19689922, 0.10542636, 0.14883721, 0.51782946],\n",
       "       [0.19689922, 0.10542636, 0.14883721, 0.51782946, 0.29767442],\n",
       "       [0.10542636, 0.14883721, 0.51782946, 0.29767442, 0.42325581],\n",
       "       [0.14883721, 0.51782946, 0.29767442, 0.42325581, 0.1751938 ],\n",
       "       [0.51782946, 0.29767442, 0.42325581, 0.1751938 , 0.32868217],\n",
       "       [0.29767442, 0.42325581, 0.1751938 , 0.32868217, 0.63875969],\n",
       "       [0.42325581, 0.1751938 , 0.32868217, 0.63875969, 0.31782946],\n",
       "       [0.1751938 , 0.32868217, 0.63875969, 0.31782946, 0.49612403],\n",
       "       [0.32868217, 0.63875969, 0.31782946, 0.49612403, 0.52093023],\n",
       "       [0.63875969, 0.31782946, 0.49612403, 0.52093023, 0.57829457],\n",
       "       [0.31782946, 0.49612403, 0.52093023, 0.57829457, 0.57674419],\n",
       "       [0.49612403, 0.52093023, 0.57829457, 0.57674419, 0.42170543],\n",
       "       [0.52093023, 0.57829457, 0.57674419, 0.42170543, 0.47906977],\n",
       "       [0.57829457, 0.57674419, 0.42170543, 0.47906977, 0.55968992],\n",
       "       [0.57674419, 0.42170543, 0.47906977, 0.55968992, 0.38449612],\n",
       "       [0.42170543, 0.47906977, 0.55968992, 0.38449612, 0.58449612],\n",
       "       [0.47906977, 0.55968992, 0.38449612, 0.58449612, 0.56744186],\n",
       "       [0.55968992, 0.38449612, 0.58449612, 0.56744186, 0.9379845 ],\n",
       "       [0.38449612, 0.58449612, 0.56744186, 0.9379845 , 0.33023256],\n",
       "       [0.58449612, 0.56744186, 0.9379845 , 0.33023256, 0.49147287],\n",
       "       [0.56744186, 0.9379845 , 0.33023256, 0.49147287, 0.40620155],\n",
       "       [0.9379845 , 0.33023256, 0.49147287, 0.40620155, 0.29302326],\n",
       "       [0.33023256, 0.49147287, 0.40620155, 0.29302326, 0.30852713],\n",
       "       [0.49147287, 0.40620155, 0.29302326, 0.30852713, 0.29457364],\n",
       "       [0.40620155, 0.29302326, 0.30852713, 0.29457364, 0.36589147],\n",
       "       [0.29302326, 0.30852713, 0.29457364, 0.36589147, 0.44651163],\n",
       "       [0.30852713, 0.29457364, 0.36589147, 0.44651163, 0.4248062 ],\n",
       "       [0.29457364, 0.36589147, 0.44651163, 0.4248062 , 0.39534884],\n",
       "       [0.36589147, 0.44651163, 0.4248062 , 0.39534884, 0.42170543],\n",
       "       [0.44651163, 0.4248062 , 0.39534884, 0.42170543, 0.50697674],\n",
       "       [0.4248062 , 0.39534884, 0.42170543, 0.50697674, 0.52093023],\n",
       "       [0.39534884, 0.42170543, 0.50697674, 0.52093023, 0.46511628],\n",
       "       [0.42170543, 0.50697674, 0.52093023, 0.46511628, 0.69922481],\n",
       "       [0.50697674, 0.52093023, 0.46511628, 0.69922481, 0.55503876],\n",
       "       [0.52093023, 0.46511628, 0.69922481, 0.55503876, 0.80465116],\n",
       "       [0.46511628, 0.69922481, 0.55503876, 0.80465116, 0.70077519],\n",
       "       [0.69922481, 0.55503876, 0.80465116, 0.70077519, 0.5379845 ],\n",
       "       [0.55503876, 0.80465116, 0.70077519, 0.5379845 , 0.80155039],\n",
       "       [0.80465116, 0.70077519, 0.5379845 , 0.80155039, 0.5627907 ],\n",
       "       [0.70077519, 0.5379845 , 0.80155039, 0.5627907 , 0.32868217],\n",
       "       [0.5379845 , 0.80155039, 0.5627907 , 0.32868217, 0.26976744],\n",
       "       [0.80155039, 0.5627907 , 0.32868217, 0.26976744, 0.4248062 ],\n",
       "       [0.5627907 , 0.32868217, 0.26976744, 0.4248062 , 0.35968992],\n",
       "       [0.32868217, 0.26976744, 0.4248062 , 0.35968992, 0.20310078]])"
      ]
     },
     "execution_count": 22,
     "metadata": {},
     "output_type": "execute_result"
    }
   ],
   "source": [
    "X_train"
   ]
  },
  {
   "cell_type": "code",
   "execution_count": 23,
   "metadata": {},
   "outputs": [
    {
     "data": {
      "text/plain": [
       "array([0.44496124, 0.63100775, 0.26356589, 0.29612403, 0.37984496,\n",
       "       0.48062016, 0.63255814, 0.60930233, 0.46976744, 0.57364341,\n",
       "       0.64031008, 0.2       , 0.27596899, 0.07131783, 0.09302326,\n",
       "       0.03100775, 0.12713178, 0.22945736, 0.3751938 , 0.        ,\n",
       "       0.03410853, 0.24806202, 0.02945736, 0.02170543, 0.06821705,\n",
       "       0.19689922, 0.19689922, 0.10542636, 0.14883721, 0.51782946,\n",
       "       0.29767442, 0.42325581, 0.1751938 , 0.32868217, 0.63875969,\n",
       "       0.31782946, 0.49612403, 0.52093023, 0.57829457, 0.57674419,\n",
       "       0.42170543, 0.47906977, 0.55968992, 0.38449612, 0.58449612,\n",
       "       0.56744186, 0.9379845 , 0.33023256, 0.49147287, 0.40620155,\n",
       "       0.29302326, 0.30852713, 0.29457364, 0.36589147, 0.44651163,\n",
       "       0.4248062 , 0.39534884, 0.42170543, 0.50697674, 0.52093023,\n",
       "       0.46511628, 0.69922481, 0.55503876, 0.80465116, 0.70077519,\n",
       "       0.5379845 , 0.80155039, 0.5627907 , 0.32868217, 0.26976744,\n",
       "       0.4248062 , 0.35968992, 0.20310078, 0.19689922])"
      ]
     },
     "execution_count": 23,
     "metadata": {},
     "output_type": "execute_result"
    }
   ],
   "source": [
    "Y_train"
   ]
  },
  {
   "cell_type": "code",
   "execution_count": 24,
   "metadata": {},
   "outputs": [
    {
     "name": "stdout",
     "output_type": "stream",
     "text": [
      "Train on 59 samples, validate on 15 samples\n",
      "Epoch 1/20\n",
      "59/59 - 0s - loss: 0.1004 - val_loss: 0.1100\n",
      "Epoch 2/20\n",
      "59/59 - 0s - loss: 0.0484 - val_loss: 0.0474\n",
      "Epoch 3/20\n",
      "59/59 - 0s - loss: 0.0287 - val_loss: 0.0296\n",
      "Epoch 4/20\n",
      "59/59 - 0s - loss: 0.0258 - val_loss: 0.0267\n",
      "Epoch 5/20\n",
      "59/59 - 0s - loss: 0.0255 - val_loss: 0.0264\n",
      "Epoch 6/20\n",
      "59/59 - 0s - loss: 0.0253 - val_loss: 0.0255\n",
      "Epoch 7/20\n",
      "59/59 - 0s - loss: 0.0254 - val_loss: 0.0254\n",
      "Epoch 8/20\n",
      "59/59 - 0s - loss: 0.0250 - val_loss: 0.0260\n",
      "Epoch 9/20\n",
      "59/59 - 0s - loss: 0.0251 - val_loss: 0.0253\n",
      "Epoch 10/20\n",
      "59/59 - 0s - loss: 0.0248 - val_loss: 0.0253\n",
      "Epoch 11/20\n",
      "59/59 - 0s - loss: 0.0246 - val_loss: 0.0248\n",
      "Epoch 12/20\n",
      "59/59 - 0s - loss: 0.0250 - val_loss: 0.0246\n",
      "Epoch 13/20\n",
      "59/59 - 0s - loss: 0.0250 - val_loss: 0.0246\n",
      "Epoch 14/20\n",
      "59/59 - 0s - loss: 0.0245 - val_loss: 0.0245\n",
      "Epoch 15/20\n",
      "59/59 - 0s - loss: 0.0243 - val_loss: 0.0250\n",
      "Epoch 16/20\n",
      "59/59 - 0s - loss: 0.0247 - val_loss: 0.0240\n",
      "Epoch 17/20\n",
      "59/59 - 0s - loss: 0.0245 - val_loss: 0.0243\n",
      "Epoch 18/20\n",
      "59/59 - 0s - loss: 0.0247 - val_loss: 0.0241\n",
      "Epoch 19/20\n",
      "59/59 - 0s - loss: 0.0244 - val_loss: 0.0244\n",
      "Epoch 20/20\n",
      "59/59 - 0s - loss: 0.0242 - val_loss: 0.0237\n",
      "dict_keys(['loss', 'val_loss'])\n"
     ]
    },
    {
     "data": {
      "image/png": "[encoded data removed]",
      "text/plain": [
       "<Figure size 432x288 with 1 Axes>"
      ]
     },
     "metadata": {
      "needs_background": "light"
     },
     "output_type": "display_data"
    }
   ],
   "source": [
    "# reshape input to be [samples, time steps, features]\n",
    "X_train = np.reshape(X_train, (X_train.shape[0], 1, X_train.shape[1]))\n",
    "X_val = np.reshape(X_val, (X_val.shape[0], 1, X_val.shape[1]))\n",
    "\n",
    "# Generate LSTM network\n",
    "model = tf.keras.Sequential()\n",
    "model.add(LSTM(4, input_shape=(1, previous)))\n",
    "model.add(Dense(1))\n",
    "model.compile(loss='mean_squared_error', optimizer='adam')\n",
    "history=model.fit(X_train, Y_train, validation_split=0.2, epochs=20, batch_size=1, verbose=2)\n",
    "\n",
    "# list all data in history\n",
    "print(history.history.keys())\n",
    "# summarize history for accuracy\n",
    "plt.plot(history.history['loss'])\n",
    "plt.plot(history.history['val_loss'])\n",
    "plt.title('model loss')\n",
    "plt.ylabel('loss')\n",
    "plt.xlabel('epoch')\n",
    "plt.legend(['train', 'val'], loc='upper left')\n",
    "plt.show()"
   ]
  },
  {
   "cell_type": "code",
   "execution_count": 25,
   "metadata": {},
   "outputs": [],
   "source": [
    "# Generate predictions\n",
    "trainpred = model.predict(X_train)\n",
    "valpred = model.predict(X_val)"
   ]
  },
  {
   "cell_type": "code",
   "execution_count": 26,
   "metadata": {
    "scrolled": true
   },
   "outputs": [
    {
     "data": {
      "text/plain": [
       "array([[0.32897526],\n",
       "       [0.40430683],\n",
       "       [0.45102513],\n",
       "       [0.38054663],\n",
       "       [0.4082244 ],\n",
       "       [0.37430447],\n",
       "       [0.38333184],\n",
       "       [0.4707235 ],\n",
       "       [0.5076707 ],\n",
       "       [0.5056894 ],\n",
       "       [0.52878624],\n",
       "       [0.52629375],\n",
       "       [0.40548402],\n",
       "       [0.39629686],\n",
       "       [0.23930062],\n",
       "       [0.20271644],\n",
       "       [0.17901056],\n",
       "       [0.18852077],\n",
       "       [0.22792895],\n",
       "       [0.2958971 ],\n",
       "       [0.22722018],\n",
       "       [0.22402991],\n",
       "       [0.23247384],\n",
       "       [0.16225797],\n",
       "       [0.18822497],\n",
       "       [0.17914951],\n",
       "       [0.19923356],\n",
       "       [0.22752652],\n",
       "       [0.22814502],\n",
       "       [0.24171479],\n",
       "       [0.33881348],\n",
       "       [0.31493035],\n",
       "       [0.39572418],\n",
       "       [0.33696407],\n",
       "       [0.33925784],\n",
       "       [0.4282834 ],\n",
       "       [0.37352812],\n",
       "       [0.45891798],\n",
       "       [0.46343744],\n",
       "       [0.47589648],\n",
       "       [0.5144316 ],\n",
       "       [0.48016864],\n",
       "       [0.4809599 ],\n",
       "       [0.47965086],\n",
       "       [0.43302244],\n",
       "       [0.49638462],\n",
       "       [0.49047226],\n",
       "       [0.59846145],\n",
       "       [0.50197816],\n",
       "       [0.5208    ],\n",
       "       [0.43872344],\n",
       "       [0.3432054 ],\n",
       "       [0.37659305],\n",
       "       [0.3333732 ],\n",
       "       [0.352858  ],\n",
       "       [0.39026785],\n",
       "       [0.40562963],\n",
       "       [0.41726953],\n",
       "       [0.42390597],\n",
       "       [0.44223332],\n",
       "       [0.4600001 ],\n",
       "       [0.4648655 ],\n",
       "       [0.53426474],\n",
       "       [0.5122141 ],\n",
       "       [0.59212214],\n",
       "       [0.59749305],\n",
       "       [0.56415236],\n",
       "       [0.6293395 ],\n",
       "       [0.54637617],\n",
       "       [0.47887534],\n",
       "       [0.4159612 ],\n",
       "       [0.3639164 ],\n",
       "       [0.3551833 ],\n",
       "       [0.3328274 ]], dtype=float32)"
      ]
     },
     "execution_count": 26,
     "metadata": {},
     "output_type": "execute_result"
    }
   ],
   "source": [
    "trainpred"
   ]
  },
  {
   "cell_type": "code",
   "execution_count": 27,
   "metadata": {},
   "outputs": [
    {
     "data": {
      "text/plain": [
       "array([[0.35867757],\n",
       "       [0.32044363],\n",
       "       [0.37255108],\n",
       "       [0.35630298],\n",
       "       [0.40184802],\n",
       "       [0.39551514],\n",
       "       [0.43648255],\n",
       "       [0.41124535],\n",
       "       [0.39343852],\n",
       "       [0.4814753 ],\n",
       "       [0.49344712],\n",
       "       [0.5290649 ],\n",
       "       [0.6214334 ],\n",
       "       [0.62983704]], dtype=float32)"
      ]
     },
     "execution_count": 27,
     "metadata": {},
     "output_type": "execute_result"
    }
   ],
   "source": [
    "valpred"
   ]
  },
  {
   "cell_type": "code",
   "execution_count": 28,
   "metadata": {},
   "outputs": [],
   "source": [
    "# Convert predictions back to normal values\n",
    "trainpred = scaler.inverse_transform(trainpred)\n",
    "Y_train = scaler.inverse_transform([Y_train])\n",
    "valpred = scaler.inverse_transform(valpred)\n",
    "Y_val = scaler.inverse_transform([Y_val])\n",
    "predictions = valpred"
   ]
  },
  {
   "cell_type": "code",
   "execution_count": 29,
   "metadata": {},
   "outputs": [
    {
     "name": "stdout",
     "output_type": "stream",
     "text": [
      "Train Score: 99.76 RMSE\n",
      "Validation Score: 96.76 RMSE\n"
     ]
    }
   ],
   "source": [
    "import math\n",
    "from sklearn.metrics import mean_squared_error\n",
    "\n",
    "# calculate RMSE\n",
    "trainScore = math.sqrt(mean_squared_error(Y_train[0], trainpred[:,0]))\n",
    "print('Train Score: %.2f RMSE' % (trainScore))\n",
    "valScore = math.sqrt(mean_squared_error(Y_val[0], valpred[:,0]))\n",
    "print('Validation Score: %.2f RMSE' % (valScore))"
   ]
  },
  {
   "cell_type": "code",
   "execution_count": 30,
   "metadata": {},
   "outputs": [],
   "source": [
    "# Train predictions\n",
    "trainpredPlot = np.empty_like(df)\n",
    "trainpredPlot[:, :] = np.nan\n",
    "trainpredPlot[previous:len(trainpred)+previous, :] = trainpred"
   ]
  },
  {
   "cell_type": "code",
   "execution_count": 31,
   "metadata": {},
   "outputs": [],
   "source": [
    "# Validation predictions\n",
    "valpredPlot = np.empty_like(df)\n",
    "valpredPlot[:, :] = np.nan\n",
    "valpredPlot[len(trainpred)+(previous*2)+1:len(df)-1, :] = valpred"
   ]
  },
  {
   "cell_type": "code",
   "execution_count": 32,
   "metadata": {},
   "outputs": [
    {
     "data": {
      "image/png": "[encoded data removed]",
      "text/plain": [
       "<Figure size 432x288 with 1 Axes>"
      ]
     },
     "metadata": {
      "needs_background": "light"
     },
     "output_type": "display_data"
    }
   ],
   "source": [
    "# Plot all predictions\n",
    "inversetransform, =plt.plot(scaler.inverse_transform(df))\n",
    "trainpred, =plt.plot(trainpredPlot)\n",
    "valpred, =plt.plot(valpredPlot)\n",
    "plt.xlabel('Number of weeks')\n",
    "plt.ylabel('Cancellations')\n",
    "plt.title(\"Predicted vs. Actual Cancellations Per Week\")\n",
    "plt.show()"
   ]
  },
  {
   "cell_type": "code",
   "execution_count": 33,
   "metadata": {},
   "outputs": [],
   "source": [
    "Y_val=Y_val.reshape(-1)\n",
    "Y_val.shape\n",
    "Y_val=pd.Series(Y_val)"
   ]
  },
  {
   "cell_type": "code",
   "execution_count": 34,
   "metadata": {},
   "outputs": [
    {
     "data": {
      "text/plain": [
       "0     148.0\n",
       "1     295.0\n",
       "2     277.0\n",
       "3     301.0\n",
       "4     229.0\n",
       "5     353.0\n",
       "6     283.0\n",
       "7     226.0\n",
       "8     432.0\n",
       "9     447.0\n",
       "10    417.0\n",
       "11    568.0\n",
       "12    532.0\n",
       "13    385.0\n",
       "dtype: float64"
      ]
     },
     "execution_count": 34,
     "metadata": {},
     "output_type": "execute_result"
    }
   ],
   "source": [
    "Y_val"
   ]
  },
  {
   "cell_type": "code",
   "execution_count": 35,
   "metadata": {},
   "outputs": [],
   "source": [
    "predictions=predictions.reshape(-1)\n",
    "predictions.shape\n",
    "predictions=pd.Series(predictions)"
   ]
  },
  {
   "cell_type": "code",
   "execution_count": 36,
   "metadata": {},
   "outputs": [
    {
     "data": {
      "text/plain": [
       "0     252.347031\n",
       "1     227.686142\n",
       "2     261.295441\n",
       "3     250.815430\n",
       "4     280.191986\n",
       "5     276.107269\n",
       "6     302.531250\n",
       "7     286.253265\n",
       "8     274.767853\n",
       "9     331.551575\n",
       "10    339.273407\n",
       "11    362.246857\n",
       "12    421.824524\n",
       "13    427.244904\n",
       "dtype: float32"
      ]
     },
     "execution_count": 36,
     "metadata": {},
     "output_type": "execute_result"
    }
   ],
   "source": [
    "predictions"
   ]
  },
  {
   "cell_type": "code",
   "execution_count": 37,
   "metadata": {},
   "outputs": [],
   "source": [
    "import numpy as np\n",
    "\n",
    "def mda(actual: np.ndarray, predicted: np.ndarray):\n",
    "    \"\"\" Mean Directional Accuracy \"\"\"\n",
    "    return np.mean((np.sign(actual[1:] - actual[:-1]) == np.sign(predicted[1:] - predicted[:-1])).astype(int))"
   ]
  },
  {
   "cell_type": "code",
   "execution_count": 38,
   "metadata": {},
   "outputs": [
    {
     "data": {
      "text/plain": [
       "0.8571428571428571"
      ]
     },
     "execution_count": 38,
     "metadata": {},
     "output_type": "execute_result"
    }
   ],
   "source": [
    "mda(Y_val, predictions)"
   ]
  },
  {
   "cell_type": "code",
   "execution_count": 39,
   "metadata": {},
   "outputs": [
    {
     "name": "stdout",
     "output_type": "stream",
     "text": [
      "RMSE: 96.761472\n"
     ]
    }
   ],
   "source": [
    "# https://machinelearningmastery.com/time-series-forecasting-performance-measures-with-python/\n",
    "\n",
    "from sklearn.metrics import mean_squared_error\n",
    "from math import sqrt\n",
    "mse = mean_squared_error(Y_val, predictions)\n",
    "rmse = sqrt(mse)\n",
    "print('RMSE: %f' % rmse)"
   ]
  },
  {
   "cell_type": "code",
   "execution_count": 40,
   "metadata": {},
   "outputs": [
    {
     "data": {
      "text/plain": [
       "0     104.347031\n",
       "1     -67.313858\n",
       "2     -15.704559\n",
       "3     -50.184570\n",
       "4      51.191986\n",
       "5     -76.892731\n",
       "6      19.531250\n",
       "7      60.253265\n",
       "8    -157.232147\n",
       "9    -115.448425\n",
       "10    -77.726593\n",
       "11   -205.753143\n",
       "12   -110.175476\n",
       "13     42.244904\n",
       "dtype: float64"
      ]
     },
     "execution_count": 40,
     "metadata": {},
     "output_type": "execute_result"
    }
   ],
   "source": [
    "forecast_error = (predictions-Y_val)\n",
    "forecast_error"
   ]
  },
  {
   "cell_type": "code",
   "execution_count": 41,
   "metadata": {},
   "outputs": [
    {
     "data": {
      "text/plain": [
       "-42.77593340192522"
      ]
     },
     "execution_count": 41,
     "metadata": {},
     "output_type": "execute_result"
    }
   ],
   "source": [
    "mean_forecast_error = np.mean(forecast_error)\n",
    "mean_forecast_error"
   ]
  },
  {
   "cell_type": "code",
   "execution_count": 42,
   "metadata": {},
   "outputs": [
    {
     "data": {
      "text/plain": [
       "array([[[0.11782946, 0.20465116, 0.32093023, 0.46511628, 0.21395349]],\n",
       "\n",
       "       [[0.20465116, 0.32093023, 0.46511628, 0.21395349, 0.44496124]],\n",
       "\n",
       "       [[0.32093023, 0.46511628, 0.21395349, 0.44496124, 0.63100775]],\n",
       "\n",
       "       [[0.46511628, 0.21395349, 0.44496124, 0.63100775, 0.26356589]],\n",
       "\n",
       "       [[0.21395349, 0.44496124, 0.63100775, 0.26356589, 0.29612403]],\n",
       "\n",
       "       [[0.44496124, 0.63100775, 0.26356589, 0.29612403, 0.37984496]],\n",
       "\n",
       "       [[0.63100775, 0.26356589, 0.29612403, 0.37984496, 0.48062016]],\n",
       "\n",
       "       [[0.26356589, 0.29612403, 0.37984496, 0.48062016, 0.63255814]],\n",
       "\n",
       "       [[0.29612403, 0.37984496, 0.48062016, 0.63255814, 0.60930233]],\n",
       "\n",
       "       [[0.37984496, 0.48062016, 0.63255814, 0.60930233, 0.46976744]],\n",
       "\n",
       "       [[0.48062016, 0.63255814, 0.60930233, 0.46976744, 0.57364341]],\n",
       "\n",
       "       [[0.63255814, 0.60930233, 0.46976744, 0.57364341, 0.64031008]],\n",
       "\n",
       "       [[0.60930233, 0.46976744, 0.57364341, 0.64031008, 0.2       ]],\n",
       "\n",
       "       [[0.46976744, 0.57364341, 0.64031008, 0.2       , 0.27596899]],\n",
       "\n",
       "       [[0.57364341, 0.64031008, 0.2       , 0.27596899, 0.07131783]],\n",
       "\n",
       "       [[0.64031008, 0.2       , 0.27596899, 0.07131783, 0.09302326]],\n",
       "\n",
       "       [[0.2       , 0.27596899, 0.07131783, 0.09302326, 0.03100775]],\n",
       "\n",
       "       [[0.27596899, 0.07131783, 0.09302326, 0.03100775, 0.12713178]],\n",
       "\n",
       "       [[0.07131783, 0.09302326, 0.03100775, 0.12713178, 0.22945736]],\n",
       "\n",
       "       [[0.09302326, 0.03100775, 0.12713178, 0.22945736, 0.3751938 ]],\n",
       "\n",
       "       [[0.03100775, 0.12713178, 0.22945736, 0.3751938 , 0.        ]],\n",
       "\n",
       "       [[0.12713178, 0.22945736, 0.3751938 , 0.        , 0.03410853]],\n",
       "\n",
       "       [[0.22945736, 0.3751938 , 0.        , 0.03410853, 0.24806202]],\n",
       "\n",
       "       [[0.3751938 , 0.        , 0.03410853, 0.24806202, 0.02945736]],\n",
       "\n",
       "       [[0.        , 0.03410853, 0.24806202, 0.02945736, 0.02170543]],\n",
       "\n",
       "       [[0.03410853, 0.24806202, 0.02945736, 0.02170543, 0.06821705]],\n",
       "\n",
       "       [[0.24806202, 0.02945736, 0.02170543, 0.06821705, 0.19689922]],\n",
       "\n",
       "       [[0.02945736, 0.02170543, 0.06821705, 0.19689922, 0.19689922]],\n",
       "\n",
       "       [[0.02170543, 0.06821705, 0.19689922, 0.19689922, 0.10542636]],\n",
       "\n",
       "       [[0.06821705, 0.19689922, 0.19689922, 0.10542636, 0.14883721]],\n",
       "\n",
       "       [[0.19689922, 0.19689922, 0.10542636, 0.14883721, 0.51782946]],\n",
       "\n",
       "       [[0.19689922, 0.10542636, 0.14883721, 0.51782946, 0.29767442]],\n",
       "\n",
       "       [[0.10542636, 0.14883721, 0.51782946, 0.29767442, 0.42325581]],\n",
       "\n",
       "       [[0.14883721, 0.51782946, 0.29767442, 0.42325581, 0.1751938 ]],\n",
       "\n",
       "       [[0.51782946, 0.29767442, 0.42325581, 0.1751938 , 0.32868217]],\n",
       "\n",
       "       [[0.29767442, 0.42325581, 0.1751938 , 0.32868217, 0.63875969]],\n",
       "\n",
       "       [[0.42325581, 0.1751938 , 0.32868217, 0.63875969, 0.31782946]],\n",
       "\n",
       "       [[0.1751938 , 0.32868217, 0.63875969, 0.31782946, 0.49612403]],\n",
       "\n",
       "       [[0.32868217, 0.63875969, 0.31782946, 0.49612403, 0.52093023]],\n",
       "\n",
       "       [[0.63875969, 0.31782946, 0.49612403, 0.52093023, 0.57829457]],\n",
       "\n",
       "       [[0.31782946, 0.49612403, 0.52093023, 0.57829457, 0.57674419]],\n",
       "\n",
       "       [[0.49612403, 0.52093023, 0.57829457, 0.57674419, 0.42170543]],\n",
       "\n",
       "       [[0.52093023, 0.57829457, 0.57674419, 0.42170543, 0.47906977]],\n",
       "\n",
       "       [[0.57829457, 0.57674419, 0.42170543, 0.47906977, 0.55968992]],\n",
       "\n",
       "       [[0.57674419, 0.42170543, 0.47906977, 0.55968992, 0.38449612]],\n",
       "\n",
       "       [[0.42170543, 0.47906977, 0.55968992, 0.38449612, 0.58449612]],\n",
       "\n",
       "       [[0.47906977, 0.55968992, 0.38449612, 0.58449612, 0.56744186]],\n",
       "\n",
       "       [[0.55968992, 0.38449612, 0.58449612, 0.56744186, 0.9379845 ]],\n",
       "\n",
       "       [[0.38449612, 0.58449612, 0.56744186, 0.9379845 , 0.33023256]],\n",
       "\n",
       "       [[0.58449612, 0.56744186, 0.9379845 , 0.33023256, 0.49147287]],\n",
       "\n",
       "       [[0.56744186, 0.9379845 , 0.33023256, 0.49147287, 0.40620155]],\n",
       "\n",
       "       [[0.9379845 , 0.33023256, 0.49147287, 0.40620155, 0.29302326]],\n",
       "\n",
       "       [[0.33023256, 0.49147287, 0.40620155, 0.29302326, 0.30852713]],\n",
       "\n",
       "       [[0.49147287, 0.40620155, 0.29302326, 0.30852713, 0.29457364]],\n",
       "\n",
       "       [[0.40620155, 0.29302326, 0.30852713, 0.29457364, 0.36589147]],\n",
       "\n",
       "       [[0.29302326, 0.30852713, 0.29457364, 0.36589147, 0.44651163]],\n",
       "\n",
       "       [[0.30852713, 0.29457364, 0.36589147, 0.44651163, 0.4248062 ]],\n",
       "\n",
       "       [[0.29457364, 0.36589147, 0.44651163, 0.4248062 , 0.39534884]],\n",
       "\n",
       "       [[0.36589147, 0.44651163, 0.4248062 , 0.39534884, 0.42170543]],\n",
       "\n",
       "       [[0.44651163, 0.4248062 , 0.39534884, 0.42170543, 0.50697674]],\n",
       "\n",
       "       [[0.4248062 , 0.39534884, 0.42170543, 0.50697674, 0.52093023]],\n",
       "\n",
       "       [[0.39534884, 0.42170543, 0.50697674, 0.52093023, 0.46511628]],\n",
       "\n",
       "       [[0.42170543, 0.50697674, 0.52093023, 0.46511628, 0.69922481]],\n",
       "\n",
       "       [[0.50697674, 0.52093023, 0.46511628, 0.69922481, 0.55503876]],\n",
       "\n",
       "       [[0.52093023, 0.46511628, 0.69922481, 0.55503876, 0.80465116]],\n",
       "\n",
       "       [[0.46511628, 0.69922481, 0.55503876, 0.80465116, 0.70077519]],\n",
       "\n",
       "       [[0.69922481, 0.55503876, 0.80465116, 0.70077519, 0.5379845 ]],\n",
       "\n",
       "       [[0.55503876, 0.80465116, 0.70077519, 0.5379845 , 0.80155039]],\n",
       "\n",
       "       [[0.80465116, 0.70077519, 0.5379845 , 0.80155039, 0.5627907 ]],\n",
       "\n",
       "       [[0.70077519, 0.5379845 , 0.80155039, 0.5627907 , 0.32868217]],\n",
       "\n",
       "       [[0.5379845 , 0.80155039, 0.5627907 , 0.32868217, 0.26976744]],\n",
       "\n",
       "       [[0.80155039, 0.5627907 , 0.32868217, 0.26976744, 0.4248062 ]],\n",
       "\n",
       "       [[0.5627907 , 0.32868217, 0.26976744, 0.4248062 , 0.35968992]],\n",
       "\n",
       "       [[0.32868217, 0.26976744, 0.4248062 , 0.35968992, 0.20310078]]])"
      ]
     },
     "execution_count": 42,
     "metadata": {},
     "output_type": "execute_result"
    }
   ],
   "source": [
    "X_train"
   ]
  },
  {
   "cell_type": "code",
   "execution_count": 43,
   "metadata": {},
   "outputs": [],
   "source": [
    "# Test (unseen) predictions\n",
    "# (t) and (t-5)\n",
    "Xnew = np.array([[407,463,456,407,374],[463,456,407,374,391],[456,407,374,391,298],[407,374,391,298,351],[374,391,298,351,222],[391,298,351,222,351],[298,351,222,351,253],[351,222,351,253,269],[222,351,253,269,341],[351,253,269,341,201]])"
   ]
  },
  {
   "cell_type": "code",
   "execution_count": 44,
   "metadata": {},
   "outputs": [
    {
     "data": {
      "text/plain": [
       "array([[407, 463, 456, 407, 374],\n",
       "       [463, 456, 407, 374, 391],\n",
       "       [456, 407, 374, 391, 298],\n",
       "       [407, 374, 391, 298, 351],\n",
       "       [374, 391, 298, 351, 222],\n",
       "       [391, 298, 351, 222, 351],\n",
       "       [298, 351, 222, 351, 253],\n",
       "       [351, 222, 351, 253, 269],\n",
       "       [222, 351, 253, 269, 341],\n",
       "       [351, 253, 269, 341, 201]])"
      ]
     },
     "execution_count": 44,
     "metadata": {},
     "output_type": "execute_result"
    }
   ],
   "source": [
    "Xnew"
   ]
  },
  {
   "cell_type": "code",
   "execution_count": 45,
   "metadata": {},
   "outputs": [],
   "source": [
    "Xnew = scaler.fit_transform(Xnew)\n",
    "Xnew\n",
    "Xnewformat = np.reshape(Xnew, (Xnew.shape[0], 1, Xnew.shape[1]))\n",
    "ynew=model.predict(Xnewformat)"
   ]
  },
  {
   "cell_type": "code",
   "execution_count": 46,
   "metadata": {},
   "outputs": [
    {
     "data": {
      "text/plain": [
       "(10, 5)"
      ]
     },
     "execution_count": 46,
     "metadata": {},
     "output_type": "execute_result"
    }
   ],
   "source": [
    "Xnew.shape"
   ]
  },
  {
   "cell_type": "code",
   "execution_count": 47,
   "metadata": {},
   "outputs": [
    {
     "data": {
      "text/plain": [
       "array([[0.7657795 ],\n",
       "       [0.7248678 ],\n",
       "       [0.5630732 ],\n",
       "       [0.58574754],\n",
       "       [0.34254575],\n",
       "       [0.4646945 ],\n",
       "       [0.32259655],\n",
       "       [0.33322692],\n",
       "       [0.44737512],\n",
       "       [0.23379984]], dtype=float32)"
      ]
     },
     "execution_count": 47,
     "metadata": {},
     "output_type": "execute_result"
    }
   ],
   "source": [
    "ynew"
   ]
  },
  {
   "cell_type": "code",
   "execution_count": 48,
   "metadata": {},
   "outputs": [
    {
     "data": {
      "text/plain": [
       "numpy.ndarray"
      ]
     },
     "execution_count": 48,
     "metadata": {},
     "output_type": "execute_result"
    }
   ],
   "source": [
    "type(ynew)"
   ]
  },
  {
   "cell_type": "code",
   "execution_count": 49,
   "metadata": {},
   "outputs": [
    {
     "data": {
      "text/plain": [
       "(10, 1)"
      ]
     },
     "execution_count": 49,
     "metadata": {},
     "output_type": "execute_result"
    }
   ],
   "source": [
    "ynew.shape"
   ]
  },
  {
   "cell_type": "code",
   "execution_count": 50,
   "metadata": {},
   "outputs": [],
   "source": [
    "actual = np.array([[391,298,351,222,351,253,269,341,201,129]])"
   ]
  },
  {
   "cell_type": "code",
   "execution_count": 51,
   "metadata": {},
   "outputs": [
    {
     "data": {
      "text/plain": [
       "(10, 1)"
      ]
     },
     "execution_count": 51,
     "metadata": {},
     "output_type": "execute_result"
    }
   ],
   "source": [
    "actual=actual.reshape(10,-1)\n",
    "actual.shape"
   ]
  },
  {
   "cell_type": "code",
   "execution_count": 52,
   "metadata": {},
   "outputs": [
    {
     "data": {
      "text/plain": [
       "array([[391],\n",
       "       [298],\n",
       "       [351],\n",
       "       [222],\n",
       "       [351],\n",
       "       [253],\n",
       "       [269],\n",
       "       [341],\n",
       "       [201],\n",
       "       [129]])"
      ]
     },
     "execution_count": 52,
     "metadata": {},
     "output_type": "execute_result"
    }
   ],
   "source": [
    "actual"
   ]
  },
  {
   "cell_type": "code",
   "execution_count": 53,
   "metadata": {},
   "outputs": [],
   "source": [
    "ynew=ynew.reshape(-1)\n",
    "actual=actual.reshape(-1)\n",
    "actualpd=pd.Series(actual)"
   ]
  },
  {
   "cell_type": "code",
   "execution_count": 54,
   "metadata": {},
   "outputs": [
    {
     "data": {
      "text/plain": [
       "0.0"
      ]
     },
     "execution_count": 54,
     "metadata": {},
     "output_type": "execute_result"
    }
   ],
   "source": [
    "np.min(df)"
   ]
  },
  {
   "cell_type": "code",
   "execution_count": 55,
   "metadata": {},
   "outputs": [
    {
     "data": {
      "text/plain": [
       "array([0.7657795 , 0.7248678 , 0.5630732 , 0.58574754, 0.34254575,\n",
       "       0.4646945 , 0.32259655, 0.33322692, 0.44737512, 0.23379984],\n",
       "      dtype=float32)"
      ]
     },
     "execution_count": 55,
     "metadata": {},
     "output_type": "execute_result"
    }
   ],
   "source": [
    "ynew"
   ]
  },
  {
   "cell_type": "code",
   "execution_count": 56,
   "metadata": {},
   "outputs": [],
   "source": [
    "maxcancel=np.max(tseries)"
   ]
  },
  {
   "cell_type": "code",
   "execution_count": 57,
   "metadata": {},
   "outputs": [],
   "source": [
    "mincancel=np.min(tseries)"
   ]
  },
  {
   "cell_type": "code",
   "execution_count": 58,
   "metadata": {},
   "outputs": [],
   "source": [
    "ynew = ynew * np.abs(maxcancel-mincancel) + np.min(tseries)\n",
    "ynewpd=pd.Series(ynew)"
   ]
  },
  {
   "cell_type": "code",
   "execution_count": 59,
   "metadata": {},
   "outputs": [
    {
     "data": {
      "text/plain": [
       "0    391\n",
       "1    298\n",
       "2    351\n",
       "3    222\n",
       "4    351\n",
       "5    253\n",
       "6    269\n",
       "7    341\n",
       "8    201\n",
       "9    129\n",
       "dtype: int64"
      ]
     },
     "execution_count": 59,
     "metadata": {},
     "output_type": "execute_result"
    }
   ],
   "source": [
    "actualpd"
   ]
  },
  {
   "cell_type": "code",
   "execution_count": 60,
   "metadata": {},
   "outputs": [
    {
     "data": {
      "text/plain": [
       "0    514.927734\n",
       "1    488.539734\n",
       "2    384.182220\n",
       "3    398.807159\n",
       "4    241.942001\n",
       "5    320.727966\n",
       "6    229.074768\n",
       "7    235.931366\n",
       "8    309.556946\n",
       "9    171.800903\n",
       "dtype: float32"
      ]
     },
     "execution_count": 60,
     "metadata": {},
     "output_type": "execute_result"
    }
   ],
   "source": [
    "ynewpd"
   ]
  },
  {
   "cell_type": "code",
   "execution_count": 61,
   "metadata": {},
   "outputs": [
    {
     "data": {
      "text/plain": [
       "0.8"
      ]
     },
     "execution_count": 61,
     "metadata": {},
     "output_type": "execute_result"
    }
   ],
   "source": [
    "mda(actualpd, ynewpd)"
   ]
  },
  {
   "cell_type": "code",
   "execution_count": 62,
   "metadata": {},
   "outputs": [
    {
     "name": "stdout",
     "output_type": "stream",
     "text": [
      "RMSE: 112.585967\n"
     ]
    }
   ],
   "source": [
    "mse = mean_squared_error(actualpd, ynewpd)\n",
    "rmse = sqrt(mse)\n",
    "print('RMSE: %f' % rmse)"
   ]
  },
  {
   "cell_type": "code",
   "execution_count": 63,
   "metadata": {},
   "outputs": [
    {
     "data": {
      "text/plain": [
       "0    123.927734\n",
       "1    190.539734\n",
       "2     33.182220\n",
       "3    176.807159\n",
       "4   -109.057999\n",
       "5     67.727966\n",
       "6    -39.925232\n",
       "7   -105.068634\n",
       "8    108.556946\n",
       "9     42.800903\n",
       "dtype: float64"
      ]
     },
     "execution_count": 63,
     "metadata": {},
     "output_type": "execute_result"
    }
   ],
   "source": [
    "forecast_error = (ynewpd-actualpd)\n",
    "forecast_error"
   ]
  },
  {
   "cell_type": "code",
   "execution_count": 64,
   "metadata": {},
   "outputs": [
    {
     "data": {
      "text/plain": [
       "48.94907989501953"
      ]
     },
     "execution_count": 64,
     "metadata": {},
     "output_type": "execute_result"
    }
   ],
   "source": [
    "mean_forecast_error = np.mean(forecast_error)\n",
    "mean_forecast_error"
   ]
  },
  {
   "cell_type": "code",
   "execution_count": 65,
   "metadata": {},
   "outputs": [
    {
     "data": {
      "image/png": "[encoded data removed]",
      "text/plain": [
       "<Figure size 432x288 with 1 Axes>"
      ]
     },
     "metadata": {
      "needs_background": "light"
     },
     "output_type": "display_data"
    }
   ],
   "source": [
    "predictons, =plt.plot(ynewpd, label='Predictions')\n",
    "actual, =plt.plot(actualpd, label='Actual')\n",
    "plt.xlabel('Number of weeks')\n",
    "plt.ylabel('Cancellations')\n",
    "plt.title(\"Predicted vs. Actual Cancellations Per Week\")\n",
    "plt.legend(loc = 'upper center')\n",
    "plt.show()"
   ]
  },
  {
   "cell_type": "markdown",
   "metadata": {},
   "source": [
    "## Memory Usage"
   ]
  },
  {
   "cell_type": "code",
   "execution_count": 1,
   "metadata": {},
   "outputs": [
    {
     "data": {
      "text/plain": [
       "0.0472564697265625"
      ]
     },
     "execution_count": 1,
     "metadata": {},
     "output_type": "execute_result"
    }
   ],
   "source": [
    "# https://stackoverflow.com/questions/276052/how-to-get-current-cpu-and-ram-usage-in-python\n",
    "\n",
    "import os\n",
    "import psutil\n",
    "pid = os.getpid()\n",
    "py = psutil.Process(pid)\n",
    "memoryUse = py.memory_info()[0]/2.**30\n",
    "memoryUse"
   ]
  },
  {
   "cell_type": "code",
   "execution_count": null,
   "metadata": {},
   "outputs": [],
   "source": []
  }
 ],
 "metadata": {
  "kernelspec": {
   "display_name": "Python 3",
   "language": "python",
   "name": "python3"
  },
  "language_info": {
   "codemirror_mode": {
    "name": "ipython",
    "version": 3
   },
   "file_extension": ".py",
   "mimetype": "text/x-python",
   "name": "python",
   "nbconvert_exporter": "python",
   "pygments_lexer": "ipython3",
   "version": "3.6.5"
  }
 },
 "nbformat": 4,
 "nbformat_minor": 2
}
