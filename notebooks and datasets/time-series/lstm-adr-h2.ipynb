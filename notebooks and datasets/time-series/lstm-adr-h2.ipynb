{
 "cells": [
  {
   "cell_type": "markdown",
   "metadata": {},
   "source": [
    "## Python version"
   ]
  },
  {
   "cell_type": "code",
   "execution_count": 1,
   "metadata": {},
   "outputs": [
    {
     "name": "stdout",
     "output_type": "stream",
     "text": [
      "3.6.5\n"
     ]
    }
   ],
   "source": [
    "from platform import python_version\n",
    "print(python_version())"
   ]
  },
  {
   "cell_type": "markdown",
   "metadata": {},
   "source": [
    "## Import Libraries"
   ]
  },
  {
   "cell_type": "code",
   "execution_count": 2,
   "metadata": {},
   "outputs": [
    {
     "name": "stderr",
     "output_type": "stream",
     "text": [
      "/home/michael/anaconda3/lib/python3.6/site-packages/tensorflow/python/framework/dtypes.py:523: FutureWarning: Passing (type, 1) or '1type' as a synonym of type is deprecated; in a future version of numpy, it will be understood as (type, (1,)) / '(1,)type'.\n",
      "  _np_qint8 = np.dtype([(\"qint8\", np.int8, 1)])\n",
      "/home/michael/anaconda3/lib/python3.6/site-packages/tensorflow/python/framework/dtypes.py:524: FutureWarning: Passing (type, 1) or '1type' as a synonym of type is deprecated; in a future version of numpy, it will be understood as (type, (1,)) / '(1,)type'.\n",
      "  _np_quint8 = np.dtype([(\"quint8\", np.uint8, 1)])\n",
      "/home/michael/anaconda3/lib/python3.6/site-packages/tensorflow/python/framework/dtypes.py:525: FutureWarning: Passing (type, 1) or '1type' as a synonym of type is deprecated; in a future version of numpy, it will be understood as (type, (1,)) / '(1,)type'.\n",
      "  _np_qint16 = np.dtype([(\"qint16\", np.int16, 1)])\n",
      "/home/michael/anaconda3/lib/python3.6/site-packages/tensorflow/python/framework/dtypes.py:526: FutureWarning: Passing (type, 1) or '1type' as a synonym of type is deprecated; in a future version of numpy, it will be understood as (type, (1,)) / '(1,)type'.\n",
      "  _np_quint16 = np.dtype([(\"quint16\", np.uint16, 1)])\n",
      "/home/michael/anaconda3/lib/python3.6/site-packages/tensorflow/python/framework/dtypes.py:527: FutureWarning: Passing (type, 1) or '1type' as a synonym of type is deprecated; in a future version of numpy, it will be understood as (type, (1,)) / '(1,)type'.\n",
      "  _np_qint32 = np.dtype([(\"qint32\", np.int32, 1)])\n",
      "/home/michael/anaconda3/lib/python3.6/site-packages/tensorflow/python/framework/dtypes.py:532: FutureWarning: Passing (type, 1) or '1type' as a synonym of type is deprecated; in a future version of numpy, it will be understood as (type, (1,)) / '(1,)type'.\n",
      "  np_resource = np.dtype([(\"resource\", np.ubyte, 1)])\n",
      "/home/michael/anaconda3/lib/python3.6/site-packages/tensorboard/compat/tensorflow_stub/dtypes.py:541: FutureWarning: Passing (type, 1) or '1type' as a synonym of type is deprecated; in a future version of numpy, it will be understood as (type, (1,)) / '(1,)type'.\n",
      "  _np_qint8 = np.dtype([(\"qint8\", np.int8, 1)])\n",
      "/home/michael/anaconda3/lib/python3.6/site-packages/tensorboard/compat/tensorflow_stub/dtypes.py:542: FutureWarning: Passing (type, 1) or '1type' as a synonym of type is deprecated; in a future version of numpy, it will be understood as (type, (1,)) / '(1,)type'.\n",
      "  _np_quint8 = np.dtype([(\"quint8\", np.uint8, 1)])\n",
      "/home/michael/anaconda3/lib/python3.6/site-packages/tensorboard/compat/tensorflow_stub/dtypes.py:543: FutureWarning: Passing (type, 1) or '1type' as a synonym of type is deprecated; in a future version of numpy, it will be understood as (type, (1,)) / '(1,)type'.\n",
      "  _np_qint16 = np.dtype([(\"qint16\", np.int16, 1)])\n",
      "/home/michael/anaconda3/lib/python3.6/site-packages/tensorboard/compat/tensorflow_stub/dtypes.py:544: FutureWarning: Passing (type, 1) or '1type' as a synonym of type is deprecated; in a future version of numpy, it will be understood as (type, (1,)) / '(1,)type'.\n",
      "  _np_quint16 = np.dtype([(\"quint16\", np.uint16, 1)])\n",
      "/home/michael/anaconda3/lib/python3.6/site-packages/tensorboard/compat/tensorflow_stub/dtypes.py:545: FutureWarning: Passing (type, 1) or '1type' as a synonym of type is deprecated; in a future version of numpy, it will be understood as (type, (1,)) / '(1,)type'.\n",
      "  _np_qint32 = np.dtype([(\"qint32\", np.int32, 1)])\n",
      "/home/michael/anaconda3/lib/python3.6/site-packages/tensorboard/compat/tensorflow_stub/dtypes.py:550: FutureWarning: Passing (type, 1) or '1type' as a synonym of type is deprecated; in a future version of numpy, it will be understood as (type, (1,)) / '(1,)type'.\n",
      "  np_resource = np.dtype([(\"resource\", np.ubyte, 1)])\n"
     ]
    }
   ],
   "source": [
    "import tensorflow\n",
    "tensorflow.random.set_seed(1234)"
   ]
  },
  {
   "cell_type": "code",
   "execution_count": 3,
   "metadata": {},
   "outputs": [
    {
     "name": "stderr",
     "output_type": "stream",
     "text": [
      "/home/michael/anaconda3/lib/python3.6/site-packages/statsmodels/tools/_testing.py:19: FutureWarning: pandas.util.testing is deprecated. Use the functions in the public API at pandas.testing instead.\n",
      "  import pandas.util.testing as tm\n"
     ]
    }
   ],
   "source": [
    "import numpy as np\n",
    "from numpy.random import seed\n",
    "seed(1)\n",
    "\n",
    "import os\n",
    "import csv\n",
    "import random\n",
    "import statsmodels.api as sm\n",
    "import statsmodels.formula.api as smf\n",
    "import pandas as pd\n",
    "from sklearn.model_selection import train_test_split\n",
    "from sklearn.linear_model import LogisticRegression\n",
    "from sklearn.ensemble import ExtraTreesClassifier\n",
    "from sklearn.preprocessing import MinMaxScaler\n",
    "\n",
    "dtypes = {\n",
    "        'IsCanceled':                                    'float64',\n",
    "        'LeadTime':                                          'float64',\n",
    "        'StaysInWeekendNights':                                     'float64',\n",
    "        'StaysInWeekNights':                                     'float64',\n",
    "        'Adults':                            'float64',\n",
    "        'Children':                            'float64',\n",
    "        'Babies':                                  'float64',\n",
    "        'Meal':                                    'category',\n",
    "        'Country':                                               'category',\n",
    "        'MarketSegment':                                    'category',\n",
    "        'DistributionChannel':                                       'category',\n",
    "        'IsRepeatedGuest':                               'float64',\n",
    "        'PreviousCancellations':                                    'float64',\n",
    "        'PreviousBookingsNotCanceled':                          'float64',\n",
    "        'ReservedRoomType':                                             'category',\n",
    "        'AssignedRoomType':                                            'category',\n",
    "        'BookingChanges':                                                'float64',\n",
    "        'DepositType':                                              'category',\n",
    "        'Agent':                                              'category',\n",
    "        'Company':                                 'category',\n",
    "        'DaysInWaitingList':                                           'float64',\n",
    "        'CustomerType':                                           'category',\n",
    "        'ADR':                                          'float64',\n",
    "        'RequiredCarParkingSpaces':                                      'float64',\n",
    "        'TotalOfSpecialRequests':                                              'float64',\n",
    "        'ReservationStatus':                                                'category'\n",
    "        }"
   ]
  },
  {
   "cell_type": "markdown",
   "metadata": {},
   "source": [
    "## Data Import and Manipulation"
   ]
  },
  {
   "cell_type": "code",
   "execution_count": 4,
   "metadata": {},
   "outputs": [],
   "source": [
    "train_df = pd.read_csv(\"H2full.csv\", dtype=dtypes, converters={'ArrivalDateWeekNumber': '{:0>2}'.format})"
   ]
  },
  {
   "cell_type": "code",
   "execution_count": 5,
   "metadata": {},
   "outputs": [
    {
     "data": {
      "text/plain": [
       "pandas.core.frame.DataFrame"
      ]
     },
     "execution_count": 5,
     "metadata": {},
     "output_type": "execute_result"
    }
   ],
   "source": [
    "a=train_df.head()\n",
    "b=train_df\n",
    "b\n",
    "c=b.sort_values(['ArrivalDateYear','ArrivalDateWeekNumber'], ascending=True)\n",
    "c=pd.DataFrame(c)\n",
    "c\n",
    "type(c)"
   ]
  },
  {
   "cell_type": "code",
   "execution_count": 6,
   "metadata": {},
   "outputs": [
    {
     "data": {
      "text/html": [
       "<div>\n",
       "<style scoped>\n",
       "    .dataframe tbody tr th:only-of-type {\n",
       "        vertical-align: middle;\n",
       "    }\n",
       "\n",
       "    .dataframe tbody tr th {\n",
       "        vertical-align: top;\n",
       "    }\n",
       "\n",
       "    .dataframe thead th {\n",
       "        text-align: right;\n",
       "    }\n",
       "</style>\n",
       "<table border=\"1\" class=\"dataframe\">\n",
       "  <thead>\n",
       "    <tr style=\"text-align: right;\">\n",
       "      <th></th>\n",
       "      <th>ArrivalDateYear</th>\n",
       "      <th>ArrivalDateWeekNumber</th>\n",
       "    </tr>\n",
       "  </thead>\n",
       "  <tbody>\n",
       "    <tr>\n",
       "      <th>0</th>\n",
       "      <td>2015</td>\n",
       "      <td>27</td>\n",
       "    </tr>\n",
       "    <tr>\n",
       "      <th>1</th>\n",
       "      <td>2015</td>\n",
       "      <td>27</td>\n",
       "    </tr>\n",
       "    <tr>\n",
       "      <th>2</th>\n",
       "      <td>2015</td>\n",
       "      <td>27</td>\n",
       "    </tr>\n",
       "    <tr>\n",
       "      <th>3</th>\n",
       "      <td>2015</td>\n",
       "      <td>27</td>\n",
       "    </tr>\n",
       "    <tr>\n",
       "      <th>4</th>\n",
       "      <td>2015</td>\n",
       "      <td>27</td>\n",
       "    </tr>\n",
       "    <tr>\n",
       "      <th>...</th>\n",
       "      <td>...</td>\n",
       "      <td>...</td>\n",
       "    </tr>\n",
       "    <tr>\n",
       "      <th>79325</th>\n",
       "      <td>2017</td>\n",
       "      <td>35</td>\n",
       "    </tr>\n",
       "    <tr>\n",
       "      <th>79326</th>\n",
       "      <td>2017</td>\n",
       "      <td>35</td>\n",
       "    </tr>\n",
       "    <tr>\n",
       "      <th>79327</th>\n",
       "      <td>2017</td>\n",
       "      <td>35</td>\n",
       "    </tr>\n",
       "    <tr>\n",
       "      <th>79328</th>\n",
       "      <td>2017</td>\n",
       "      <td>35</td>\n",
       "    </tr>\n",
       "    <tr>\n",
       "      <th>79329</th>\n",
       "      <td>2017</td>\n",
       "      <td>35</td>\n",
       "    </tr>\n",
       "  </tbody>\n",
       "</table>\n",
       "<p>79330 rows × 2 columns</p>\n",
       "</div>"
      ],
      "text/plain": [
       "       ArrivalDateYear ArrivalDateWeekNumber\n",
       "0                 2015                    27\n",
       "1                 2015                    27\n",
       "2                 2015                    27\n",
       "3                 2015                    27\n",
       "4                 2015                    27\n",
       "...                ...                   ...\n",
       "79325             2017                    35\n",
       "79326             2017                    35\n",
       "79327             2017                    35\n",
       "79328             2017                    35\n",
       "79329             2017                    35\n",
       "\n",
       "[79330 rows x 2 columns]"
      ]
     },
     "execution_count": 6,
     "metadata": {},
     "output_type": "execute_result"
    }
   ],
   "source": [
    "from pandas import DataFrame  \n",
    "\n",
    "df = DataFrame(c, columns= ['ArrivalDateYear', 'ArrivalDateWeekNumber']) \n",
    "df"
   ]
  },
  {
   "cell_type": "code",
   "execution_count": 7,
   "metadata": {},
   "outputs": [
    {
     "name": "stdout",
     "output_type": "stream",
     "text": [
      "0        201527\n",
      "1        201527\n",
      "2        201527\n",
      "3        201527\n",
      "4        201527\n",
      "          ...  \n",
      "79325    201735\n",
      "79326    201735\n",
      "79327    201735\n",
      "79328    201735\n",
      "79329    201735\n",
      "Length: 79330, dtype: object\n"
     ]
    }
   ],
   "source": [
    "# https://datatofish.com/concatenate-values-python/\n",
    "\n",
    "df1 = df['ArrivalDateYear'].map(str) + df['ArrivalDateWeekNumber'].map(str)\n",
    "print (df1)\n",
    "df1=pd.DataFrame(df1)"
   ]
  },
  {
   "cell_type": "code",
   "execution_count": 8,
   "metadata": {
    "scrolled": true
   },
   "outputs": [
    {
     "data": {
      "text/html": [
       "<div>\n",
       "<style scoped>\n",
       "    .dataframe tbody tr th:only-of-type {\n",
       "        vertical-align: middle;\n",
       "    }\n",
       "\n",
       "    .dataframe tbody tr th {\n",
       "        vertical-align: top;\n",
       "    }\n",
       "\n",
       "    .dataframe thead th {\n",
       "        text-align: right;\n",
       "    }\n",
       "</style>\n",
       "<table border=\"1\" class=\"dataframe\">\n",
       "  <thead>\n",
       "    <tr style=\"text-align: right;\">\n",
       "      <th></th>\n",
       "      <th>ADR</th>\n",
       "    </tr>\n",
       "  </thead>\n",
       "  <tbody>\n",
       "    <tr>\n",
       "      <th>0</th>\n",
       "      <td>0.00</td>\n",
       "    </tr>\n",
       "    <tr>\n",
       "      <th>1</th>\n",
       "      <td>76.50</td>\n",
       "    </tr>\n",
       "    <tr>\n",
       "      <th>2</th>\n",
       "      <td>68.00</td>\n",
       "    </tr>\n",
       "    <tr>\n",
       "      <th>3</th>\n",
       "      <td>76.50</td>\n",
       "    </tr>\n",
       "    <tr>\n",
       "      <th>4</th>\n",
       "      <td>76.50</td>\n",
       "    </tr>\n",
       "    <tr>\n",
       "      <th>...</th>\n",
       "      <td>...</td>\n",
       "    </tr>\n",
       "    <tr>\n",
       "      <th>79325</th>\n",
       "      <td>96.14</td>\n",
       "    </tr>\n",
       "    <tr>\n",
       "      <th>79326</th>\n",
       "      <td>225.43</td>\n",
       "    </tr>\n",
       "    <tr>\n",
       "      <th>79327</th>\n",
       "      <td>157.71</td>\n",
       "    </tr>\n",
       "    <tr>\n",
       "      <th>79328</th>\n",
       "      <td>104.40</td>\n",
       "    </tr>\n",
       "    <tr>\n",
       "      <th>79329</th>\n",
       "      <td>151.20</td>\n",
       "    </tr>\n",
       "  </tbody>\n",
       "</table>\n",
       "<p>79330 rows × 1 columns</p>\n",
       "</div>"
      ],
      "text/plain": [
       "          ADR\n",
       "0        0.00\n",
       "1       76.50\n",
       "2       68.00\n",
       "3       76.50\n",
       "4       76.50\n",
       "...       ...\n",
       "79325   96.14\n",
       "79326  225.43\n",
       "79327  157.71\n",
       "79328  104.40\n",
       "79329  151.20\n",
       "\n",
       "[79330 rows x 1 columns]"
      ]
     },
     "execution_count": 8,
     "metadata": {},
     "output_type": "execute_result"
    }
   ],
   "source": [
    "df2 = DataFrame(c, columns= ['ADR']) \n",
    "df2"
   ]
  },
  {
   "cell_type": "code",
   "execution_count": 9,
   "metadata": {},
   "outputs": [
    {
     "data": {
      "text/plain": [
       "pandas.core.frame.DataFrame"
      ]
     },
     "execution_count": 9,
     "metadata": {},
     "output_type": "execute_result"
    }
   ],
   "source": [
    "type(df1)"
   ]
  },
  {
   "cell_type": "code",
   "execution_count": 10,
   "metadata": {},
   "outputs": [],
   "source": [
    "df3=pd.concat([df1, df2], axis = 1)\n",
    "df3\n",
    "df3.columns = ['FullDate', 'ADR']"
   ]
  },
  {
   "cell_type": "code",
   "execution_count": 11,
   "metadata": {},
   "outputs": [
    {
     "data": {
      "text/html": [
       "<div>\n",
       "<style scoped>\n",
       "    .dataframe tbody tr th:only-of-type {\n",
       "        vertical-align: middle;\n",
       "    }\n",
       "\n",
       "    .dataframe tbody tr th {\n",
       "        vertical-align: top;\n",
       "    }\n",
       "\n",
       "    .dataframe thead th {\n",
       "        text-align: right;\n",
       "    }\n",
       "</style>\n",
       "<table border=\"1\" class=\"dataframe\">\n",
       "  <thead>\n",
       "    <tr style=\"text-align: right;\">\n",
       "      <th></th>\n",
       "      <th>FullDate</th>\n",
       "      <th>ADR</th>\n",
       "    </tr>\n",
       "  </thead>\n",
       "  <tbody>\n",
       "    <tr>\n",
       "      <th>0</th>\n",
       "      <td>201527</td>\n",
       "      <td>0.00</td>\n",
       "    </tr>\n",
       "    <tr>\n",
       "      <th>11</th>\n",
       "      <td>201527</td>\n",
       "      <td>43.00</td>\n",
       "    </tr>\n",
       "    <tr>\n",
       "      <th>6</th>\n",
       "      <td>201527</td>\n",
       "      <td>58.67</td>\n",
       "    </tr>\n",
       "    <tr>\n",
       "      <th>29</th>\n",
       "      <td>201527</td>\n",
       "      <td>60.00</td>\n",
       "    </tr>\n",
       "    <tr>\n",
       "      <th>36141</th>\n",
       "      <td>201527</td>\n",
       "      <td>60.00</td>\n",
       "    </tr>\n",
       "    <tr>\n",
       "      <th>...</th>\n",
       "      <td>...</td>\n",
       "      <td>...</td>\n",
       "    </tr>\n",
       "    <tr>\n",
       "      <th>79084</th>\n",
       "      <td>201735</td>\n",
       "      <td>259.00</td>\n",
       "    </tr>\n",
       "    <tr>\n",
       "      <th>79305</th>\n",
       "      <td>201735</td>\n",
       "      <td>266.75</td>\n",
       "    </tr>\n",
       "    <tr>\n",
       "      <th>79010</th>\n",
       "      <td>201735</td>\n",
       "      <td>270.00</td>\n",
       "    </tr>\n",
       "    <tr>\n",
       "      <th>79091</th>\n",
       "      <td>201735</td>\n",
       "      <td>270.00</td>\n",
       "    </tr>\n",
       "    <tr>\n",
       "      <th>33605</th>\n",
       "      <td>201735</td>\n",
       "      <td>272.50</td>\n",
       "    </tr>\n",
       "  </tbody>\n",
       "</table>\n",
       "<p>79330 rows × 2 columns</p>\n",
       "</div>"
      ],
      "text/plain": [
       "      FullDate     ADR\n",
       "0       201527    0.00\n",
       "11      201527   43.00\n",
       "6       201527   58.67\n",
       "29      201527   60.00\n",
       "36141   201527   60.00\n",
       "...        ...     ...\n",
       "79084   201735  259.00\n",
       "79305   201735  266.75\n",
       "79010   201735  270.00\n",
       "79091   201735  270.00\n",
       "33605   201735  272.50\n",
       "\n",
       "[79330 rows x 2 columns]"
      ]
     },
     "execution_count": 11,
     "metadata": {},
     "output_type": "execute_result"
    }
   ],
   "source": [
    "df3\n",
    "df3.sort_values(['FullDate','ADR'], ascending=True)"
   ]
  },
  {
   "cell_type": "code",
   "execution_count": 12,
   "metadata": {},
   "outputs": [
    {
     "data": {
      "text/html": [
       "<div>\n",
       "<style scoped>\n",
       "    .dataframe tbody tr th:only-of-type {\n",
       "        vertical-align: middle;\n",
       "    }\n",
       "\n",
       "    .dataframe tbody tr th {\n",
       "        vertical-align: top;\n",
       "    }\n",
       "\n",
       "    .dataframe thead th {\n",
       "        text-align: right;\n",
       "    }\n",
       "</style>\n",
       "<table border=\"1\" class=\"dataframe\">\n",
       "  <thead>\n",
       "    <tr style=\"text-align: right;\">\n",
       "      <th></th>\n",
       "      <th>ADR</th>\n",
       "    </tr>\n",
       "    <tr>\n",
       "      <th>FullDate</th>\n",
       "      <th></th>\n",
       "    </tr>\n",
       "  </thead>\n",
       "  <tbody>\n",
       "    <tr>\n",
       "      <th>201527</th>\n",
       "      <td>78.165879</td>\n",
       "    </tr>\n",
       "    <tr>\n",
       "      <th>201528</th>\n",
       "      <td>70.247336</td>\n",
       "    </tr>\n",
       "    <tr>\n",
       "      <th>201529</th>\n",
       "      <td>73.996534</td>\n",
       "    </tr>\n",
       "    <tr>\n",
       "      <th>201530</th>\n",
       "      <td>66.766446</td>\n",
       "    </tr>\n",
       "    <tr>\n",
       "      <th>201531</th>\n",
       "      <td>65.363578</td>\n",
       "    </tr>\n",
       "    <tr>\n",
       "      <th>...</th>\n",
       "      <td>...</td>\n",
       "    </tr>\n",
       "    <tr>\n",
       "      <th>201731</th>\n",
       "      <td>138.898408</td>\n",
       "    </tr>\n",
       "    <tr>\n",
       "      <th>201732</th>\n",
       "      <td>142.909221</td>\n",
       "    </tr>\n",
       "    <tr>\n",
       "      <th>201733</th>\n",
       "      <td>144.839923</td>\n",
       "    </tr>\n",
       "    <tr>\n",
       "      <th>201734</th>\n",
       "      <td>135.892708</td>\n",
       "    </tr>\n",
       "    <tr>\n",
       "      <th>201735</th>\n",
       "      <td>128.586952</td>\n",
       "    </tr>\n",
       "  </tbody>\n",
       "</table>\n",
       "<p>115 rows × 1 columns</p>\n",
       "</div>"
      ],
      "text/plain": [
       "                 ADR\n",
       "FullDate            \n",
       "201527     78.165879\n",
       "201528     70.247336\n",
       "201529     73.996534\n",
       "201530     66.766446\n",
       "201531     65.363578\n",
       "...              ...\n",
       "201731    138.898408\n",
       "201732    142.909221\n",
       "201733    144.839923\n",
       "201734    135.892708\n",
       "201735    128.586952\n",
       "\n",
       "[115 rows x 1 columns]"
      ]
     },
     "execution_count": 12,
     "metadata": {},
     "output_type": "execute_result"
    }
   ],
   "source": [
    "df4 = df3.groupby('FullDate').agg(\"mean\")\n",
    "df4\n",
    "df4.sort_values(['FullDate'], ascending=True)"
   ]
  },
  {
   "cell_type": "code",
   "execution_count": 13,
   "metadata": {},
   "outputs": [
    {
     "data": {
      "text/plain": [
       "FullDate\n",
       "201527     78.165879\n",
       "201528     70.247336\n",
       "201529     73.996534\n",
       "201530     66.766446\n",
       "201531     65.363578\n",
       "             ...    \n",
       "201731    138.898408\n",
       "201732    142.909221\n",
       "201733    144.839923\n",
       "201734    135.892708\n",
       "201735    128.586952\n",
       "Name: ADR, Length: 115, dtype: float64"
      ]
     },
     "execution_count": 13,
     "metadata": {},
     "output_type": "execute_result"
    }
   ],
   "source": [
    "tseries=df4['ADR']\n",
    "tseries"
   ]
  },
  {
   "cell_type": "code",
   "execution_count": 14,
   "metadata": {},
   "outputs": [
    {
     "name": "stderr",
     "output_type": "stream",
     "text": [
      "/home/michael/anaconda3/lib/python3.6/site-packages/statsmodels/tsa/base/tsa_model.py:215: ValueWarning: An unsupported index was provided and will be ignored when e.g. forecasting.\n",
      "  ' ignored when e.g. forecasting.', ValueWarning)\n"
     ]
    },
    {
     "data": {
      "text/plain": [
       "(array([5.48711087]), array([0.85635882]))"
      ]
     },
     "execution_count": 14,
     "metadata": {},
     "output_type": "execute_result"
    }
   ],
   "source": [
    "# https://www.statsmodels.org/stable/generated/statsmodels.stats.diagnostic.acorr_ljungbox.html\n",
    "res = sm.tsa.ARMA(tseries, (1,1)).fit(disp=-1)\n",
    "sm.stats.acorr_ljungbox(res.resid, lags=[10])"
   ]
  },
  {
   "cell_type": "code",
   "execution_count": 15,
   "metadata": {},
   "outputs": [
    {
     "name": "stdout",
     "output_type": "stream",
     "text": [
      "ADF Statistic: -1.509649\n",
      "p-value: 0.528733\n",
      "Critical Values:\n",
      "\t1%: -3.490\n",
      "\t5%: -2.888\n",
      "\t10%: -2.581\n"
     ]
    }
   ],
   "source": [
    "from statsmodels.tsa.stattools import adfuller\n",
    "result = adfuller(tseries)\n",
    "print('ADF Statistic: %f' % result[0])\n",
    "print('p-value: %f' % result[1])\n",
    "print('Critical Values:')\n",
    "for key, value in result[4].items():\n",
    "    print('\\t%s: %.3f' % (key, value))"
   ]
  },
  {
   "cell_type": "code",
   "execution_count": 16,
   "metadata": {},
   "outputs": [
    {
     "data": {
      "image/png": "[encoded data removed]",
      "text/plain": [
       "<Figure size 432x288 with 1 Axes>"
      ]
     },
     "metadata": {
      "needs_background": "light"
     },
     "output_type": "display_data"
    }
   ],
   "source": [
    "import matplotlib.pyplot as plt\n",
    "plt.plot(tseries)\n",
    "plt.tick_params(\n",
    "    axis='x',          # changes apply to the x-axis\n",
    "    which='both',      # both major and minor ticks are affected\n",
    "    bottom=False,      # ticks along the bottom edge are off\n",
    "    top=False,         # ticks along the top edge are off\n",
    "    labelbottom=False) # labels along the bottom edge are off\n",
    "plt.ylabel('ADR')\n",
    "plt.title(\"Weekly ADR\")\n",
    "plt.show()"
   ]
  },
  {
   "cell_type": "code",
   "execution_count": 17,
   "metadata": {},
   "outputs": [
    {
     "data": {
      "text/html": [
       "<div>\n",
       "<style scoped>\n",
       "    .dataframe tbody tr th:only-of-type {\n",
       "        vertical-align: middle;\n",
       "    }\n",
       "\n",
       "    .dataframe tbody tr th {\n",
       "        vertical-align: top;\n",
       "    }\n",
       "\n",
       "    .dataframe thead th {\n",
       "        text-align: right;\n",
       "    }\n",
       "</style>\n",
       "<table border=\"1\" class=\"dataframe\">\n",
       "  <thead>\n",
       "    <tr style=\"text-align: right;\">\n",
       "      <th></th>\n",
       "      <th>ADR</th>\n",
       "    </tr>\n",
       "    <tr>\n",
       "      <th>FullDate</th>\n",
       "      <th></th>\n",
       "    </tr>\n",
       "  </thead>\n",
       "  <tbody>\n",
       "    <tr>\n",
       "      <th>201527</th>\n",
       "      <td>78.165879</td>\n",
       "    </tr>\n",
       "    <tr>\n",
       "      <th>201528</th>\n",
       "      <td>70.247336</td>\n",
       "    </tr>\n",
       "    <tr>\n",
       "      <th>201529</th>\n",
       "      <td>73.996534</td>\n",
       "    </tr>\n",
       "    <tr>\n",
       "      <th>201530</th>\n",
       "      <td>66.766446</td>\n",
       "    </tr>\n",
       "    <tr>\n",
       "      <th>201531</th>\n",
       "      <td>65.363578</td>\n",
       "    </tr>\n",
       "    <tr>\n",
       "      <th>...</th>\n",
       "      <td>...</td>\n",
       "    </tr>\n",
       "    <tr>\n",
       "      <th>201731</th>\n",
       "      <td>138.898408</td>\n",
       "    </tr>\n",
       "    <tr>\n",
       "      <th>201732</th>\n",
       "      <td>142.909221</td>\n",
       "    </tr>\n",
       "    <tr>\n",
       "      <th>201733</th>\n",
       "      <td>144.839923</td>\n",
       "    </tr>\n",
       "    <tr>\n",
       "      <th>201734</th>\n",
       "      <td>135.892708</td>\n",
       "    </tr>\n",
       "    <tr>\n",
       "      <th>201735</th>\n",
       "      <td>128.586952</td>\n",
       "    </tr>\n",
       "  </tbody>\n",
       "</table>\n",
       "<p>115 rows × 1 columns</p>\n",
       "</div>"
      ],
      "text/plain": [
       "                 ADR\n",
       "FullDate            \n",
       "201527     78.165879\n",
       "201528     70.247336\n",
       "201529     73.996534\n",
       "201530     66.766446\n",
       "201531     65.363578\n",
       "...              ...\n",
       "201731    138.898408\n",
       "201732    142.909221\n",
       "201733    144.839923\n",
       "201734    135.892708\n",
       "201735    128.586952\n",
       "\n",
       "[115 rows x 1 columns]"
      ]
     },
     "execution_count": 17,
     "metadata": {},
     "output_type": "execute_result"
    }
   ],
   "source": [
    "df=pd.DataFrame(tseries)\n",
    "df"
   ]
  },
  {
   "cell_type": "code",
   "execution_count": 18,
   "metadata": {},
   "outputs": [],
   "source": [
    "df.to_csv(\"weekly adr h2.csv\", sep='\\t', encoding='utf-8')"
   ]
  },
  {
   "cell_type": "code",
   "execution_count": 19,
   "metadata": {},
   "outputs": [],
   "source": [
    "df = df[:100]"
   ]
  },
  {
   "cell_type": "code",
   "execution_count": 20,
   "metadata": {},
   "outputs": [
    {
     "data": {
      "text/html": [
       "<div>\n",
       "<style scoped>\n",
       "    .dataframe tbody tr th:only-of-type {\n",
       "        vertical-align: middle;\n",
       "    }\n",
       "\n",
       "    .dataframe tbody tr th {\n",
       "        vertical-align: top;\n",
       "    }\n",
       "\n",
       "    .dataframe thead th {\n",
       "        text-align: right;\n",
       "    }\n",
       "</style>\n",
       "<table border=\"1\" class=\"dataframe\">\n",
       "  <thead>\n",
       "    <tr style=\"text-align: right;\">\n",
       "      <th></th>\n",
       "      <th>ADR</th>\n",
       "    </tr>\n",
       "    <tr>\n",
       "      <th>FullDate</th>\n",
       "      <th></th>\n",
       "    </tr>\n",
       "  </thead>\n",
       "  <tbody>\n",
       "    <tr>\n",
       "      <th>201527</th>\n",
       "      <td>78.165879</td>\n",
       "    </tr>\n",
       "    <tr>\n",
       "      <th>201528</th>\n",
       "      <td>70.247336</td>\n",
       "    </tr>\n",
       "    <tr>\n",
       "      <th>201529</th>\n",
       "      <td>73.996534</td>\n",
       "    </tr>\n",
       "    <tr>\n",
       "      <th>201530</th>\n",
       "      <td>66.766446</td>\n",
       "    </tr>\n",
       "    <tr>\n",
       "      <th>201531</th>\n",
       "      <td>65.363578</td>\n",
       "    </tr>\n",
       "    <tr>\n",
       "      <th>...</th>\n",
       "      <td>...</td>\n",
       "    </tr>\n",
       "    <tr>\n",
       "      <th>201716</th>\n",
       "      <td>121.461748</td>\n",
       "    </tr>\n",
       "    <tr>\n",
       "      <th>201717</th>\n",
       "      <td>121.316925</td>\n",
       "    </tr>\n",
       "    <tr>\n",
       "      <th>201718</th>\n",
       "      <td>124.661435</td>\n",
       "    </tr>\n",
       "    <tr>\n",
       "      <th>201719</th>\n",
       "      <td>132.639515</td>\n",
       "    </tr>\n",
       "    <tr>\n",
       "      <th>201720</th>\n",
       "      <td>138.961245</td>\n",
       "    </tr>\n",
       "  </tbody>\n",
       "</table>\n",
       "<p>100 rows × 1 columns</p>\n",
       "</div>"
      ],
      "text/plain": [
       "                 ADR\n",
       "FullDate            \n",
       "201527     78.165879\n",
       "201528     70.247336\n",
       "201529     73.996534\n",
       "201530     66.766446\n",
       "201531     65.363578\n",
       "...              ...\n",
       "201716    121.461748\n",
       "201717    121.316925\n",
       "201718    124.661435\n",
       "201719    132.639515\n",
       "201720    138.961245\n",
       "\n",
       "[100 rows x 1 columns]"
      ]
     },
     "execution_count": 20,
     "metadata": {},
     "output_type": "execute_result"
    }
   ],
   "source": [
    "df"
   ]
  },
  {
   "cell_type": "code",
   "execution_count": 21,
   "metadata": {},
   "outputs": [],
   "source": [
    "# Form dataset matrix\n",
    "def create_dataset(df, previous=1):\n",
    "    dataX, dataY = [], []\n",
    "    for i in range(len(df)-previous-1):\n",
    "        a = df[i:(i+previous), 0]\n",
    "        dataX.append(a)\n",
    "        dataY.append(df[i + previous, 0])\n",
    "    return np.array(dataX), np.array(dataY)"
   ]
  },
  {
   "cell_type": "code",
   "execution_count": 22,
   "metadata": {},
   "outputs": [
    {
     "data": {
      "text/html": [
       "<div>\n",
       "<style scoped>\n",
       "    .dataframe tbody tr th:only-of-type {\n",
       "        vertical-align: middle;\n",
       "    }\n",
       "\n",
       "    .dataframe tbody tr th {\n",
       "        vertical-align: top;\n",
       "    }\n",
       "\n",
       "    .dataframe thead th {\n",
       "        text-align: right;\n",
       "    }\n",
       "</style>\n",
       "<table border=\"1\" class=\"dataframe\">\n",
       "  <thead>\n",
       "    <tr style=\"text-align: right;\">\n",
       "      <th></th>\n",
       "      <th>ADR</th>\n",
       "    </tr>\n",
       "    <tr>\n",
       "      <th>FullDate</th>\n",
       "      <th></th>\n",
       "    </tr>\n",
       "  </thead>\n",
       "  <tbody>\n",
       "    <tr>\n",
       "      <th>201527</th>\n",
       "      <td>78.165879</td>\n",
       "    </tr>\n",
       "    <tr>\n",
       "      <th>201528</th>\n",
       "      <td>70.247336</td>\n",
       "    </tr>\n",
       "    <tr>\n",
       "      <th>201529</th>\n",
       "      <td>73.996534</td>\n",
       "    </tr>\n",
       "    <tr>\n",
       "      <th>201530</th>\n",
       "      <td>66.766446</td>\n",
       "    </tr>\n",
       "    <tr>\n",
       "      <th>201531</th>\n",
       "      <td>65.363578</td>\n",
       "    </tr>\n",
       "    <tr>\n",
       "      <th>...</th>\n",
       "      <td>...</td>\n",
       "    </tr>\n",
       "    <tr>\n",
       "      <th>201716</th>\n",
       "      <td>121.461748</td>\n",
       "    </tr>\n",
       "    <tr>\n",
       "      <th>201717</th>\n",
       "      <td>121.316925</td>\n",
       "    </tr>\n",
       "    <tr>\n",
       "      <th>201718</th>\n",
       "      <td>124.661435</td>\n",
       "    </tr>\n",
       "    <tr>\n",
       "      <th>201719</th>\n",
       "      <td>132.639515</td>\n",
       "    </tr>\n",
       "    <tr>\n",
       "      <th>201720</th>\n",
       "      <td>138.961245</td>\n",
       "    </tr>\n",
       "  </tbody>\n",
       "</table>\n",
       "<p>100 rows × 1 columns</p>\n",
       "</div>"
      ],
      "text/plain": [
       "                 ADR\n",
       "FullDate            \n",
       "201527     78.165879\n",
       "201528     70.247336\n",
       "201529     73.996534\n",
       "201530     66.766446\n",
       "201531     65.363578\n",
       "...              ...\n",
       "201716    121.461748\n",
       "201717    121.316925\n",
       "201718    124.661435\n",
       "201719    132.639515\n",
       "201720    138.961245\n",
       "\n",
       "[100 rows x 1 columns]"
      ]
     },
     "execution_count": 22,
     "metadata": {},
     "output_type": "execute_result"
    }
   ],
   "source": [
    "df"
   ]
  },
  {
   "cell_type": "markdown",
   "metadata": {},
   "source": [
    "## Normalize dataset with MinMaxScaler"
   ]
  },
  {
   "cell_type": "code",
   "execution_count": 23,
   "metadata": {},
   "outputs": [
    {
     "data": {
      "text/plain": [
       "array([[0.17394983],\n",
       "       [0.06635752],\n",
       "       [0.11729932],\n",
       "       [0.01906132],\n",
       "       [0.        ],\n",
       "       [0.01126313],\n",
       "       [0.24639556],\n",
       "       [0.25964283],\n",
       "       [0.09947309],\n",
       "       [0.24576306],\n",
       "       [0.28316233],\n",
       "       [0.35448622],\n",
       "       [0.83647103],\n",
       "       [0.48979137],\n",
       "       [0.33351757],\n",
       "       [0.32476797],\n",
       "       [0.39244271],\n",
       "       [0.26195377],\n",
       "       [0.20032856],\n",
       "       [0.11274354],\n",
       "       [0.08053814],\n",
       "       [0.07934428],\n",
       "       [0.13799894],\n",
       "       [0.16147725],\n",
       "       [0.06540364],\n",
       "       [0.15557826],\n",
       "       [0.39323464],\n",
       "       [0.40556934],\n",
       "       [0.09735725],\n",
       "       [0.1002107 ],\n",
       "       [0.14762734],\n",
       "       [0.11598137],\n",
       "       [0.1759088 ],\n",
       "       [0.24035225],\n",
       "       [0.19330065],\n",
       "       [0.21743866],\n",
       "       [0.1922823 ],\n",
       "       [0.22195395],\n",
       "       [0.27295638],\n",
       "       [0.57536981],\n",
       "       [0.37368255],\n",
       "       [0.36078985],\n",
       "       [0.5039237 ],\n",
       "       [0.45917583],\n",
       "       [0.54369246],\n",
       "       [0.53801535],\n",
       "       [0.59179033],\n",
       "       [0.53773102],\n",
       "       [0.71273958],\n",
       "       [0.56473889],\n",
       "       [0.62261674],\n",
       "       [0.63795482],\n",
       "       [0.4863144 ],\n",
       "       [0.6095559 ],\n",
       "       [0.66332211],\n",
       "       [0.65120655],\n",
       "       [0.5882372 ],\n",
       "       [0.61841441],\n",
       "       [0.70247603],\n",
       "       [0.71387475],\n",
       "       [0.81488874],\n",
       "       [0.70577535],\n",
       "       [0.6431417 ],\n",
       "       [0.69376344],\n",
       "       [0.75834494],\n",
       "       [0.76853419],\n",
       "       [0.67014112],\n",
       "       [0.660419  ],\n",
       "       [0.61070662],\n",
       "       [0.58255007],\n",
       "       [0.50869571],\n",
       "       [0.44843338],\n",
       "       [0.59540446],\n",
       "       [0.27199967],\n",
       "       [0.24101317],\n",
       "       [0.26460434],\n",
       "       [0.316027  ],\n",
       "       [0.24883798],\n",
       "       [0.37251176],\n",
       "       [0.57292522],\n",
       "       [0.37223323],\n",
       "       [0.24205107],\n",
       "       [0.2691728 ],\n",
       "       [0.24987543],\n",
       "       [0.24818941],\n",
       "       [0.32385794],\n",
       "       [0.37310054],\n",
       "       [0.33752068],\n",
       "       [0.36253434],\n",
       "       [0.33568452],\n",
       "       [0.36186048],\n",
       "       [0.40995106],\n",
       "       [0.46307758],\n",
       "       [0.69598672],\n",
       "       [0.84620599],\n",
       "       [0.76222756],\n",
       "       [0.76025979],\n",
       "       [0.80570295],\n",
       "       [0.9141042 ],\n",
       "       [1.        ]])"
      ]
     },
     "execution_count": 23,
     "metadata": {},
     "output_type": "execute_result"
    }
   ],
   "source": [
    "scaler = MinMaxScaler(feature_range=(0, 1))\n",
    "df = scaler.fit_transform(df)\n",
    "df"
   ]
  },
  {
   "cell_type": "code",
   "execution_count": 24,
   "metadata": {},
   "outputs": [],
   "source": [
    "import tensorflow as tf\n",
    "from tensorflow.keras import layers\n",
    "from tensorflow.keras.layers import Dense\n",
    "from tensorflow.keras.layers import LSTM\n",
    "\n",
    "# Training and Validation data partition\n",
    "train_size = int(len(df) * 0.8)\n",
    "val_size = len(df) - train_size\n",
    "train, val = df[0:train_size,:], df[train_size:len(df),:]\n",
    "\n",
    "# Number of previous\n",
    "previous = 5\n",
    "X_train, Y_train = create_dataset(train, previous)\n",
    "X_val, Y_val = create_dataset(val, previous)"
   ]
  },
  {
   "cell_type": "code",
   "execution_count": 25,
   "metadata": {},
   "outputs": [
    {
     "data": {
      "text/plain": [
       "array([[0.17394983, 0.06635752, 0.11729932, 0.01906132, 0.        ],\n",
       "       [0.06635752, 0.11729932, 0.01906132, 0.        , 0.01126313],\n",
       "       [0.11729932, 0.01906132, 0.        , 0.01126313, 0.24639556],\n",
       "       [0.01906132, 0.        , 0.01126313, 0.24639556, 0.25964283],\n",
       "       [0.        , 0.01126313, 0.24639556, 0.25964283, 0.09947309],\n",
       "       [0.01126313, 0.24639556, 0.25964283, 0.09947309, 0.24576306],\n",
       "       [0.24639556, 0.25964283, 0.09947309, 0.24576306, 0.28316233],\n",
       "       [0.25964283, 0.09947309, 0.24576306, 0.28316233, 0.35448622],\n",
       "       [0.09947309, 0.24576306, 0.28316233, 0.35448622, 0.83647103],\n",
       "       [0.24576306, 0.28316233, 0.35448622, 0.83647103, 0.48979137],\n",
       "       [0.28316233, 0.35448622, 0.83647103, 0.48979137, 0.33351757],\n",
       "       [0.35448622, 0.83647103, 0.48979137, 0.33351757, 0.32476797],\n",
       "       [0.83647103, 0.48979137, 0.33351757, 0.32476797, 0.39244271],\n",
       "       [0.48979137, 0.33351757, 0.32476797, 0.39244271, 0.26195377],\n",
       "       [0.33351757, 0.32476797, 0.39244271, 0.26195377, 0.20032856],\n",
       "       [0.32476797, 0.39244271, 0.26195377, 0.20032856, 0.11274354],\n",
       "       [0.39244271, 0.26195377, 0.20032856, 0.11274354, 0.08053814],\n",
       "       [0.26195377, 0.20032856, 0.11274354, 0.08053814, 0.07934428],\n",
       "       [0.20032856, 0.11274354, 0.08053814, 0.07934428, 0.13799894],\n",
       "       [0.11274354, 0.08053814, 0.07934428, 0.13799894, 0.16147725],\n",
       "       [0.08053814, 0.07934428, 0.13799894, 0.16147725, 0.06540364],\n",
       "       [0.07934428, 0.13799894, 0.16147725, 0.06540364, 0.15557826],\n",
       "       [0.13799894, 0.16147725, 0.06540364, 0.15557826, 0.39323464],\n",
       "       [0.16147725, 0.06540364, 0.15557826, 0.39323464, 0.40556934],\n",
       "       [0.06540364, 0.15557826, 0.39323464, 0.40556934, 0.09735725],\n",
       "       [0.15557826, 0.39323464, 0.40556934, 0.09735725, 0.1002107 ],\n",
       "       [0.39323464, 0.40556934, 0.09735725, 0.1002107 , 0.14762734],\n",
       "       [0.40556934, 0.09735725, 0.1002107 , 0.14762734, 0.11598137],\n",
       "       [0.09735725, 0.1002107 , 0.14762734, 0.11598137, 0.1759088 ],\n",
       "       [0.1002107 , 0.14762734, 0.11598137, 0.1759088 , 0.24035225],\n",
       "       [0.14762734, 0.11598137, 0.1759088 , 0.24035225, 0.19330065],\n",
       "       [0.11598137, 0.1759088 , 0.24035225, 0.19330065, 0.21743866],\n",
       "       [0.1759088 , 0.24035225, 0.19330065, 0.21743866, 0.1922823 ],\n",
       "       [0.24035225, 0.19330065, 0.21743866, 0.1922823 , 0.22195395],\n",
       "       [0.19330065, 0.21743866, 0.1922823 , 0.22195395, 0.27295638],\n",
       "       [0.21743866, 0.1922823 , 0.22195395, 0.27295638, 0.57536981],\n",
       "       [0.1922823 , 0.22195395, 0.27295638, 0.57536981, 0.37368255],\n",
       "       [0.22195395, 0.27295638, 0.57536981, 0.37368255, 0.36078985],\n",
       "       [0.27295638, 0.57536981, 0.37368255, 0.36078985, 0.5039237 ],\n",
       "       [0.57536981, 0.37368255, 0.36078985, 0.5039237 , 0.45917583],\n",
       "       [0.37368255, 0.36078985, 0.5039237 , 0.45917583, 0.54369246],\n",
       "       [0.36078985, 0.5039237 , 0.45917583, 0.54369246, 0.53801535],\n",
       "       [0.5039237 , 0.45917583, 0.54369246, 0.53801535, 0.59179033],\n",
       "       [0.45917583, 0.54369246, 0.53801535, 0.59179033, 0.53773102],\n",
       "       [0.54369246, 0.53801535, 0.59179033, 0.53773102, 0.71273958],\n",
       "       [0.53801535, 0.59179033, 0.53773102, 0.71273958, 0.56473889],\n",
       "       [0.59179033, 0.53773102, 0.71273958, 0.56473889, 0.62261674],\n",
       "       [0.53773102, 0.71273958, 0.56473889, 0.62261674, 0.63795482],\n",
       "       [0.71273958, 0.56473889, 0.62261674, 0.63795482, 0.4863144 ],\n",
       "       [0.56473889, 0.62261674, 0.63795482, 0.4863144 , 0.6095559 ],\n",
       "       [0.62261674, 0.63795482, 0.4863144 , 0.6095559 , 0.66332211],\n",
       "       [0.63795482, 0.4863144 , 0.6095559 , 0.66332211, 0.65120655],\n",
       "       [0.4863144 , 0.6095559 , 0.66332211, 0.65120655, 0.5882372 ],\n",
       "       [0.6095559 , 0.66332211, 0.65120655, 0.5882372 , 0.61841441],\n",
       "       [0.66332211, 0.65120655, 0.5882372 , 0.61841441, 0.70247603],\n",
       "       [0.65120655, 0.5882372 , 0.61841441, 0.70247603, 0.71387475],\n",
       "       [0.5882372 , 0.61841441, 0.70247603, 0.71387475, 0.81488874],\n",
       "       [0.61841441, 0.70247603, 0.71387475, 0.81488874, 0.70577535],\n",
       "       [0.70247603, 0.71387475, 0.81488874, 0.70577535, 0.6431417 ],\n",
       "       [0.71387475, 0.81488874, 0.70577535, 0.6431417 , 0.69376344],\n",
       "       [0.81488874, 0.70577535, 0.6431417 , 0.69376344, 0.75834494],\n",
       "       [0.70577535, 0.6431417 , 0.69376344, 0.75834494, 0.76853419],\n",
       "       [0.6431417 , 0.69376344, 0.75834494, 0.76853419, 0.67014112],\n",
       "       [0.69376344, 0.75834494, 0.76853419, 0.67014112, 0.660419  ],\n",
       "       [0.75834494, 0.76853419, 0.67014112, 0.660419  , 0.61070662],\n",
       "       [0.76853419, 0.67014112, 0.660419  , 0.61070662, 0.58255007],\n",
       "       [0.67014112, 0.660419  , 0.61070662, 0.58255007, 0.50869571],\n",
       "       [0.660419  , 0.61070662, 0.58255007, 0.50869571, 0.44843338],\n",
       "       [0.61070662, 0.58255007, 0.50869571, 0.44843338, 0.59540446],\n",
       "       [0.58255007, 0.50869571, 0.44843338, 0.59540446, 0.27199967],\n",
       "       [0.50869571, 0.44843338, 0.59540446, 0.27199967, 0.24101317],\n",
       "       [0.44843338, 0.59540446, 0.27199967, 0.24101317, 0.26460434],\n",
       "       [0.59540446, 0.27199967, 0.24101317, 0.26460434, 0.316027  ],\n",
       "       [0.27199967, 0.24101317, 0.26460434, 0.316027  , 0.24883798]])"
      ]
     },
     "execution_count": 25,
     "metadata": {},
     "output_type": "execute_result"
    }
   ],
   "source": [
    "X_train"
   ]
  },
  {
   "cell_type": "code",
   "execution_count": 26,
   "metadata": {},
   "outputs": [
    {
     "data": {
      "text/plain": [
       "array([0.01126313, 0.24639556, 0.25964283, 0.09947309, 0.24576306,\n",
       "       0.28316233, 0.35448622, 0.83647103, 0.48979137, 0.33351757,\n",
       "       0.32476797, 0.39244271, 0.26195377, 0.20032856, 0.11274354,\n",
       "       0.08053814, 0.07934428, 0.13799894, 0.16147725, 0.06540364,\n",
       "       0.15557826, 0.39323464, 0.40556934, 0.09735725, 0.1002107 ,\n",
       "       0.14762734, 0.11598137, 0.1759088 , 0.24035225, 0.19330065,\n",
       "       0.21743866, 0.1922823 , 0.22195395, 0.27295638, 0.57536981,\n",
       "       0.37368255, 0.36078985, 0.5039237 , 0.45917583, 0.54369246,\n",
       "       0.53801535, 0.59179033, 0.53773102, 0.71273958, 0.56473889,\n",
       "       0.62261674, 0.63795482, 0.4863144 , 0.6095559 , 0.66332211,\n",
       "       0.65120655, 0.5882372 , 0.61841441, 0.70247603, 0.71387475,\n",
       "       0.81488874, 0.70577535, 0.6431417 , 0.69376344, 0.75834494,\n",
       "       0.76853419, 0.67014112, 0.660419  , 0.61070662, 0.58255007,\n",
       "       0.50869571, 0.44843338, 0.59540446, 0.27199967, 0.24101317,\n",
       "       0.26460434, 0.316027  , 0.24883798, 0.37251176])"
      ]
     },
     "execution_count": 26,
     "metadata": {},
     "output_type": "execute_result"
    }
   ],
   "source": [
    "Y_train"
   ]
  },
  {
   "cell_type": "markdown",
   "metadata": {},
   "source": [
    "## Configure LSTM Model"
   ]
  },
  {
   "cell_type": "code",
   "execution_count": 27,
   "metadata": {},
   "outputs": [
    {
     "name": "stdout",
     "output_type": "stream",
     "text": [
      "Train on 59 samples, validate on 15 samples\n",
      "Epoch 1/100\n",
      "59/59 - 0s - loss: 0.0693 - val_loss: 0.0288\n",
      "Epoch 2/100\n",
      "59/59 - 0s - loss: 0.0289 - val_loss: 0.0134\n",
      "Epoch 3/100\n",
      "59/59 - 0s - loss: 0.0189 - val_loss: 0.0156\n",
      "Epoch 4/100\n",
      "59/59 - 0s - loss: 0.0180 - val_loss: 0.0178\n",
      "Epoch 5/100\n",
      "59/59 - 0s - loss: 0.0176 - val_loss: 0.0178\n",
      "Epoch 6/100\n",
      "59/59 - 0s - loss: 0.0176 - val_loss: 0.0196\n",
      "Epoch 7/100\n",
      "59/59 - 0s - loss: 0.0171 - val_loss: 0.0175\n",
      "Epoch 8/100\n",
      "59/59 - 0s - loss: 0.0170 - val_loss: 0.0182\n",
      "Epoch 9/100\n",
      "59/59 - 0s - loss: 0.0170 - val_loss: 0.0192\n",
      "Epoch 10/100\n",
      "59/59 - 0s - loss: 0.0170 - val_loss: 0.0180\n",
      "Epoch 11/100\n",
      "59/59 - 0s - loss: 0.0167 - val_loss: 0.0194\n",
      "Epoch 12/100\n",
      "59/59 - 0s - loss: 0.0164 - val_loss: 0.0185\n",
      "Epoch 13/100\n",
      "59/59 - 0s - loss: 0.0164 - val_loss: 0.0146\n",
      "Epoch 14/100\n",
      "59/59 - 0s - loss: 0.0162 - val_loss: 0.0175\n",
      "Epoch 15/100\n",
      "59/59 - 0s - loss: 0.0160 - val_loss: 0.0175\n",
      "Epoch 16/100\n",
      "59/59 - 0s - loss: 0.0159 - val_loss: 0.0161\n",
      "Epoch 17/100\n",
      "59/59 - 0s - loss: 0.0161 - val_loss: 0.0186\n",
      "Epoch 18/100\n",
      "59/59 - 0s - loss: 0.0158 - val_loss: 0.0166\n",
      "Epoch 19/100\n",
      "59/59 - 0s - loss: 0.0156 - val_loss: 0.0160\n",
      "Epoch 20/100\n",
      "59/59 - 0s - loss: 0.0156 - val_loss: 0.0147\n",
      "Epoch 21/100\n",
      "59/59 - 0s - loss: 0.0156 - val_loss: 0.0142\n",
      "Epoch 22/100\n",
      "59/59 - 0s - loss: 0.0154 - val_loss: 0.0164\n",
      "Epoch 23/100\n",
      "59/59 - 0s - loss: 0.0152 - val_loss: 0.0156\n",
      "Epoch 24/100\n",
      "59/59 - 0s - loss: 0.0155 - val_loss: 0.0148\n",
      "Epoch 25/100\n",
      "59/59 - 0s - loss: 0.0153 - val_loss: 0.0161\n",
      "Epoch 26/100\n",
      "59/59 - 0s - loss: 0.0152 - val_loss: 0.0154\n",
      "Epoch 27/100\n",
      "59/59 - 0s - loss: 0.0152 - val_loss: 0.0138\n",
      "Epoch 28/100\n",
      "59/59 - 0s - loss: 0.0151 - val_loss: 0.0173\n",
      "Epoch 29/100\n",
      "59/59 - 0s - loss: 0.0150 - val_loss: 0.0158\n",
      "Epoch 30/100\n",
      "59/59 - 0s - loss: 0.0151 - val_loss: 0.0145\n",
      "Epoch 31/100\n",
      "59/59 - 0s - loss: 0.0149 - val_loss: 0.0156\n",
      "Epoch 32/100\n",
      "59/59 - 0s - loss: 0.0148 - val_loss: 0.0134\n",
      "Epoch 33/100\n",
      "59/59 - 0s - loss: 0.0148 - val_loss: 0.0128\n",
      "Epoch 34/100\n",
      "59/59 - 0s - loss: 0.0149 - val_loss: 0.0136\n",
      "Epoch 35/100\n",
      "59/59 - 0s - loss: 0.0148 - val_loss: 0.0123\n",
      "Epoch 36/100\n",
      "59/59 - 0s - loss: 0.0150 - val_loss: 0.0134\n",
      "Epoch 37/100\n",
      "59/59 - 0s - loss: 0.0145 - val_loss: 0.0153\n",
      "Epoch 38/100\n",
      "59/59 - 0s - loss: 0.0150 - val_loss: 0.0133\n",
      "Epoch 39/100\n",
      "59/59 - 0s - loss: 0.0151 - val_loss: 0.0143\n",
      "Epoch 40/100\n",
      "59/59 - 0s - loss: 0.0145 - val_loss: 0.0130\n",
      "Epoch 41/100\n",
      "59/59 - 0s - loss: 0.0146 - val_loss: 0.0152\n",
      "Epoch 42/100\n",
      "59/59 - 0s - loss: 0.0144 - val_loss: 0.0134\n",
      "Epoch 43/100\n",
      "59/59 - 0s - loss: 0.0146 - val_loss: 0.0133\n",
      "Epoch 44/100\n",
      "59/59 - 0s - loss: 0.0145 - val_loss: 0.0143\n",
      "Epoch 45/100\n",
      "59/59 - 0s - loss: 0.0147 - val_loss: 0.0133\n",
      "Epoch 46/100\n",
      "59/59 - 0s - loss: 0.0145 - val_loss: 0.0136\n",
      "Epoch 47/100\n",
      "59/59 - 0s - loss: 0.0143 - val_loss: 0.0128\n",
      "Epoch 48/100\n",
      "59/59 - 0s - loss: 0.0146 - val_loss: 0.0115\n",
      "Epoch 49/100\n",
      "59/59 - 0s - loss: 0.0143 - val_loss: 0.0129\n",
      "Epoch 50/100\n",
      "59/59 - 0s - loss: 0.0143 - val_loss: 0.0132\n",
      "Epoch 51/100\n",
      "59/59 - 0s - loss: 0.0143 - val_loss: 0.0130\n",
      "Epoch 52/100\n",
      "59/59 - 0s - loss: 0.0144 - val_loss: 0.0116\n",
      "Epoch 53/100\n",
      "59/59 - 0s - loss: 0.0144 - val_loss: 0.0129\n",
      "Epoch 54/100\n",
      "59/59 - 0s - loss: 0.0145 - val_loss: 0.0117\n",
      "Epoch 55/100\n",
      "59/59 - 0s - loss: 0.0142 - val_loss: 0.0129\n",
      "Epoch 56/100\n",
      "59/59 - 0s - loss: 0.0142 - val_loss: 0.0129\n",
      "Epoch 57/100\n",
      "59/59 - 0s - loss: 0.0142 - val_loss: 0.0110\n",
      "Epoch 58/100\n",
      "59/59 - 0s - loss: 0.0145 - val_loss: 0.0125\n",
      "Epoch 59/100\n",
      "59/59 - 0s - loss: 0.0142 - val_loss: 0.0136\n",
      "Epoch 60/100\n",
      "59/59 - 0s - loss: 0.0144 - val_loss: 0.0123\n",
      "Epoch 61/100\n",
      "59/59 - 0s - loss: 0.0142 - val_loss: 0.0127\n",
      "Epoch 62/100\n",
      "59/59 - 0s - loss: 0.0142 - val_loss: 0.0136\n",
      "Epoch 63/100\n",
      "59/59 - 0s - loss: 0.0143 - val_loss: 0.0125\n",
      "Epoch 64/100\n",
      "59/59 - 0s - loss: 0.0141 - val_loss: 0.0118\n",
      "Epoch 65/100\n",
      "59/59 - 0s - loss: 0.0142 - val_loss: 0.0110\n",
      "Epoch 66/100\n",
      "59/59 - 0s - loss: 0.0143 - val_loss: 0.0121\n",
      "Epoch 67/100\n",
      "59/59 - 0s - loss: 0.0144 - val_loss: 0.0118\n",
      "Epoch 68/100\n",
      "59/59 - 0s - loss: 0.0143 - val_loss: 0.0122\n",
      "Epoch 69/100\n",
      "59/59 - 0s - loss: 0.0143 - val_loss: 0.0122\n",
      "Epoch 70/100\n",
      "59/59 - 0s - loss: 0.0141 - val_loss: 0.0158\n",
      "Epoch 71/100\n",
      "59/59 - 0s - loss: 0.0143 - val_loss: 0.0122\n",
      "Epoch 72/100\n",
      "59/59 - 0s - loss: 0.0141 - val_loss: 0.0123\n",
      "Epoch 73/100\n",
      "59/59 - 0s - loss: 0.0140 - val_loss: 0.0118\n",
      "Epoch 74/100\n",
      "59/59 - 0s - loss: 0.0140 - val_loss: 0.0130\n",
      "Epoch 75/100\n",
      "59/59 - 0s - loss: 0.0141 - val_loss: 0.0124\n",
      "Epoch 76/100\n",
      "59/59 - 0s - loss: 0.0143 - val_loss: 0.0138\n",
      "Epoch 77/100\n",
      "59/59 - 0s - loss: 0.0145 - val_loss: 0.0118\n",
      "Epoch 78/100\n",
      "59/59 - 0s - loss: 0.0142 - val_loss: 0.0137\n",
      "Epoch 79/100\n",
      "59/59 - 0s - loss: 0.0142 - val_loss: 0.0129\n",
      "Epoch 80/100\n",
      "59/59 - 0s - loss: 0.0140 - val_loss: 0.0125\n",
      "Epoch 81/100\n",
      "59/59 - 0s - loss: 0.0139 - val_loss: 0.0110\n",
      "Epoch 82/100\n",
      "59/59 - 0s - loss: 0.0141 - val_loss: 0.0120\n",
      "Epoch 83/100\n",
      "59/59 - 0s - loss: 0.0139 - val_loss: 0.0112\n",
      "Epoch 84/100\n",
      "59/59 - 0s - loss: 0.0143 - val_loss: 0.0119\n",
      "Epoch 85/100\n",
      "59/59 - 0s - loss: 0.0142 - val_loss: 0.0129\n",
      "Epoch 86/100\n",
      "59/59 - 0s - loss: 0.0139 - val_loss: 0.0116\n",
      "Epoch 87/100\n",
      "59/59 - 0s - loss: 0.0141 - val_loss: 0.0138\n",
      "Epoch 88/100\n",
      "59/59 - 0s - loss: 0.0136 - val_loss: 0.0104\n",
      "Epoch 89/100\n",
      "59/59 - 0s - loss: 0.0141 - val_loss: 0.0105\n",
      "Epoch 90/100\n",
      "59/59 - 0s - loss: 0.0140 - val_loss: 0.0116\n",
      "Epoch 91/100\n",
      "59/59 - 0s - loss: 0.0139 - val_loss: 0.0113\n",
      "Epoch 92/100\n",
      "59/59 - 0s - loss: 0.0142 - val_loss: 0.0110\n",
      "Epoch 93/100\n",
      "59/59 - 0s - loss: 0.0140 - val_loss: 0.0108\n",
      "Epoch 94/100\n",
      "59/59 - 0s - loss: 0.0139 - val_loss: 0.0124\n",
      "Epoch 95/100\n",
      "59/59 - 0s - loss: 0.0139 - val_loss: 0.0121\n",
      "Epoch 96/100\n",
      "59/59 - 0s - loss: 0.0138 - val_loss: 0.0114\n",
      "Epoch 97/100\n",
      "59/59 - 0s - loss: 0.0140 - val_loss: 0.0126\n",
      "Epoch 98/100\n",
      "59/59 - 0s - loss: 0.0140 - val_loss: 0.0101\n",
      "Epoch 99/100\n",
      "59/59 - 0s - loss: 0.0138 - val_loss: 0.0140\n",
      "Epoch 100/100\n",
      "59/59 - 0s - loss: 0.0138 - val_loss: 0.0106\n",
      "dict_keys(['loss', 'val_loss'])\n"
     ]
    },
    {
     "data": {
      "image/png": "[encoded data removed]",
      "text/plain": [
       "<Figure size 432x288 with 1 Axes>"
      ]
     },
     "metadata": {
      "needs_background": "light"
     },
     "output_type": "display_data"
    }
   ],
   "source": [
    "# reshape input to be [samples, time steps, features]\n",
    "X_train = np.reshape(X_train, (X_train.shape[0], 1, X_train.shape[1]))\n",
    "X_val = np.reshape(X_val, (X_val.shape[0], 1, X_val.shape[1]))\n",
    "\n",
    "# Generate LSTM network\n",
    "model = tf.keras.Sequential()\n",
    "model.add(LSTM(4, input_shape=(1, previous)))\n",
    "model.add(Dense(1))\n",
    "model.compile(loss='mean_squared_error', optimizer='adam')\n",
    "history=model.fit(X_train, Y_train, validation_split=0.2, epochs=100, batch_size=1, verbose=2)\n",
    "\n",
    "\n",
    "# list all data in history\n",
    "print(history.history.keys())\n",
    "# summarize history for accuracy\n",
    "plt.plot(history.history['loss'])\n",
    "plt.plot(history.history['val_loss'])\n",
    "plt.title('model loss')\n",
    "plt.ylabel('loss')\n",
    "plt.xlabel('epoch')\n",
    "plt.legend(['train', 'val'], loc='upper left')\n",
    "plt.show()"
   ]
  },
  {
   "cell_type": "code",
   "execution_count": 28,
   "metadata": {},
   "outputs": [],
   "source": [
    "# Generate predictions\n",
    "trainpred = model.predict(X_train)\n",
    "valpred = model.predict(X_val)"
   ]
  },
  {
   "cell_type": "code",
   "execution_count": 29,
   "metadata": {},
   "outputs": [
    {
     "data": {
      "text/plain": [
       "array([[0.10043483],\n",
       "       [0.09914264],\n",
       "       [0.22731175],\n",
       "       [0.22992067],\n",
       "       [0.16302255],\n",
       "       [0.26226282],\n",
       "       [0.26911178],\n",
       "       [0.3299325 ],\n",
       "       [0.61535186],\n",
       "       [0.43104258],\n",
       "       [0.40521842],\n",
       "       [0.36285144],\n",
       "       [0.3983724 ],\n",
       "       [0.29571444],\n",
       "       [0.25766727],\n",
       "       [0.18513441],\n",
       "       [0.15798521],\n",
       "       [0.1469998 ],\n",
       "       [0.17683268],\n",
       "       [0.1882162 ],\n",
       "       [0.13735303],\n",
       "       [0.1957056 ],\n",
       "       [0.32442895],\n",
       "       [0.33955815],\n",
       "       [0.17478096],\n",
       "       [0.18845424],\n",
       "       [0.18998489],\n",
       "       [0.16676393],\n",
       "       [0.20521879],\n",
       "       [0.23999454],\n",
       "       [0.21834365],\n",
       "       [0.24242309],\n",
       "       [0.2233306 ],\n",
       "       [0.24574374],\n",
       "       [0.27355427],\n",
       "       [0.46245393],\n",
       "       [0.34353286],\n",
       "       [0.38648668],\n",
       "       [0.46192646],\n",
       "       [0.43898073],\n",
       "       [0.5105054 ],\n",
       "       [0.5034905 ],\n",
       "       [0.56125695],\n",
       "       [0.52507323],\n",
       "       [0.6534952 ],\n",
       "       [0.55097216],\n",
       "       [0.6221587 ],\n",
       "       [0.6076139 ],\n",
       "       [0.5197586 ],\n",
       "       [0.5985754 ],\n",
       "       [0.6106866 ],\n",
       "       [0.62315094],\n",
       "       [0.58633256],\n",
       "       [0.6131803 ],\n",
       "       [0.6591895 ],\n",
       "       [0.6710475 ],\n",
       "       [0.7477786 ],\n",
       "       [0.6893768 ],\n",
       "       [0.67023784],\n",
       "       [0.6850403 ],\n",
       "       [0.7179014 ],\n",
       "       [0.72762436],\n",
       "       [0.6749744 ],\n",
       "       [0.673096  ],\n",
       "       [0.6249368 ],\n",
       "       [0.60017616],\n",
       "       [0.533272  ],\n",
       "       [0.48203906],\n",
       "       [0.5654173 ],\n",
       "       [0.32890368],\n",
       "       [0.31916   ],\n",
       "       [0.29266238],\n",
       "       [0.31929186],\n",
       "       [0.26994124]], dtype=float32)"
      ]
     },
     "execution_count": 29,
     "metadata": {},
     "output_type": "execute_result"
    }
   ],
   "source": [
    "trainpred"
   ]
  },
  {
   "cell_type": "code",
   "execution_count": 30,
   "metadata": {},
   "outputs": [
    {
     "data": {
      "text/plain": [
       "array([[0.2733082 ],\n",
       "       [0.31651613],\n",
       "       [0.3474339 ],\n",
       "       [0.33487067],\n",
       "       [0.36124673],\n",
       "       [0.342469  ],\n",
       "       [0.36471394],\n",
       "       [0.39163962],\n",
       "       [0.43088478],\n",
       "       [0.5850521 ],\n",
       "       [0.68676466],\n",
       "       [0.6938032 ],\n",
       "       [0.7361352 ],\n",
       "       [0.7705476 ]], dtype=float32)"
      ]
     },
     "execution_count": 30,
     "metadata": {},
     "output_type": "execute_result"
    }
   ],
   "source": [
    "valpred"
   ]
  },
  {
   "cell_type": "code",
   "execution_count": 31,
   "metadata": {},
   "outputs": [],
   "source": [
    "# Convert predictions back to normal values\n",
    "trainpred = scaler.inverse_transform(trainpred)\n",
    "Y_train = scaler.inverse_transform([Y_train])\n",
    "valpred = scaler.inverse_transform(valpred)\n",
    "Y_val = scaler.inverse_transform([Y_val])\n",
    "predictions = valpred"
   ]
  },
  {
   "cell_type": "code",
   "execution_count": 32,
   "metadata": {},
   "outputs": [
    {
     "data": {
      "text/plain": [
       "(1, 74)"
      ]
     },
     "execution_count": 32,
     "metadata": {},
     "output_type": "execute_result"
    }
   ],
   "source": [
    "Y_train.shape"
   ]
  },
  {
   "cell_type": "code",
   "execution_count": 33,
   "metadata": {},
   "outputs": [
    {
     "data": {
      "text/plain": [
       "(1, 14)"
      ]
     },
     "execution_count": 33,
     "metadata": {},
     "output_type": "execute_result"
    }
   ],
   "source": [
    "Y_val.shape"
   ]
  },
  {
   "cell_type": "code",
   "execution_count": 34,
   "metadata": {},
   "outputs": [
    {
     "data": {
      "text/plain": [
       "(74, 1, 5)"
      ]
     },
     "execution_count": 34,
     "metadata": {},
     "output_type": "execute_result"
    }
   ],
   "source": [
    "X_train.shape"
   ]
  },
  {
   "cell_type": "code",
   "execution_count": 35,
   "metadata": {},
   "outputs": [
    {
     "data": {
      "text/plain": [
       "(14, 1, 5)"
      ]
     },
     "execution_count": 35,
     "metadata": {},
     "output_type": "execute_result"
    }
   ],
   "source": [
    "X_val.shape"
   ]
  },
  {
   "cell_type": "code",
   "execution_count": 36,
   "metadata": {},
   "outputs": [
    {
     "data": {
      "text/plain": [
       "array([[ 66.19251773,  83.49771567,  84.47268398,  72.68456522,\n",
       "         83.45116535,  86.20366422,  91.45293608, 126.92589397,\n",
       "        101.41107955,  89.9096928 ,  89.26574257,  94.24644567,\n",
       "         84.64276423,  80.10729242,  73.66123894,  71.29099688,\n",
       "         71.20313158,  75.51997732,  77.24792627,  70.17713287,\n",
       "         76.81377451,  94.30473002,  95.21253521,  72.52884422,\n",
       "         72.73885106,  76.22860526,  73.89953608,  78.31005495,\n",
       "         83.05294239,  79.5900545 ,  81.36655536,  79.51510608,\n",
       "         81.69887067,  85.45253049, 107.70945313,  92.86574132,\n",
       "         91.91686905, 102.45118665,  99.15784753, 105.37807425,\n",
       "        104.96025199, 108.91796547, 104.93932653, 117.81954795,\n",
       "        106.92704225, 111.18671756, 112.31556444, 101.15518268,\n",
       "        110.22546968, 114.18253731, 113.29086053, 108.65646341,\n",
       "        110.87743553, 117.06417476, 117.90309371, 125.33748775,\n",
       "        117.30699725, 112.6973067 , 116.42294872, 121.17599585,\n",
       "        121.92590126, 114.68440079, 113.96887528, 110.31016028,\n",
       "        108.23790359, 102.80239527,  98.36722793, 109.18395683,\n",
       "         85.3821189 ,  83.10158479,  84.83784   ,  88.62242765,\n",
       "         83.67747222,  92.77957393]])"
      ]
     },
     "execution_count": 36,
     "metadata": {},
     "output_type": "execute_result"
    }
   ],
   "source": [
    "Y_train"
   ]
  },
  {
   "cell_type": "code",
   "execution_count": 37,
   "metadata": {},
   "outputs": [
    {
     "data": {
      "text/plain": [
       "array([[ 89.19876623,  92.82290682,  90.20431193,  92.04525896,\n",
       "         90.06917483,  91.99566508,  95.53501946,  99.44500705,\n",
       "        116.58657688, 127.64236479, 121.46174792, 121.31692451,\n",
       "        124.66143536, 132.63951467]])"
      ]
     },
     "execution_count": 37,
     "metadata": {},
     "output_type": "execute_result"
    }
   ],
   "source": [
    "Y_val"
   ]
  },
  {
   "cell_type": "code",
   "execution_count": 38,
   "metadata": {},
   "outputs": [
    {
     "data": {
      "text/plain": [
       "array([[[0.17394983, 0.06635752, 0.11729932, 0.01906132, 0.        ]],\n",
       "\n",
       "       [[0.06635752, 0.11729932, 0.01906132, 0.        , 0.01126313]],\n",
       "\n",
       "       [[0.11729932, 0.01906132, 0.        , 0.01126313, 0.24639556]],\n",
       "\n",
       "       [[0.01906132, 0.        , 0.01126313, 0.24639556, 0.25964283]],\n",
       "\n",
       "       [[0.        , 0.01126313, 0.24639556, 0.25964283, 0.09947309]],\n",
       "\n",
       "       [[0.01126313, 0.24639556, 0.25964283, 0.09947309, 0.24576306]],\n",
       "\n",
       "       [[0.24639556, 0.25964283, 0.09947309, 0.24576306, 0.28316233]],\n",
       "\n",
       "       [[0.25964283, 0.09947309, 0.24576306, 0.28316233, 0.35448622]],\n",
       "\n",
       "       [[0.09947309, 0.24576306, 0.28316233, 0.35448622, 0.83647103]],\n",
       "\n",
       "       [[0.24576306, 0.28316233, 0.35448622, 0.83647103, 0.48979137]],\n",
       "\n",
       "       [[0.28316233, 0.35448622, 0.83647103, 0.48979137, 0.33351757]],\n",
       "\n",
       "       [[0.35448622, 0.83647103, 0.48979137, 0.33351757, 0.32476797]],\n",
       "\n",
       "       [[0.83647103, 0.48979137, 0.33351757, 0.32476797, 0.39244271]],\n",
       "\n",
       "       [[0.48979137, 0.33351757, 0.32476797, 0.39244271, 0.26195377]],\n",
       "\n",
       "       [[0.33351757, 0.32476797, 0.39244271, 0.26195377, 0.20032856]],\n",
       "\n",
       "       [[0.32476797, 0.39244271, 0.26195377, 0.20032856, 0.11274354]],\n",
       "\n",
       "       [[0.39244271, 0.26195377, 0.20032856, 0.11274354, 0.08053814]],\n",
       "\n",
       "       [[0.26195377, 0.20032856, 0.11274354, 0.08053814, 0.07934428]],\n",
       "\n",
       "       [[0.20032856, 0.11274354, 0.08053814, 0.07934428, 0.13799894]],\n",
       "\n",
       "       [[0.11274354, 0.08053814, 0.07934428, 0.13799894, 0.16147725]],\n",
       "\n",
       "       [[0.08053814, 0.07934428, 0.13799894, 0.16147725, 0.06540364]],\n",
       "\n",
       "       [[0.07934428, 0.13799894, 0.16147725, 0.06540364, 0.15557826]],\n",
       "\n",
       "       [[0.13799894, 0.16147725, 0.06540364, 0.15557826, 0.39323464]],\n",
       "\n",
       "       [[0.16147725, 0.06540364, 0.15557826, 0.39323464, 0.40556934]],\n",
       "\n",
       "       [[0.06540364, 0.15557826, 0.39323464, 0.40556934, 0.09735725]],\n",
       "\n",
       "       [[0.15557826, 0.39323464, 0.40556934, 0.09735725, 0.1002107 ]],\n",
       "\n",
       "       [[0.39323464, 0.40556934, 0.09735725, 0.1002107 , 0.14762734]],\n",
       "\n",
       "       [[0.40556934, 0.09735725, 0.1002107 , 0.14762734, 0.11598137]],\n",
       "\n",
       "       [[0.09735725, 0.1002107 , 0.14762734, 0.11598137, 0.1759088 ]],\n",
       "\n",
       "       [[0.1002107 , 0.14762734, 0.11598137, 0.1759088 , 0.24035225]],\n",
       "\n",
       "       [[0.14762734, 0.11598137, 0.1759088 , 0.24035225, 0.19330065]],\n",
       "\n",
       "       [[0.11598137, 0.1759088 , 0.24035225, 0.19330065, 0.21743866]],\n",
       "\n",
       "       [[0.1759088 , 0.24035225, 0.19330065, 0.21743866, 0.1922823 ]],\n",
       "\n",
       "       [[0.24035225, 0.19330065, 0.21743866, 0.1922823 , 0.22195395]],\n",
       "\n",
       "       [[0.19330065, 0.21743866, 0.1922823 , 0.22195395, 0.27295638]],\n",
       "\n",
       "       [[0.21743866, 0.1922823 , 0.22195395, 0.27295638, 0.57536981]],\n",
       "\n",
       "       [[0.1922823 , 0.22195395, 0.27295638, 0.57536981, 0.37368255]],\n",
       "\n",
       "       [[0.22195395, 0.27295638, 0.57536981, 0.37368255, 0.36078985]],\n",
       "\n",
       "       [[0.27295638, 0.57536981, 0.37368255, 0.36078985, 0.5039237 ]],\n",
       "\n",
       "       [[0.57536981, 0.37368255, 0.36078985, 0.5039237 , 0.45917583]],\n",
       "\n",
       "       [[0.37368255, 0.36078985, 0.5039237 , 0.45917583, 0.54369246]],\n",
       "\n",
       "       [[0.36078985, 0.5039237 , 0.45917583, 0.54369246, 0.53801535]],\n",
       "\n",
       "       [[0.5039237 , 0.45917583, 0.54369246, 0.53801535, 0.59179033]],\n",
       "\n",
       "       [[0.45917583, 0.54369246, 0.53801535, 0.59179033, 0.53773102]],\n",
       "\n",
       "       [[0.54369246, 0.53801535, 0.59179033, 0.53773102, 0.71273958]],\n",
       "\n",
       "       [[0.53801535, 0.59179033, 0.53773102, 0.71273958, 0.56473889]],\n",
       "\n",
       "       [[0.59179033, 0.53773102, 0.71273958, 0.56473889, 0.62261674]],\n",
       "\n",
       "       [[0.53773102, 0.71273958, 0.56473889, 0.62261674, 0.63795482]],\n",
       "\n",
       "       [[0.71273958, 0.56473889, 0.62261674, 0.63795482, 0.4863144 ]],\n",
       "\n",
       "       [[0.56473889, 0.62261674, 0.63795482, 0.4863144 , 0.6095559 ]],\n",
       "\n",
       "       [[0.62261674, 0.63795482, 0.4863144 , 0.6095559 , 0.66332211]],\n",
       "\n",
       "       [[0.63795482, 0.4863144 , 0.6095559 , 0.66332211, 0.65120655]],\n",
       "\n",
       "       [[0.4863144 , 0.6095559 , 0.66332211, 0.65120655, 0.5882372 ]],\n",
       "\n",
       "       [[0.6095559 , 0.66332211, 0.65120655, 0.5882372 , 0.61841441]],\n",
       "\n",
       "       [[0.66332211, 0.65120655, 0.5882372 , 0.61841441, 0.70247603]],\n",
       "\n",
       "       [[0.65120655, 0.5882372 , 0.61841441, 0.70247603, 0.71387475]],\n",
       "\n",
       "       [[0.5882372 , 0.61841441, 0.70247603, 0.71387475, 0.81488874]],\n",
       "\n",
       "       [[0.61841441, 0.70247603, 0.71387475, 0.81488874, 0.70577535]],\n",
       "\n",
       "       [[0.70247603, 0.71387475, 0.81488874, 0.70577535, 0.6431417 ]],\n",
       "\n",
       "       [[0.71387475, 0.81488874, 0.70577535, 0.6431417 , 0.69376344]],\n",
       "\n",
       "       [[0.81488874, 0.70577535, 0.6431417 , 0.69376344, 0.75834494]],\n",
       "\n",
       "       [[0.70577535, 0.6431417 , 0.69376344, 0.75834494, 0.76853419]],\n",
       "\n",
       "       [[0.6431417 , 0.69376344, 0.75834494, 0.76853419, 0.67014112]],\n",
       "\n",
       "       [[0.69376344, 0.75834494, 0.76853419, 0.67014112, 0.660419  ]],\n",
       "\n",
       "       [[0.75834494, 0.76853419, 0.67014112, 0.660419  , 0.61070662]],\n",
       "\n",
       "       [[0.76853419, 0.67014112, 0.660419  , 0.61070662, 0.58255007]],\n",
       "\n",
       "       [[0.67014112, 0.660419  , 0.61070662, 0.58255007, 0.50869571]],\n",
       "\n",
       "       [[0.660419  , 0.61070662, 0.58255007, 0.50869571, 0.44843338]],\n",
       "\n",
       "       [[0.61070662, 0.58255007, 0.50869571, 0.44843338, 0.59540446]],\n",
       "\n",
       "       [[0.58255007, 0.50869571, 0.44843338, 0.59540446, 0.27199967]],\n",
       "\n",
       "       [[0.50869571, 0.44843338, 0.59540446, 0.27199967, 0.24101317]],\n",
       "\n",
       "       [[0.44843338, 0.59540446, 0.27199967, 0.24101317, 0.26460434]],\n",
       "\n",
       "       [[0.59540446, 0.27199967, 0.24101317, 0.26460434, 0.316027  ]],\n",
       "\n",
       "       [[0.27199967, 0.24101317, 0.26460434, 0.316027  , 0.24883798]]])"
      ]
     },
     "execution_count": 38,
     "metadata": {},
     "output_type": "execute_result"
    }
   ],
   "source": [
    "X_train"
   ]
  },
  {
   "cell_type": "code",
   "execution_count": 39,
   "metadata": {},
   "outputs": [
    {
     "data": {
      "text/plain": [
       "array([[[0.37223323, 0.24205107, 0.2691728 , 0.24987543, 0.24818941]],\n",
       "\n",
       "       [[0.24205107, 0.2691728 , 0.24987543, 0.24818941, 0.32385794]],\n",
       "\n",
       "       [[0.2691728 , 0.24987543, 0.24818941, 0.32385794, 0.37310054]],\n",
       "\n",
       "       [[0.24987543, 0.24818941, 0.32385794, 0.37310054, 0.33752068]],\n",
       "\n",
       "       [[0.24818941, 0.32385794, 0.37310054, 0.33752068, 0.36253434]],\n",
       "\n",
       "       [[0.32385794, 0.37310054, 0.33752068, 0.36253434, 0.33568452]],\n",
       "\n",
       "       [[0.37310054, 0.33752068, 0.36253434, 0.33568452, 0.36186048]],\n",
       "\n",
       "       [[0.33752068, 0.36253434, 0.33568452, 0.36186048, 0.40995106]],\n",
       "\n",
       "       [[0.36253434, 0.33568452, 0.36186048, 0.40995106, 0.46307758]],\n",
       "\n",
       "       [[0.33568452, 0.36186048, 0.40995106, 0.46307758, 0.69598672]],\n",
       "\n",
       "       [[0.36186048, 0.40995106, 0.46307758, 0.69598672, 0.84620599]],\n",
       "\n",
       "       [[0.40995106, 0.46307758, 0.69598672, 0.84620599, 0.76222756]],\n",
       "\n",
       "       [[0.46307758, 0.69598672, 0.84620599, 0.76222756, 0.76025979]],\n",
       "\n",
       "       [[0.69598672, 0.84620599, 0.76222756, 0.76025979, 0.80570295]]])"
      ]
     },
     "execution_count": 39,
     "metadata": {},
     "output_type": "execute_result"
    }
   ],
   "source": [
    "X_val"
   ]
  },
  {
   "cell_type": "code",
   "execution_count": 40,
   "metadata": {},
   "outputs": [
    {
     "name": "stdout",
     "output_type": "stream",
     "text": [
      "Train Score: 8.40 RMSE\n",
      "Validation Score: 8.55 RMSE\n"
     ]
    }
   ],
   "source": [
    "import math\n",
    "from sklearn.metrics import mean_squared_error\n",
    "\n",
    "# calculate RMSE\n",
    "trainScore = math.sqrt(mean_squared_error(Y_train[0], trainpred[:,0]))\n",
    "print('Train Score: %.2f RMSE' % (trainScore))\n",
    "valScore = math.sqrt(mean_squared_error(Y_val[0], valpred[:,0]))\n",
    "print('Validation Score: %.2f RMSE' % (valScore))"
   ]
  },
  {
   "cell_type": "code",
   "execution_count": 41,
   "metadata": {},
   "outputs": [],
   "source": [
    "# Train predictions\n",
    "trainpredPlot = np.empty_like(df)\n",
    "trainpredPlot[:, :] = np.nan\n",
    "trainpredPlot[previous:len(trainpred)+previous, :] = trainpred"
   ]
  },
  {
   "cell_type": "code",
   "execution_count": 42,
   "metadata": {},
   "outputs": [],
   "source": [
    "# Validation predictions\n",
    "valpredPlot = np.empty_like(df)\n",
    "valpredPlot[:, :] = np.nan\n",
    "valpredPlot[len(trainpred)+(previous*2)+1:len(df)-1, :] = valpred"
   ]
  },
  {
   "cell_type": "code",
   "execution_count": 43,
   "metadata": {},
   "outputs": [
    {
     "data": {
      "image/png": "[encoded data removed]",
      "text/plain": [
       "<Figure size 432x288 with 1 Axes>"
      ]
     },
     "metadata": {
      "needs_background": "light"
     },
     "output_type": "display_data"
    }
   ],
   "source": [
    "# Plot all predictions\n",
    "inversetransform, =plt.plot(scaler.inverse_transform(df))\n",
    "trainpred, =plt.plot(trainpredPlot)\n",
    "valpred, =plt.plot(valpredPlot)\n",
    "plt.xlabel('Number of weeks')\n",
    "plt.ylabel('Cancellations')\n",
    "plt.title(\"Predicted vs. Actual Weekly ADR\")\n",
    "plt.show()"
   ]
  },
  {
   "cell_type": "code",
   "execution_count": 44,
   "metadata": {},
   "outputs": [],
   "source": [
    "Y_val=Y_val.reshape(-1)\n",
    "Y_val.shape\n",
    "Y_val=pd.Series(Y_val)"
   ]
  },
  {
   "cell_type": "code",
   "execution_count": 45,
   "metadata": {},
   "outputs": [
    {
     "data": {
      "text/plain": [
       "0      89.198766\n",
       "1      92.822907\n",
       "2      90.204312\n",
       "3      92.045259\n",
       "4      90.069175\n",
       "5      91.995665\n",
       "6      95.535019\n",
       "7      99.445007\n",
       "8     116.586577\n",
       "9     127.642365\n",
       "10    121.461748\n",
       "11    121.316925\n",
       "12    124.661435\n",
       "13    132.639515\n",
       "dtype: float64"
      ]
     },
     "execution_count": 45,
     "metadata": {},
     "output_type": "execute_result"
    }
   ],
   "source": [
    "Y_val"
   ]
  },
  {
   "cell_type": "code",
   "execution_count": 46,
   "metadata": {},
   "outputs": [],
   "source": [
    "predictions=predictions.reshape(-1)\n",
    "predictions.shape\n",
    "predictions=pd.Series(predictions)"
   ]
  },
  {
   "cell_type": "code",
   "execution_count": 47,
   "metadata": {},
   "outputs": [
    {
     "data": {
      "text/plain": [
       "0      85.478424\n",
       "1      88.658424\n",
       "2      90.933899\n",
       "3      90.009277\n",
       "4      91.950493\n",
       "5      90.568497\n",
       "6      92.205673\n",
       "7      94.187340\n",
       "8      97.075691\n",
       "9     108.422043\n",
       "10    115.907852\n",
       "11    116.425880\n",
       "12    119.541412\n",
       "13    122.074089\n",
       "dtype: float32"
      ]
     },
     "execution_count": 47,
     "metadata": {},
     "output_type": "execute_result"
    }
   ],
   "source": [
    "predictions"
   ]
  },
  {
   "cell_type": "code",
   "execution_count": 48,
   "metadata": {},
   "outputs": [],
   "source": [
    "import numpy as np\n",
    "\n",
    "def mda(actual: np.ndarray, predicted: np.ndarray):\n",
    "    \"\"\" Mean Directional Accuracy \"\"\"\n",
    "    return np.mean((np.sign(actual[1:] - actual[:-1]) == np.sign(predicted[1:] - predicted[:-1])).astype(int))"
   ]
  },
  {
   "cell_type": "code",
   "execution_count": 49,
   "metadata": {},
   "outputs": [
    {
     "data": {
      "text/plain": [
       "0.8571428571428571"
      ]
     },
     "execution_count": 49,
     "metadata": {},
     "output_type": "execute_result"
    }
   ],
   "source": [
    "mda(Y_val, predictions)"
   ]
  },
  {
   "cell_type": "code",
   "execution_count": 50,
   "metadata": {},
   "outputs": [
    {
     "name": "stdout",
     "output_type": "stream",
     "text": [
      "RMSE: 8.547646\n"
     ]
    }
   ],
   "source": [
    "# https://machinelearningmastery.com/time-series-forecasting-performance-measures-with-python/\n",
    "\n",
    "from sklearn.metrics import mean_squared_error\n",
    "from math import sqrt\n",
    "mse = mean_squared_error(Y_val, predictions)\n",
    "rmse = sqrt(mse)\n",
    "print('RMSE: %f' % rmse)"
   ]
  },
  {
   "cell_type": "code",
   "execution_count": 51,
   "metadata": {},
   "outputs": [
    {
     "data": {
      "text/plain": [
       "0     -3.720342\n",
       "1     -4.164482\n",
       "2      0.729587\n",
       "3     -2.035982\n",
       "4      1.881318\n",
       "5     -1.427168\n",
       "6     -3.329346\n",
       "7     -5.257667\n",
       "8    -19.510886\n",
       "9    -19.220322\n",
       "10    -5.553896\n",
       "11    -4.891044\n",
       "12    -5.120023\n",
       "13   -10.565426\n",
       "dtype: float64"
      ]
     },
     "execution_count": 51,
     "metadata": {},
     "output_type": "execute_result"
    }
   ],
   "source": [
    "forecast_error = (predictions-Y_val)\n",
    "forecast_error"
   ]
  },
  {
   "cell_type": "code",
   "execution_count": 52,
   "metadata": {},
   "outputs": [
    {
     "data": {
      "text/plain": [
       "-5.870405652203311"
      ]
     },
     "execution_count": 52,
     "metadata": {},
     "output_type": "execute_result"
    }
   ],
   "source": [
    "mean_forecast_error = np.mean(forecast_error)\n",
    "mean_forecast_error"
   ]
  },
  {
   "cell_type": "code",
   "execution_count": 53,
   "metadata": {},
   "outputs": [
    {
     "data": {
      "text/plain": [
       "array([[[0.17394983, 0.06635752, 0.11729932, 0.01906132, 0.        ]],\n",
       "\n",
       "       [[0.06635752, 0.11729932, 0.01906132, 0.        , 0.01126313]],\n",
       "\n",
       "       [[0.11729932, 0.01906132, 0.        , 0.01126313, 0.24639556]],\n",
       "\n",
       "       [[0.01906132, 0.        , 0.01126313, 0.24639556, 0.25964283]],\n",
       "\n",
       "       [[0.        , 0.01126313, 0.24639556, 0.25964283, 0.09947309]],\n",
       "\n",
       "       [[0.01126313, 0.24639556, 0.25964283, 0.09947309, 0.24576306]],\n",
       "\n",
       "       [[0.24639556, 0.25964283, 0.09947309, 0.24576306, 0.28316233]],\n",
       "\n",
       "       [[0.25964283, 0.09947309, 0.24576306, 0.28316233, 0.35448622]],\n",
       "\n",
       "       [[0.09947309, 0.24576306, 0.28316233, 0.35448622, 0.83647103]],\n",
       "\n",
       "       [[0.24576306, 0.28316233, 0.35448622, 0.83647103, 0.48979137]],\n",
       "\n",
       "       [[0.28316233, 0.35448622, 0.83647103, 0.48979137, 0.33351757]],\n",
       "\n",
       "       [[0.35448622, 0.83647103, 0.48979137, 0.33351757, 0.32476797]],\n",
       "\n",
       "       [[0.83647103, 0.48979137, 0.33351757, 0.32476797, 0.39244271]],\n",
       "\n",
       "       [[0.48979137, 0.33351757, 0.32476797, 0.39244271, 0.26195377]],\n",
       "\n",
       "       [[0.33351757, 0.32476797, 0.39244271, 0.26195377, 0.20032856]],\n",
       "\n",
       "       [[0.32476797, 0.39244271, 0.26195377, 0.20032856, 0.11274354]],\n",
       "\n",
       "       [[0.39244271, 0.26195377, 0.20032856, 0.11274354, 0.08053814]],\n",
       "\n",
       "       [[0.26195377, 0.20032856, 0.11274354, 0.08053814, 0.07934428]],\n",
       "\n",
       "       [[0.20032856, 0.11274354, 0.08053814, 0.07934428, 0.13799894]],\n",
       "\n",
       "       [[0.11274354, 0.08053814, 0.07934428, 0.13799894, 0.16147725]],\n",
       "\n",
       "       [[0.08053814, 0.07934428, 0.13799894, 0.16147725, 0.06540364]],\n",
       "\n",
       "       [[0.07934428, 0.13799894, 0.16147725, 0.06540364, 0.15557826]],\n",
       "\n",
       "       [[0.13799894, 0.16147725, 0.06540364, 0.15557826, 0.39323464]],\n",
       "\n",
       "       [[0.16147725, 0.06540364, 0.15557826, 0.39323464, 0.40556934]],\n",
       "\n",
       "       [[0.06540364, 0.15557826, 0.39323464, 0.40556934, 0.09735725]],\n",
       "\n",
       "       [[0.15557826, 0.39323464, 0.40556934, 0.09735725, 0.1002107 ]],\n",
       "\n",
       "       [[0.39323464, 0.40556934, 0.09735725, 0.1002107 , 0.14762734]],\n",
       "\n",
       "       [[0.40556934, 0.09735725, 0.1002107 , 0.14762734, 0.11598137]],\n",
       "\n",
       "       [[0.09735725, 0.1002107 , 0.14762734, 0.11598137, 0.1759088 ]],\n",
       "\n",
       "       [[0.1002107 , 0.14762734, 0.11598137, 0.1759088 , 0.24035225]],\n",
       "\n",
       "       [[0.14762734, 0.11598137, 0.1759088 , 0.24035225, 0.19330065]],\n",
       "\n",
       "       [[0.11598137, 0.1759088 , 0.24035225, 0.19330065, 0.21743866]],\n",
       "\n",
       "       [[0.1759088 , 0.24035225, 0.19330065, 0.21743866, 0.1922823 ]],\n",
       "\n",
       "       [[0.24035225, 0.19330065, 0.21743866, 0.1922823 , 0.22195395]],\n",
       "\n",
       "       [[0.19330065, 0.21743866, 0.1922823 , 0.22195395, 0.27295638]],\n",
       "\n",
       "       [[0.21743866, 0.1922823 , 0.22195395, 0.27295638, 0.57536981]],\n",
       "\n",
       "       [[0.1922823 , 0.22195395, 0.27295638, 0.57536981, 0.37368255]],\n",
       "\n",
       "       [[0.22195395, 0.27295638, 0.57536981, 0.37368255, 0.36078985]],\n",
       "\n",
       "       [[0.27295638, 0.57536981, 0.37368255, 0.36078985, 0.5039237 ]],\n",
       "\n",
       "       [[0.57536981, 0.37368255, 0.36078985, 0.5039237 , 0.45917583]],\n",
       "\n",
       "       [[0.37368255, 0.36078985, 0.5039237 , 0.45917583, 0.54369246]],\n",
       "\n",
       "       [[0.36078985, 0.5039237 , 0.45917583, 0.54369246, 0.53801535]],\n",
       "\n",
       "       [[0.5039237 , 0.45917583, 0.54369246, 0.53801535, 0.59179033]],\n",
       "\n",
       "       [[0.45917583, 0.54369246, 0.53801535, 0.59179033, 0.53773102]],\n",
       "\n",
       "       [[0.54369246, 0.53801535, 0.59179033, 0.53773102, 0.71273958]],\n",
       "\n",
       "       [[0.53801535, 0.59179033, 0.53773102, 0.71273958, 0.56473889]],\n",
       "\n",
       "       [[0.59179033, 0.53773102, 0.71273958, 0.56473889, 0.62261674]],\n",
       "\n",
       "       [[0.53773102, 0.71273958, 0.56473889, 0.62261674, 0.63795482]],\n",
       "\n",
       "       [[0.71273958, 0.56473889, 0.62261674, 0.63795482, 0.4863144 ]],\n",
       "\n",
       "       [[0.56473889, 0.62261674, 0.63795482, 0.4863144 , 0.6095559 ]],\n",
       "\n",
       "       [[0.62261674, 0.63795482, 0.4863144 , 0.6095559 , 0.66332211]],\n",
       "\n",
       "       [[0.63795482, 0.4863144 , 0.6095559 , 0.66332211, 0.65120655]],\n",
       "\n",
       "       [[0.4863144 , 0.6095559 , 0.66332211, 0.65120655, 0.5882372 ]],\n",
       "\n",
       "       [[0.6095559 , 0.66332211, 0.65120655, 0.5882372 , 0.61841441]],\n",
       "\n",
       "       [[0.66332211, 0.65120655, 0.5882372 , 0.61841441, 0.70247603]],\n",
       "\n",
       "       [[0.65120655, 0.5882372 , 0.61841441, 0.70247603, 0.71387475]],\n",
       "\n",
       "       [[0.5882372 , 0.61841441, 0.70247603, 0.71387475, 0.81488874]],\n",
       "\n",
       "       [[0.61841441, 0.70247603, 0.71387475, 0.81488874, 0.70577535]],\n",
       "\n",
       "       [[0.70247603, 0.71387475, 0.81488874, 0.70577535, 0.6431417 ]],\n",
       "\n",
       "       [[0.71387475, 0.81488874, 0.70577535, 0.6431417 , 0.69376344]],\n",
       "\n",
       "       [[0.81488874, 0.70577535, 0.6431417 , 0.69376344, 0.75834494]],\n",
       "\n",
       "       [[0.70577535, 0.6431417 , 0.69376344, 0.75834494, 0.76853419]],\n",
       "\n",
       "       [[0.6431417 , 0.69376344, 0.75834494, 0.76853419, 0.67014112]],\n",
       "\n",
       "       [[0.69376344, 0.75834494, 0.76853419, 0.67014112, 0.660419  ]],\n",
       "\n",
       "       [[0.75834494, 0.76853419, 0.67014112, 0.660419  , 0.61070662]],\n",
       "\n",
       "       [[0.76853419, 0.67014112, 0.660419  , 0.61070662, 0.58255007]],\n",
       "\n",
       "       [[0.67014112, 0.660419  , 0.61070662, 0.58255007, 0.50869571]],\n",
       "\n",
       "       [[0.660419  , 0.61070662, 0.58255007, 0.50869571, 0.44843338]],\n",
       "\n",
       "       [[0.61070662, 0.58255007, 0.50869571, 0.44843338, 0.59540446]],\n",
       "\n",
       "       [[0.58255007, 0.50869571, 0.44843338, 0.59540446, 0.27199967]],\n",
       "\n",
       "       [[0.50869571, 0.44843338, 0.59540446, 0.27199967, 0.24101317]],\n",
       "\n",
       "       [[0.44843338, 0.59540446, 0.27199967, 0.24101317, 0.26460434]],\n",
       "\n",
       "       [[0.59540446, 0.27199967, 0.24101317, 0.26460434, 0.316027  ]],\n",
       "\n",
       "       [[0.27199967, 0.24101317, 0.26460434, 0.316027  , 0.24883798]]])"
      ]
     },
     "execution_count": 53,
     "metadata": {},
     "output_type": "execute_result"
    }
   ],
   "source": [
    "X_train"
   ]
  },
  {
   "cell_type": "code",
   "execution_count": 54,
   "metadata": {},
   "outputs": [
    {
     "data": {
      "text/plain": [
       "(74, 1, 5)"
      ]
     },
     "execution_count": 54,
     "metadata": {},
     "output_type": "execute_result"
    }
   ],
   "source": [
    "X_train.shape"
   ]
  },
  {
   "cell_type": "markdown",
   "metadata": {},
   "source": [
    "## Validate predictions on test data"
   ]
  },
  {
   "cell_type": "code",
   "execution_count": 55,
   "metadata": {},
   "outputs": [],
   "source": [
    "Xnew = np.array([tseries.iloc[95:100],tseries.iloc[96:101],tseries.iloc[97:102],tseries.iloc[98:103],tseries.iloc[99:104],tseries.iloc[100:105],tseries.iloc[101:106],tseries.iloc[102:107],tseries.iloc[103:108],tseries.iloc[104:109],tseries.iloc[105:110],tseries.iloc[106:111],tseries.iloc[107:112],tseries.iloc[108:113],tseries.iloc[109:114]])"
   ]
  },
  {
   "cell_type": "code",
   "execution_count": 56,
   "metadata": {},
   "outputs": [
    {
     "data": {
      "text/plain": [
       "array([[121.46174792, 121.31692451, 124.66143536, 132.63951467,\n",
       "        138.96124481],\n",
       "       [121.31692451, 124.66143536, 132.63951467, 138.96124481,\n",
       "        135.29018595],\n",
       "       [124.66143536, 132.63951467, 138.96124481, 135.29018595,\n",
       "        126.70549121],\n",
       "       [132.63951467, 138.96124481, 135.29018595, 126.70549121,\n",
       "        136.96731501],\n",
       "       [138.96124481, 135.29018595, 126.70549121, 136.96731501,\n",
       "        125.04368653],\n",
       "       [135.29018595, 126.70549121, 136.96731501, 125.04368653,\n",
       "        129.75435252],\n",
       "       [126.70549121, 136.96731501, 125.04368653, 129.75435252,\n",
       "        123.69777658],\n",
       "       [136.96731501, 125.04368653, 129.75435252, 123.69777658,\n",
       "        122.84483755],\n",
       "       [125.04368653, 129.75435252, 123.69777658, 122.84483755,\n",
       "        123.08675055],\n",
       "       [129.75435252, 123.69777658, 122.84483755, 123.08675055,\n",
       "        124.98114286],\n",
       "       [123.69777658, 122.84483755, 123.08675055, 124.98114286,\n",
       "        131.79458537],\n",
       "       [122.84483755, 123.08675055, 124.98114286, 131.79458537,\n",
       "        138.89840845],\n",
       "       [123.08675055, 124.98114286, 131.79458537, 138.89840845,\n",
       "        142.90922096],\n",
       "       [124.98114286, 131.79458537, 138.89840845, 142.90922096,\n",
       "        144.83992318],\n",
       "       [131.79458537, 138.89840845, 142.90922096, 144.83992318,\n",
       "        135.89270833]])"
      ]
     },
     "execution_count": 56,
     "metadata": {},
     "output_type": "execute_result"
    }
   ],
   "source": [
    "Xnew"
   ]
  },
  {
   "cell_type": "code",
   "execution_count": 57,
   "metadata": {},
   "outputs": [],
   "source": [
    "Xnew = scaler.fit_transform(Xnew)\n",
    "Xnew\n",
    "Xnewformat = np.reshape(Xnew, (Xnew.shape[0], 1, Xnew.shape[1]))\n",
    "ynew=model.predict(Xnewformat)"
   ]
  },
  {
   "cell_type": "code",
   "execution_count": 58,
   "metadata": {},
   "outputs": [
    {
     "data": {
      "text/plain": [
       "(15, 5)"
      ]
     },
     "execution_count": 58,
     "metadata": {},
     "output_type": "execute_result"
    }
   ],
   "source": [
    "Xnew.shape"
   ]
  },
  {
   "cell_type": "code",
   "execution_count": 59,
   "metadata": {},
   "outputs": [
    {
     "data": {
      "text/plain": [
       "array([[0.49820894],\n",
       "       [0.48205867],\n",
       "       [0.2749035 ],\n",
       "       [0.6056188 ],\n",
       "       [0.19704   ],\n",
       "       [0.3929087 ],\n",
       "       [0.12482627],\n",
       "       [0.12032793],\n",
       "       [0.10102041],\n",
       "       [0.14471745],\n",
       "       [0.32126176],\n",
       "       [0.5112805 ],\n",
       "       [0.6852123 ],\n",
       "       [0.8395969 ],\n",
       "       [0.66861695]], dtype=float32)"
      ]
     },
     "execution_count": 59,
     "metadata": {},
     "output_type": "execute_result"
    }
   ],
   "source": [
    "ynew"
   ]
  },
  {
   "cell_type": "code",
   "execution_count": 60,
   "metadata": {},
   "outputs": [
    {
     "data": {
      "text/plain": [
       "numpy.ndarray"
      ]
     },
     "execution_count": 60,
     "metadata": {},
     "output_type": "execute_result"
    }
   ],
   "source": [
    "type(ynew)"
   ]
  },
  {
   "cell_type": "code",
   "execution_count": 61,
   "metadata": {},
   "outputs": [
    {
     "data": {
      "text/plain": [
       "(15, 1)"
      ]
     },
     "execution_count": 61,
     "metadata": {},
     "output_type": "execute_result"
    }
   ],
   "source": [
    "ynew.shape"
   ]
  },
  {
   "cell_type": "code",
   "execution_count": 62,
   "metadata": {},
   "outputs": [
    {
     "data": {
      "text/plain": [
       "FullDate\n",
       "201721    135.290186\n",
       "201722    126.705491\n",
       "201723    136.967315\n",
       "201724    125.043687\n",
       "201725    129.754353\n",
       "201726    123.697777\n",
       "201727    122.844838\n",
       "201728    123.086751\n",
       "201729    124.981143\n",
       "201730    131.794585\n",
       "201731    138.898408\n",
       "201732    142.909221\n",
       "201733    144.839923\n",
       "201734    135.892708\n",
       "201735    128.586952\n",
       "Name: ADR, dtype: float64"
      ]
     },
     "execution_count": 62,
     "metadata": {},
     "output_type": "execute_result"
    }
   ],
   "source": [
    "actual = tseries.iloc[100:115]\n",
    "actual"
   ]
  },
  {
   "cell_type": "code",
   "execution_count": 63,
   "metadata": {},
   "outputs": [
    {
     "data": {
      "text/plain": [
       "array([135.29018595, 126.70549121, 136.96731501, 125.04368653,\n",
       "       129.75435252, 123.69777658, 122.84483755, 123.08675055,\n",
       "       124.98114286, 131.79458537, 138.89840845, 142.90922096,\n",
       "       144.83992318, 135.89270833, 128.58695175])"
      ]
     },
     "execution_count": 63,
     "metadata": {},
     "output_type": "execute_result"
    }
   ],
   "source": [
    "actual = np.array(actual)\n",
    "actual"
   ]
  },
  {
   "cell_type": "code",
   "execution_count": 64,
   "metadata": {},
   "outputs": [
    {
     "data": {
      "text/plain": [
       "(15, 1)"
      ]
     },
     "execution_count": 64,
     "metadata": {},
     "output_type": "execute_result"
    }
   ],
   "source": [
    "actual=actual.reshape(15,-1)\n",
    "actual.shape"
   ]
  },
  {
   "cell_type": "code",
   "execution_count": 65,
   "metadata": {},
   "outputs": [
    {
     "data": {
      "text/plain": [
       "array([[135.29018595],\n",
       "       [126.70549121],\n",
       "       [136.96731501],\n",
       "       [125.04368653],\n",
       "       [129.75435252],\n",
       "       [123.69777658],\n",
       "       [122.84483755],\n",
       "       [123.08675055],\n",
       "       [124.98114286],\n",
       "       [131.79458537],\n",
       "       [138.89840845],\n",
       "       [142.90922096],\n",
       "       [144.83992318],\n",
       "       [135.89270833],\n",
       "       [128.58695175]])"
      ]
     },
     "execution_count": 65,
     "metadata": {},
     "output_type": "execute_result"
    }
   ],
   "source": [
    "actual"
   ]
  },
  {
   "cell_type": "code",
   "execution_count": 66,
   "metadata": {},
   "outputs": [],
   "source": [
    "ynew=ynew.reshape(-1)\n",
    "actual=actual.reshape(-1)\n",
    "actualpd=pd.Series(actual)"
   ]
  },
  {
   "cell_type": "code",
   "execution_count": 67,
   "metadata": {},
   "outputs": [
    {
     "data": {
      "text/plain": [
       "0.0"
      ]
     },
     "execution_count": 67,
     "metadata": {},
     "output_type": "execute_result"
    }
   ],
   "source": [
    "np.min(df)"
   ]
  },
  {
   "cell_type": "code",
   "execution_count": 68,
   "metadata": {},
   "outputs": [
    {
     "data": {
      "text/plain": [
       "array([0.49820894, 0.48205867, 0.2749035 , 0.6056188 , 0.19704   ,\n",
       "       0.3929087 , 0.12482627, 0.12032793, 0.10102041, 0.14471745,\n",
       "       0.32126176, 0.5112805 , 0.6852123 , 0.8395969 , 0.66861695],\n",
       "      dtype=float32)"
      ]
     },
     "execution_count": 68,
     "metadata": {},
     "output_type": "execute_result"
    }
   ],
   "source": [
    "ynew"
   ]
  },
  {
   "cell_type": "code",
   "execution_count": 69,
   "metadata": {},
   "outputs": [],
   "source": [
    "maxt=np.max(tseries)"
   ]
  },
  {
   "cell_type": "code",
   "execution_count": 70,
   "metadata": {},
   "outputs": [],
   "source": [
    "mint=np.min(tseries)"
   ]
  },
  {
   "cell_type": "code",
   "execution_count": 71,
   "metadata": {},
   "outputs": [],
   "source": [
    "ynew = ynew * np.abs(maxt-mint) + np.min(tseries)\n",
    "ynewpd=pd.Series(ynew)"
   ]
  },
  {
   "cell_type": "code",
   "execution_count": 72,
   "metadata": {},
   "outputs": [
    {
     "data": {
      "text/plain": [
       "0     135.290186\n",
       "1     126.705491\n",
       "2     136.967315\n",
       "3     125.043687\n",
       "4     129.754353\n",
       "5     123.697777\n",
       "6     122.844838\n",
       "7     123.086751\n",
       "8     124.981143\n",
       "9     131.794585\n",
       "10    138.898408\n",
       "11    142.909221\n",
       "12    144.839923\n",
       "13    135.892708\n",
       "14    128.586952\n",
       "dtype: float64"
      ]
     },
     "execution_count": 72,
     "metadata": {},
     "output_type": "execute_result"
    }
   ],
   "source": [
    "actualpd"
   ]
  },
  {
   "cell_type": "code",
   "execution_count": 73,
   "metadata": {},
   "outputs": [
    {
     "data": {
      "text/plain": [
       "0     104.959412\n",
       "1     103.675842\n",
       "2      87.211906\n",
       "3     113.495949\n",
       "4      81.023598\n",
       "5      96.590530\n",
       "6      75.284317\n",
       "7      74.926804\n",
       "8      73.392311\n",
       "9      76.865196\n",
       "10     90.896294\n",
       "11    105.998283\n",
       "12    119.821747\n",
       "13    132.091675\n",
       "14    118.502808\n",
       "dtype: float32"
      ]
     },
     "execution_count": 73,
     "metadata": {},
     "output_type": "execute_result"
    }
   ],
   "source": [
    "ynewpd"
   ]
  },
  {
   "cell_type": "code",
   "execution_count": 74,
   "metadata": {},
   "outputs": [
    {
     "data": {
      "text/plain": [
       "0.8666666666666667"
      ]
     },
     "execution_count": 74,
     "metadata": {},
     "output_type": "execute_result"
    }
   ],
   "source": [
    "mda(actualpd, ynewpd)"
   ]
  },
  {
   "cell_type": "code",
   "execution_count": 75,
   "metadata": {},
   "outputs": [
    {
     "name": "stdout",
     "output_type": "stream",
     "text": [
      "RMSE: 38.155347\n"
     ]
    }
   ],
   "source": [
    "mse = mean_squared_error(actualpd, ynewpd)\n",
    "rmse = sqrt(mse)\n",
    "print('RMSE: %f' % rmse)"
   ]
  },
  {
   "cell_type": "code",
   "execution_count": 76,
   "metadata": {},
   "outputs": [
    {
     "data": {
      "text/plain": [
       "0    -30.330774\n",
       "1    -23.029649\n",
       "2    -49.755409\n",
       "3    -11.547738\n",
       "4    -48.730755\n",
       "5    -27.107246\n",
       "6    -47.560521\n",
       "7    -48.159947\n",
       "8    -51.588832\n",
       "9    -54.929389\n",
       "10   -48.002115\n",
       "11   -36.910938\n",
       "12   -25.018176\n",
       "13    -3.801034\n",
       "14   -10.084144\n",
       "dtype: float64"
      ]
     },
     "execution_count": 76,
     "metadata": {},
     "output_type": "execute_result"
    }
   ],
   "source": [
    "forecast_error = (ynewpd-actualpd)\n",
    "forecast_error"
   ]
  },
  {
   "cell_type": "code",
   "execution_count": 77,
   "metadata": {},
   "outputs": [
    {
     "data": {
      "text/plain": [
       "-34.437111023457376"
      ]
     },
     "execution_count": 77,
     "metadata": {},
     "output_type": "execute_result"
    }
   ],
   "source": [
    "mean_forecast_error = np.mean(forecast_error)\n",
    "mean_forecast_error"
   ]
  },
  {
   "cell_type": "code",
   "execution_count": 78,
   "metadata": {},
   "outputs": [
    {
     "data": {
      "image/png": "[encoded data removed]",
      "text/plain": [
       "<Figure size 432x288 with 1 Axes>"
      ]
     },
     "metadata": {
      "needs_background": "light"
     },
     "output_type": "display_data"
    }
   ],
   "source": [
    "predictons, =plt.plot(ynewpd, label='Predictions')\n",
    "actual, =plt.plot(actualpd, label='Actual')\n",
    "plt.xlabel('Number of weeks')\n",
    "plt.ylabel('Weekly ADR')\n",
    "plt.title(\"Predicted vs. Actual Weekly ADR\")\n",
    "plt.legend(loc = 'upper center')\n",
    "plt.show()"
   ]
  },
  {
   "cell_type": "code",
   "execution_count": 79,
   "metadata": {},
   "outputs": [
    {
     "data": {
      "text/plain": [
       "131.41955578664096"
      ]
     },
     "execution_count": 79,
     "metadata": {},
     "output_type": "execute_result"
    }
   ],
   "source": [
    "np.mean(actualpd)"
   ]
  },
  {
   "cell_type": "code",
   "execution_count": null,
   "metadata": {},
   "outputs": [],
   "source": []
  }
 ],
 "metadata": {
  "kernelspec": {
   "display_name": "Python 3",
   "language": "python",
   "name": "python3"
  },
  "language_info": {
   "codemirror_mode": {
    "name": "ipython",
    "version": 3
   },
   "file_extension": ".py",
   "mimetype": "text/x-python",
   "name": "python",
   "nbconvert_exporter": "python",
   "pygments_lexer": "ipython3",
   "version": "3.6.5"
  }
 },
 "nbformat": 4,
 "nbformat_minor": 2
}
