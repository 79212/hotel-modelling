{
 "cells": [
  {
   "cell_type": "markdown",
   "metadata": {},
   "source": [
    "## Python version"
   ]
  },
  {
   "cell_type": "code",
   "execution_count": 4,
   "metadata": {},
   "outputs": [
    {
     "name": "stdout",
     "output_type": "stream",
     "text": [
      "3.6.5\n"
     ]
    }
   ],
   "source": [
    "from platform import python_version\n",
    "print(python_version())"
   ]
  },
  {
   "cell_type": "markdown",
   "metadata": {},
   "source": [
    "## Import Libraries"
   ]
  },
  {
   "cell_type": "code",
   "execution_count": 1,
   "metadata": {},
   "outputs": [
    {
     "name": "stderr",
     "output_type": "stream",
     "text": [
      "/home/michael/anaconda3/lib/python3.6/site-packages/statsmodels/tools/_testing.py:19: FutureWarning: pandas.util.testing is deprecated. Use the functions in the public API at pandas.testing instead.\n",
      "  import pandas.util.testing as tm\n"
     ]
    }
   ],
   "source": [
    "import os\n",
    "import csv\n",
    "import random\n",
    "import statsmodels.api as sm\n",
    "import statsmodels.formula.api as smf\n",
    "import numpy as np\n",
    "import pandas as pd\n",
    "from sklearn.model_selection import train_test_split\n",
    "from sklearn.linear_model import LogisticRegression\n",
    "from sklearn.ensemble import ExtraTreesClassifier\n",
    "from sklearn.preprocessing import MinMaxScaler\n",
    "\n",
    "dtypes = {\n",
    "        'IsCanceled':                                    'float64',\n",
    "        'LeadTime':                                          'float64',\n",
    "        'StaysInWeekendNights':                                     'float64',\n",
    "        'StaysInWeekNights':                                     'float64',\n",
    "        'Adults':                            'float64',\n",
    "        'Children':                            'float64',\n",
    "        'Babies':                                  'float64',\n",
    "        'Meal':                                    'category',\n",
    "        'Country':                                               'category',\n",
    "        'MarketSegment':                                    'category',\n",
    "        'DistributionChannel':                                       'category',\n",
    "        'IsRepeatedGuest':                               'float64',\n",
    "        'PreviousCancellations':                                    'float64',\n",
    "        'PreviousBookingsNotCanceled':                          'float64',\n",
    "        'ReservedRoomType':                                             'category',\n",
    "        'AssignedRoomType':                                            'category',\n",
    "        'BookingChanges':                                                'float64',\n",
    "        'DepositType':                                              'category',\n",
    "        'Agent':                                              'category',\n",
    "        'Company':                                 'category',\n",
    "        'DaysInWaitingList':                                           'float64',\n",
    "        'CustomerType':                                           'category',\n",
    "        'ADR':                                          'float64',\n",
    "        'RequiredCarParkingSpaces':                                      'float64',\n",
    "        'TotalOfSpecialRequests':                                              'float64',\n",
    "        'ReservationStatus':                                                'category'\n",
    "        }"
   ]
  },
  {
   "cell_type": "markdown",
   "metadata": {},
   "source": [
    "## Data Import and Manipulation"
   ]
  },
  {
   "cell_type": "code",
   "execution_count": 2,
   "metadata": {},
   "outputs": [],
   "source": [
    "train_df = pd.read_csv(\"H2full.csv\", dtype=dtypes, converters={'ArrivalDateWeekNumber': '{:0>2}'.format})"
   ]
  },
  {
   "cell_type": "code",
   "execution_count": 3,
   "metadata": {},
   "outputs": [
    {
     "data": {
      "text/plain": [
       "pandas.core.frame.DataFrame"
      ]
     },
     "execution_count": 3,
     "metadata": {},
     "output_type": "execute_result"
    }
   ],
   "source": [
    "a=train_df.head()\n",
    "b=train_df\n",
    "b\n",
    "c=b.sort_values(['ArrivalDateYear','ArrivalDateWeekNumber'], ascending=True)\n",
    "c=pd.DataFrame(c)\n",
    "c\n",
    "type(c)"
   ]
  },
  {
   "cell_type": "code",
   "execution_count": 4,
   "metadata": {},
   "outputs": [
    {
     "data": {
      "text/html": [
       "<div>\n",
       "<style scoped>\n",
       "    .dataframe tbody tr th:only-of-type {\n",
       "        vertical-align: middle;\n",
       "    }\n",
       "\n",
       "    .dataframe tbody tr th {\n",
       "        vertical-align: top;\n",
       "    }\n",
       "\n",
       "    .dataframe thead th {\n",
       "        text-align: right;\n",
       "    }\n",
       "</style>\n",
       "<table border=\"1\" class=\"dataframe\">\n",
       "  <thead>\n",
       "    <tr style=\"text-align: right;\">\n",
       "      <th></th>\n",
       "      <th>ArrivalDateYear</th>\n",
       "      <th>ArrivalDateWeekNumber</th>\n",
       "    </tr>\n",
       "  </thead>\n",
       "  <tbody>\n",
       "    <tr>\n",
       "      <th>0</th>\n",
       "      <td>2015</td>\n",
       "      <td>27</td>\n",
       "    </tr>\n",
       "    <tr>\n",
       "      <th>1</th>\n",
       "      <td>2015</td>\n",
       "      <td>27</td>\n",
       "    </tr>\n",
       "    <tr>\n",
       "      <th>2</th>\n",
       "      <td>2015</td>\n",
       "      <td>27</td>\n",
       "    </tr>\n",
       "    <tr>\n",
       "      <th>3</th>\n",
       "      <td>2015</td>\n",
       "      <td>27</td>\n",
       "    </tr>\n",
       "    <tr>\n",
       "      <th>4</th>\n",
       "      <td>2015</td>\n",
       "      <td>27</td>\n",
       "    </tr>\n",
       "    <tr>\n",
       "      <th>...</th>\n",
       "      <td>...</td>\n",
       "      <td>...</td>\n",
       "    </tr>\n",
       "    <tr>\n",
       "      <th>79325</th>\n",
       "      <td>2017</td>\n",
       "      <td>35</td>\n",
       "    </tr>\n",
       "    <tr>\n",
       "      <th>79326</th>\n",
       "      <td>2017</td>\n",
       "      <td>35</td>\n",
       "    </tr>\n",
       "    <tr>\n",
       "      <th>79327</th>\n",
       "      <td>2017</td>\n",
       "      <td>35</td>\n",
       "    </tr>\n",
       "    <tr>\n",
       "      <th>79328</th>\n",
       "      <td>2017</td>\n",
       "      <td>35</td>\n",
       "    </tr>\n",
       "    <tr>\n",
       "      <th>79329</th>\n",
       "      <td>2017</td>\n",
       "      <td>35</td>\n",
       "    </tr>\n",
       "  </tbody>\n",
       "</table>\n",
       "<p>79330 rows × 2 columns</p>\n",
       "</div>"
      ],
      "text/plain": [
       "       ArrivalDateYear ArrivalDateWeekNumber\n",
       "0                 2015                    27\n",
       "1                 2015                    27\n",
       "2                 2015                    27\n",
       "3                 2015                    27\n",
       "4                 2015                    27\n",
       "...                ...                   ...\n",
       "79325             2017                    35\n",
       "79326             2017                    35\n",
       "79327             2017                    35\n",
       "79328             2017                    35\n",
       "79329             2017                    35\n",
       "\n",
       "[79330 rows x 2 columns]"
      ]
     },
     "execution_count": 4,
     "metadata": {},
     "output_type": "execute_result"
    }
   ],
   "source": [
    "from pandas import DataFrame  \n",
    "\n",
    "df = DataFrame(c, columns= ['ArrivalDateYear', 'ArrivalDateWeekNumber']) \n",
    "df"
   ]
  },
  {
   "cell_type": "code",
   "execution_count": 5,
   "metadata": {},
   "outputs": [
    {
     "name": "stdout",
     "output_type": "stream",
     "text": [
      "0        201527\n",
      "1        201527\n",
      "2        201527\n",
      "3        201527\n",
      "4        201527\n",
      "          ...  \n",
      "79325    201735\n",
      "79326    201735\n",
      "79327    201735\n",
      "79328    201735\n",
      "79329    201735\n",
      "Length: 79330, dtype: object\n"
     ]
    }
   ],
   "source": [
    "# https://datatofish.com/concatenate-values-python/\n",
    "\n",
    "df1 = df['ArrivalDateYear'].map(str) + df['ArrivalDateWeekNumber'].map(str)\n",
    "print (df1)\n",
    "df1=pd.DataFrame(df1)"
   ]
  },
  {
   "cell_type": "code",
   "execution_count": 6,
   "metadata": {
    "scrolled": true
   },
   "outputs": [
    {
     "data": {
      "text/html": [
       "<div>\n",
       "<style scoped>\n",
       "    .dataframe tbody tr th:only-of-type {\n",
       "        vertical-align: middle;\n",
       "    }\n",
       "\n",
       "    .dataframe tbody tr th {\n",
       "        vertical-align: top;\n",
       "    }\n",
       "\n",
       "    .dataframe thead th {\n",
       "        text-align: right;\n",
       "    }\n",
       "</style>\n",
       "<table border=\"1\" class=\"dataframe\">\n",
       "  <thead>\n",
       "    <tr style=\"text-align: right;\">\n",
       "      <th></th>\n",
       "      <th>ADR</th>\n",
       "    </tr>\n",
       "  </thead>\n",
       "  <tbody>\n",
       "    <tr>\n",
       "      <th>0</th>\n",
       "      <td>0.00</td>\n",
       "    </tr>\n",
       "    <tr>\n",
       "      <th>1</th>\n",
       "      <td>76.50</td>\n",
       "    </tr>\n",
       "    <tr>\n",
       "      <th>2</th>\n",
       "      <td>68.00</td>\n",
       "    </tr>\n",
       "    <tr>\n",
       "      <th>3</th>\n",
       "      <td>76.50</td>\n",
       "    </tr>\n",
       "    <tr>\n",
       "      <th>4</th>\n",
       "      <td>76.50</td>\n",
       "    </tr>\n",
       "    <tr>\n",
       "      <th>...</th>\n",
       "      <td>...</td>\n",
       "    </tr>\n",
       "    <tr>\n",
       "      <th>79325</th>\n",
       "      <td>96.14</td>\n",
       "    </tr>\n",
       "    <tr>\n",
       "      <th>79326</th>\n",
       "      <td>225.43</td>\n",
       "    </tr>\n",
       "    <tr>\n",
       "      <th>79327</th>\n",
       "      <td>157.71</td>\n",
       "    </tr>\n",
       "    <tr>\n",
       "      <th>79328</th>\n",
       "      <td>104.40</td>\n",
       "    </tr>\n",
       "    <tr>\n",
       "      <th>79329</th>\n",
       "      <td>151.20</td>\n",
       "    </tr>\n",
       "  </tbody>\n",
       "</table>\n",
       "<p>79330 rows × 1 columns</p>\n",
       "</div>"
      ],
      "text/plain": [
       "          ADR\n",
       "0        0.00\n",
       "1       76.50\n",
       "2       68.00\n",
       "3       76.50\n",
       "4       76.50\n",
       "...       ...\n",
       "79325   96.14\n",
       "79326  225.43\n",
       "79327  157.71\n",
       "79328  104.40\n",
       "79329  151.20\n",
       "\n",
       "[79330 rows x 1 columns]"
      ]
     },
     "execution_count": 6,
     "metadata": {},
     "output_type": "execute_result"
    }
   ],
   "source": [
    "df2 = DataFrame(c, columns= ['ADR']) \n",
    "df2"
   ]
  },
  {
   "cell_type": "code",
   "execution_count": 7,
   "metadata": {},
   "outputs": [
    {
     "data": {
      "text/plain": [
       "pandas.core.frame.DataFrame"
      ]
     },
     "execution_count": 7,
     "metadata": {},
     "output_type": "execute_result"
    }
   ],
   "source": [
    "type(df1)"
   ]
  },
  {
   "cell_type": "code",
   "execution_count": 8,
   "metadata": {},
   "outputs": [],
   "source": [
    "df3=pd.concat([df1, df2], axis = 1)\n",
    "df3\n",
    "df3.columns = ['FullDate', 'ADR']"
   ]
  },
  {
   "cell_type": "code",
   "execution_count": 9,
   "metadata": {},
   "outputs": [
    {
     "data": {
      "text/html": [
       "<div>\n",
       "<style scoped>\n",
       "    .dataframe tbody tr th:only-of-type {\n",
       "        vertical-align: middle;\n",
       "    }\n",
       "\n",
       "    .dataframe tbody tr th {\n",
       "        vertical-align: top;\n",
       "    }\n",
       "\n",
       "    .dataframe thead th {\n",
       "        text-align: right;\n",
       "    }\n",
       "</style>\n",
       "<table border=\"1\" class=\"dataframe\">\n",
       "  <thead>\n",
       "    <tr style=\"text-align: right;\">\n",
       "      <th></th>\n",
       "      <th>FullDate</th>\n",
       "      <th>ADR</th>\n",
       "    </tr>\n",
       "  </thead>\n",
       "  <tbody>\n",
       "    <tr>\n",
       "      <th>0</th>\n",
       "      <td>201527</td>\n",
       "      <td>0.00</td>\n",
       "    </tr>\n",
       "    <tr>\n",
       "      <th>11</th>\n",
       "      <td>201527</td>\n",
       "      <td>43.00</td>\n",
       "    </tr>\n",
       "    <tr>\n",
       "      <th>6</th>\n",
       "      <td>201527</td>\n",
       "      <td>58.67</td>\n",
       "    </tr>\n",
       "    <tr>\n",
       "      <th>29</th>\n",
       "      <td>201527</td>\n",
       "      <td>60.00</td>\n",
       "    </tr>\n",
       "    <tr>\n",
       "      <th>36141</th>\n",
       "      <td>201527</td>\n",
       "      <td>60.00</td>\n",
       "    </tr>\n",
       "    <tr>\n",
       "      <th>...</th>\n",
       "      <td>...</td>\n",
       "      <td>...</td>\n",
       "    </tr>\n",
       "    <tr>\n",
       "      <th>79084</th>\n",
       "      <td>201735</td>\n",
       "      <td>259.00</td>\n",
       "    </tr>\n",
       "    <tr>\n",
       "      <th>79305</th>\n",
       "      <td>201735</td>\n",
       "      <td>266.75</td>\n",
       "    </tr>\n",
       "    <tr>\n",
       "      <th>79010</th>\n",
       "      <td>201735</td>\n",
       "      <td>270.00</td>\n",
       "    </tr>\n",
       "    <tr>\n",
       "      <th>79091</th>\n",
       "      <td>201735</td>\n",
       "      <td>270.00</td>\n",
       "    </tr>\n",
       "    <tr>\n",
       "      <th>33605</th>\n",
       "      <td>201735</td>\n",
       "      <td>272.50</td>\n",
       "    </tr>\n",
       "  </tbody>\n",
       "</table>\n",
       "<p>79330 rows × 2 columns</p>\n",
       "</div>"
      ],
      "text/plain": [
       "      FullDate     ADR\n",
       "0       201527    0.00\n",
       "11      201527   43.00\n",
       "6       201527   58.67\n",
       "29      201527   60.00\n",
       "36141   201527   60.00\n",
       "...        ...     ...\n",
       "79084   201735  259.00\n",
       "79305   201735  266.75\n",
       "79010   201735  270.00\n",
       "79091   201735  270.00\n",
       "33605   201735  272.50\n",
       "\n",
       "[79330 rows x 2 columns]"
      ]
     },
     "execution_count": 9,
     "metadata": {},
     "output_type": "execute_result"
    }
   ],
   "source": [
    "df3\n",
    "df3.sort_values(['FullDate','ADR'], ascending=True)"
   ]
  },
  {
   "cell_type": "code",
   "execution_count": 10,
   "metadata": {},
   "outputs": [
    {
     "data": {
      "text/html": [
       "<div>\n",
       "<style scoped>\n",
       "    .dataframe tbody tr th:only-of-type {\n",
       "        vertical-align: middle;\n",
       "    }\n",
       "\n",
       "    .dataframe tbody tr th {\n",
       "        vertical-align: top;\n",
       "    }\n",
       "\n",
       "    .dataframe thead th {\n",
       "        text-align: right;\n",
       "    }\n",
       "</style>\n",
       "<table border=\"1\" class=\"dataframe\">\n",
       "  <thead>\n",
       "    <tr style=\"text-align: right;\">\n",
       "      <th></th>\n",
       "      <th>ADR</th>\n",
       "    </tr>\n",
       "    <tr>\n",
       "      <th>FullDate</th>\n",
       "      <th></th>\n",
       "    </tr>\n",
       "  </thead>\n",
       "  <tbody>\n",
       "    <tr>\n",
       "      <th>201527</th>\n",
       "      <td>78.165879</td>\n",
       "    </tr>\n",
       "    <tr>\n",
       "      <th>201528</th>\n",
       "      <td>70.247336</td>\n",
       "    </tr>\n",
       "    <tr>\n",
       "      <th>201529</th>\n",
       "      <td>73.996534</td>\n",
       "    </tr>\n",
       "    <tr>\n",
       "      <th>201530</th>\n",
       "      <td>66.766446</td>\n",
       "    </tr>\n",
       "    <tr>\n",
       "      <th>201531</th>\n",
       "      <td>65.363578</td>\n",
       "    </tr>\n",
       "    <tr>\n",
       "      <th>...</th>\n",
       "      <td>...</td>\n",
       "    </tr>\n",
       "    <tr>\n",
       "      <th>201731</th>\n",
       "      <td>138.898408</td>\n",
       "    </tr>\n",
       "    <tr>\n",
       "      <th>201732</th>\n",
       "      <td>142.909221</td>\n",
       "    </tr>\n",
       "    <tr>\n",
       "      <th>201733</th>\n",
       "      <td>144.839923</td>\n",
       "    </tr>\n",
       "    <tr>\n",
       "      <th>201734</th>\n",
       "      <td>135.892708</td>\n",
       "    </tr>\n",
       "    <tr>\n",
       "      <th>201735</th>\n",
       "      <td>128.586952</td>\n",
       "    </tr>\n",
       "  </tbody>\n",
       "</table>\n",
       "<p>115 rows × 1 columns</p>\n",
       "</div>"
      ],
      "text/plain": [
       "                 ADR\n",
       "FullDate            \n",
       "201527     78.165879\n",
       "201528     70.247336\n",
       "201529     73.996534\n",
       "201530     66.766446\n",
       "201531     65.363578\n",
       "...              ...\n",
       "201731    138.898408\n",
       "201732    142.909221\n",
       "201733    144.839923\n",
       "201734    135.892708\n",
       "201735    128.586952\n",
       "\n",
       "[115 rows x 1 columns]"
      ]
     },
     "execution_count": 10,
     "metadata": {},
     "output_type": "execute_result"
    }
   ],
   "source": [
    "df4 = df3.groupby('FullDate').agg(\"mean\")\n",
    "df4\n",
    "df4.sort_values(['FullDate'], ascending=True)"
   ]
  },
  {
   "cell_type": "code",
   "execution_count": 11,
   "metadata": {},
   "outputs": [
    {
     "data": {
      "text/plain": [
       "FullDate\n",
       "201527     78.165879\n",
       "201528     70.247336\n",
       "201529     73.996534\n",
       "201530     66.766446\n",
       "201531     65.363578\n",
       "             ...    \n",
       "201731    138.898408\n",
       "201732    142.909221\n",
       "201733    144.839923\n",
       "201734    135.892708\n",
       "201735    128.586952\n",
       "Name: ADR, Length: 115, dtype: float64"
      ]
     },
     "execution_count": 11,
     "metadata": {},
     "output_type": "execute_result"
    }
   ],
   "source": [
    "tseries=df4['ADR']\n",
    "tseries"
   ]
  },
  {
   "cell_type": "code",
   "execution_count": 12,
   "metadata": {},
   "outputs": [
    {
     "name": "stderr",
     "output_type": "stream",
     "text": [
      "/home/michael/anaconda3/lib/python3.6/site-packages/statsmodels/tsa/base/tsa_model.py:215: ValueWarning: An unsupported index was provided and will be ignored when e.g. forecasting.\n",
      "  ' ignored when e.g. forecasting.', ValueWarning)\n"
     ]
    },
    {
     "data": {
      "text/plain": [
       "(array([5.48711087]), array([0.85635882]))"
      ]
     },
     "execution_count": 12,
     "metadata": {},
     "output_type": "execute_result"
    }
   ],
   "source": [
    "# https://www.statsmodels.org/stable/generated/statsmodels.stats.diagnostic.acorr_ljungbox.html\n",
    "res = sm.tsa.ARMA(tseries, (1,1)).fit(disp=-1)\n",
    "sm.stats.acorr_ljungbox(res.resid, lags=[10])"
   ]
  },
  {
   "cell_type": "code",
   "execution_count": 13,
   "metadata": {},
   "outputs": [
    {
     "name": "stdout",
     "output_type": "stream",
     "text": [
      "ADF Statistic: -1.509649\n",
      "p-value: 0.528733\n",
      "Critical Values:\n",
      "\t1%: -3.490\n",
      "\t5%: -2.888\n",
      "\t10%: -2.581\n"
     ]
    }
   ],
   "source": [
    "from statsmodels.tsa.stattools import adfuller\n",
    "result = adfuller(tseries)\n",
    "print('ADF Statistic: %f' % result[0])\n",
    "print('p-value: %f' % result[1])\n",
    "print('Critical Values:')\n",
    "for key, value in result[4].items():\n",
    "    print('\\t%s: %.3f' % (key, value))"
   ]
  },
  {
   "cell_type": "code",
   "execution_count": 14,
   "metadata": {},
   "outputs": [
    {
     "data": {
      "image/png": "[encoded data removed]",
      "text/plain": [
       "<Figure size 432x288 with 1 Axes>"
      ]
     },
     "metadata": {
      "needs_background": "light"
     },
     "output_type": "display_data"
    }
   ],
   "source": [
    "import matplotlib.pyplot as plt\n",
    "plt.plot(tseries)\n",
    "plt.tick_params(\n",
    "    axis='x',          # changes apply to the x-axis\n",
    "    which='both',      # both major and minor ticks are affected\n",
    "    bottom=False,      # ticks along the bottom edge are off\n",
    "    top=False,         # ticks along the top edge are off\n",
    "    labelbottom=False) # labels along the bottom edge are off\n",
    "plt.ylabel('ADR')\n",
    "plt.title(\"Weekly ADR\")\n",
    "plt.show()"
   ]
  },
  {
   "cell_type": "code",
   "execution_count": 15,
   "metadata": {},
   "outputs": [
    {
     "data": {
      "text/html": [
       "<div>\n",
       "<style scoped>\n",
       "    .dataframe tbody tr th:only-of-type {\n",
       "        vertical-align: middle;\n",
       "    }\n",
       "\n",
       "    .dataframe tbody tr th {\n",
       "        vertical-align: top;\n",
       "    }\n",
       "\n",
       "    .dataframe thead th {\n",
       "        text-align: right;\n",
       "    }\n",
       "</style>\n",
       "<table border=\"1\" class=\"dataframe\">\n",
       "  <thead>\n",
       "    <tr style=\"text-align: right;\">\n",
       "      <th></th>\n",
       "      <th>ADR</th>\n",
       "    </tr>\n",
       "    <tr>\n",
       "      <th>FullDate</th>\n",
       "      <th></th>\n",
       "    </tr>\n",
       "  </thead>\n",
       "  <tbody>\n",
       "    <tr>\n",
       "      <th>201527</th>\n",
       "      <td>78.165879</td>\n",
       "    </tr>\n",
       "    <tr>\n",
       "      <th>201528</th>\n",
       "      <td>70.247336</td>\n",
       "    </tr>\n",
       "    <tr>\n",
       "      <th>201529</th>\n",
       "      <td>73.996534</td>\n",
       "    </tr>\n",
       "    <tr>\n",
       "      <th>201530</th>\n",
       "      <td>66.766446</td>\n",
       "    </tr>\n",
       "    <tr>\n",
       "      <th>201531</th>\n",
       "      <td>65.363578</td>\n",
       "    </tr>\n",
       "    <tr>\n",
       "      <th>...</th>\n",
       "      <td>...</td>\n",
       "    </tr>\n",
       "    <tr>\n",
       "      <th>201731</th>\n",
       "      <td>138.898408</td>\n",
       "    </tr>\n",
       "    <tr>\n",
       "      <th>201732</th>\n",
       "      <td>142.909221</td>\n",
       "    </tr>\n",
       "    <tr>\n",
       "      <th>201733</th>\n",
       "      <td>144.839923</td>\n",
       "    </tr>\n",
       "    <tr>\n",
       "      <th>201734</th>\n",
       "      <td>135.892708</td>\n",
       "    </tr>\n",
       "    <tr>\n",
       "      <th>201735</th>\n",
       "      <td>128.586952</td>\n",
       "    </tr>\n",
       "  </tbody>\n",
       "</table>\n",
       "<p>115 rows × 1 columns</p>\n",
       "</div>"
      ],
      "text/plain": [
       "                 ADR\n",
       "FullDate            \n",
       "201527     78.165879\n",
       "201528     70.247336\n",
       "201529     73.996534\n",
       "201530     66.766446\n",
       "201531     65.363578\n",
       "...              ...\n",
       "201731    138.898408\n",
       "201732    142.909221\n",
       "201733    144.839923\n",
       "201734    135.892708\n",
       "201735    128.586952\n",
       "\n",
       "[115 rows x 1 columns]"
      ]
     },
     "execution_count": 15,
     "metadata": {},
     "output_type": "execute_result"
    }
   ],
   "source": [
    "df=pd.DataFrame(tseries)\n",
    "df"
   ]
  },
  {
   "cell_type": "code",
   "execution_count": 16,
   "metadata": {},
   "outputs": [],
   "source": [
    "df.to_csv(\"weekly adr h2.csv\", sep='\\t', encoding='utf-8')"
   ]
  },
  {
   "cell_type": "code",
   "execution_count": 17,
   "metadata": {},
   "outputs": [],
   "source": [
    "df = df[:100]"
   ]
  },
  {
   "cell_type": "code",
   "execution_count": 18,
   "metadata": {},
   "outputs": [
    {
     "data": {
      "text/html": [
       "<div>\n",
       "<style scoped>\n",
       "    .dataframe tbody tr th:only-of-type {\n",
       "        vertical-align: middle;\n",
       "    }\n",
       "\n",
       "    .dataframe tbody tr th {\n",
       "        vertical-align: top;\n",
       "    }\n",
       "\n",
       "    .dataframe thead th {\n",
       "        text-align: right;\n",
       "    }\n",
       "</style>\n",
       "<table border=\"1\" class=\"dataframe\">\n",
       "  <thead>\n",
       "    <tr style=\"text-align: right;\">\n",
       "      <th></th>\n",
       "      <th>ADR</th>\n",
       "    </tr>\n",
       "    <tr>\n",
       "      <th>FullDate</th>\n",
       "      <th></th>\n",
       "    </tr>\n",
       "  </thead>\n",
       "  <tbody>\n",
       "    <tr>\n",
       "      <th>201527</th>\n",
       "      <td>78.165879</td>\n",
       "    </tr>\n",
       "    <tr>\n",
       "      <th>201528</th>\n",
       "      <td>70.247336</td>\n",
       "    </tr>\n",
       "    <tr>\n",
       "      <th>201529</th>\n",
       "      <td>73.996534</td>\n",
       "    </tr>\n",
       "    <tr>\n",
       "      <th>201530</th>\n",
       "      <td>66.766446</td>\n",
       "    </tr>\n",
       "    <tr>\n",
       "      <th>201531</th>\n",
       "      <td>65.363578</td>\n",
       "    </tr>\n",
       "    <tr>\n",
       "      <th>...</th>\n",
       "      <td>...</td>\n",
       "    </tr>\n",
       "    <tr>\n",
       "      <th>201716</th>\n",
       "      <td>121.461748</td>\n",
       "    </tr>\n",
       "    <tr>\n",
       "      <th>201717</th>\n",
       "      <td>121.316925</td>\n",
       "    </tr>\n",
       "    <tr>\n",
       "      <th>201718</th>\n",
       "      <td>124.661435</td>\n",
       "    </tr>\n",
       "    <tr>\n",
       "      <th>201719</th>\n",
       "      <td>132.639515</td>\n",
       "    </tr>\n",
       "    <tr>\n",
       "      <th>201720</th>\n",
       "      <td>138.961245</td>\n",
       "    </tr>\n",
       "  </tbody>\n",
       "</table>\n",
       "<p>100 rows × 1 columns</p>\n",
       "</div>"
      ],
      "text/plain": [
       "                 ADR\n",
       "FullDate            \n",
       "201527     78.165879\n",
       "201528     70.247336\n",
       "201529     73.996534\n",
       "201530     66.766446\n",
       "201531     65.363578\n",
       "...              ...\n",
       "201716    121.461748\n",
       "201717    121.316925\n",
       "201718    124.661435\n",
       "201719    132.639515\n",
       "201720    138.961245\n",
       "\n",
       "[100 rows x 1 columns]"
      ]
     },
     "execution_count": 18,
     "metadata": {},
     "output_type": "execute_result"
    }
   ],
   "source": [
    "df"
   ]
  },
  {
   "cell_type": "code",
   "execution_count": 19,
   "metadata": {},
   "outputs": [],
   "source": [
    "# Form dataset matrix\n",
    "def create_dataset(df, previous=1):\n",
    "    dataX, dataY = [], []\n",
    "    for i in range(len(df)-previous-1):\n",
    "        a = df[i:(i+previous), 0]\n",
    "        dataX.append(a)\n",
    "        dataY.append(df[i + previous, 0])\n",
    "    return np.array(dataX), np.array(dataY)"
   ]
  },
  {
   "cell_type": "code",
   "execution_count": 20,
   "metadata": {},
   "outputs": [
    {
     "data": {
      "text/html": [
       "<div>\n",
       "<style scoped>\n",
       "    .dataframe tbody tr th:only-of-type {\n",
       "        vertical-align: middle;\n",
       "    }\n",
       "\n",
       "    .dataframe tbody tr th {\n",
       "        vertical-align: top;\n",
       "    }\n",
       "\n",
       "    .dataframe thead th {\n",
       "        text-align: right;\n",
       "    }\n",
       "</style>\n",
       "<table border=\"1\" class=\"dataframe\">\n",
       "  <thead>\n",
       "    <tr style=\"text-align: right;\">\n",
       "      <th></th>\n",
       "      <th>ADR</th>\n",
       "    </tr>\n",
       "    <tr>\n",
       "      <th>FullDate</th>\n",
       "      <th></th>\n",
       "    </tr>\n",
       "  </thead>\n",
       "  <tbody>\n",
       "    <tr>\n",
       "      <th>201527</th>\n",
       "      <td>78.165879</td>\n",
       "    </tr>\n",
       "    <tr>\n",
       "      <th>201528</th>\n",
       "      <td>70.247336</td>\n",
       "    </tr>\n",
       "    <tr>\n",
       "      <th>201529</th>\n",
       "      <td>73.996534</td>\n",
       "    </tr>\n",
       "    <tr>\n",
       "      <th>201530</th>\n",
       "      <td>66.766446</td>\n",
       "    </tr>\n",
       "    <tr>\n",
       "      <th>201531</th>\n",
       "      <td>65.363578</td>\n",
       "    </tr>\n",
       "    <tr>\n",
       "      <th>...</th>\n",
       "      <td>...</td>\n",
       "    </tr>\n",
       "    <tr>\n",
       "      <th>201716</th>\n",
       "      <td>121.461748</td>\n",
       "    </tr>\n",
       "    <tr>\n",
       "      <th>201717</th>\n",
       "      <td>121.316925</td>\n",
       "    </tr>\n",
       "    <tr>\n",
       "      <th>201718</th>\n",
       "      <td>124.661435</td>\n",
       "    </tr>\n",
       "    <tr>\n",
       "      <th>201719</th>\n",
       "      <td>132.639515</td>\n",
       "    </tr>\n",
       "    <tr>\n",
       "      <th>201720</th>\n",
       "      <td>138.961245</td>\n",
       "    </tr>\n",
       "  </tbody>\n",
       "</table>\n",
       "<p>100 rows × 1 columns</p>\n",
       "</div>"
      ],
      "text/plain": [
       "                 ADR\n",
       "FullDate            \n",
       "201527     78.165879\n",
       "201528     70.247336\n",
       "201529     73.996534\n",
       "201530     66.766446\n",
       "201531     65.363578\n",
       "...              ...\n",
       "201716    121.461748\n",
       "201717    121.316925\n",
       "201718    124.661435\n",
       "201719    132.639515\n",
       "201720    138.961245\n",
       "\n",
       "[100 rows x 1 columns]"
      ]
     },
     "execution_count": 20,
     "metadata": {},
     "output_type": "execute_result"
    }
   ],
   "source": [
    "df"
   ]
  },
  {
   "cell_type": "markdown",
   "metadata": {},
   "source": [
    "## Normalize dataset with MinMaxScaler"
   ]
  },
  {
   "cell_type": "code",
   "execution_count": 21,
   "metadata": {},
   "outputs": [
    {
     "data": {
      "text/plain": [
       "array([[0.17394983],\n",
       "       [0.06635752],\n",
       "       [0.11729932],\n",
       "       [0.01906132],\n",
       "       [0.        ],\n",
       "       [0.01126313],\n",
       "       [0.24639556],\n",
       "       [0.25964283],\n",
       "       [0.09947309],\n",
       "       [0.24576306],\n",
       "       [0.28316233],\n",
       "       [0.35448622],\n",
       "       [0.83647103],\n",
       "       [0.48979137],\n",
       "       [0.33351757],\n",
       "       [0.32476797],\n",
       "       [0.39244271],\n",
       "       [0.26195377],\n",
       "       [0.20032856],\n",
       "       [0.11274354],\n",
       "       [0.08053814],\n",
       "       [0.07934428],\n",
       "       [0.13799894],\n",
       "       [0.16147725],\n",
       "       [0.06540364],\n",
       "       [0.15557826],\n",
       "       [0.39323464],\n",
       "       [0.40556934],\n",
       "       [0.09735725],\n",
       "       [0.1002107 ],\n",
       "       [0.14762734],\n",
       "       [0.11598137],\n",
       "       [0.1759088 ],\n",
       "       [0.24035225],\n",
       "       [0.19330065],\n",
       "       [0.21743866],\n",
       "       [0.1922823 ],\n",
       "       [0.22195395],\n",
       "       [0.27295638],\n",
       "       [0.57536981],\n",
       "       [0.37368255],\n",
       "       [0.36078985],\n",
       "       [0.5039237 ],\n",
       "       [0.45917583],\n",
       "       [0.54369246],\n",
       "       [0.53801535],\n",
       "       [0.59179033],\n",
       "       [0.53773102],\n",
       "       [0.71273958],\n",
       "       [0.56473889],\n",
       "       [0.62261674],\n",
       "       [0.63795482],\n",
       "       [0.4863144 ],\n",
       "       [0.6095559 ],\n",
       "       [0.66332211],\n",
       "       [0.65120655],\n",
       "       [0.5882372 ],\n",
       "       [0.61841441],\n",
       "       [0.70247603],\n",
       "       [0.71387475],\n",
       "       [0.81488874],\n",
       "       [0.70577535],\n",
       "       [0.6431417 ],\n",
       "       [0.69376344],\n",
       "       [0.75834494],\n",
       "       [0.76853419],\n",
       "       [0.67014112],\n",
       "       [0.660419  ],\n",
       "       [0.61070662],\n",
       "       [0.58255007],\n",
       "       [0.50869571],\n",
       "       [0.44843338],\n",
       "       [0.59540446],\n",
       "       [0.27199967],\n",
       "       [0.24101317],\n",
       "       [0.26460434],\n",
       "       [0.316027  ],\n",
       "       [0.24883798],\n",
       "       [0.37251176],\n",
       "       [0.57292522],\n",
       "       [0.37223323],\n",
       "       [0.24205107],\n",
       "       [0.2691728 ],\n",
       "       [0.24987543],\n",
       "       [0.24818941],\n",
       "       [0.32385794],\n",
       "       [0.37310054],\n",
       "       [0.33752068],\n",
       "       [0.36253434],\n",
       "       [0.33568452],\n",
       "       [0.36186048],\n",
       "       [0.40995106],\n",
       "       [0.46307758],\n",
       "       [0.69598672],\n",
       "       [0.84620599],\n",
       "       [0.76222756],\n",
       "       [0.76025979],\n",
       "       [0.80570295],\n",
       "       [0.9141042 ],\n",
       "       [1.        ]])"
      ]
     },
     "execution_count": 21,
     "metadata": {},
     "output_type": "execute_result"
    }
   ],
   "source": [
    "scaler = MinMaxScaler(feature_range=(0, 1))\n",
    "df = scaler.fit_transform(df)\n",
    "df"
   ]
  },
  {
   "cell_type": "code",
   "execution_count": 22,
   "metadata": {},
   "outputs": [
    {
     "name": "stderr",
     "output_type": "stream",
     "text": [
      "/home/michael/anaconda3/lib/python3.6/site-packages/tensorflow/python/framework/dtypes.py:523: FutureWarning: Passing (type, 1) or '1type' as a synonym of type is deprecated; in a future version of numpy, it will be understood as (type, (1,)) / '(1,)type'.\n",
      "  _np_qint8 = np.dtype([(\"qint8\", np.int8, 1)])\n",
      "/home/michael/anaconda3/lib/python3.6/site-packages/tensorflow/python/framework/dtypes.py:524: FutureWarning: Passing (type, 1) or '1type' as a synonym of type is deprecated; in a future version of numpy, it will be understood as (type, (1,)) / '(1,)type'.\n",
      "  _np_quint8 = np.dtype([(\"quint8\", np.uint8, 1)])\n",
      "/home/michael/anaconda3/lib/python3.6/site-packages/tensorflow/python/framework/dtypes.py:525: FutureWarning: Passing (type, 1) or '1type' as a synonym of type is deprecated; in a future version of numpy, it will be understood as (type, (1,)) / '(1,)type'.\n",
      "  _np_qint16 = np.dtype([(\"qint16\", np.int16, 1)])\n",
      "/home/michael/anaconda3/lib/python3.6/site-packages/tensorflow/python/framework/dtypes.py:526: FutureWarning: Passing (type, 1) or '1type' as a synonym of type is deprecated; in a future version of numpy, it will be understood as (type, (1,)) / '(1,)type'.\n",
      "  _np_quint16 = np.dtype([(\"quint16\", np.uint16, 1)])\n",
      "/home/michael/anaconda3/lib/python3.6/site-packages/tensorflow/python/framework/dtypes.py:527: FutureWarning: Passing (type, 1) or '1type' as a synonym of type is deprecated; in a future version of numpy, it will be understood as (type, (1,)) / '(1,)type'.\n",
      "  _np_qint32 = np.dtype([(\"qint32\", np.int32, 1)])\n",
      "/home/michael/anaconda3/lib/python3.6/site-packages/tensorflow/python/framework/dtypes.py:532: FutureWarning: Passing (type, 1) or '1type' as a synonym of type is deprecated; in a future version of numpy, it will be understood as (type, (1,)) / '(1,)type'.\n",
      "  np_resource = np.dtype([(\"resource\", np.ubyte, 1)])\n",
      "/home/michael/anaconda3/lib/python3.6/site-packages/tensorboard/compat/tensorflow_stub/dtypes.py:541: FutureWarning: Passing (type, 1) or '1type' as a synonym of type is deprecated; in a future version of numpy, it will be understood as (type, (1,)) / '(1,)type'.\n",
      "  _np_qint8 = np.dtype([(\"qint8\", np.int8, 1)])\n",
      "/home/michael/anaconda3/lib/python3.6/site-packages/tensorboard/compat/tensorflow_stub/dtypes.py:542: FutureWarning: Passing (type, 1) or '1type' as a synonym of type is deprecated; in a future version of numpy, it will be understood as (type, (1,)) / '(1,)type'.\n",
      "  _np_quint8 = np.dtype([(\"quint8\", np.uint8, 1)])\n",
      "/home/michael/anaconda3/lib/python3.6/site-packages/tensorboard/compat/tensorflow_stub/dtypes.py:543: FutureWarning: Passing (type, 1) or '1type' as a synonym of type is deprecated; in a future version of numpy, it will be understood as (type, (1,)) / '(1,)type'.\n",
      "  _np_qint16 = np.dtype([(\"qint16\", np.int16, 1)])\n",
      "/home/michael/anaconda3/lib/python3.6/site-packages/tensorboard/compat/tensorflow_stub/dtypes.py:544: FutureWarning: Passing (type, 1) or '1type' as a synonym of type is deprecated; in a future version of numpy, it will be understood as (type, (1,)) / '(1,)type'.\n",
      "  _np_quint16 = np.dtype([(\"quint16\", np.uint16, 1)])\n",
      "/home/michael/anaconda3/lib/python3.6/site-packages/tensorboard/compat/tensorflow_stub/dtypes.py:545: FutureWarning: Passing (type, 1) or '1type' as a synonym of type is deprecated; in a future version of numpy, it will be understood as (type, (1,)) / '(1,)type'.\n",
      "  _np_qint32 = np.dtype([(\"qint32\", np.int32, 1)])\n",
      "/home/michael/anaconda3/lib/python3.6/site-packages/tensorboard/compat/tensorflow_stub/dtypes.py:550: FutureWarning: Passing (type, 1) or '1type' as a synonym of type is deprecated; in a future version of numpy, it will be understood as (type, (1,)) / '(1,)type'.\n",
      "  np_resource = np.dtype([(\"resource\", np.ubyte, 1)])\n"
     ]
    }
   ],
   "source": [
    "import tensorflow as tf\n",
    "from tensorflow.keras import layers\n",
    "from tensorflow.keras.layers import Dense\n",
    "from tensorflow.keras.layers import LSTM\n",
    "\n",
    "# Training and Validation data partition\n",
    "train_size = int(len(df) * 0.8)\n",
    "val_size = len(df) - train_size\n",
    "train, val = df[0:train_size,:], df[train_size:len(df),:]\n",
    "\n",
    "# Number of previous\n",
    "previous = 5\n",
    "X_train, Y_train = create_dataset(train, previous)\n",
    "X_val, Y_val = create_dataset(val, previous)"
   ]
  },
  {
   "cell_type": "code",
   "execution_count": 23,
   "metadata": {},
   "outputs": [
    {
     "data": {
      "text/plain": [
       "array([[0.17394983, 0.06635752, 0.11729932, 0.01906132, 0.        ],\n",
       "       [0.06635752, 0.11729932, 0.01906132, 0.        , 0.01126313],\n",
       "       [0.11729932, 0.01906132, 0.        , 0.01126313, 0.24639556],\n",
       "       [0.01906132, 0.        , 0.01126313, 0.24639556, 0.25964283],\n",
       "       [0.        , 0.01126313, 0.24639556, 0.25964283, 0.09947309],\n",
       "       [0.01126313, 0.24639556, 0.25964283, 0.09947309, 0.24576306],\n",
       "       [0.24639556, 0.25964283, 0.09947309, 0.24576306, 0.28316233],\n",
       "       [0.25964283, 0.09947309, 0.24576306, 0.28316233, 0.35448622],\n",
       "       [0.09947309, 0.24576306, 0.28316233, 0.35448622, 0.83647103],\n",
       "       [0.24576306, 0.28316233, 0.35448622, 0.83647103, 0.48979137],\n",
       "       [0.28316233, 0.35448622, 0.83647103, 0.48979137, 0.33351757],\n",
       "       [0.35448622, 0.83647103, 0.48979137, 0.33351757, 0.32476797],\n",
       "       [0.83647103, 0.48979137, 0.33351757, 0.32476797, 0.39244271],\n",
       "       [0.48979137, 0.33351757, 0.32476797, 0.39244271, 0.26195377],\n",
       "       [0.33351757, 0.32476797, 0.39244271, 0.26195377, 0.20032856],\n",
       "       [0.32476797, 0.39244271, 0.26195377, 0.20032856, 0.11274354],\n",
       "       [0.39244271, 0.26195377, 0.20032856, 0.11274354, 0.08053814],\n",
       "       [0.26195377, 0.20032856, 0.11274354, 0.08053814, 0.07934428],\n",
       "       [0.20032856, 0.11274354, 0.08053814, 0.07934428, 0.13799894],\n",
       "       [0.11274354, 0.08053814, 0.07934428, 0.13799894, 0.16147725],\n",
       "       [0.08053814, 0.07934428, 0.13799894, 0.16147725, 0.06540364],\n",
       "       [0.07934428, 0.13799894, 0.16147725, 0.06540364, 0.15557826],\n",
       "       [0.13799894, 0.16147725, 0.06540364, 0.15557826, 0.39323464],\n",
       "       [0.16147725, 0.06540364, 0.15557826, 0.39323464, 0.40556934],\n",
       "       [0.06540364, 0.15557826, 0.39323464, 0.40556934, 0.09735725],\n",
       "       [0.15557826, 0.39323464, 0.40556934, 0.09735725, 0.1002107 ],\n",
       "       [0.39323464, 0.40556934, 0.09735725, 0.1002107 , 0.14762734],\n",
       "       [0.40556934, 0.09735725, 0.1002107 , 0.14762734, 0.11598137],\n",
       "       [0.09735725, 0.1002107 , 0.14762734, 0.11598137, 0.1759088 ],\n",
       "       [0.1002107 , 0.14762734, 0.11598137, 0.1759088 , 0.24035225],\n",
       "       [0.14762734, 0.11598137, 0.1759088 , 0.24035225, 0.19330065],\n",
       "       [0.11598137, 0.1759088 , 0.24035225, 0.19330065, 0.21743866],\n",
       "       [0.1759088 , 0.24035225, 0.19330065, 0.21743866, 0.1922823 ],\n",
       "       [0.24035225, 0.19330065, 0.21743866, 0.1922823 , 0.22195395],\n",
       "       [0.19330065, 0.21743866, 0.1922823 , 0.22195395, 0.27295638],\n",
       "       [0.21743866, 0.1922823 , 0.22195395, 0.27295638, 0.57536981],\n",
       "       [0.1922823 , 0.22195395, 0.27295638, 0.57536981, 0.37368255],\n",
       "       [0.22195395, 0.27295638, 0.57536981, 0.37368255, 0.36078985],\n",
       "       [0.27295638, 0.57536981, 0.37368255, 0.36078985, 0.5039237 ],\n",
       "       [0.57536981, 0.37368255, 0.36078985, 0.5039237 , 0.45917583],\n",
       "       [0.37368255, 0.36078985, 0.5039237 , 0.45917583, 0.54369246],\n",
       "       [0.36078985, 0.5039237 , 0.45917583, 0.54369246, 0.53801535],\n",
       "       [0.5039237 , 0.45917583, 0.54369246, 0.53801535, 0.59179033],\n",
       "       [0.45917583, 0.54369246, 0.53801535, 0.59179033, 0.53773102],\n",
       "       [0.54369246, 0.53801535, 0.59179033, 0.53773102, 0.71273958],\n",
       "       [0.53801535, 0.59179033, 0.53773102, 0.71273958, 0.56473889],\n",
       "       [0.59179033, 0.53773102, 0.71273958, 0.56473889, 0.62261674],\n",
       "       [0.53773102, 0.71273958, 0.56473889, 0.62261674, 0.63795482],\n",
       "       [0.71273958, 0.56473889, 0.62261674, 0.63795482, 0.4863144 ],\n",
       "       [0.56473889, 0.62261674, 0.63795482, 0.4863144 , 0.6095559 ],\n",
       "       [0.62261674, 0.63795482, 0.4863144 , 0.6095559 , 0.66332211],\n",
       "       [0.63795482, 0.4863144 , 0.6095559 , 0.66332211, 0.65120655],\n",
       "       [0.4863144 , 0.6095559 , 0.66332211, 0.65120655, 0.5882372 ],\n",
       "       [0.6095559 , 0.66332211, 0.65120655, 0.5882372 , 0.61841441],\n",
       "       [0.66332211, 0.65120655, 0.5882372 , 0.61841441, 0.70247603],\n",
       "       [0.65120655, 0.5882372 , 0.61841441, 0.70247603, 0.71387475],\n",
       "       [0.5882372 , 0.61841441, 0.70247603, 0.71387475, 0.81488874],\n",
       "       [0.61841441, 0.70247603, 0.71387475, 0.81488874, 0.70577535],\n",
       "       [0.70247603, 0.71387475, 0.81488874, 0.70577535, 0.6431417 ],\n",
       "       [0.71387475, 0.81488874, 0.70577535, 0.6431417 , 0.69376344],\n",
       "       [0.81488874, 0.70577535, 0.6431417 , 0.69376344, 0.75834494],\n",
       "       [0.70577535, 0.6431417 , 0.69376344, 0.75834494, 0.76853419],\n",
       "       [0.6431417 , 0.69376344, 0.75834494, 0.76853419, 0.67014112],\n",
       "       [0.69376344, 0.75834494, 0.76853419, 0.67014112, 0.660419  ],\n",
       "       [0.75834494, 0.76853419, 0.67014112, 0.660419  , 0.61070662],\n",
       "       [0.76853419, 0.67014112, 0.660419  , 0.61070662, 0.58255007],\n",
       "       [0.67014112, 0.660419  , 0.61070662, 0.58255007, 0.50869571],\n",
       "       [0.660419  , 0.61070662, 0.58255007, 0.50869571, 0.44843338],\n",
       "       [0.61070662, 0.58255007, 0.50869571, 0.44843338, 0.59540446],\n",
       "       [0.58255007, 0.50869571, 0.44843338, 0.59540446, 0.27199967],\n",
       "       [0.50869571, 0.44843338, 0.59540446, 0.27199967, 0.24101317],\n",
       "       [0.44843338, 0.59540446, 0.27199967, 0.24101317, 0.26460434],\n",
       "       [0.59540446, 0.27199967, 0.24101317, 0.26460434, 0.316027  ],\n",
       "       [0.27199967, 0.24101317, 0.26460434, 0.316027  , 0.24883798]])"
      ]
     },
     "execution_count": 23,
     "metadata": {},
     "output_type": "execute_result"
    }
   ],
   "source": [
    "X_train"
   ]
  },
  {
   "cell_type": "code",
   "execution_count": 24,
   "metadata": {},
   "outputs": [
    {
     "data": {
      "text/plain": [
       "array([0.01126313, 0.24639556, 0.25964283, 0.09947309, 0.24576306,\n",
       "       0.28316233, 0.35448622, 0.83647103, 0.48979137, 0.33351757,\n",
       "       0.32476797, 0.39244271, 0.26195377, 0.20032856, 0.11274354,\n",
       "       0.08053814, 0.07934428, 0.13799894, 0.16147725, 0.06540364,\n",
       "       0.15557826, 0.39323464, 0.40556934, 0.09735725, 0.1002107 ,\n",
       "       0.14762734, 0.11598137, 0.1759088 , 0.24035225, 0.19330065,\n",
       "       0.21743866, 0.1922823 , 0.22195395, 0.27295638, 0.57536981,\n",
       "       0.37368255, 0.36078985, 0.5039237 , 0.45917583, 0.54369246,\n",
       "       0.53801535, 0.59179033, 0.53773102, 0.71273958, 0.56473889,\n",
       "       0.62261674, 0.63795482, 0.4863144 , 0.6095559 , 0.66332211,\n",
       "       0.65120655, 0.5882372 , 0.61841441, 0.70247603, 0.71387475,\n",
       "       0.81488874, 0.70577535, 0.6431417 , 0.69376344, 0.75834494,\n",
       "       0.76853419, 0.67014112, 0.660419  , 0.61070662, 0.58255007,\n",
       "       0.50869571, 0.44843338, 0.59540446, 0.27199967, 0.24101317,\n",
       "       0.26460434, 0.316027  , 0.24883798, 0.37251176])"
      ]
     },
     "execution_count": 24,
     "metadata": {},
     "output_type": "execute_result"
    }
   ],
   "source": [
    "Y_train"
   ]
  },
  {
   "cell_type": "markdown",
   "metadata": {},
   "source": [
    "## Configure LSTM Model"
   ]
  },
  {
   "cell_type": "code",
   "execution_count": 25,
   "metadata": {},
   "outputs": [
    {
     "name": "stdout",
     "output_type": "stream",
     "text": [
      "Train on 59 samples, validate on 15 samples\n",
      "Epoch 1/100\n",
      "59/59 - 1s - loss: 0.1847 - val_loss: 0.1782\n",
      "Epoch 2/100\n",
      "59/59 - 0s - loss: 0.1105 - val_loss: 0.0936\n",
      "Epoch 3/100\n",
      "59/59 - 0s - loss: 0.0653 - val_loss: 0.0414\n",
      "Epoch 4/100\n",
      "59/59 - 0s - loss: 0.0404 - val_loss: 0.0232\n",
      "Epoch 5/100\n",
      "59/59 - 0s - loss: 0.0307 - val_loss: 0.0190\n",
      "Epoch 6/100\n",
      "59/59 - 0s - loss: 0.0275 - val_loss: 0.0194\n",
      "Epoch 7/100\n",
      "59/59 - 0s - loss: 0.0264 - val_loss: 0.0188\n",
      "Epoch 8/100\n",
      "59/59 - 0s - loss: 0.0255 - val_loss: 0.0199\n",
      "Epoch 9/100\n",
      "59/59 - 0s - loss: 0.0252 - val_loss: 0.0194\n",
      "Epoch 10/100\n",
      "59/59 - 0s - loss: 0.0242 - val_loss: 0.0196\n",
      "Epoch 11/100\n",
      "59/59 - 0s - loss: 0.0238 - val_loss: 0.0192\n",
      "Epoch 12/100\n",
      "59/59 - 0s - loss: 0.0234 - val_loss: 0.0191\n",
      "Epoch 13/100\n",
      "59/59 - 0s - loss: 0.0229 - val_loss: 0.0187\n",
      "Epoch 14/100\n",
      "59/59 - 0s - loss: 0.0222 - val_loss: 0.0178\n",
      "Epoch 15/100\n",
      "59/59 - 0s - loss: 0.0219 - val_loss: 0.0185\n",
      "Epoch 16/100\n",
      "59/59 - 0s - loss: 0.0216 - val_loss: 0.0194\n",
      "Epoch 17/100\n",
      "59/59 - 0s - loss: 0.0213 - val_loss: 0.0196\n",
      "Epoch 18/100\n",
      "59/59 - 0s - loss: 0.0209 - val_loss: 0.0186\n",
      "Epoch 19/100\n",
      "59/59 - 0s - loss: 0.0206 - val_loss: 0.0197\n",
      "Epoch 20/100\n",
      "59/59 - 0s - loss: 0.0204 - val_loss: 0.0176\n",
      "Epoch 21/100\n",
      "59/59 - 0s - loss: 0.0201 - val_loss: 0.0193\n",
      "Epoch 22/100\n",
      "59/59 - 0s - loss: 0.0200 - val_loss: 0.0182\n",
      "Epoch 23/100\n",
      "59/59 - 0s - loss: 0.0197 - val_loss: 0.0179\n",
      "Epoch 24/100\n",
      "59/59 - 0s - loss: 0.0194 - val_loss: 0.0183\n",
      "Epoch 25/100\n",
      "59/59 - 0s - loss: 0.0191 - val_loss: 0.0166\n",
      "Epoch 26/100\n",
      "59/59 - 0s - loss: 0.0194 - val_loss: 0.0177\n",
      "Epoch 27/100\n",
      "59/59 - 0s - loss: 0.0188 - val_loss: 0.0188\n",
      "Epoch 28/100\n",
      "59/59 - 0s - loss: 0.0188 - val_loss: 0.0171\n",
      "Epoch 29/100\n",
      "59/59 - 0s - loss: 0.0185 - val_loss: 0.0171\n",
      "Epoch 30/100\n",
      "59/59 - 0s - loss: 0.0184 - val_loss: 0.0175\n",
      "Epoch 31/100\n",
      "59/59 - 0s - loss: 0.0182 - val_loss: 0.0181\n",
      "Epoch 32/100\n",
      "59/59 - 0s - loss: 0.0187 - val_loss: 0.0152\n",
      "Epoch 33/100\n",
      "59/59 - 0s - loss: 0.0181 - val_loss: 0.0166\n",
      "Epoch 34/100\n",
      "59/59 - 0s - loss: 0.0178 - val_loss: 0.0184\n",
      "Epoch 35/100\n",
      "59/59 - 0s - loss: 0.0177 - val_loss: 0.0167\n",
      "Epoch 36/100\n",
      "59/59 - 0s - loss: 0.0174 - val_loss: 0.0159\n",
      "Epoch 37/100\n",
      "59/59 - 0s - loss: 0.0174 - val_loss: 0.0175\n",
      "Epoch 38/100\n",
      "59/59 - 0s - loss: 0.0174 - val_loss: 0.0173\n",
      "Epoch 39/100\n",
      "59/59 - 0s - loss: 0.0171 - val_loss: 0.0153\n",
      "Epoch 40/100\n",
      "59/59 - 0s - loss: 0.0169 - val_loss: 0.0150\n",
      "Epoch 41/100\n",
      "59/59 - 0s - loss: 0.0168 - val_loss: 0.0145\n",
      "Epoch 42/100\n",
      "59/59 - 0s - loss: 0.0170 - val_loss: 0.0168\n",
      "Epoch 43/100\n",
      "59/59 - 0s - loss: 0.0165 - val_loss: 0.0137\n",
      "Epoch 44/100\n",
      "59/59 - 0s - loss: 0.0165 - val_loss: 0.0138\n",
      "Epoch 45/100\n",
      "59/59 - 0s - loss: 0.0162 - val_loss: 0.0155\n",
      "Epoch 46/100\n",
      "59/59 - 0s - loss: 0.0162 - val_loss: 0.0142\n",
      "Epoch 47/100\n",
      "59/59 - 0s - loss: 0.0164 - val_loss: 0.0139\n",
      "Epoch 48/100\n",
      "59/59 - 0s - loss: 0.0160 - val_loss: 0.0140\n",
      "Epoch 49/100\n",
      "59/59 - 0s - loss: 0.0160 - val_loss: 0.0130\n",
      "Epoch 50/100\n",
      "59/59 - 0s - loss: 0.0159 - val_loss: 0.0128\n",
      "Epoch 51/100\n",
      "59/59 - 0s - loss: 0.0158 - val_loss: 0.0146\n",
      "Epoch 52/100\n",
      "59/59 - 0s - loss: 0.0156 - val_loss: 0.0118\n",
      "Epoch 53/100\n",
      "59/59 - 0s - loss: 0.0155 - val_loss: 0.0138\n",
      "Epoch 54/100\n",
      "59/59 - 0s - loss: 0.0154 - val_loss: 0.0150\n",
      "Epoch 55/100\n",
      "59/59 - 0s - loss: 0.0153 - val_loss: 0.0137\n",
      "Epoch 56/100\n",
      "59/59 - 0s - loss: 0.0155 - val_loss: 0.0145\n",
      "Epoch 57/100\n",
      "59/59 - 0s - loss: 0.0151 - val_loss: 0.0126\n",
      "Epoch 58/100\n",
      "59/59 - 0s - loss: 0.0152 - val_loss: 0.0125\n",
      "Epoch 59/100\n",
      "59/59 - 0s - loss: 0.0151 - val_loss: 0.0114\n",
      "Epoch 60/100\n",
      "59/59 - 0s - loss: 0.0151 - val_loss: 0.0119\n",
      "Epoch 61/100\n",
      "59/59 - 0s - loss: 0.0148 - val_loss: 0.0119\n",
      "Epoch 62/100\n",
      "59/59 - 0s - loss: 0.0152 - val_loss: 0.0107\n",
      "Epoch 63/100\n",
      "59/59 - 0s - loss: 0.0147 - val_loss: 0.0125\n",
      "Epoch 64/100\n",
      "59/59 - 0s - loss: 0.0149 - val_loss: 0.0112\n",
      "Epoch 65/100\n",
      "59/59 - 0s - loss: 0.0149 - val_loss: 0.0135\n",
      "Epoch 66/100\n",
      "59/59 - 0s - loss: 0.0148 - val_loss: 0.0129\n",
      "Epoch 67/100\n",
      "59/59 - 0s - loss: 0.0149 - val_loss: 0.0142\n",
      "Epoch 68/100\n",
      "59/59 - 0s - loss: 0.0152 - val_loss: 0.0104\n",
      "Epoch 69/100\n",
      "59/59 - 0s - loss: 0.0147 - val_loss: 0.0128\n",
      "Epoch 70/100\n",
      "59/59 - 0s - loss: 0.0145 - val_loss: 0.0114\n",
      "Epoch 71/100\n",
      "59/59 - 0s - loss: 0.0146 - val_loss: 0.0107\n",
      "Epoch 72/100\n",
      "59/59 - 0s - loss: 0.0145 - val_loss: 0.0116\n",
      "Epoch 73/100\n",
      "59/59 - 0s - loss: 0.0145 - val_loss: 0.0118\n",
      "Epoch 74/100\n",
      "59/59 - 0s - loss: 0.0146 - val_loss: 0.0115\n",
      "Epoch 75/100\n",
      "59/59 - 0s - loss: 0.0147 - val_loss: 0.0121\n",
      "Epoch 76/100\n",
      "59/59 - 0s - loss: 0.0148 - val_loss: 0.0111\n",
      "Epoch 77/100\n",
      "59/59 - 0s - loss: 0.0145 - val_loss: 0.0126\n",
      "Epoch 78/100\n",
      "59/59 - 0s - loss: 0.0143 - val_loss: 0.0114\n",
      "Epoch 79/100\n",
      "59/59 - 0s - loss: 0.0145 - val_loss: 0.0130\n",
      "Epoch 80/100\n",
      "59/59 - 0s - loss: 0.0143 - val_loss: 0.0113\n",
      "Epoch 81/100\n",
      "59/59 - 0s - loss: 0.0144 - val_loss: 0.0118\n",
      "Epoch 82/100\n",
      "59/59 - 0s - loss: 0.0144 - val_loss: 0.0102\n",
      "Epoch 83/100\n",
      "59/59 - 0s - loss: 0.0144 - val_loss: 0.0115\n",
      "Epoch 84/100\n",
      "59/59 - 0s - loss: 0.0142 - val_loss: 0.0107\n",
      "Epoch 85/100\n",
      "59/59 - 0s - loss: 0.0144 - val_loss: 0.0127\n",
      "Epoch 86/100\n",
      "59/59 - 0s - loss: 0.0142 - val_loss: 0.0111\n",
      "Epoch 87/100\n",
      "59/59 - 0s - loss: 0.0142 - val_loss: 0.0130\n",
      "Epoch 88/100\n",
      "59/59 - 0s - loss: 0.0142 - val_loss: 0.0116\n",
      "Epoch 89/100\n",
      "59/59 - 0s - loss: 0.0142 - val_loss: 0.0112\n",
      "Epoch 90/100\n",
      "59/59 - 0s - loss: 0.0143 - val_loss: 0.0113\n",
      "Epoch 91/100\n",
      "59/59 - 0s - loss: 0.0143 - val_loss: 0.0123\n",
      "Epoch 92/100\n",
      "59/59 - 0s - loss: 0.0143 - val_loss: 0.0124\n",
      "Epoch 93/100\n",
      "59/59 - 0s - loss: 0.0142 - val_loss: 0.0104\n",
      "Epoch 94/100\n",
      "59/59 - 0s - loss: 0.0144 - val_loss: 0.0112\n",
      "Epoch 95/100\n",
      "59/59 - 0s - loss: 0.0143 - val_loss: 0.0100\n",
      "Epoch 96/100\n",
      "59/59 - 0s - loss: 0.0142 - val_loss: 0.0111\n",
      "Epoch 97/100\n",
      "59/59 - 0s - loss: 0.0140 - val_loss: 0.0105\n",
      "Epoch 98/100\n",
      "59/59 - 0s - loss: 0.0143 - val_loss: 0.0114\n",
      "Epoch 99/100\n",
      "59/59 - 0s - loss: 0.0141 - val_loss: 0.0101\n",
      "Epoch 100/100\n",
      "59/59 - 0s - loss: 0.0140 - val_loss: 0.0123\n",
      "dict_keys(['loss', 'val_loss'])\n"
     ]
    },
    {
     "data": {
      "image/png": "[encoded data removed]",
      "text/plain": [
       "<Figure size 432x288 with 1 Axes>"
      ]
     },
     "metadata": {
      "needs_background": "light"
     },
     "output_type": "display_data"
    }
   ],
   "source": [
    "# reshape input to be [samples, time steps, features]\n",
    "X_train = np.reshape(X_train, (X_train.shape[0], 1, X_train.shape[1]))\n",
    "X_val = np.reshape(X_val, (X_val.shape[0], 1, X_val.shape[1]))\n",
    "\n",
    "# Generate LSTM network\n",
    "model = tf.keras.Sequential()\n",
    "model.add(LSTM(4, input_shape=(1, previous)))\n",
    "model.add(Dense(1))\n",
    "model.compile(loss='mean_squared_error', optimizer='adam')\n",
    "history=model.fit(X_train, Y_train, validation_split=0.2, epochs=100, batch_size=1, verbose=2)\n",
    "\n",
    "\n",
    "# list all data in history\n",
    "print(history.history.keys())\n",
    "# summarize history for accuracy\n",
    "plt.plot(history.history['loss'])\n",
    "plt.plot(history.history['val_loss'])\n",
    "plt.title('model loss')\n",
    "plt.ylabel('loss')\n",
    "plt.xlabel('epoch')\n",
    "plt.legend(['train', 'val'], loc='upper left')\n",
    "plt.show()"
   ]
  },
  {
   "cell_type": "code",
   "execution_count": 26,
   "metadata": {},
   "outputs": [],
   "source": [
    "# Generate predictions\n",
    "trainpred = model.predict(X_train)\n",
    "valpred = model.predict(X_val)"
   ]
  },
  {
   "cell_type": "code",
   "execution_count": 27,
   "metadata": {},
   "outputs": [
    {
     "data": {
      "text/plain": [
       "array([[0.11846137],\n",
       "       [0.11940154],\n",
       "       [0.21432334],\n",
       "       [0.22163446],\n",
       "       [0.16927946],\n",
       "       [0.2611391 ],\n",
       "       [0.28685197],\n",
       "       [0.32861397],\n",
       "       [0.61762977],\n",
       "       [0.45141178],\n",
       "       [0.40921897],\n",
       "       [0.38935965],\n",
       "       [0.40824875],\n",
       "       [0.31897515],\n",
       "       [0.27184147],\n",
       "       [0.21079905],\n",
       "       [0.1781217 ],\n",
       "       [0.16708918],\n",
       "       [0.18670316],\n",
       "       [0.19464596],\n",
       "       [0.15277848],\n",
       "       [0.19845565],\n",
       "       [0.31785467],\n",
       "       [0.33636457],\n",
       "       [0.19764408],\n",
       "       [0.19936188],\n",
       "       [0.21489358],\n",
       "       [0.18539204],\n",
       "       [0.20756757],\n",
       "       [0.24417546],\n",
       "       [0.22764376],\n",
       "       [0.24832854],\n",
       "       [0.23979212],\n",
       "       [0.25491247],\n",
       "       [0.28287625],\n",
       "       [0.45794412],\n",
       "       [0.361499  ],\n",
       "       [0.3903845 ],\n",
       "       [0.4923461 ],\n",
       "       [0.4632573 ],\n",
       "       [0.5257502 ],\n",
       "       [0.53723615],\n",
       "       [0.5839665 ],\n",
       "       [0.5560921 ],\n",
       "       [0.6828763 ],\n",
       "       [0.5879117 ],\n",
       "       [0.6340667 ],\n",
       "       [0.64951897],\n",
       "       [0.5341782 ],\n",
       "       [0.616346  ],\n",
       "       [0.65277815],\n",
       "       [0.6461569 ],\n",
       "       [0.61497575],\n",
       "       [0.6370199 ],\n",
       "       [0.6938351 ],\n",
       "       [0.7044214 ],\n",
       "       [0.7885014 ],\n",
       "       [0.7229185 ],\n",
       "       [0.6800346 ],\n",
       "       [0.71163356],\n",
       "       [0.74880046],\n",
       "       [0.75975096],\n",
       "       [0.6982079 ],\n",
       "       [0.6902223 ],\n",
       "       [0.6445335 ],\n",
       "       [0.61234045],\n",
       "       [0.55188245],\n",
       "       [0.49568033],\n",
       "       [0.5868982 ],\n",
       "       [0.36271238],\n",
       "       [0.31600702],\n",
       "       [0.31726032],\n",
       "       [0.33213395],\n",
       "       [0.28699642]], dtype=float32)"
      ]
     },
     "execution_count": 27,
     "metadata": {},
     "output_type": "execute_result"
    }
   ],
   "source": [
    "trainpred"
   ]
  },
  {
   "cell_type": "code",
   "execution_count": 28,
   "metadata": {},
   "outputs": [
    {
     "data": {
      "text/plain": [
       "array([[0.28603444],\n",
       "       [0.3264    ],\n",
       "       [0.35958382],\n",
       "       [0.34858277],\n",
       "       [0.37467977],\n",
       "       [0.3633577 ],\n",
       "       [0.37873882],\n",
       "       [0.40973246],\n",
       "       [0.4485067 ],\n",
       "       [0.61002815],\n",
       "       [0.73458606],\n",
       "       [0.7268452 ],\n",
       "       [0.7704319 ],\n",
       "       [0.8103314 ]], dtype=float32)"
      ]
     },
     "execution_count": 28,
     "metadata": {},
     "output_type": "execute_result"
    }
   ],
   "source": [
    "valpred"
   ]
  },
  {
   "cell_type": "code",
   "execution_count": 29,
   "metadata": {},
   "outputs": [],
   "source": [
    "# Convert predictions back to normal values\n",
    "trainpred = scaler.inverse_transform(trainpred)\n",
    "Y_train = scaler.inverse_transform([Y_train])\n",
    "valpred = scaler.inverse_transform(valpred)\n",
    "Y_val = scaler.inverse_transform([Y_val])\n",
    "predictions = valpred"
   ]
  },
  {
   "cell_type": "code",
   "execution_count": 30,
   "metadata": {},
   "outputs": [
    {
     "data": {
      "text/plain": [
       "(1, 74)"
      ]
     },
     "execution_count": 30,
     "metadata": {},
     "output_type": "execute_result"
    }
   ],
   "source": [
    "Y_train.shape"
   ]
  },
  {
   "cell_type": "code",
   "execution_count": 31,
   "metadata": {},
   "outputs": [
    {
     "data": {
      "text/plain": [
       "(1, 14)"
      ]
     },
     "execution_count": 31,
     "metadata": {},
     "output_type": "execute_result"
    }
   ],
   "source": [
    "Y_val.shape"
   ]
  },
  {
   "cell_type": "code",
   "execution_count": 32,
   "metadata": {},
   "outputs": [
    {
     "data": {
      "text/plain": [
       "(74, 1, 5)"
      ]
     },
     "execution_count": 32,
     "metadata": {},
     "output_type": "execute_result"
    }
   ],
   "source": [
    "X_train.shape"
   ]
  },
  {
   "cell_type": "code",
   "execution_count": 33,
   "metadata": {},
   "outputs": [
    {
     "data": {
      "text/plain": [
       "(14, 1, 5)"
      ]
     },
     "execution_count": 33,
     "metadata": {},
     "output_type": "execute_result"
    }
   ],
   "source": [
    "X_val.shape"
   ]
  },
  {
   "cell_type": "code",
   "execution_count": 34,
   "metadata": {},
   "outputs": [
    {
     "data": {
      "text/plain": [
       "array([[ 66.19251773,  83.49771567,  84.47268398,  72.68456522,\n",
       "         83.45116535,  86.20366422,  91.45293608, 126.92589397,\n",
       "        101.41107955,  89.9096928 ,  89.26574257,  94.24644567,\n",
       "         84.64276423,  80.10729242,  73.66123894,  71.29099688,\n",
       "         71.20313158,  75.51997732,  77.24792627,  70.17713287,\n",
       "         76.81377451,  94.30473002,  95.21253521,  72.52884422,\n",
       "         72.73885106,  76.22860526,  73.89953608,  78.31005495,\n",
       "         83.05294239,  79.5900545 ,  81.36655536,  79.51510608,\n",
       "         81.69887067,  85.45253049, 107.70945313,  92.86574132,\n",
       "         91.91686905, 102.45118665,  99.15784753, 105.37807425,\n",
       "        104.96025199, 108.91796547, 104.93932653, 117.81954795,\n",
       "        106.92704225, 111.18671756, 112.31556444, 101.15518268,\n",
       "        110.22546968, 114.18253731, 113.29086053, 108.65646341,\n",
       "        110.87743553, 117.06417476, 117.90309371, 125.33748775,\n",
       "        117.30699725, 112.6973067 , 116.42294872, 121.17599585,\n",
       "        121.92590126, 114.68440079, 113.96887528, 110.31016028,\n",
       "        108.23790359, 102.80239527,  98.36722793, 109.18395683,\n",
       "         85.3821189 ,  83.10158479,  84.83784   ,  88.62242765,\n",
       "         83.67747222,  92.77957393]])"
      ]
     },
     "execution_count": 34,
     "metadata": {},
     "output_type": "execute_result"
    }
   ],
   "source": [
    "Y_train"
   ]
  },
  {
   "cell_type": "code",
   "execution_count": 35,
   "metadata": {},
   "outputs": [
    {
     "data": {
      "text/plain": [
       "array([[ 89.19876623,  92.82290682,  90.20431193,  92.04525896,\n",
       "         90.06917483,  91.99566508,  95.53501946,  99.44500705,\n",
       "        116.58657688, 127.64236479, 121.46174792, 121.31692451,\n",
       "        124.66143536, 132.63951467]])"
      ]
     },
     "execution_count": 35,
     "metadata": {},
     "output_type": "execute_result"
    }
   ],
   "source": [
    "Y_val"
   ]
  },
  {
   "cell_type": "code",
   "execution_count": 36,
   "metadata": {},
   "outputs": [
    {
     "data": {
      "text/plain": [
       "array([[[0.17394983, 0.06635752, 0.11729932, 0.01906132, 0.        ]],\n",
       "\n",
       "       [[0.06635752, 0.11729932, 0.01906132, 0.        , 0.01126313]],\n",
       "\n",
       "       [[0.11729932, 0.01906132, 0.        , 0.01126313, 0.24639556]],\n",
       "\n",
       "       [[0.01906132, 0.        , 0.01126313, 0.24639556, 0.25964283]],\n",
       "\n",
       "       [[0.        , 0.01126313, 0.24639556, 0.25964283, 0.09947309]],\n",
       "\n",
       "       [[0.01126313, 0.24639556, 0.25964283, 0.09947309, 0.24576306]],\n",
       "\n",
       "       [[0.24639556, 0.25964283, 0.09947309, 0.24576306, 0.28316233]],\n",
       "\n",
       "       [[0.25964283, 0.09947309, 0.24576306, 0.28316233, 0.35448622]],\n",
       "\n",
       "       [[0.09947309, 0.24576306, 0.28316233, 0.35448622, 0.83647103]],\n",
       "\n",
       "       [[0.24576306, 0.28316233, 0.35448622, 0.83647103, 0.48979137]],\n",
       "\n",
       "       [[0.28316233, 0.35448622, 0.83647103, 0.48979137, 0.33351757]],\n",
       "\n",
       "       [[0.35448622, 0.83647103, 0.48979137, 0.33351757, 0.32476797]],\n",
       "\n",
       "       [[0.83647103, 0.48979137, 0.33351757, 0.32476797, 0.39244271]],\n",
       "\n",
       "       [[0.48979137, 0.33351757, 0.32476797, 0.39244271, 0.26195377]],\n",
       "\n",
       "       [[0.33351757, 0.32476797, 0.39244271, 0.26195377, 0.20032856]],\n",
       "\n",
       "       [[0.32476797, 0.39244271, 0.26195377, 0.20032856, 0.11274354]],\n",
       "\n",
       "       [[0.39244271, 0.26195377, 0.20032856, 0.11274354, 0.08053814]],\n",
       "\n",
       "       [[0.26195377, 0.20032856, 0.11274354, 0.08053814, 0.07934428]],\n",
       "\n",
       "       [[0.20032856, 0.11274354, 0.08053814, 0.07934428, 0.13799894]],\n",
       "\n",
       "       [[0.11274354, 0.08053814, 0.07934428, 0.13799894, 0.16147725]],\n",
       "\n",
       "       [[0.08053814, 0.07934428, 0.13799894, 0.16147725, 0.06540364]],\n",
       "\n",
       "       [[0.07934428, 0.13799894, 0.16147725, 0.06540364, 0.15557826]],\n",
       "\n",
       "       [[0.13799894, 0.16147725, 0.06540364, 0.15557826, 0.39323464]],\n",
       "\n",
       "       [[0.16147725, 0.06540364, 0.15557826, 0.39323464, 0.40556934]],\n",
       "\n",
       "       [[0.06540364, 0.15557826, 0.39323464, 0.40556934, 0.09735725]],\n",
       "\n",
       "       [[0.15557826, 0.39323464, 0.40556934, 0.09735725, 0.1002107 ]],\n",
       "\n",
       "       [[0.39323464, 0.40556934, 0.09735725, 0.1002107 , 0.14762734]],\n",
       "\n",
       "       [[0.40556934, 0.09735725, 0.1002107 , 0.14762734, 0.11598137]],\n",
       "\n",
       "       [[0.09735725, 0.1002107 , 0.14762734, 0.11598137, 0.1759088 ]],\n",
       "\n",
       "       [[0.1002107 , 0.14762734, 0.11598137, 0.1759088 , 0.24035225]],\n",
       "\n",
       "       [[0.14762734, 0.11598137, 0.1759088 , 0.24035225, 0.19330065]],\n",
       "\n",
       "       [[0.11598137, 0.1759088 , 0.24035225, 0.19330065, 0.21743866]],\n",
       "\n",
       "       [[0.1759088 , 0.24035225, 0.19330065, 0.21743866, 0.1922823 ]],\n",
       "\n",
       "       [[0.24035225, 0.19330065, 0.21743866, 0.1922823 , 0.22195395]],\n",
       "\n",
       "       [[0.19330065, 0.21743866, 0.1922823 , 0.22195395, 0.27295638]],\n",
       "\n",
       "       [[0.21743866, 0.1922823 , 0.22195395, 0.27295638, 0.57536981]],\n",
       "\n",
       "       [[0.1922823 , 0.22195395, 0.27295638, 0.57536981, 0.37368255]],\n",
       "\n",
       "       [[0.22195395, 0.27295638, 0.57536981, 0.37368255, 0.36078985]],\n",
       "\n",
       "       [[0.27295638, 0.57536981, 0.37368255, 0.36078985, 0.5039237 ]],\n",
       "\n",
       "       [[0.57536981, 0.37368255, 0.36078985, 0.5039237 , 0.45917583]],\n",
       "\n",
       "       [[0.37368255, 0.36078985, 0.5039237 , 0.45917583, 0.54369246]],\n",
       "\n",
       "       [[0.36078985, 0.5039237 , 0.45917583, 0.54369246, 0.53801535]],\n",
       "\n",
       "       [[0.5039237 , 0.45917583, 0.54369246, 0.53801535, 0.59179033]],\n",
       "\n",
       "       [[0.45917583, 0.54369246, 0.53801535, 0.59179033, 0.53773102]],\n",
       "\n",
       "       [[0.54369246, 0.53801535, 0.59179033, 0.53773102, 0.71273958]],\n",
       "\n",
       "       [[0.53801535, 0.59179033, 0.53773102, 0.71273958, 0.56473889]],\n",
       "\n",
       "       [[0.59179033, 0.53773102, 0.71273958, 0.56473889, 0.62261674]],\n",
       "\n",
       "       [[0.53773102, 0.71273958, 0.56473889, 0.62261674, 0.63795482]],\n",
       "\n",
       "       [[0.71273958, 0.56473889, 0.62261674, 0.63795482, 0.4863144 ]],\n",
       "\n",
       "       [[0.56473889, 0.62261674, 0.63795482, 0.4863144 , 0.6095559 ]],\n",
       "\n",
       "       [[0.62261674, 0.63795482, 0.4863144 , 0.6095559 , 0.66332211]],\n",
       "\n",
       "       [[0.63795482, 0.4863144 , 0.6095559 , 0.66332211, 0.65120655]],\n",
       "\n",
       "       [[0.4863144 , 0.6095559 , 0.66332211, 0.65120655, 0.5882372 ]],\n",
       "\n",
       "       [[0.6095559 , 0.66332211, 0.65120655, 0.5882372 , 0.61841441]],\n",
       "\n",
       "       [[0.66332211, 0.65120655, 0.5882372 , 0.61841441, 0.70247603]],\n",
       "\n",
       "       [[0.65120655, 0.5882372 , 0.61841441, 0.70247603, 0.71387475]],\n",
       "\n",
       "       [[0.5882372 , 0.61841441, 0.70247603, 0.71387475, 0.81488874]],\n",
       "\n",
       "       [[0.61841441, 0.70247603, 0.71387475, 0.81488874, 0.70577535]],\n",
       "\n",
       "       [[0.70247603, 0.71387475, 0.81488874, 0.70577535, 0.6431417 ]],\n",
       "\n",
       "       [[0.71387475, 0.81488874, 0.70577535, 0.6431417 , 0.69376344]],\n",
       "\n",
       "       [[0.81488874, 0.70577535, 0.6431417 , 0.69376344, 0.75834494]],\n",
       "\n",
       "       [[0.70577535, 0.6431417 , 0.69376344, 0.75834494, 0.76853419]],\n",
       "\n",
       "       [[0.6431417 , 0.69376344, 0.75834494, 0.76853419, 0.67014112]],\n",
       "\n",
       "       [[0.69376344, 0.75834494, 0.76853419, 0.67014112, 0.660419  ]],\n",
       "\n",
       "       [[0.75834494, 0.76853419, 0.67014112, 0.660419  , 0.61070662]],\n",
       "\n",
       "       [[0.76853419, 0.67014112, 0.660419  , 0.61070662, 0.58255007]],\n",
       "\n",
       "       [[0.67014112, 0.660419  , 0.61070662, 0.58255007, 0.50869571]],\n",
       "\n",
       "       [[0.660419  , 0.61070662, 0.58255007, 0.50869571, 0.44843338]],\n",
       "\n",
       "       [[0.61070662, 0.58255007, 0.50869571, 0.44843338, 0.59540446]],\n",
       "\n",
       "       [[0.58255007, 0.50869571, 0.44843338, 0.59540446, 0.27199967]],\n",
       "\n",
       "       [[0.50869571, 0.44843338, 0.59540446, 0.27199967, 0.24101317]],\n",
       "\n",
       "       [[0.44843338, 0.59540446, 0.27199967, 0.24101317, 0.26460434]],\n",
       "\n",
       "       [[0.59540446, 0.27199967, 0.24101317, 0.26460434, 0.316027  ]],\n",
       "\n",
       "       [[0.27199967, 0.24101317, 0.26460434, 0.316027  , 0.24883798]]])"
      ]
     },
     "execution_count": 36,
     "metadata": {},
     "output_type": "execute_result"
    }
   ],
   "source": [
    "X_train"
   ]
  },
  {
   "cell_type": "code",
   "execution_count": 37,
   "metadata": {},
   "outputs": [
    {
     "data": {
      "text/plain": [
       "array([[[0.37223323, 0.24205107, 0.2691728 , 0.24987543, 0.24818941]],\n",
       "\n",
       "       [[0.24205107, 0.2691728 , 0.24987543, 0.24818941, 0.32385794]],\n",
       "\n",
       "       [[0.2691728 , 0.24987543, 0.24818941, 0.32385794, 0.37310054]],\n",
       "\n",
       "       [[0.24987543, 0.24818941, 0.32385794, 0.37310054, 0.33752068]],\n",
       "\n",
       "       [[0.24818941, 0.32385794, 0.37310054, 0.33752068, 0.36253434]],\n",
       "\n",
       "       [[0.32385794, 0.37310054, 0.33752068, 0.36253434, 0.33568452]],\n",
       "\n",
       "       [[0.37310054, 0.33752068, 0.36253434, 0.33568452, 0.36186048]],\n",
       "\n",
       "       [[0.33752068, 0.36253434, 0.33568452, 0.36186048, 0.40995106]],\n",
       "\n",
       "       [[0.36253434, 0.33568452, 0.36186048, 0.40995106, 0.46307758]],\n",
       "\n",
       "       [[0.33568452, 0.36186048, 0.40995106, 0.46307758, 0.69598672]],\n",
       "\n",
       "       [[0.36186048, 0.40995106, 0.46307758, 0.69598672, 0.84620599]],\n",
       "\n",
       "       [[0.40995106, 0.46307758, 0.69598672, 0.84620599, 0.76222756]],\n",
       "\n",
       "       [[0.46307758, 0.69598672, 0.84620599, 0.76222756, 0.76025979]],\n",
       "\n",
       "       [[0.69598672, 0.84620599, 0.76222756, 0.76025979, 0.80570295]]])"
      ]
     },
     "execution_count": 37,
     "metadata": {},
     "output_type": "execute_result"
    }
   ],
   "source": [
    "X_val"
   ]
  },
  {
   "cell_type": "code",
   "execution_count": 38,
   "metadata": {},
   "outputs": [
    {
     "name": "stdout",
     "output_type": "stream",
     "text": [
      "Train Score: 8.55 RMSE\n",
      "Validation Score: 7.37 RMSE\n"
     ]
    }
   ],
   "source": [
    "import math\n",
    "from sklearn.metrics import mean_squared_error\n",
    "\n",
    "# calculate RMSE\n",
    "trainScore = math.sqrt(mean_squared_error(Y_train[0], trainpred[:,0]))\n",
    "print('Train Score: %.2f RMSE' % (trainScore))\n",
    "valScore = math.sqrt(mean_squared_error(Y_val[0], valpred[:,0]))\n",
    "print('Validation Score: %.2f RMSE' % (valScore))"
   ]
  },
  {
   "cell_type": "code",
   "execution_count": 39,
   "metadata": {},
   "outputs": [],
   "source": [
    "# Train predictions\n",
    "trainpredPlot = np.empty_like(df)\n",
    "trainpredPlot[:, :] = np.nan\n",
    "trainpredPlot[previous:len(trainpred)+previous, :] = trainpred"
   ]
  },
  {
   "cell_type": "code",
   "execution_count": 40,
   "metadata": {},
   "outputs": [],
   "source": [
    "# Validation predictions\n",
    "valpredPlot = np.empty_like(df)\n",
    "valpredPlot[:, :] = np.nan\n",
    "valpredPlot[len(trainpred)+(previous*2)+1:len(df)-1, :] = valpred"
   ]
  },
  {
   "cell_type": "code",
   "execution_count": 41,
   "metadata": {},
   "outputs": [
    {
     "data": {
      "image/png": "[encoded data removed]",
      "text/plain": [
       "<Figure size 432x288 with 1 Axes>"
      ]
     },
     "metadata": {
      "needs_background": "light"
     },
     "output_type": "display_data"
    }
   ],
   "source": [
    "# Plot all predictions\n",
    "inversetransform, =plt.plot(scaler.inverse_transform(df))\n",
    "trainpred, =plt.plot(trainpredPlot)\n",
    "valpred, =plt.plot(valpredPlot)\n",
    "plt.xlabel('Number of weeks')\n",
    "plt.ylabel('Cancellations')\n",
    "plt.title(\"Predicted vs. Actual Weekly ADR\")\n",
    "plt.show()"
   ]
  },
  {
   "cell_type": "code",
   "execution_count": 42,
   "metadata": {},
   "outputs": [],
   "source": [
    "Y_val=Y_val.reshape(-1)\n",
    "Y_val.shape\n",
    "Y_val=pd.Series(Y_val)"
   ]
  },
  {
   "cell_type": "code",
   "execution_count": 43,
   "metadata": {},
   "outputs": [
    {
     "data": {
      "text/plain": [
       "0      89.198766\n",
       "1      92.822907\n",
       "2      90.204312\n",
       "3      92.045259\n",
       "4      90.069175\n",
       "5      91.995665\n",
       "6      95.535019\n",
       "7      99.445007\n",
       "8     116.586577\n",
       "9     127.642365\n",
       "10    121.461748\n",
       "11    121.316925\n",
       "12    124.661435\n",
       "13    132.639515\n",
       "dtype: float64"
      ]
     },
     "execution_count": 43,
     "metadata": {},
     "output_type": "execute_result"
    }
   ],
   "source": [
    "Y_val"
   ]
  },
  {
   "cell_type": "code",
   "execution_count": 44,
   "metadata": {},
   "outputs": [],
   "source": [
    "predictions=predictions.reshape(-1)\n",
    "predictions.shape\n",
    "predictions=pd.Series(predictions)"
   ]
  },
  {
   "cell_type": "code",
   "execution_count": 45,
   "metadata": {},
   "outputs": [
    {
     "data": {
      "text/plain": [
       "0      86.415039\n",
       "1      89.385857\n",
       "2      91.828110\n",
       "3      91.018456\n",
       "4      92.939133\n",
       "5      92.105858\n",
       "6      93.237869\n",
       "7      95.518936\n",
       "8      98.372627\n",
       "9     110.260231\n",
       "10    119.427399\n",
       "11    118.857689\n",
       "12    122.065567\n",
       "13    125.002075\n",
       "dtype: float32"
      ]
     },
     "execution_count": 45,
     "metadata": {},
     "output_type": "execute_result"
    }
   ],
   "source": [
    "predictions"
   ]
  },
  {
   "cell_type": "code",
   "execution_count": 46,
   "metadata": {},
   "outputs": [],
   "source": [
    "import numpy as np\n",
    "\n",
    "def mda(actual: np.ndarray, predicted: np.ndarray):\n",
    "    \"\"\" Mean Directional Accuracy \"\"\"\n",
    "    return np.mean((np.sign(actual[1:] - actual[:-1]) == np.sign(predicted[1:] - predicted[:-1])).astype(int))"
   ]
  },
  {
   "cell_type": "code",
   "execution_count": 47,
   "metadata": {},
   "outputs": [
    {
     "data": {
      "text/plain": [
       "0.8571428571428571"
      ]
     },
     "execution_count": 47,
     "metadata": {},
     "output_type": "execute_result"
    }
   ],
   "source": [
    "mda(Y_val, predictions)"
   ]
  },
  {
   "cell_type": "code",
   "execution_count": 48,
   "metadata": {},
   "outputs": [
    {
     "name": "stdout",
     "output_type": "stream",
     "text": [
      "RMSE: 7.374353\n"
     ]
    }
   ],
   "source": [
    "# https://machinelearningmastery.com/time-series-forecasting-performance-measures-with-python/\n",
    "\n",
    "from sklearn.metrics import mean_squared_error\n",
    "from math import sqrt\n",
    "mse = mean_squared_error(Y_val, predictions)\n",
    "rmse = sqrt(mse)\n",
    "print('RMSE: %f' % rmse)"
   ]
  },
  {
   "cell_type": "code",
   "execution_count": 49,
   "metadata": {},
   "outputs": [
    {
     "data": {
      "text/plain": [
       "0     -2.783727\n",
       "1     -3.437050\n",
       "2      1.623798\n",
       "3     -1.026803\n",
       "4      2.869958\n",
       "5      0.110193\n",
       "6     -2.297150\n",
       "7     -3.926071\n",
       "8    -18.213950\n",
       "9    -17.382134\n",
       "10    -2.034349\n",
       "11    -2.459236\n",
       "12    -2.595868\n",
       "13    -7.637439\n",
       "dtype: float64"
      ]
     },
     "execution_count": 49,
     "metadata": {},
     "output_type": "execute_result"
    }
   ],
   "source": [
    "forecast_error = (predictions-Y_val)\n",
    "forecast_error"
   ]
  },
  {
   "cell_type": "code",
   "execution_count": 50,
   "metadata": {},
   "outputs": [
    {
     "data": {
      "text/plain": [
       "-4.227844965819382"
      ]
     },
     "execution_count": 50,
     "metadata": {},
     "output_type": "execute_result"
    }
   ],
   "source": [
    "mean_forecast_error = np.mean(forecast_error)\n",
    "mean_forecast_error"
   ]
  },
  {
   "cell_type": "code",
   "execution_count": 51,
   "metadata": {},
   "outputs": [
    {
     "data": {
      "text/plain": [
       "array([[[0.17394983, 0.06635752, 0.11729932, 0.01906132, 0.        ]],\n",
       "\n",
       "       [[0.06635752, 0.11729932, 0.01906132, 0.        , 0.01126313]],\n",
       "\n",
       "       [[0.11729932, 0.01906132, 0.        , 0.01126313, 0.24639556]],\n",
       "\n",
       "       [[0.01906132, 0.        , 0.01126313, 0.24639556, 0.25964283]],\n",
       "\n",
       "       [[0.        , 0.01126313, 0.24639556, 0.25964283, 0.09947309]],\n",
       "\n",
       "       [[0.01126313, 0.24639556, 0.25964283, 0.09947309, 0.24576306]],\n",
       "\n",
       "       [[0.24639556, 0.25964283, 0.09947309, 0.24576306, 0.28316233]],\n",
       "\n",
       "       [[0.25964283, 0.09947309, 0.24576306, 0.28316233, 0.35448622]],\n",
       "\n",
       "       [[0.09947309, 0.24576306, 0.28316233, 0.35448622, 0.83647103]],\n",
       "\n",
       "       [[0.24576306, 0.28316233, 0.35448622, 0.83647103, 0.48979137]],\n",
       "\n",
       "       [[0.28316233, 0.35448622, 0.83647103, 0.48979137, 0.33351757]],\n",
       "\n",
       "       [[0.35448622, 0.83647103, 0.48979137, 0.33351757, 0.32476797]],\n",
       "\n",
       "       [[0.83647103, 0.48979137, 0.33351757, 0.32476797, 0.39244271]],\n",
       "\n",
       "       [[0.48979137, 0.33351757, 0.32476797, 0.39244271, 0.26195377]],\n",
       "\n",
       "       [[0.33351757, 0.32476797, 0.39244271, 0.26195377, 0.20032856]],\n",
       "\n",
       "       [[0.32476797, 0.39244271, 0.26195377, 0.20032856, 0.11274354]],\n",
       "\n",
       "       [[0.39244271, 0.26195377, 0.20032856, 0.11274354, 0.08053814]],\n",
       "\n",
       "       [[0.26195377, 0.20032856, 0.11274354, 0.08053814, 0.07934428]],\n",
       "\n",
       "       [[0.20032856, 0.11274354, 0.08053814, 0.07934428, 0.13799894]],\n",
       "\n",
       "       [[0.11274354, 0.08053814, 0.07934428, 0.13799894, 0.16147725]],\n",
       "\n",
       "       [[0.08053814, 0.07934428, 0.13799894, 0.16147725, 0.06540364]],\n",
       "\n",
       "       [[0.07934428, 0.13799894, 0.16147725, 0.06540364, 0.15557826]],\n",
       "\n",
       "       [[0.13799894, 0.16147725, 0.06540364, 0.15557826, 0.39323464]],\n",
       "\n",
       "       [[0.16147725, 0.06540364, 0.15557826, 0.39323464, 0.40556934]],\n",
       "\n",
       "       [[0.06540364, 0.15557826, 0.39323464, 0.40556934, 0.09735725]],\n",
       "\n",
       "       [[0.15557826, 0.39323464, 0.40556934, 0.09735725, 0.1002107 ]],\n",
       "\n",
       "       [[0.39323464, 0.40556934, 0.09735725, 0.1002107 , 0.14762734]],\n",
       "\n",
       "       [[0.40556934, 0.09735725, 0.1002107 , 0.14762734, 0.11598137]],\n",
       "\n",
       "       [[0.09735725, 0.1002107 , 0.14762734, 0.11598137, 0.1759088 ]],\n",
       "\n",
       "       [[0.1002107 , 0.14762734, 0.11598137, 0.1759088 , 0.24035225]],\n",
       "\n",
       "       [[0.14762734, 0.11598137, 0.1759088 , 0.24035225, 0.19330065]],\n",
       "\n",
       "       [[0.11598137, 0.1759088 , 0.24035225, 0.19330065, 0.21743866]],\n",
       "\n",
       "       [[0.1759088 , 0.24035225, 0.19330065, 0.21743866, 0.1922823 ]],\n",
       "\n",
       "       [[0.24035225, 0.19330065, 0.21743866, 0.1922823 , 0.22195395]],\n",
       "\n",
       "       [[0.19330065, 0.21743866, 0.1922823 , 0.22195395, 0.27295638]],\n",
       "\n",
       "       [[0.21743866, 0.1922823 , 0.22195395, 0.27295638, 0.57536981]],\n",
       "\n",
       "       [[0.1922823 , 0.22195395, 0.27295638, 0.57536981, 0.37368255]],\n",
       "\n",
       "       [[0.22195395, 0.27295638, 0.57536981, 0.37368255, 0.36078985]],\n",
       "\n",
       "       [[0.27295638, 0.57536981, 0.37368255, 0.36078985, 0.5039237 ]],\n",
       "\n",
       "       [[0.57536981, 0.37368255, 0.36078985, 0.5039237 , 0.45917583]],\n",
       "\n",
       "       [[0.37368255, 0.36078985, 0.5039237 , 0.45917583, 0.54369246]],\n",
       "\n",
       "       [[0.36078985, 0.5039237 , 0.45917583, 0.54369246, 0.53801535]],\n",
       "\n",
       "       [[0.5039237 , 0.45917583, 0.54369246, 0.53801535, 0.59179033]],\n",
       "\n",
       "       [[0.45917583, 0.54369246, 0.53801535, 0.59179033, 0.53773102]],\n",
       "\n",
       "       [[0.54369246, 0.53801535, 0.59179033, 0.53773102, 0.71273958]],\n",
       "\n",
       "       [[0.53801535, 0.59179033, 0.53773102, 0.71273958, 0.56473889]],\n",
       "\n",
       "       [[0.59179033, 0.53773102, 0.71273958, 0.56473889, 0.62261674]],\n",
       "\n",
       "       [[0.53773102, 0.71273958, 0.56473889, 0.62261674, 0.63795482]],\n",
       "\n",
       "       [[0.71273958, 0.56473889, 0.62261674, 0.63795482, 0.4863144 ]],\n",
       "\n",
       "       [[0.56473889, 0.62261674, 0.63795482, 0.4863144 , 0.6095559 ]],\n",
       "\n",
       "       [[0.62261674, 0.63795482, 0.4863144 , 0.6095559 , 0.66332211]],\n",
       "\n",
       "       [[0.63795482, 0.4863144 , 0.6095559 , 0.66332211, 0.65120655]],\n",
       "\n",
       "       [[0.4863144 , 0.6095559 , 0.66332211, 0.65120655, 0.5882372 ]],\n",
       "\n",
       "       [[0.6095559 , 0.66332211, 0.65120655, 0.5882372 , 0.61841441]],\n",
       "\n",
       "       [[0.66332211, 0.65120655, 0.5882372 , 0.61841441, 0.70247603]],\n",
       "\n",
       "       [[0.65120655, 0.5882372 , 0.61841441, 0.70247603, 0.71387475]],\n",
       "\n",
       "       [[0.5882372 , 0.61841441, 0.70247603, 0.71387475, 0.81488874]],\n",
       "\n",
       "       [[0.61841441, 0.70247603, 0.71387475, 0.81488874, 0.70577535]],\n",
       "\n",
       "       [[0.70247603, 0.71387475, 0.81488874, 0.70577535, 0.6431417 ]],\n",
       "\n",
       "       [[0.71387475, 0.81488874, 0.70577535, 0.6431417 , 0.69376344]],\n",
       "\n",
       "       [[0.81488874, 0.70577535, 0.6431417 , 0.69376344, 0.75834494]],\n",
       "\n",
       "       [[0.70577535, 0.6431417 , 0.69376344, 0.75834494, 0.76853419]],\n",
       "\n",
       "       [[0.6431417 , 0.69376344, 0.75834494, 0.76853419, 0.67014112]],\n",
       "\n",
       "       [[0.69376344, 0.75834494, 0.76853419, 0.67014112, 0.660419  ]],\n",
       "\n",
       "       [[0.75834494, 0.76853419, 0.67014112, 0.660419  , 0.61070662]],\n",
       "\n",
       "       [[0.76853419, 0.67014112, 0.660419  , 0.61070662, 0.58255007]],\n",
       "\n",
       "       [[0.67014112, 0.660419  , 0.61070662, 0.58255007, 0.50869571]],\n",
       "\n",
       "       [[0.660419  , 0.61070662, 0.58255007, 0.50869571, 0.44843338]],\n",
       "\n",
       "       [[0.61070662, 0.58255007, 0.50869571, 0.44843338, 0.59540446]],\n",
       "\n",
       "       [[0.58255007, 0.50869571, 0.44843338, 0.59540446, 0.27199967]],\n",
       "\n",
       "       [[0.50869571, 0.44843338, 0.59540446, 0.27199967, 0.24101317]],\n",
       "\n",
       "       [[0.44843338, 0.59540446, 0.27199967, 0.24101317, 0.26460434]],\n",
       "\n",
       "       [[0.59540446, 0.27199967, 0.24101317, 0.26460434, 0.316027  ]],\n",
       "\n",
       "       [[0.27199967, 0.24101317, 0.26460434, 0.316027  , 0.24883798]]])"
      ]
     },
     "execution_count": 51,
     "metadata": {},
     "output_type": "execute_result"
    }
   ],
   "source": [
    "X_train"
   ]
  },
  {
   "cell_type": "code",
   "execution_count": 52,
   "metadata": {},
   "outputs": [
    {
     "data": {
      "text/plain": [
       "(74, 1, 5)"
      ]
     },
     "execution_count": 52,
     "metadata": {},
     "output_type": "execute_result"
    }
   ],
   "source": [
    "X_train.shape"
   ]
  },
  {
   "cell_type": "markdown",
   "metadata": {},
   "source": [
    "## Validate predictions on test data"
   ]
  },
  {
   "cell_type": "code",
   "execution_count": 53,
   "metadata": {},
   "outputs": [],
   "source": [
    "Xnew = np.array([tseries.iloc[95:100],tseries.iloc[96:101],tseries.iloc[97:102],tseries.iloc[98:103],tseries.iloc[99:104],tseries.iloc[100:105],tseries.iloc[101:106],tseries.iloc[102:107],tseries.iloc[103:108],tseries.iloc[104:109],tseries.iloc[105:110],tseries.iloc[106:111],tseries.iloc[107:112],tseries.iloc[108:113],tseries.iloc[109:114]])"
   ]
  },
  {
   "cell_type": "code",
   "execution_count": 54,
   "metadata": {},
   "outputs": [
    {
     "data": {
      "text/plain": [
       "array([[121.46174792, 121.31692451, 124.66143536, 132.63951467,\n",
       "        138.96124481],\n",
       "       [121.31692451, 124.66143536, 132.63951467, 138.96124481,\n",
       "        135.29018595],\n",
       "       [124.66143536, 132.63951467, 138.96124481, 135.29018595,\n",
       "        126.70549121],\n",
       "       [132.63951467, 138.96124481, 135.29018595, 126.70549121,\n",
       "        136.96731501],\n",
       "       [138.96124481, 135.29018595, 126.70549121, 136.96731501,\n",
       "        125.04368653],\n",
       "       [135.29018595, 126.70549121, 136.96731501, 125.04368653,\n",
       "        129.75435252],\n",
       "       [126.70549121, 136.96731501, 125.04368653, 129.75435252,\n",
       "        123.69777658],\n",
       "       [136.96731501, 125.04368653, 129.75435252, 123.69777658,\n",
       "        122.84483755],\n",
       "       [125.04368653, 129.75435252, 123.69777658, 122.84483755,\n",
       "        123.08675055],\n",
       "       [129.75435252, 123.69777658, 122.84483755, 123.08675055,\n",
       "        124.98114286],\n",
       "       [123.69777658, 122.84483755, 123.08675055, 124.98114286,\n",
       "        131.79458537],\n",
       "       [122.84483755, 123.08675055, 124.98114286, 131.79458537,\n",
       "        138.89840845],\n",
       "       [123.08675055, 124.98114286, 131.79458537, 138.89840845,\n",
       "        142.90922096],\n",
       "       [124.98114286, 131.79458537, 138.89840845, 142.90922096,\n",
       "        144.83992318],\n",
       "       [131.79458537, 138.89840845, 142.90922096, 144.83992318,\n",
       "        135.89270833]])"
      ]
     },
     "execution_count": 54,
     "metadata": {},
     "output_type": "execute_result"
    }
   ],
   "source": [
    "Xnew"
   ]
  },
  {
   "cell_type": "code",
   "execution_count": 55,
   "metadata": {},
   "outputs": [],
   "source": [
    "Xnew = scaler.fit_transform(Xnew)\n",
    "Xnew\n",
    "Xnewformat = np.reshape(Xnew, (Xnew.shape[0], 1, Xnew.shape[1]))\n",
    "ynew=model.predict(Xnewformat)"
   ]
  },
  {
   "cell_type": "code",
   "execution_count": 56,
   "metadata": {},
   "outputs": [
    {
     "data": {
      "text/plain": [
       "(15, 5)"
      ]
     },
     "execution_count": 56,
     "metadata": {},
     "output_type": "execute_result"
    }
   ],
   "source": [
    "Xnew.shape"
   ]
  },
  {
   "cell_type": "code",
   "execution_count": 57,
   "metadata": {},
   "outputs": [
    {
     "data": {
      "text/plain": [
       "array([[0.46048203],\n",
       "       [0.48403236],\n",
       "       [0.31497166],\n",
       "       [0.595841  ],\n",
       "       [0.24884981],\n",
       "       [0.33760145],\n",
       "       [0.18836682],\n",
       "       [0.12395072],\n",
       "       [0.13641699],\n",
       "       [0.165279  ],\n",
       "       [0.3029899 ],\n",
       "       [0.49429834],\n",
       "       [0.7003161 ],\n",
       "       [0.9078458 ],\n",
       "       [0.6814803 ]], dtype=float32)"
      ]
     },
     "execution_count": 57,
     "metadata": {},
     "output_type": "execute_result"
    }
   ],
   "source": [
    "ynew"
   ]
  },
  {
   "cell_type": "code",
   "execution_count": 58,
   "metadata": {},
   "outputs": [
    {
     "data": {
      "text/plain": [
       "numpy.ndarray"
      ]
     },
     "execution_count": 58,
     "metadata": {},
     "output_type": "execute_result"
    }
   ],
   "source": [
    "type(ynew)"
   ]
  },
  {
   "cell_type": "code",
   "execution_count": 59,
   "metadata": {},
   "outputs": [
    {
     "data": {
      "text/plain": [
       "(15, 1)"
      ]
     },
     "execution_count": 59,
     "metadata": {},
     "output_type": "execute_result"
    }
   ],
   "source": [
    "ynew.shape"
   ]
  },
  {
   "cell_type": "code",
   "execution_count": 60,
   "metadata": {},
   "outputs": [
    {
     "data": {
      "text/plain": [
       "FullDate\n",
       "201721    135.290186\n",
       "201722    126.705491\n",
       "201723    136.967315\n",
       "201724    125.043687\n",
       "201725    129.754353\n",
       "201726    123.697777\n",
       "201727    122.844838\n",
       "201728    123.086751\n",
       "201729    124.981143\n",
       "201730    131.794585\n",
       "201731    138.898408\n",
       "201732    142.909221\n",
       "201733    144.839923\n",
       "201734    135.892708\n",
       "201735    128.586952\n",
       "Name: ADR, dtype: float64"
      ]
     },
     "execution_count": 60,
     "metadata": {},
     "output_type": "execute_result"
    }
   ],
   "source": [
    "actual = tseries.iloc[100:115]\n",
    "actual"
   ]
  },
  {
   "cell_type": "code",
   "execution_count": 61,
   "metadata": {},
   "outputs": [
    {
     "data": {
      "text/plain": [
       "array([135.29018595, 126.70549121, 136.96731501, 125.04368653,\n",
       "       129.75435252, 123.69777658, 122.84483755, 123.08675055,\n",
       "       124.98114286, 131.79458537, 138.89840845, 142.90922096,\n",
       "       144.83992318, 135.89270833, 128.58695175])"
      ]
     },
     "execution_count": 61,
     "metadata": {},
     "output_type": "execute_result"
    }
   ],
   "source": [
    "actual = np.array(actual)\n",
    "actual"
   ]
  },
  {
   "cell_type": "code",
   "execution_count": 62,
   "metadata": {},
   "outputs": [
    {
     "data": {
      "text/plain": [
       "(15, 1)"
      ]
     },
     "execution_count": 62,
     "metadata": {},
     "output_type": "execute_result"
    }
   ],
   "source": [
    "actual=actual.reshape(15,-1)\n",
    "actual.shape"
   ]
  },
  {
   "cell_type": "code",
   "execution_count": 63,
   "metadata": {},
   "outputs": [
    {
     "data": {
      "text/plain": [
       "array([[135.29018595],\n",
       "       [126.70549121],\n",
       "       [136.96731501],\n",
       "       [125.04368653],\n",
       "       [129.75435252],\n",
       "       [123.69777658],\n",
       "       [122.84483755],\n",
       "       [123.08675055],\n",
       "       [124.98114286],\n",
       "       [131.79458537],\n",
       "       [138.89840845],\n",
       "       [142.90922096],\n",
       "       [144.83992318],\n",
       "       [135.89270833],\n",
       "       [128.58695175]])"
      ]
     },
     "execution_count": 63,
     "metadata": {},
     "output_type": "execute_result"
    }
   ],
   "source": [
    "actual"
   ]
  },
  {
   "cell_type": "code",
   "execution_count": 64,
   "metadata": {},
   "outputs": [],
   "source": [
    "ynew=ynew.reshape(-1)\n",
    "actual=actual.reshape(-1)\n",
    "actualpd=pd.Series(actual)"
   ]
  },
  {
   "cell_type": "code",
   "execution_count": 65,
   "metadata": {},
   "outputs": [
    {
     "data": {
      "text/plain": [
       "0.0"
      ]
     },
     "execution_count": 65,
     "metadata": {},
     "output_type": "execute_result"
    }
   ],
   "source": [
    "np.min(df)"
   ]
  },
  {
   "cell_type": "code",
   "execution_count": 66,
   "metadata": {},
   "outputs": [
    {
     "data": {
      "text/plain": [
       "array([0.46048203, 0.48403236, 0.31497166, 0.595841  , 0.24884981,\n",
       "       0.33760145, 0.18836682, 0.12395072, 0.13641699, 0.165279  ,\n",
       "       0.3029899 , 0.49429834, 0.7003161 , 0.9078458 , 0.6814803 ],\n",
       "      dtype=float32)"
      ]
     },
     "execution_count": 66,
     "metadata": {},
     "output_type": "execute_result"
    }
   ],
   "source": [
    "ynew"
   ]
  },
  {
   "cell_type": "code",
   "execution_count": 67,
   "metadata": {},
   "outputs": [],
   "source": [
    "maxt=np.max(tseries)"
   ]
  },
  {
   "cell_type": "code",
   "execution_count": 68,
   "metadata": {},
   "outputs": [],
   "source": [
    "mint=np.min(tseries)"
   ]
  },
  {
   "cell_type": "code",
   "execution_count": 69,
   "metadata": {},
   "outputs": [],
   "source": [
    "ynew = ynew * np.abs(maxt-mint) + np.min(tseries)\n",
    "ynewpd=pd.Series(ynew)"
   ]
  },
  {
   "cell_type": "code",
   "execution_count": 70,
   "metadata": {},
   "outputs": [
    {
     "data": {
      "text/plain": [
       "0     135.290186\n",
       "1     126.705491\n",
       "2     136.967315\n",
       "3     125.043687\n",
       "4     129.754353\n",
       "5     123.697777\n",
       "6     122.844838\n",
       "7     123.086751\n",
       "8     124.981143\n",
       "9     131.794585\n",
       "10    138.898408\n",
       "11    142.909221\n",
       "12    144.839923\n",
       "13    135.892708\n",
       "14    128.586952\n",
       "dtype: float64"
      ]
     },
     "execution_count": 70,
     "metadata": {},
     "output_type": "execute_result"
    }
   ],
   "source": [
    "actualpd"
   ]
  },
  {
   "cell_type": "code",
   "execution_count": 71,
   "metadata": {},
   "outputs": [
    {
     "data": {
      "text/plain": [
       "0     101.961014\n",
       "1     103.832703\n",
       "2      90.396378\n",
       "3     112.718842\n",
       "4      85.141251\n",
       "5      92.194908\n",
       "6      80.334290\n",
       "7      75.214729\n",
       "8      76.205505\n",
       "9      78.499352\n",
       "10     89.444107\n",
       "11    104.648605\n",
       "12    121.022141\n",
       "13    137.515839\n",
       "14    119.525146\n",
       "dtype: float32"
      ]
     },
     "execution_count": 71,
     "metadata": {},
     "output_type": "execute_result"
    }
   ],
   "source": [
    "ynewpd"
   ]
  },
  {
   "cell_type": "code",
   "execution_count": 72,
   "metadata": {},
   "outputs": [
    {
     "data": {
      "text/plain": [
       "0.8666666666666667"
      ]
     },
     "execution_count": 72,
     "metadata": {},
     "output_type": "execute_result"
    }
   ],
   "source": [
    "mda(actualpd, ynewpd)"
   ]
  },
  {
   "cell_type": "code",
   "execution_count": 73,
   "metadata": {},
   "outputs": [
    {
     "name": "stdout",
     "output_type": "stream",
     "text": [
      "RMSE: 37.253612\n"
     ]
    }
   ],
   "source": [
    "mse = mean_squared_error(actualpd, ynewpd)\n",
    "rmse = sqrt(mse)\n",
    "print('RMSE: %f' % rmse)"
   ]
  },
  {
   "cell_type": "code",
   "execution_count": 74,
   "metadata": {},
   "outputs": [
    {
     "data": {
      "text/plain": [
       "0    -33.329172\n",
       "1    -22.872789\n",
       "2    -46.570937\n",
       "3    -12.324845\n",
       "4    -44.613102\n",
       "5    -31.502868\n",
       "6    -42.510548\n",
       "7    -47.872021\n",
       "8    -48.775637\n",
       "9    -53.295234\n",
       "10   -49.454301\n",
       "11   -38.260616\n",
       "12   -23.817783\n",
       "13     1.623130\n",
       "14    -9.061805\n",
       "dtype: float64"
      ]
     },
     "execution_count": 74,
     "metadata": {},
     "output_type": "execute_result"
    }
   ],
   "source": [
    "forecast_error = (ynewpd-actualpd)\n",
    "forecast_error"
   ]
  },
  {
   "cell_type": "code",
   "execution_count": 75,
   "metadata": {},
   "outputs": [
    {
     "data": {
      "text/plain": [
       "-33.50923525034539"
      ]
     },
     "execution_count": 75,
     "metadata": {},
     "output_type": "execute_result"
    }
   ],
   "source": [
    "mean_forecast_error = np.mean(forecast_error)\n",
    "mean_forecast_error"
   ]
  },
  {
   "cell_type": "code",
   "execution_count": 76,
   "metadata": {},
   "outputs": [
    {
     "data": {
      "image/png": "[encoded data removed]",
      "text/plain": [
       "<Figure size 432x288 with 1 Axes>"
      ]
     },
     "metadata": {
      "needs_background": "light"
     },
     "output_type": "display_data"
    }
   ],
   "source": [
    "predictons, =plt.plot(ynewpd, label='Predictions')\n",
    "actual, =plt.plot(actualpd, label='Actual')\n",
    "plt.xlabel('Number of weeks')\n",
    "plt.ylabel('Weekly ADR')\n",
    "plt.title(\"Predicted vs. Actual Weekly ADR\")\n",
    "plt.legend(loc = 'upper center')\n",
    "plt.show()"
   ]
  },
  {
   "cell_type": "code",
   "execution_count": 77,
   "metadata": {},
   "outputs": [
    {
     "data": {
      "text/plain": [
       "131.41955578664096"
      ]
     },
     "execution_count": 77,
     "metadata": {},
     "output_type": "execute_result"
    }
   ],
   "source": [
    "np.mean(actualpd)"
   ]
  },
  {
   "cell_type": "code",
   "execution_count": null,
   "metadata": {},
   "outputs": [],
   "source": []
  }
 ],
 "metadata": {
  "kernelspec": {
   "display_name": "Python 3",
   "language": "python",
   "name": "python3"
  },
  "language_info": {
   "codemirror_mode": {
    "name": "ipython",
    "version": 3
   },
   "file_extension": ".py",
   "mimetype": "text/x-python",
   "name": "python",
   "nbconvert_exporter": "python",
   "pygments_lexer": "ipython3",
   "version": "3.6.5"
  }
 },
 "nbformat": 4,
 "nbformat_minor": 2
}
