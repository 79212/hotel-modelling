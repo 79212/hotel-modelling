{
 "cells": [
  {
   "cell_type": "markdown",
   "metadata": {},
   "source": [
    "## Python version"
   ]
  },
  {
   "cell_type": "code",
   "execution_count": 1,
   "metadata": {},
   "outputs": [
    {
     "name": "stdout",
     "output_type": "stream",
     "text": [
      "3.6.5\n"
     ]
    }
   ],
   "source": [
    "from platform import python_version\n",
    "print(python_version())"
   ]
  },
  {
   "cell_type": "markdown",
   "metadata": {},
   "source": [
    "## Import Libraries"
   ]
  },
  {
   "cell_type": "code",
   "execution_count": 2,
   "metadata": {},
   "outputs": [
    {
     "name": "stderr",
     "output_type": "stream",
     "text": [
      "/home/michael/anaconda3/lib/python3.6/site-packages/tensorflow/python/framework/dtypes.py:523: FutureWarning: Passing (type, 1) or '1type' as a synonym of type is deprecated; in a future version of numpy, it will be understood as (type, (1,)) / '(1,)type'.\n",
      "  _np_qint8 = np.dtype([(\"qint8\", np.int8, 1)])\n",
      "/home/michael/anaconda3/lib/python3.6/site-packages/tensorflow/python/framework/dtypes.py:524: FutureWarning: Passing (type, 1) or '1type' as a synonym of type is deprecated; in a future version of numpy, it will be understood as (type, (1,)) / '(1,)type'.\n",
      "  _np_quint8 = np.dtype([(\"quint8\", np.uint8, 1)])\n",
      "/home/michael/anaconda3/lib/python3.6/site-packages/tensorflow/python/framework/dtypes.py:525: FutureWarning: Passing (type, 1) or '1type' as a synonym of type is deprecated; in a future version of numpy, it will be understood as (type, (1,)) / '(1,)type'.\n",
      "  _np_qint16 = np.dtype([(\"qint16\", np.int16, 1)])\n",
      "/home/michael/anaconda3/lib/python3.6/site-packages/tensorflow/python/framework/dtypes.py:526: FutureWarning: Passing (type, 1) or '1type' as a synonym of type is deprecated; in a future version of numpy, it will be understood as (type, (1,)) / '(1,)type'.\n",
      "  _np_quint16 = np.dtype([(\"quint16\", np.uint16, 1)])\n",
      "/home/michael/anaconda3/lib/python3.6/site-packages/tensorflow/python/framework/dtypes.py:527: FutureWarning: Passing (type, 1) or '1type' as a synonym of type is deprecated; in a future version of numpy, it will be understood as (type, (1,)) / '(1,)type'.\n",
      "  _np_qint32 = np.dtype([(\"qint32\", np.int32, 1)])\n",
      "/home/michael/anaconda3/lib/python3.6/site-packages/tensorflow/python/framework/dtypes.py:532: FutureWarning: Passing (type, 1) or '1type' as a synonym of type is deprecated; in a future version of numpy, it will be understood as (type, (1,)) / '(1,)type'.\n",
      "  np_resource = np.dtype([(\"resource\", np.ubyte, 1)])\n",
      "/home/michael/anaconda3/lib/python3.6/site-packages/tensorboard/compat/tensorflow_stub/dtypes.py:541: FutureWarning: Passing (type, 1) or '1type' as a synonym of type is deprecated; in a future version of numpy, it will be understood as (type, (1,)) / '(1,)type'.\n",
      "  _np_qint8 = np.dtype([(\"qint8\", np.int8, 1)])\n",
      "/home/michael/anaconda3/lib/python3.6/site-packages/tensorboard/compat/tensorflow_stub/dtypes.py:542: FutureWarning: Passing (type, 1) or '1type' as a synonym of type is deprecated; in a future version of numpy, it will be understood as (type, (1,)) / '(1,)type'.\n",
      "  _np_quint8 = np.dtype([(\"quint8\", np.uint8, 1)])\n",
      "/home/michael/anaconda3/lib/python3.6/site-packages/tensorboard/compat/tensorflow_stub/dtypes.py:543: FutureWarning: Passing (type, 1) or '1type' as a synonym of type is deprecated; in a future version of numpy, it will be understood as (type, (1,)) / '(1,)type'.\n",
      "  _np_qint16 = np.dtype([(\"qint16\", np.int16, 1)])\n",
      "/home/michael/anaconda3/lib/python3.6/site-packages/tensorboard/compat/tensorflow_stub/dtypes.py:544: FutureWarning: Passing (type, 1) or '1type' as a synonym of type is deprecated; in a future version of numpy, it will be understood as (type, (1,)) / '(1,)type'.\n",
      "  _np_quint16 = np.dtype([(\"quint16\", np.uint16, 1)])\n",
      "/home/michael/anaconda3/lib/python3.6/site-packages/tensorboard/compat/tensorflow_stub/dtypes.py:545: FutureWarning: Passing (type, 1) or '1type' as a synonym of type is deprecated; in a future version of numpy, it will be understood as (type, (1,)) / '(1,)type'.\n",
      "  _np_qint32 = np.dtype([(\"qint32\", np.int32, 1)])\n",
      "/home/michael/anaconda3/lib/python3.6/site-packages/tensorboard/compat/tensorflow_stub/dtypes.py:550: FutureWarning: Passing (type, 1) or '1type' as a synonym of type is deprecated; in a future version of numpy, it will be understood as (type, (1,)) / '(1,)type'.\n",
      "  np_resource = np.dtype([(\"resource\", np.ubyte, 1)])\n"
     ]
    }
   ],
   "source": [
    "import tensorflow\n",
    "tensorflow.random.set_seed(1234)"
   ]
  },
  {
   "cell_type": "code",
   "execution_count": 3,
   "metadata": {},
   "outputs": [
    {
     "name": "stderr",
     "output_type": "stream",
     "text": [
      "/home/michael/anaconda3/lib/python3.6/site-packages/statsmodels/tools/_testing.py:19: FutureWarning: pandas.util.testing is deprecated. Use the functions in the public API at pandas.testing instead.\n",
      "  import pandas.util.testing as tm\n"
     ]
    }
   ],
   "source": [
    "import numpy as np\n",
    "from numpy.random import seed\n",
    "seed(1)\n",
    "\n",
    "import os\n",
    "import csv\n",
    "import random\n",
    "import statsmodels.api as sm\n",
    "import statsmodels.formula.api as smf\n",
    "import pandas as pd\n",
    "from sklearn.model_selection import train_test_split\n",
    "from sklearn.linear_model import LogisticRegression\n",
    "from sklearn.ensemble import ExtraTreesClassifier\n",
    "from sklearn.preprocessing import MinMaxScaler\n",
    "\n",
    "dtypes = {\n",
    "        'IsCanceled':                                    'float64',\n",
    "        'LeadTime':                                          'float64',\n",
    "        'StaysInWeekendNights':                                     'float64',\n",
    "        'StaysInWeekNights':                                     'float64',\n",
    "        'Adults':                            'float64',\n",
    "        'Children':                            'float64',\n",
    "        'Babies':                                  'float64',\n",
    "        'Meal':                                    'category',\n",
    "        'Country':                                               'category',\n",
    "        'MarketSegment':                                    'category',\n",
    "        'DistributionChannel':                                       'category',\n",
    "        'IsRepeatedGuest':                               'float64',\n",
    "        'PreviousCancellations':                                    'float64',\n",
    "        'PreviousBookingsNotCanceled':                          'float64',\n",
    "        'ReservedRoomType':                                             'category',\n",
    "        'AssignedRoomType':                                            'category',\n",
    "        'BookingChanges':                                                'float64',\n",
    "        'DepositType':                                              'category',\n",
    "        'Agent':                                              'category',\n",
    "        'Company':                                 'category',\n",
    "        'DaysInWaitingList':                                           'float64',\n",
    "        'CustomerType':                                           'category',\n",
    "        'ADR':                                          'float64',\n",
    "        'RequiredCarParkingSpaces':                                      'float64',\n",
    "        'TotalOfSpecialRequests':                                              'float64',\n",
    "        'ReservationStatus':                                                'category'\n",
    "        }"
   ]
  },
  {
   "cell_type": "markdown",
   "metadata": {},
   "source": [
    "## Data Import and Manipulation"
   ]
  },
  {
   "cell_type": "code",
   "execution_count": 4,
   "metadata": {},
   "outputs": [],
   "source": [
    "train_df = pd.read_csv(\"H1full.csv\", dtype=dtypes, converters={'ArrivalDateWeekNumber': '{:0>2}'.format})"
   ]
  },
  {
   "cell_type": "code",
   "execution_count": 5,
   "metadata": {},
   "outputs": [
    {
     "data": {
      "text/plain": [
       "pandas.core.frame.DataFrame"
      ]
     },
     "execution_count": 5,
     "metadata": {},
     "output_type": "execute_result"
    }
   ],
   "source": [
    "a=train_df.head()\n",
    "b=train_df\n",
    "b\n",
    "c=b.sort_values(['ArrivalDateYear','ArrivalDateWeekNumber'], ascending=True)\n",
    "c=pd.DataFrame(c)\n",
    "c\n",
    "type(c)"
   ]
  },
  {
   "cell_type": "code",
   "execution_count": 6,
   "metadata": {},
   "outputs": [
    {
     "data": {
      "text/html": [
       "<div>\n",
       "<style scoped>\n",
       "    .dataframe tbody tr th:only-of-type {\n",
       "        vertical-align: middle;\n",
       "    }\n",
       "\n",
       "    .dataframe tbody tr th {\n",
       "        vertical-align: top;\n",
       "    }\n",
       "\n",
       "    .dataframe thead th {\n",
       "        text-align: right;\n",
       "    }\n",
       "</style>\n",
       "<table border=\"1\" class=\"dataframe\">\n",
       "  <thead>\n",
       "    <tr style=\"text-align: right;\">\n",
       "      <th></th>\n",
       "      <th>ArrivalDateYear</th>\n",
       "      <th>ArrivalDateWeekNumber</th>\n",
       "    </tr>\n",
       "  </thead>\n",
       "  <tbody>\n",
       "    <tr>\n",
       "      <th>0</th>\n",
       "      <td>2015</td>\n",
       "      <td>27</td>\n",
       "    </tr>\n",
       "    <tr>\n",
       "      <th>1</th>\n",
       "      <td>2015</td>\n",
       "      <td>27</td>\n",
       "    </tr>\n",
       "    <tr>\n",
       "      <th>2</th>\n",
       "      <td>2015</td>\n",
       "      <td>27</td>\n",
       "    </tr>\n",
       "    <tr>\n",
       "      <th>3</th>\n",
       "      <td>2015</td>\n",
       "      <td>27</td>\n",
       "    </tr>\n",
       "    <tr>\n",
       "      <th>4</th>\n",
       "      <td>2015</td>\n",
       "      <td>27</td>\n",
       "    </tr>\n",
       "    <tr>\n",
       "      <th>...</th>\n",
       "      <td>...</td>\n",
       "      <td>...</td>\n",
       "    </tr>\n",
       "    <tr>\n",
       "      <th>40055</th>\n",
       "      <td>2017</td>\n",
       "      <td>35</td>\n",
       "    </tr>\n",
       "    <tr>\n",
       "      <th>40056</th>\n",
       "      <td>2017</td>\n",
       "      <td>35</td>\n",
       "    </tr>\n",
       "    <tr>\n",
       "      <th>40057</th>\n",
       "      <td>2017</td>\n",
       "      <td>35</td>\n",
       "    </tr>\n",
       "    <tr>\n",
       "      <th>40058</th>\n",
       "      <td>2017</td>\n",
       "      <td>35</td>\n",
       "    </tr>\n",
       "    <tr>\n",
       "      <th>40059</th>\n",
       "      <td>2017</td>\n",
       "      <td>35</td>\n",
       "    </tr>\n",
       "  </tbody>\n",
       "</table>\n",
       "<p>40060 rows × 2 columns</p>\n",
       "</div>"
      ],
      "text/plain": [
       "       ArrivalDateYear ArrivalDateWeekNumber\n",
       "0                 2015                    27\n",
       "1                 2015                    27\n",
       "2                 2015                    27\n",
       "3                 2015                    27\n",
       "4                 2015                    27\n",
       "...                ...                   ...\n",
       "40055             2017                    35\n",
       "40056             2017                    35\n",
       "40057             2017                    35\n",
       "40058             2017                    35\n",
       "40059             2017                    35\n",
       "\n",
       "[40060 rows x 2 columns]"
      ]
     },
     "execution_count": 6,
     "metadata": {},
     "output_type": "execute_result"
    }
   ],
   "source": [
    "from pandas import DataFrame  \n",
    "\n",
    "df = DataFrame(c, columns= ['ArrivalDateYear', 'ArrivalDateWeekNumber']) \n",
    "df"
   ]
  },
  {
   "cell_type": "code",
   "execution_count": 7,
   "metadata": {},
   "outputs": [
    {
     "name": "stdout",
     "output_type": "stream",
     "text": [
      "0        201527\n",
      "1        201527\n",
      "2        201527\n",
      "3        201527\n",
      "4        201527\n",
      "          ...  \n",
      "40055    201735\n",
      "40056    201735\n",
      "40057    201735\n",
      "40058    201735\n",
      "40059    201735\n",
      "Length: 40060, dtype: object\n"
     ]
    }
   ],
   "source": [
    "# https://datatofish.com/concatenate-values-python/\n",
    "\n",
    "df1 = df['ArrivalDateYear'].map(str) + df['ArrivalDateWeekNumber'].map(str)\n",
    "print (df1)\n",
    "df1=pd.DataFrame(df1)"
   ]
  },
  {
   "cell_type": "code",
   "execution_count": 8,
   "metadata": {
    "scrolled": true
   },
   "outputs": [
    {
     "data": {
      "text/html": [
       "<div>\n",
       "<style scoped>\n",
       "    .dataframe tbody tr th:only-of-type {\n",
       "        vertical-align: middle;\n",
       "    }\n",
       "\n",
       "    .dataframe tbody tr th {\n",
       "        vertical-align: top;\n",
       "    }\n",
       "\n",
       "    .dataframe thead th {\n",
       "        text-align: right;\n",
       "    }\n",
       "</style>\n",
       "<table border=\"1\" class=\"dataframe\">\n",
       "  <thead>\n",
       "    <tr style=\"text-align: right;\">\n",
       "      <th></th>\n",
       "      <th>IsCanceled</th>\n",
       "    </tr>\n",
       "  </thead>\n",
       "  <tbody>\n",
       "    <tr>\n",
       "      <th>0</th>\n",
       "      <td>0.0</td>\n",
       "    </tr>\n",
       "    <tr>\n",
       "      <th>1</th>\n",
       "      <td>0.0</td>\n",
       "    </tr>\n",
       "    <tr>\n",
       "      <th>2</th>\n",
       "      <td>0.0</td>\n",
       "    </tr>\n",
       "    <tr>\n",
       "      <th>3</th>\n",
       "      <td>0.0</td>\n",
       "    </tr>\n",
       "    <tr>\n",
       "      <th>4</th>\n",
       "      <td>0.0</td>\n",
       "    </tr>\n",
       "    <tr>\n",
       "      <th>...</th>\n",
       "      <td>...</td>\n",
       "    </tr>\n",
       "    <tr>\n",
       "      <th>40055</th>\n",
       "      <td>0.0</td>\n",
       "    </tr>\n",
       "    <tr>\n",
       "      <th>40056</th>\n",
       "      <td>0.0</td>\n",
       "    </tr>\n",
       "    <tr>\n",
       "      <th>40057</th>\n",
       "      <td>0.0</td>\n",
       "    </tr>\n",
       "    <tr>\n",
       "      <th>40058</th>\n",
       "      <td>0.0</td>\n",
       "    </tr>\n",
       "    <tr>\n",
       "      <th>40059</th>\n",
       "      <td>0.0</td>\n",
       "    </tr>\n",
       "  </tbody>\n",
       "</table>\n",
       "<p>40060 rows × 1 columns</p>\n",
       "</div>"
      ],
      "text/plain": [
       "       IsCanceled\n",
       "0             0.0\n",
       "1             0.0\n",
       "2             0.0\n",
       "3             0.0\n",
       "4             0.0\n",
       "...           ...\n",
       "40055         0.0\n",
       "40056         0.0\n",
       "40057         0.0\n",
       "40058         0.0\n",
       "40059         0.0\n",
       "\n",
       "[40060 rows x 1 columns]"
      ]
     },
     "execution_count": 8,
     "metadata": {},
     "output_type": "execute_result"
    }
   ],
   "source": [
    "df2 = DataFrame(c, columns= ['IsCanceled']) \n",
    "df2"
   ]
  },
  {
   "cell_type": "code",
   "execution_count": 9,
   "metadata": {},
   "outputs": [
    {
     "data": {
      "text/plain": [
       "pandas.core.frame.DataFrame"
      ]
     },
     "execution_count": 9,
     "metadata": {},
     "output_type": "execute_result"
    }
   ],
   "source": [
    "type(df1)"
   ]
  },
  {
   "cell_type": "code",
   "execution_count": 10,
   "metadata": {},
   "outputs": [],
   "source": [
    "df3=pd.concat([df1, df2], axis = 1)\n",
    "df3\n",
    "df3.columns = ['FullDate', 'IsCanceled']"
   ]
  },
  {
   "cell_type": "code",
   "execution_count": 11,
   "metadata": {},
   "outputs": [
    {
     "data": {
      "text/html": [
       "<div>\n",
       "<style scoped>\n",
       "    .dataframe tbody tr th:only-of-type {\n",
       "        vertical-align: middle;\n",
       "    }\n",
       "\n",
       "    .dataframe tbody tr th {\n",
       "        vertical-align: top;\n",
       "    }\n",
       "\n",
       "    .dataframe thead th {\n",
       "        text-align: right;\n",
       "    }\n",
       "</style>\n",
       "<table border=\"1\" class=\"dataframe\">\n",
       "  <thead>\n",
       "    <tr style=\"text-align: right;\">\n",
       "      <th></th>\n",
       "      <th>FullDate</th>\n",
       "      <th>IsCanceled</th>\n",
       "    </tr>\n",
       "  </thead>\n",
       "  <tbody>\n",
       "    <tr>\n",
       "      <th>0</th>\n",
       "      <td>201527</td>\n",
       "      <td>0.0</td>\n",
       "    </tr>\n",
       "    <tr>\n",
       "      <th>1</th>\n",
       "      <td>201527</td>\n",
       "      <td>0.0</td>\n",
       "    </tr>\n",
       "    <tr>\n",
       "      <th>2</th>\n",
       "      <td>201527</td>\n",
       "      <td>0.0</td>\n",
       "    </tr>\n",
       "    <tr>\n",
       "      <th>3</th>\n",
       "      <td>201527</td>\n",
       "      <td>0.0</td>\n",
       "    </tr>\n",
       "    <tr>\n",
       "      <th>4</th>\n",
       "      <td>201527</td>\n",
       "      <td>0.0</td>\n",
       "    </tr>\n",
       "    <tr>\n",
       "      <th>...</th>\n",
       "      <td>...</td>\n",
       "      <td>...</td>\n",
       "    </tr>\n",
       "    <tr>\n",
       "      <th>13799</th>\n",
       "      <td>201735</td>\n",
       "      <td>1.0</td>\n",
       "    </tr>\n",
       "    <tr>\n",
       "      <th>13800</th>\n",
       "      <td>201735</td>\n",
       "      <td>1.0</td>\n",
       "    </tr>\n",
       "    <tr>\n",
       "      <th>13801</th>\n",
       "      <td>201735</td>\n",
       "      <td>1.0</td>\n",
       "    </tr>\n",
       "    <tr>\n",
       "      <th>13802</th>\n",
       "      <td>201735</td>\n",
       "      <td>1.0</td>\n",
       "    </tr>\n",
       "    <tr>\n",
       "      <th>27627</th>\n",
       "      <td>201735</td>\n",
       "      <td>1.0</td>\n",
       "    </tr>\n",
       "  </tbody>\n",
       "</table>\n",
       "<p>40060 rows × 2 columns</p>\n",
       "</div>"
      ],
      "text/plain": [
       "      FullDate  IsCanceled\n",
       "0       201527         0.0\n",
       "1       201527         0.0\n",
       "2       201527         0.0\n",
       "3       201527         0.0\n",
       "4       201527         0.0\n",
       "...        ...         ...\n",
       "13799   201735         1.0\n",
       "13800   201735         1.0\n",
       "13801   201735         1.0\n",
       "13802   201735         1.0\n",
       "27627   201735         1.0\n",
       "\n",
       "[40060 rows x 2 columns]"
      ]
     },
     "execution_count": 11,
     "metadata": {},
     "output_type": "execute_result"
    }
   ],
   "source": [
    "df3\n",
    "df3.sort_values(['FullDate','IsCanceled'], ascending=True)"
   ]
  },
  {
   "cell_type": "code",
   "execution_count": 12,
   "metadata": {},
   "outputs": [
    {
     "data": {
      "text/html": [
       "<div>\n",
       "<style scoped>\n",
       "    .dataframe tbody tr th:only-of-type {\n",
       "        vertical-align: middle;\n",
       "    }\n",
       "\n",
       "    .dataframe tbody tr th {\n",
       "        vertical-align: top;\n",
       "    }\n",
       "\n",
       "    .dataframe thead th {\n",
       "        text-align: right;\n",
       "    }\n",
       "</style>\n",
       "<table border=\"1\" class=\"dataframe\">\n",
       "  <thead>\n",
       "    <tr style=\"text-align: right;\">\n",
       "      <th></th>\n",
       "      <th>IsCanceled</th>\n",
       "    </tr>\n",
       "    <tr>\n",
       "      <th>FullDate</th>\n",
       "      <th></th>\n",
       "    </tr>\n",
       "  </thead>\n",
       "  <tbody>\n",
       "    <tr>\n",
       "      <th>201527</th>\n",
       "      <td>41.0</td>\n",
       "    </tr>\n",
       "    <tr>\n",
       "      <th>201528</th>\n",
       "      <td>48.0</td>\n",
       "    </tr>\n",
       "    <tr>\n",
       "      <th>201529</th>\n",
       "      <td>87.0</td>\n",
       "    </tr>\n",
       "    <tr>\n",
       "      <th>201530</th>\n",
       "      <td>74.0</td>\n",
       "    </tr>\n",
       "    <tr>\n",
       "      <th>201531</th>\n",
       "      <td>101.0</td>\n",
       "    </tr>\n",
       "    <tr>\n",
       "      <th>...</th>\n",
       "      <td>...</td>\n",
       "    </tr>\n",
       "    <tr>\n",
       "      <th>201731</th>\n",
       "      <td>173.0</td>\n",
       "    </tr>\n",
       "    <tr>\n",
       "      <th>201732</th>\n",
       "      <td>140.0</td>\n",
       "    </tr>\n",
       "    <tr>\n",
       "      <th>201733</th>\n",
       "      <td>182.0</td>\n",
       "    </tr>\n",
       "    <tr>\n",
       "      <th>201734</th>\n",
       "      <td>143.0</td>\n",
       "    </tr>\n",
       "    <tr>\n",
       "      <th>201735</th>\n",
       "      <td>100.0</td>\n",
       "    </tr>\n",
       "  </tbody>\n",
       "</table>\n",
       "<p>115 rows × 1 columns</p>\n",
       "</div>"
      ],
      "text/plain": [
       "          IsCanceled\n",
       "FullDate            \n",
       "201527          41.0\n",
       "201528          48.0\n",
       "201529          87.0\n",
       "201530          74.0\n",
       "201531         101.0\n",
       "...              ...\n",
       "201731         173.0\n",
       "201732         140.0\n",
       "201733         182.0\n",
       "201734         143.0\n",
       "201735         100.0\n",
       "\n",
       "[115 rows x 1 columns]"
      ]
     },
     "execution_count": 12,
     "metadata": {},
     "output_type": "execute_result"
    }
   ],
   "source": [
    "df4 = df3.groupby('FullDate').agg(sum)\n",
    "df4\n",
    "df4.sort_values(['FullDate'], ascending=True)"
   ]
  },
  {
   "cell_type": "code",
   "execution_count": 13,
   "metadata": {},
   "outputs": [
    {
     "data": {
      "text/plain": [
       "FullDate\n",
       "201527     41.0\n",
       "201528     48.0\n",
       "201529     87.0\n",
       "201530     74.0\n",
       "201531    101.0\n",
       "          ...  \n",
       "201731    173.0\n",
       "201732    140.0\n",
       "201733    182.0\n",
       "201734    143.0\n",
       "201735    100.0\n",
       "Name: IsCanceled, Length: 115, dtype: float64"
      ]
     },
     "execution_count": 13,
     "metadata": {},
     "output_type": "execute_result"
    }
   ],
   "source": [
    "tseries=df4['IsCanceled']\n",
    "tseries"
   ]
  },
  {
   "cell_type": "code",
   "execution_count": 14,
   "metadata": {},
   "outputs": [
    {
     "name": "stdout",
     "output_type": "stream",
     "text": [
      "ADF Statistic: -2.914054\n",
      "p-value: 0.043738\n",
      "Critical Values:\n",
      "\t1%: -3.490\n",
      "\t5%: -2.888\n",
      "\t10%: -2.581\n"
     ]
    }
   ],
   "source": [
    "from statsmodels.tsa.stattools import adfuller\n",
    "result = adfuller(tseries)\n",
    "print('ADF Statistic: %f' % result[0])\n",
    "print('p-value: %f' % result[1])\n",
    "print('Critical Values:')\n",
    "for key, value in result[4].items():\n",
    "    print('\\t%s: %.3f' % (key, value))"
   ]
  },
  {
   "cell_type": "code",
   "execution_count": 15,
   "metadata": {},
   "outputs": [
    {
     "data": {
      "image/png": "[encoded data removed]",
      "text/plain": [
       "<Figure size 432x288 with 1 Axes>"
      ]
     },
     "metadata": {
      "needs_background": "light"
     },
     "output_type": "display_data"
    }
   ],
   "source": [
    "import matplotlib.pyplot as plt\n",
    "plt.plot(tseries)\n",
    "plt.tick_params(\n",
    "    axis='x',          # changes apply to the x-axis\n",
    "    which='both',      # both major and minor ticks are affected\n",
    "    bottom=False,      # ticks along the bottom edge are off\n",
    "    top=False,         # ticks along the top edge are off\n",
    "    labelbottom=False) # labels along the bottom edge are off\n",
    "plt.ylabel('Cancellations')\n",
    "plt.title(\"Cancellations Per Week\")\n",
    "plt.show()"
   ]
  },
  {
   "cell_type": "code",
   "execution_count": 16,
   "metadata": {},
   "outputs": [
    {
     "data": {
      "text/html": [
       "<div>\n",
       "<style scoped>\n",
       "    .dataframe tbody tr th:only-of-type {\n",
       "        vertical-align: middle;\n",
       "    }\n",
       "\n",
       "    .dataframe tbody tr th {\n",
       "        vertical-align: top;\n",
       "    }\n",
       "\n",
       "    .dataframe thead th {\n",
       "        text-align: right;\n",
       "    }\n",
       "</style>\n",
       "<table border=\"1\" class=\"dataframe\">\n",
       "  <thead>\n",
       "    <tr style=\"text-align: right;\">\n",
       "      <th></th>\n",
       "      <th>IsCanceled</th>\n",
       "    </tr>\n",
       "    <tr>\n",
       "      <th>FullDate</th>\n",
       "      <th></th>\n",
       "    </tr>\n",
       "  </thead>\n",
       "  <tbody>\n",
       "    <tr>\n",
       "      <th>201527</th>\n",
       "      <td>41.0</td>\n",
       "    </tr>\n",
       "    <tr>\n",
       "      <th>201528</th>\n",
       "      <td>48.0</td>\n",
       "    </tr>\n",
       "    <tr>\n",
       "      <th>201529</th>\n",
       "      <td>87.0</td>\n",
       "    </tr>\n",
       "    <tr>\n",
       "      <th>201530</th>\n",
       "      <td>74.0</td>\n",
       "    </tr>\n",
       "    <tr>\n",
       "      <th>201531</th>\n",
       "      <td>101.0</td>\n",
       "    </tr>\n",
       "    <tr>\n",
       "      <th>...</th>\n",
       "      <td>...</td>\n",
       "    </tr>\n",
       "    <tr>\n",
       "      <th>201731</th>\n",
       "      <td>173.0</td>\n",
       "    </tr>\n",
       "    <tr>\n",
       "      <th>201732</th>\n",
       "      <td>140.0</td>\n",
       "    </tr>\n",
       "    <tr>\n",
       "      <th>201733</th>\n",
       "      <td>182.0</td>\n",
       "    </tr>\n",
       "    <tr>\n",
       "      <th>201734</th>\n",
       "      <td>143.0</td>\n",
       "    </tr>\n",
       "    <tr>\n",
       "      <th>201735</th>\n",
       "      <td>100.0</td>\n",
       "    </tr>\n",
       "  </tbody>\n",
       "</table>\n",
       "<p>115 rows × 1 columns</p>\n",
       "</div>"
      ],
      "text/plain": [
       "          IsCanceled\n",
       "FullDate            \n",
       "201527          41.0\n",
       "201528          48.0\n",
       "201529          87.0\n",
       "201530          74.0\n",
       "201531         101.0\n",
       "...              ...\n",
       "201731         173.0\n",
       "201732         140.0\n",
       "201733         182.0\n",
       "201734         143.0\n",
       "201735         100.0\n",
       "\n",
       "[115 rows x 1 columns]"
      ]
     },
     "execution_count": 16,
     "metadata": {},
     "output_type": "execute_result"
    }
   ],
   "source": [
    "df=pd.DataFrame(tseries)\n",
    "df"
   ]
  },
  {
   "cell_type": "code",
   "execution_count": 17,
   "metadata": {},
   "outputs": [],
   "source": [
    "df = df[:100]"
   ]
  },
  {
   "cell_type": "code",
   "execution_count": 18,
   "metadata": {},
   "outputs": [
    {
     "data": {
      "text/html": [
       "<div>\n",
       "<style scoped>\n",
       "    .dataframe tbody tr th:only-of-type {\n",
       "        vertical-align: middle;\n",
       "    }\n",
       "\n",
       "    .dataframe tbody tr th {\n",
       "        vertical-align: top;\n",
       "    }\n",
       "\n",
       "    .dataframe thead th {\n",
       "        text-align: right;\n",
       "    }\n",
       "</style>\n",
       "<table border=\"1\" class=\"dataframe\">\n",
       "  <thead>\n",
       "    <tr style=\"text-align: right;\">\n",
       "      <th></th>\n",
       "      <th>IsCanceled</th>\n",
       "    </tr>\n",
       "    <tr>\n",
       "      <th>FullDate</th>\n",
       "      <th></th>\n",
       "    </tr>\n",
       "  </thead>\n",
       "  <tbody>\n",
       "    <tr>\n",
       "      <th>201527</th>\n",
       "      <td>41.0</td>\n",
       "    </tr>\n",
       "    <tr>\n",
       "      <th>201528</th>\n",
       "      <td>48.0</td>\n",
       "    </tr>\n",
       "    <tr>\n",
       "      <th>201529</th>\n",
       "      <td>87.0</td>\n",
       "    </tr>\n",
       "    <tr>\n",
       "      <th>201530</th>\n",
       "      <td>74.0</td>\n",
       "    </tr>\n",
       "    <tr>\n",
       "      <th>201531</th>\n",
       "      <td>101.0</td>\n",
       "    </tr>\n",
       "    <tr>\n",
       "      <th>...</th>\n",
       "      <td>...</td>\n",
       "    </tr>\n",
       "    <tr>\n",
       "      <th>201716</th>\n",
       "      <td>104.0</td>\n",
       "    </tr>\n",
       "    <tr>\n",
       "      <th>201717</th>\n",
       "      <td>106.0</td>\n",
       "    </tr>\n",
       "    <tr>\n",
       "      <th>201718</th>\n",
       "      <td>167.0</td>\n",
       "    </tr>\n",
       "    <tr>\n",
       "      <th>201719</th>\n",
       "      <td>106.0</td>\n",
       "    </tr>\n",
       "    <tr>\n",
       "      <th>201720</th>\n",
       "      <td>79.0</td>\n",
       "    </tr>\n",
       "  </tbody>\n",
       "</table>\n",
       "<p>100 rows × 1 columns</p>\n",
       "</div>"
      ],
      "text/plain": [
       "          IsCanceled\n",
       "FullDate            \n",
       "201527          41.0\n",
       "201528          48.0\n",
       "201529          87.0\n",
       "201530          74.0\n",
       "201531         101.0\n",
       "...              ...\n",
       "201716         104.0\n",
       "201717         106.0\n",
       "201718         167.0\n",
       "201719         106.0\n",
       "201720          79.0\n",
       "\n",
       "[100 rows x 1 columns]"
      ]
     },
     "execution_count": 18,
     "metadata": {},
     "output_type": "execute_result"
    }
   ],
   "source": [
    "df"
   ]
  },
  {
   "cell_type": "markdown",
   "metadata": {},
   "source": [
    "### Form dataset matrix"
   ]
  },
  {
   "cell_type": "code",
   "execution_count": 19,
   "metadata": {},
   "outputs": [],
   "source": [
    "def create_dataset(df, previous=1):\n",
    "    dataX, dataY = [], []\n",
    "    for i in range(len(df)-previous-1):\n",
    "        a = df[i:(i+previous), 0]\n",
    "        dataX.append(a)\n",
    "        dataY.append(df[i + previous, 0])\n",
    "    return np.array(dataX), np.array(dataY)"
   ]
  },
  {
   "cell_type": "code",
   "execution_count": 20,
   "metadata": {},
   "outputs": [
    {
     "data": {
      "text/html": [
       "<div>\n",
       "<style scoped>\n",
       "    .dataframe tbody tr th:only-of-type {\n",
       "        vertical-align: middle;\n",
       "    }\n",
       "\n",
       "    .dataframe tbody tr th {\n",
       "        vertical-align: top;\n",
       "    }\n",
       "\n",
       "    .dataframe thead th {\n",
       "        text-align: right;\n",
       "    }\n",
       "</style>\n",
       "<table border=\"1\" class=\"dataframe\">\n",
       "  <thead>\n",
       "    <tr style=\"text-align: right;\">\n",
       "      <th></th>\n",
       "      <th>IsCanceled</th>\n",
       "    </tr>\n",
       "    <tr>\n",
       "      <th>FullDate</th>\n",
       "      <th></th>\n",
       "    </tr>\n",
       "  </thead>\n",
       "  <tbody>\n",
       "    <tr>\n",
       "      <th>201527</th>\n",
       "      <td>41.0</td>\n",
       "    </tr>\n",
       "    <tr>\n",
       "      <th>201528</th>\n",
       "      <td>48.0</td>\n",
       "    </tr>\n",
       "    <tr>\n",
       "      <th>201529</th>\n",
       "      <td>87.0</td>\n",
       "    </tr>\n",
       "    <tr>\n",
       "      <th>201530</th>\n",
       "      <td>74.0</td>\n",
       "    </tr>\n",
       "    <tr>\n",
       "      <th>201531</th>\n",
       "      <td>101.0</td>\n",
       "    </tr>\n",
       "    <tr>\n",
       "      <th>...</th>\n",
       "      <td>...</td>\n",
       "    </tr>\n",
       "    <tr>\n",
       "      <th>201716</th>\n",
       "      <td>104.0</td>\n",
       "    </tr>\n",
       "    <tr>\n",
       "      <th>201717</th>\n",
       "      <td>106.0</td>\n",
       "    </tr>\n",
       "    <tr>\n",
       "      <th>201718</th>\n",
       "      <td>167.0</td>\n",
       "    </tr>\n",
       "    <tr>\n",
       "      <th>201719</th>\n",
       "      <td>106.0</td>\n",
       "    </tr>\n",
       "    <tr>\n",
       "      <th>201720</th>\n",
       "      <td>79.0</td>\n",
       "    </tr>\n",
       "  </tbody>\n",
       "</table>\n",
       "<p>100 rows × 1 columns</p>\n",
       "</div>"
      ],
      "text/plain": [
       "          IsCanceled\n",
       "FullDate            \n",
       "201527          41.0\n",
       "201528          48.0\n",
       "201529          87.0\n",
       "201530          74.0\n",
       "201531         101.0\n",
       "...              ...\n",
       "201716         104.0\n",
       "201717         106.0\n",
       "201718         167.0\n",
       "201719         106.0\n",
       "201720          79.0\n",
       "\n",
       "[100 rows x 1 columns]"
      ]
     },
     "execution_count": 20,
     "metadata": {},
     "output_type": "execute_result"
    }
   ],
   "source": [
    "df"
   ]
  },
  {
   "cell_type": "markdown",
   "metadata": {},
   "source": [
    "## Normalize dataset with MinMaxScaler"
   ]
  },
  {
   "cell_type": "code",
   "execution_count": 21,
   "metadata": {},
   "outputs": [
    {
     "data": {
      "text/plain": [
       "array([[0.12980769],\n",
       "       [0.16346154],\n",
       "       [0.35096154],\n",
       "       [0.28846154],\n",
       "       [0.41826923],\n",
       "       [0.25961538],\n",
       "       [0.39423077],\n",
       "       [0.26442308],\n",
       "       [0.35576923],\n",
       "       [0.64423077],\n",
       "       [0.29807692],\n",
       "       [0.82692308],\n",
       "       [0.52403846],\n",
       "       [0.37019231],\n",
       "       [0.88461538],\n",
       "       [0.00961538],\n",
       "       [0.38461538],\n",
       "       [0.14423077],\n",
       "       [0.14903846],\n",
       "       [0.19230769],\n",
       "       [0.23557692],\n",
       "       [0.01923077],\n",
       "       [0.54326923],\n",
       "       [0.04807692],\n",
       "       [0.11057692],\n",
       "       [0.3125    ],\n",
       "       [0.13942308],\n",
       "       [0.10096154],\n",
       "       [0.125     ],\n",
       "       [0.        ],\n",
       "       [0.        ],\n",
       "       [0.00480769],\n",
       "       [0.20673077],\n",
       "       [0.77884615],\n",
       "       [0.09134615],\n",
       "       [0.57211538],\n",
       "       [0.35576923],\n",
       "       [0.16346154],\n",
       "       [0.24519231],\n",
       "       [0.5       ],\n",
       "       [0.24519231],\n",
       "       [0.31730769],\n",
       "       [0.40384615],\n",
       "       [0.49038462],\n",
       "       [1.        ],\n",
       "       [0.3125    ],\n",
       "       [0.62019231],\n",
       "       [0.61057692],\n",
       "       [0.32692308],\n",
       "       [0.40865385],\n",
       "       [0.30288462],\n",
       "       [0.46153846],\n",
       "       [0.29326923],\n",
       "       [0.31730769],\n",
       "       [0.29326923],\n",
       "       [0.50480769],\n",
       "       [0.50961538],\n",
       "       [0.40384615],\n",
       "       [0.52884615],\n",
       "       [0.64903846],\n",
       "       [0.62980769],\n",
       "       [0.5       ],\n",
       "       [0.44230769],\n",
       "       [0.51442308],\n",
       "       [0.25480769],\n",
       "       [0.55288462],\n",
       "       [0.47115385],\n",
       "       [0.5       ],\n",
       "       [0.34134615],\n",
       "       [0.80769231],\n",
       "       [0.57692308],\n",
       "       [0.46634615],\n",
       "       [0.26923077],\n",
       "       [0.12019231],\n",
       "       [0.21634615],\n",
       "       [0.28846154],\n",
       "       [0.20673077],\n",
       "       [0.10576923],\n",
       "       [0.33653846],\n",
       "       [0.38942308],\n",
       "       [0.19230769],\n",
       "       [0.13461538],\n",
       "       [0.13942308],\n",
       "       [0.17788462],\n",
       "       [0.17788462],\n",
       "       [0.37019231],\n",
       "       [0.39423077],\n",
       "       [0.54807692],\n",
       "       [0.30288462],\n",
       "       [0.53846154],\n",
       "       [0.33173077],\n",
       "       [0.16826923],\n",
       "       [0.4375    ],\n",
       "       [0.45673077],\n",
       "       [0.79326923],\n",
       "       [0.43269231],\n",
       "       [0.44230769],\n",
       "       [0.73557692],\n",
       "       [0.44230769],\n",
       "       [0.3125    ]])"
      ]
     },
     "execution_count": 21,
     "metadata": {},
     "output_type": "execute_result"
    }
   ],
   "source": [
    "scaler = MinMaxScaler(feature_range=(0, 1))\n",
    "df = scaler.fit_transform(df)\n",
    "df"
   ]
  },
  {
   "cell_type": "code",
   "execution_count": 22,
   "metadata": {},
   "outputs": [],
   "source": [
    "import tensorflow as tf\n",
    "from tensorflow.keras import layers\n",
    "from tensorflow.keras.layers import Dense\n",
    "from tensorflow.keras.layers import LSTM\n",
    "\n",
    "# Training and Validation data partition\n",
    "train_size = int(len(df) * 0.8)\n",
    "val_size = len(df) - train_size\n",
    "train, val = df[0:train_size,:], df[train_size:len(df),:]\n",
    "\n",
    "# Number of previous\n",
    "previous = 5\n",
    "X_train, Y_train = create_dataset(train, previous)\n",
    "X_val, Y_val = create_dataset(val, previous)"
   ]
  },
  {
   "cell_type": "code",
   "execution_count": 23,
   "metadata": {},
   "outputs": [
    {
     "data": {
      "text/plain": [
       "array([[0.12980769, 0.16346154, 0.35096154, 0.28846154, 0.41826923],\n",
       "       [0.16346154, 0.35096154, 0.28846154, 0.41826923, 0.25961538],\n",
       "       [0.35096154, 0.28846154, 0.41826923, 0.25961538, 0.39423077],\n",
       "       [0.28846154, 0.41826923, 0.25961538, 0.39423077, 0.26442308],\n",
       "       [0.41826923, 0.25961538, 0.39423077, 0.26442308, 0.35576923],\n",
       "       [0.25961538, 0.39423077, 0.26442308, 0.35576923, 0.64423077],\n",
       "       [0.39423077, 0.26442308, 0.35576923, 0.64423077, 0.29807692],\n",
       "       [0.26442308, 0.35576923, 0.64423077, 0.29807692, 0.82692308],\n",
       "       [0.35576923, 0.64423077, 0.29807692, 0.82692308, 0.52403846],\n",
       "       [0.64423077, 0.29807692, 0.82692308, 0.52403846, 0.37019231],\n",
       "       [0.29807692, 0.82692308, 0.52403846, 0.37019231, 0.88461538],\n",
       "       [0.82692308, 0.52403846, 0.37019231, 0.88461538, 0.00961538],\n",
       "       [0.52403846, 0.37019231, 0.88461538, 0.00961538, 0.38461538],\n",
       "       [0.37019231, 0.88461538, 0.00961538, 0.38461538, 0.14423077],\n",
       "       [0.88461538, 0.00961538, 0.38461538, 0.14423077, 0.14903846],\n",
       "       [0.00961538, 0.38461538, 0.14423077, 0.14903846, 0.19230769],\n",
       "       [0.38461538, 0.14423077, 0.14903846, 0.19230769, 0.23557692],\n",
       "       [0.14423077, 0.14903846, 0.19230769, 0.23557692, 0.01923077],\n",
       "       [0.14903846, 0.19230769, 0.23557692, 0.01923077, 0.54326923],\n",
       "       [0.19230769, 0.23557692, 0.01923077, 0.54326923, 0.04807692],\n",
       "       [0.23557692, 0.01923077, 0.54326923, 0.04807692, 0.11057692],\n",
       "       [0.01923077, 0.54326923, 0.04807692, 0.11057692, 0.3125    ],\n",
       "       [0.54326923, 0.04807692, 0.11057692, 0.3125    , 0.13942308],\n",
       "       [0.04807692, 0.11057692, 0.3125    , 0.13942308, 0.10096154],\n",
       "       [0.11057692, 0.3125    , 0.13942308, 0.10096154, 0.125     ],\n",
       "       [0.3125    , 0.13942308, 0.10096154, 0.125     , 0.        ],\n",
       "       [0.13942308, 0.10096154, 0.125     , 0.        , 0.        ],\n",
       "       [0.10096154, 0.125     , 0.        , 0.        , 0.00480769],\n",
       "       [0.125     , 0.        , 0.        , 0.00480769, 0.20673077],\n",
       "       [0.        , 0.        , 0.00480769, 0.20673077, 0.77884615],\n",
       "       [0.        , 0.00480769, 0.20673077, 0.77884615, 0.09134615],\n",
       "       [0.00480769, 0.20673077, 0.77884615, 0.09134615, 0.57211538],\n",
       "       [0.20673077, 0.77884615, 0.09134615, 0.57211538, 0.35576923],\n",
       "       [0.77884615, 0.09134615, 0.57211538, 0.35576923, 0.16346154],\n",
       "       [0.09134615, 0.57211538, 0.35576923, 0.16346154, 0.24519231],\n",
       "       [0.57211538, 0.35576923, 0.16346154, 0.24519231, 0.5       ],\n",
       "       [0.35576923, 0.16346154, 0.24519231, 0.5       , 0.24519231],\n",
       "       [0.16346154, 0.24519231, 0.5       , 0.24519231, 0.31730769],\n",
       "       [0.24519231, 0.5       , 0.24519231, 0.31730769, 0.40384615],\n",
       "       [0.5       , 0.24519231, 0.31730769, 0.40384615, 0.49038462],\n",
       "       [0.24519231, 0.31730769, 0.40384615, 0.49038462, 1.        ],\n",
       "       [0.31730769, 0.40384615, 0.49038462, 1.        , 0.3125    ],\n",
       "       [0.40384615, 0.49038462, 1.        , 0.3125    , 0.62019231],\n",
       "       [0.49038462, 1.        , 0.3125    , 0.62019231, 0.61057692],\n",
       "       [1.        , 0.3125    , 0.62019231, 0.61057692, 0.32692308],\n",
       "       [0.3125    , 0.62019231, 0.61057692, 0.32692308, 0.40865385],\n",
       "       [0.62019231, 0.61057692, 0.32692308, 0.40865385, 0.30288462],\n",
       "       [0.61057692, 0.32692308, 0.40865385, 0.30288462, 0.46153846],\n",
       "       [0.32692308, 0.40865385, 0.30288462, 0.46153846, 0.29326923],\n",
       "       [0.40865385, 0.30288462, 0.46153846, 0.29326923, 0.31730769],\n",
       "       [0.30288462, 0.46153846, 0.29326923, 0.31730769, 0.29326923],\n",
       "       [0.46153846, 0.29326923, 0.31730769, 0.29326923, 0.50480769],\n",
       "       [0.29326923, 0.31730769, 0.29326923, 0.50480769, 0.50961538],\n",
       "       [0.31730769, 0.29326923, 0.50480769, 0.50961538, 0.40384615],\n",
       "       [0.29326923, 0.50480769, 0.50961538, 0.40384615, 0.52884615],\n",
       "       [0.50480769, 0.50961538, 0.40384615, 0.52884615, 0.64903846],\n",
       "       [0.50961538, 0.40384615, 0.52884615, 0.64903846, 0.62980769],\n",
       "       [0.40384615, 0.52884615, 0.64903846, 0.62980769, 0.5       ],\n",
       "       [0.52884615, 0.64903846, 0.62980769, 0.5       , 0.44230769],\n",
       "       [0.64903846, 0.62980769, 0.5       , 0.44230769, 0.51442308],\n",
       "       [0.62980769, 0.5       , 0.44230769, 0.51442308, 0.25480769],\n",
       "       [0.5       , 0.44230769, 0.51442308, 0.25480769, 0.55288462],\n",
       "       [0.44230769, 0.51442308, 0.25480769, 0.55288462, 0.47115385],\n",
       "       [0.51442308, 0.25480769, 0.55288462, 0.47115385, 0.5       ],\n",
       "       [0.25480769, 0.55288462, 0.47115385, 0.5       , 0.34134615],\n",
       "       [0.55288462, 0.47115385, 0.5       , 0.34134615, 0.80769231],\n",
       "       [0.47115385, 0.5       , 0.34134615, 0.80769231, 0.57692308],\n",
       "       [0.5       , 0.34134615, 0.80769231, 0.57692308, 0.46634615],\n",
       "       [0.34134615, 0.80769231, 0.57692308, 0.46634615, 0.26923077],\n",
       "       [0.80769231, 0.57692308, 0.46634615, 0.26923077, 0.12019231],\n",
       "       [0.57692308, 0.46634615, 0.26923077, 0.12019231, 0.21634615],\n",
       "       [0.46634615, 0.26923077, 0.12019231, 0.21634615, 0.28846154],\n",
       "       [0.26923077, 0.12019231, 0.21634615, 0.28846154, 0.20673077],\n",
       "       [0.12019231, 0.21634615, 0.28846154, 0.20673077, 0.10576923]])"
      ]
     },
     "execution_count": 23,
     "metadata": {},
     "output_type": "execute_result"
    }
   ],
   "source": [
    "X_train"
   ]
  },
  {
   "cell_type": "code",
   "execution_count": 24,
   "metadata": {},
   "outputs": [
    {
     "data": {
      "text/plain": [
       "array([0.25961538, 0.39423077, 0.26442308, 0.35576923, 0.64423077,\n",
       "       0.29807692, 0.82692308, 0.52403846, 0.37019231, 0.88461538,\n",
       "       0.00961538, 0.38461538, 0.14423077, 0.14903846, 0.19230769,\n",
       "       0.23557692, 0.01923077, 0.54326923, 0.04807692, 0.11057692,\n",
       "       0.3125    , 0.13942308, 0.10096154, 0.125     , 0.        ,\n",
       "       0.        , 0.00480769, 0.20673077, 0.77884615, 0.09134615,\n",
       "       0.57211538, 0.35576923, 0.16346154, 0.24519231, 0.5       ,\n",
       "       0.24519231, 0.31730769, 0.40384615, 0.49038462, 1.        ,\n",
       "       0.3125    , 0.62019231, 0.61057692, 0.32692308, 0.40865385,\n",
       "       0.30288462, 0.46153846, 0.29326923, 0.31730769, 0.29326923,\n",
       "       0.50480769, 0.50961538, 0.40384615, 0.52884615, 0.64903846,\n",
       "       0.62980769, 0.5       , 0.44230769, 0.51442308, 0.25480769,\n",
       "       0.55288462, 0.47115385, 0.5       , 0.34134615, 0.80769231,\n",
       "       0.57692308, 0.46634615, 0.26923077, 0.12019231, 0.21634615,\n",
       "       0.28846154, 0.20673077, 0.10576923, 0.33653846])"
      ]
     },
     "execution_count": 24,
     "metadata": {},
     "output_type": "execute_result"
    }
   ],
   "source": [
    "Y_train"
   ]
  },
  {
   "cell_type": "markdown",
   "metadata": {},
   "source": [
    "## Configure LSTM model"
   ]
  },
  {
   "cell_type": "code",
   "execution_count": 25,
   "metadata": {},
   "outputs": [
    {
     "name": "stdout",
     "output_type": "stream",
     "text": [
      "Train on 59 samples, validate on 15 samples\n",
      "Epoch 1/20\n",
      "59/59 - 0s - loss: 0.0865 - val_loss: 0.0408\n",
      "Epoch 2/20\n",
      "59/59 - 0s - loss: 0.0583 - val_loss: 0.0328\n",
      "Epoch 3/20\n",
      "59/59 - 0s - loss: 0.0516 - val_loss: 0.0332\n",
      "Epoch 4/20\n",
      "59/59 - 0s - loss: 0.0503 - val_loss: 0.0348\n",
      "Epoch 5/20\n",
      "59/59 - 0s - loss: 0.0497 - val_loss: 0.0341\n",
      "Epoch 6/20\n",
      "59/59 - 0s - loss: 0.0488 - val_loss: 0.0345\n",
      "Epoch 7/20\n",
      "59/59 - 0s - loss: 0.0488 - val_loss: 0.0334\n",
      "Epoch 8/20\n",
      "59/59 - 0s - loss: 0.0481 - val_loss: 0.0340\n",
      "Epoch 9/20\n",
      "59/59 - 0s - loss: 0.0476 - val_loss: 0.0347\n",
      "Epoch 10/20\n",
      "59/59 - 0s - loss: 0.0476 - val_loss: 0.0333\n",
      "Epoch 11/20\n",
      "59/59 - 0s - loss: 0.0468 - val_loss: 0.0341\n",
      "Epoch 12/20\n",
      "59/59 - 0s - loss: 0.0463 - val_loss: 0.0341\n",
      "Epoch 13/20\n",
      "59/59 - 0s - loss: 0.0461 - val_loss: 0.0336\n",
      "Epoch 14/20\n",
      "59/59 - 0s - loss: 0.0462 - val_loss: 0.0341\n",
      "Epoch 15/20\n",
      "59/59 - 0s - loss: 0.0455 - val_loss: 0.0346\n",
      "Epoch 16/20\n",
      "59/59 - 0s - loss: 0.0453 - val_loss: 0.0336\n",
      "Epoch 17/20\n",
      "59/59 - 0s - loss: 0.0449 - val_loss: 0.0333\n",
      "Epoch 18/20\n",
      "59/59 - 0s - loss: 0.0445 - val_loss: 0.0329\n",
      "Epoch 19/20\n",
      "59/59 - 0s - loss: 0.0447 - val_loss: 0.0338\n",
      "Epoch 20/20\n",
      "59/59 - 0s - loss: 0.0442 - val_loss: 0.0329\n",
      "dict_keys(['loss', 'val_loss'])\n"
     ]
    },
    {
     "data": {
      "image/png": "[encoded data removed]",
      "text/plain": [
       "<Figure size 432x288 with 1 Axes>"
      ]
     },
     "metadata": {
      "needs_background": "light"
     },
     "output_type": "display_data"
    }
   ],
   "source": [
    "# reshape input to be [samples, time steps, features]\n",
    "X_train = np.reshape(X_train, (X_train.shape[0], 1, X_train.shape[1]))\n",
    "X_val = np.reshape(X_val, (X_val.shape[0], 1, X_val.shape[1]))\n",
    "\n",
    "# Generate LSTM network\n",
    "model = tf.keras.Sequential()\n",
    "model.add(LSTM(4, input_shape=(1, previous)))\n",
    "model.add(Dense(1))\n",
    "model.compile(loss='mean_squared_error', optimizer='adam')\n",
    "history=model.fit(X_train, Y_train, validation_split=0.2, epochs=20, batch_size=1, verbose=2)\n",
    "\n",
    "\n",
    "# list all data in history\n",
    "print(history.history.keys())\n",
    "# summarize history for accuracy\n",
    "plt.plot(history.history['loss'])\n",
    "plt.plot(history.history['val_loss'])\n",
    "plt.title('model loss')\n",
    "plt.ylabel('loss')\n",
    "plt.xlabel('epoch')\n",
    "plt.legend(['train', 'val'], loc='upper left')\n",
    "plt.show()"
   ]
  },
  {
   "cell_type": "code",
   "execution_count": 26,
   "metadata": {},
   "outputs": [],
   "source": [
    "# Generate predictions\n",
    "trainpred = model.predict(X_train)\n",
    "valpred = model.predict(X_val)"
   ]
  },
  {
   "cell_type": "code",
   "execution_count": 27,
   "metadata": {},
   "outputs": [
    {
     "data": {
      "text/plain": [
       "array([[0.32294273],\n",
       "       [0.3152437 ],\n",
       "       [0.36545992],\n",
       "       [0.3326584 ],\n",
       "       [0.3620052 ],\n",
       "       [0.38693362],\n",
       "       [0.37788212],\n",
       "       [0.46713972],\n",
       "       [0.4424357 ],\n",
       "       [0.49127346],\n",
       "       [0.48090816],\n",
       "       [0.43876916],\n",
       "       [0.43954062],\n",
       "       [0.31902862],\n",
       "       [0.3493785 ],\n",
       "       [0.24128824],\n",
       "       [0.2832129 ],\n",
       "       [0.21795446],\n",
       "       [0.31264663],\n",
       "       [0.24443698],\n",
       "       [0.26695788],\n",
       "       [0.26147422],\n",
       "       [0.2822208 ],\n",
       "       [0.22418419],\n",
       "       [0.23111516],\n",
       "       [0.21535084],\n",
       "       [0.18052924],\n",
       "       [0.16424675],\n",
       "       [0.19656092],\n",
       "       [0.3016116 ],\n",
       "       [0.24482983],\n",
       "       [0.3826697 ],\n",
       "       [0.35357338],\n",
       "       [0.3974944 ],\n",
       "       [0.30484653],\n",
       "       [0.37260824],\n",
       "       [0.3243814 ],\n",
       "       [0.3319258 ],\n",
       "       [0.3477567 ],\n",
       "       [0.39409277],\n",
       "       [0.46235335],\n",
       "       [0.43453774],\n",
       "       [0.517546  ],\n",
       "       [0.46616203],\n",
       "       [0.5039285 ],\n",
       "       [0.4194802 ],\n",
       "       [0.40649408],\n",
       "       [0.4141576 ],\n",
       "       [0.35476792],\n",
       "       [0.37000325],\n",
       "       [0.34067273],\n",
       "       [0.3855813 ],\n",
       "       [0.38200602],\n",
       "       [0.39872187],\n",
       "       [0.421988  ],\n",
       "       [0.45918396],\n",
       "       [0.48292035],\n",
       "       [0.47650594],\n",
       "       [0.4751682 ],\n",
       "       [0.4716648 ],\n",
       "       [0.42198998],\n",
       "       [0.43486178],\n",
       "       [0.4060778 ],\n",
       "       [0.4425615 ],\n",
       "       [0.3919636 ],\n",
       "       [0.4815825 ],\n",
       "       [0.45980328],\n",
       "       [0.49256143],\n",
       "       [0.41981763],\n",
       "       [0.40593705],\n",
       "       [0.34024388],\n",
       "       [0.31116793],\n",
       "       [0.2784281 ],\n",
       "       [0.24806169]], dtype=float32)"
      ]
     },
     "execution_count": 27,
     "metadata": {},
     "output_type": "execute_result"
    }
   ],
   "source": [
    "trainpred"
   ]
  },
  {
   "cell_type": "code",
   "execution_count": 28,
   "metadata": {},
   "outputs": [
    {
     "data": {
      "text/plain": [
       "array([[0.24374226],\n",
       "       [0.2790607 ],\n",
       "       [0.30287346],\n",
       "       [0.36577493],\n",
       "       [0.3535372 ],\n",
       "       [0.42361283],\n",
       "       [0.387533  ],\n",
       "       [0.37703428],\n",
       "       [0.36223525],\n",
       "       [0.37849504],\n",
       "       [0.43911937],\n",
       "       [0.41147274],\n",
       "       [0.47115234],\n",
       "       [0.4726988 ]], dtype=float32)"
      ]
     },
     "execution_count": 28,
     "metadata": {},
     "output_type": "execute_result"
    }
   ],
   "source": [
    "valpred"
   ]
  },
  {
   "cell_type": "code",
   "execution_count": 29,
   "metadata": {},
   "outputs": [],
   "source": [
    "# Convert predictions back to normal values\n",
    "trainpred = scaler.inverse_transform(trainpred)\n",
    "Y_train = scaler.inverse_transform([Y_train])\n",
    "valpred = scaler.inverse_transform(valpred)\n",
    "Y_val = scaler.inverse_transform([Y_val])\n",
    "predictions = valpred"
   ]
  },
  {
   "cell_type": "code",
   "execution_count": 30,
   "metadata": {},
   "outputs": [
    {
     "data": {
      "text/plain": [
       "(1, 74)"
      ]
     },
     "execution_count": 30,
     "metadata": {},
     "output_type": "execute_result"
    }
   ],
   "source": [
    "Y_train.shape"
   ]
  },
  {
   "cell_type": "code",
   "execution_count": 31,
   "metadata": {},
   "outputs": [
    {
     "data": {
      "text/plain": [
       "(1, 14)"
      ]
     },
     "execution_count": 31,
     "metadata": {},
     "output_type": "execute_result"
    }
   ],
   "source": [
    "Y_val.shape"
   ]
  },
  {
   "cell_type": "code",
   "execution_count": 32,
   "metadata": {},
   "outputs": [
    {
     "data": {
      "text/plain": [
       "(74, 1, 5)"
      ]
     },
     "execution_count": 32,
     "metadata": {},
     "output_type": "execute_result"
    }
   ],
   "source": [
    "X_train.shape"
   ]
  },
  {
   "cell_type": "code",
   "execution_count": 33,
   "metadata": {},
   "outputs": [
    {
     "data": {
      "text/plain": [
       "(14, 1, 5)"
      ]
     },
     "execution_count": 33,
     "metadata": {},
     "output_type": "execute_result"
    }
   ],
   "source": [
    "X_val.shape"
   ]
  },
  {
   "cell_type": "code",
   "execution_count": 34,
   "metadata": {},
   "outputs": [
    {
     "data": {
      "text/plain": [
       "array([[ 68.,  96.,  69.,  88., 148.,  76., 186., 123.,  91., 198.,  16.,\n",
       "         94.,  44.,  45.,  54.,  63.,  18., 127.,  24.,  37.,  79.,  43.,\n",
       "         35.,  40.,  14.,  14.,  15.,  57., 176.,  33., 133.,  88.,  48.,\n",
       "         65., 118.,  65.,  80.,  98., 116., 222.,  79., 143., 141.,  82.,\n",
       "         99.,  77., 110.,  75.,  80.,  75., 119., 120.,  98., 124., 149.,\n",
       "        145., 118., 106., 121.,  67., 129., 112., 118.,  85., 182., 134.,\n",
       "        111.,  70.,  39.,  59.,  74.,  57.,  36.,  84.]])"
      ]
     },
     "execution_count": 34,
     "metadata": {},
     "output_type": "execute_result"
    }
   ],
   "source": [
    "Y_train"
   ]
  },
  {
   "cell_type": "code",
   "execution_count": 35,
   "metadata": {},
   "outputs": [
    {
     "data": {
      "text/plain": [
       "array([[ 91.,  96., 128.,  77., 126.,  83.,  49., 105., 109., 179., 104.,\n",
       "        106., 167., 106.]])"
      ]
     },
     "execution_count": 35,
     "metadata": {},
     "output_type": "execute_result"
    }
   ],
   "source": [
    "Y_val"
   ]
  },
  {
   "cell_type": "code",
   "execution_count": 36,
   "metadata": {},
   "outputs": [
    {
     "data": {
      "text/plain": [
       "array([[[0.12980769, 0.16346154, 0.35096154, 0.28846154, 0.41826923]],\n",
       "\n",
       "       [[0.16346154, 0.35096154, 0.28846154, 0.41826923, 0.25961538]],\n",
       "\n",
       "       [[0.35096154, 0.28846154, 0.41826923, 0.25961538, 0.39423077]],\n",
       "\n",
       "       [[0.28846154, 0.41826923, 0.25961538, 0.39423077, 0.26442308]],\n",
       "\n",
       "       [[0.41826923, 0.25961538, 0.39423077, 0.26442308, 0.35576923]],\n",
       "\n",
       "       [[0.25961538, 0.39423077, 0.26442308, 0.35576923, 0.64423077]],\n",
       "\n",
       "       [[0.39423077, 0.26442308, 0.35576923, 0.64423077, 0.29807692]],\n",
       "\n",
       "       [[0.26442308, 0.35576923, 0.64423077, 0.29807692, 0.82692308]],\n",
       "\n",
       "       [[0.35576923, 0.64423077, 0.29807692, 0.82692308, 0.52403846]],\n",
       "\n",
       "       [[0.64423077, 0.29807692, 0.82692308, 0.52403846, 0.37019231]],\n",
       "\n",
       "       [[0.29807692, 0.82692308, 0.52403846, 0.37019231, 0.88461538]],\n",
       "\n",
       "       [[0.82692308, 0.52403846, 0.37019231, 0.88461538, 0.00961538]],\n",
       "\n",
       "       [[0.52403846, 0.37019231, 0.88461538, 0.00961538, 0.38461538]],\n",
       "\n",
       "       [[0.37019231, 0.88461538, 0.00961538, 0.38461538, 0.14423077]],\n",
       "\n",
       "       [[0.88461538, 0.00961538, 0.38461538, 0.14423077, 0.14903846]],\n",
       "\n",
       "       [[0.00961538, 0.38461538, 0.14423077, 0.14903846, 0.19230769]],\n",
       "\n",
       "       [[0.38461538, 0.14423077, 0.14903846, 0.19230769, 0.23557692]],\n",
       "\n",
       "       [[0.14423077, 0.14903846, 0.19230769, 0.23557692, 0.01923077]],\n",
       "\n",
       "       [[0.14903846, 0.19230769, 0.23557692, 0.01923077, 0.54326923]],\n",
       "\n",
       "       [[0.19230769, 0.23557692, 0.01923077, 0.54326923, 0.04807692]],\n",
       "\n",
       "       [[0.23557692, 0.01923077, 0.54326923, 0.04807692, 0.11057692]],\n",
       "\n",
       "       [[0.01923077, 0.54326923, 0.04807692, 0.11057692, 0.3125    ]],\n",
       "\n",
       "       [[0.54326923, 0.04807692, 0.11057692, 0.3125    , 0.13942308]],\n",
       "\n",
       "       [[0.04807692, 0.11057692, 0.3125    , 0.13942308, 0.10096154]],\n",
       "\n",
       "       [[0.11057692, 0.3125    , 0.13942308, 0.10096154, 0.125     ]],\n",
       "\n",
       "       [[0.3125    , 0.13942308, 0.10096154, 0.125     , 0.        ]],\n",
       "\n",
       "       [[0.13942308, 0.10096154, 0.125     , 0.        , 0.        ]],\n",
       "\n",
       "       [[0.10096154, 0.125     , 0.        , 0.        , 0.00480769]],\n",
       "\n",
       "       [[0.125     , 0.        , 0.        , 0.00480769, 0.20673077]],\n",
       "\n",
       "       [[0.        , 0.        , 0.00480769, 0.20673077, 0.77884615]],\n",
       "\n",
       "       [[0.        , 0.00480769, 0.20673077, 0.77884615, 0.09134615]],\n",
       "\n",
       "       [[0.00480769, 0.20673077, 0.77884615, 0.09134615, 0.57211538]],\n",
       "\n",
       "       [[0.20673077, 0.77884615, 0.09134615, 0.57211538, 0.35576923]],\n",
       "\n",
       "       [[0.77884615, 0.09134615, 0.57211538, 0.35576923, 0.16346154]],\n",
       "\n",
       "       [[0.09134615, 0.57211538, 0.35576923, 0.16346154, 0.24519231]],\n",
       "\n",
       "       [[0.57211538, 0.35576923, 0.16346154, 0.24519231, 0.5       ]],\n",
       "\n",
       "       [[0.35576923, 0.16346154, 0.24519231, 0.5       , 0.24519231]],\n",
       "\n",
       "       [[0.16346154, 0.24519231, 0.5       , 0.24519231, 0.31730769]],\n",
       "\n",
       "       [[0.24519231, 0.5       , 0.24519231, 0.31730769, 0.40384615]],\n",
       "\n",
       "       [[0.5       , 0.24519231, 0.31730769, 0.40384615, 0.49038462]],\n",
       "\n",
       "       [[0.24519231, 0.31730769, 0.40384615, 0.49038462, 1.        ]],\n",
       "\n",
       "       [[0.31730769, 0.40384615, 0.49038462, 1.        , 0.3125    ]],\n",
       "\n",
       "       [[0.40384615, 0.49038462, 1.        , 0.3125    , 0.62019231]],\n",
       "\n",
       "       [[0.49038462, 1.        , 0.3125    , 0.62019231, 0.61057692]],\n",
       "\n",
       "       [[1.        , 0.3125    , 0.62019231, 0.61057692, 0.32692308]],\n",
       "\n",
       "       [[0.3125    , 0.62019231, 0.61057692, 0.32692308, 0.40865385]],\n",
       "\n",
       "       [[0.62019231, 0.61057692, 0.32692308, 0.40865385, 0.30288462]],\n",
       "\n",
       "       [[0.61057692, 0.32692308, 0.40865385, 0.30288462, 0.46153846]],\n",
       "\n",
       "       [[0.32692308, 0.40865385, 0.30288462, 0.46153846, 0.29326923]],\n",
       "\n",
       "       [[0.40865385, 0.30288462, 0.46153846, 0.29326923, 0.31730769]],\n",
       "\n",
       "       [[0.30288462, 0.46153846, 0.29326923, 0.31730769, 0.29326923]],\n",
       "\n",
       "       [[0.46153846, 0.29326923, 0.31730769, 0.29326923, 0.50480769]],\n",
       "\n",
       "       [[0.29326923, 0.31730769, 0.29326923, 0.50480769, 0.50961538]],\n",
       "\n",
       "       [[0.31730769, 0.29326923, 0.50480769, 0.50961538, 0.40384615]],\n",
       "\n",
       "       [[0.29326923, 0.50480769, 0.50961538, 0.40384615, 0.52884615]],\n",
       "\n",
       "       [[0.50480769, 0.50961538, 0.40384615, 0.52884615, 0.64903846]],\n",
       "\n",
       "       [[0.50961538, 0.40384615, 0.52884615, 0.64903846, 0.62980769]],\n",
       "\n",
       "       [[0.40384615, 0.52884615, 0.64903846, 0.62980769, 0.5       ]],\n",
       "\n",
       "       [[0.52884615, 0.64903846, 0.62980769, 0.5       , 0.44230769]],\n",
       "\n",
       "       [[0.64903846, 0.62980769, 0.5       , 0.44230769, 0.51442308]],\n",
       "\n",
       "       [[0.62980769, 0.5       , 0.44230769, 0.51442308, 0.25480769]],\n",
       "\n",
       "       [[0.5       , 0.44230769, 0.51442308, 0.25480769, 0.55288462]],\n",
       "\n",
       "       [[0.44230769, 0.51442308, 0.25480769, 0.55288462, 0.47115385]],\n",
       "\n",
       "       [[0.51442308, 0.25480769, 0.55288462, 0.47115385, 0.5       ]],\n",
       "\n",
       "       [[0.25480769, 0.55288462, 0.47115385, 0.5       , 0.34134615]],\n",
       "\n",
       "       [[0.55288462, 0.47115385, 0.5       , 0.34134615, 0.80769231]],\n",
       "\n",
       "       [[0.47115385, 0.5       , 0.34134615, 0.80769231, 0.57692308]],\n",
       "\n",
       "       [[0.5       , 0.34134615, 0.80769231, 0.57692308, 0.46634615]],\n",
       "\n",
       "       [[0.34134615, 0.80769231, 0.57692308, 0.46634615, 0.26923077]],\n",
       "\n",
       "       [[0.80769231, 0.57692308, 0.46634615, 0.26923077, 0.12019231]],\n",
       "\n",
       "       [[0.57692308, 0.46634615, 0.26923077, 0.12019231, 0.21634615]],\n",
       "\n",
       "       [[0.46634615, 0.26923077, 0.12019231, 0.21634615, 0.28846154]],\n",
       "\n",
       "       [[0.26923077, 0.12019231, 0.21634615, 0.28846154, 0.20673077]],\n",
       "\n",
       "       [[0.12019231, 0.21634615, 0.28846154, 0.20673077, 0.10576923]]])"
      ]
     },
     "execution_count": 36,
     "metadata": {},
     "output_type": "execute_result"
    }
   ],
   "source": [
    "X_train"
   ]
  },
  {
   "cell_type": "code",
   "execution_count": 37,
   "metadata": {},
   "outputs": [
    {
     "data": {
      "text/plain": [
       "array([[[0.19230769, 0.13461538, 0.13942308, 0.17788462, 0.17788462]],\n",
       "\n",
       "       [[0.13461538, 0.13942308, 0.17788462, 0.17788462, 0.37019231]],\n",
       "\n",
       "       [[0.13942308, 0.17788462, 0.17788462, 0.37019231, 0.39423077]],\n",
       "\n",
       "       [[0.17788462, 0.17788462, 0.37019231, 0.39423077, 0.54807692]],\n",
       "\n",
       "       [[0.17788462, 0.37019231, 0.39423077, 0.54807692, 0.30288462]],\n",
       "\n",
       "       [[0.37019231, 0.39423077, 0.54807692, 0.30288462, 0.53846154]],\n",
       "\n",
       "       [[0.39423077, 0.54807692, 0.30288462, 0.53846154, 0.33173077]],\n",
       "\n",
       "       [[0.54807692, 0.30288462, 0.53846154, 0.33173077, 0.16826923]],\n",
       "\n",
       "       [[0.30288462, 0.53846154, 0.33173077, 0.16826923, 0.4375    ]],\n",
       "\n",
       "       [[0.53846154, 0.33173077, 0.16826923, 0.4375    , 0.45673077]],\n",
       "\n",
       "       [[0.33173077, 0.16826923, 0.4375    , 0.45673077, 0.79326923]],\n",
       "\n",
       "       [[0.16826923, 0.4375    , 0.45673077, 0.79326923, 0.43269231]],\n",
       "\n",
       "       [[0.4375    , 0.45673077, 0.79326923, 0.43269231, 0.44230769]],\n",
       "\n",
       "       [[0.45673077, 0.79326923, 0.43269231, 0.44230769, 0.73557692]]])"
      ]
     },
     "execution_count": 37,
     "metadata": {},
     "output_type": "execute_result"
    }
   ],
   "source": [
    "X_val"
   ]
  },
  {
   "cell_type": "code",
   "execution_count": 38,
   "metadata": {},
   "outputs": [
    {
     "name": "stdout",
     "output_type": "stream",
     "text": [
      "Train Score: 42.31 RMSE\n",
      "Validation Score: 36.90 RMSE\n"
     ]
    }
   ],
   "source": [
    "import math\n",
    "from sklearn.metrics import mean_squared_error\n",
    "\n",
    "# calculate RMSE\n",
    "trainScore = math.sqrt(mean_squared_error(Y_train[0], trainpred[:,0]))\n",
    "print('Train Score: %.2f RMSE' % (trainScore))\n",
    "valScore = math.sqrt(mean_squared_error(Y_val[0], valpred[:,0]))\n",
    "print('Validation Score: %.2f RMSE' % (valScore))"
   ]
  },
  {
   "cell_type": "code",
   "execution_count": 39,
   "metadata": {},
   "outputs": [],
   "source": [
    "# Train predictions\n",
    "trainpredPlot = np.empty_like(df)\n",
    "trainpredPlot[:, :] = np.nan\n",
    "trainpredPlot[previous:len(trainpred)+previous, :] = trainpred"
   ]
  },
  {
   "cell_type": "code",
   "execution_count": 40,
   "metadata": {},
   "outputs": [],
   "source": [
    "# Validation predictions\n",
    "valpredPlot = np.empty_like(df)\n",
    "valpredPlot[:, :] = np.nan\n",
    "valpredPlot[len(trainpred)+(previous*2)+1:len(df)-1, :] = valpred"
   ]
  },
  {
   "cell_type": "code",
   "execution_count": 41,
   "metadata": {},
   "outputs": [
    {
     "data": {
      "image/png": "[encoded data removed]",
      "text/plain": [
       "<Figure size 432x288 with 1 Axes>"
      ]
     },
     "metadata": {
      "needs_background": "light"
     },
     "output_type": "display_data"
    }
   ],
   "source": [
    "# Plot all predictions\n",
    "inversetransform, =plt.plot(scaler.inverse_transform(df))\n",
    "trainpred, =plt.plot(trainpredPlot)\n",
    "valpred, =plt.plot(valpredPlot)\n",
    "plt.xlabel('Number of weeks')\n",
    "plt.ylabel('Cancellations')\n",
    "plt.title(\"Predicted vs. Actual Cancellations Per Week\")\n",
    "plt.show()"
   ]
  },
  {
   "cell_type": "code",
   "execution_count": 42,
   "metadata": {},
   "outputs": [],
   "source": [
    "Y_val=Y_val.reshape(-1)\n",
    "Y_val.shape\n",
    "Y_val=pd.Series(Y_val)"
   ]
  },
  {
   "cell_type": "code",
   "execution_count": 43,
   "metadata": {},
   "outputs": [
    {
     "data": {
      "text/plain": [
       "0      91.0\n",
       "1      96.0\n",
       "2     128.0\n",
       "3      77.0\n",
       "4     126.0\n",
       "5      83.0\n",
       "6      49.0\n",
       "7     105.0\n",
       "8     109.0\n",
       "9     179.0\n",
       "10    104.0\n",
       "11    106.0\n",
       "12    167.0\n",
       "13    106.0\n",
       "dtype: float64"
      ]
     },
     "execution_count": 43,
     "metadata": {},
     "output_type": "execute_result"
    }
   ],
   "source": [
    "Y_val"
   ]
  },
  {
   "cell_type": "code",
   "execution_count": 44,
   "metadata": {},
   "outputs": [],
   "source": [
    "predictions=predictions.reshape(-1)\n",
    "predictions.shape\n",
    "predictions=pd.Series(predictions)"
   ]
  },
  {
   "cell_type": "code",
   "execution_count": 45,
   "metadata": {},
   "outputs": [
    {
     "data": {
      "text/plain": [
       "0      64.698387\n",
       "1      72.044624\n",
       "2      76.997681\n",
       "3      90.081184\n",
       "4      87.535736\n",
       "5     102.111465\n",
       "6      94.606865\n",
       "7      92.423126\n",
       "8      89.344933\n",
       "9      92.726967\n",
       "10    105.336823\n",
       "11     99.586327\n",
       "12    111.999680\n",
       "13    112.321358\n",
       "dtype: float32"
      ]
     },
     "execution_count": 45,
     "metadata": {},
     "output_type": "execute_result"
    }
   ],
   "source": [
    "predictions"
   ]
  },
  {
   "cell_type": "code",
   "execution_count": 46,
   "metadata": {},
   "outputs": [],
   "source": [
    "import numpy as np\n",
    "\n",
    "def mda(actual: np.ndarray, predicted: np.ndarray):\n",
    "    \"\"\" Mean Directional Accuracy \"\"\"\n",
    "    return np.mean((np.sign(actual[1:] - actual[:-1]) == np.sign(predicted[1:] - predicted[:-1])).astype(int))"
   ]
  },
  {
   "cell_type": "code",
   "execution_count": 47,
   "metadata": {},
   "outputs": [
    {
     "data": {
      "text/plain": [
       "0.8571428571428571"
      ]
     },
     "execution_count": 47,
     "metadata": {},
     "output_type": "execute_result"
    }
   ],
   "source": [
    "mda(Y_val, predictions)"
   ]
  },
  {
   "cell_type": "code",
   "execution_count": 48,
   "metadata": {},
   "outputs": [
    {
     "name": "stdout",
     "output_type": "stream",
     "text": [
      "RMSE: 36.895775\n"
     ]
    }
   ],
   "source": [
    "# https://machinelearningmastery.com/time-series-forecasting-performance-measures-with-python/\n",
    "\n",
    "from sklearn.metrics import mean_squared_error\n",
    "from math import sqrt\n",
    "mse = mean_squared_error(Y_val, predictions)\n",
    "rmse = sqrt(mse)\n",
    "print('RMSE: %f' % rmse)"
   ]
  },
  {
   "cell_type": "code",
   "execution_count": 49,
   "metadata": {},
   "outputs": [
    {
     "data": {
      "text/plain": [
       "0    -26.301613\n",
       "1    -23.955376\n",
       "2    -51.002319\n",
       "3     13.081184\n",
       "4    -38.464264\n",
       "5     19.111465\n",
       "6     45.606865\n",
       "7    -12.576874\n",
       "8    -19.655067\n",
       "9    -86.273033\n",
       "10     1.336823\n",
       "11    -6.413673\n",
       "12   -55.000320\n",
       "13     6.321358\n",
       "dtype: float64"
      ]
     },
     "execution_count": 49,
     "metadata": {},
     "output_type": "execute_result"
    }
   ],
   "source": [
    "forecast_error = (predictions-Y_val)\n",
    "forecast_error"
   ]
  },
  {
   "cell_type": "code",
   "execution_count": 50,
   "metadata": {},
   "outputs": [
    {
     "data": {
      "text/plain": [
       "-16.727488926478795"
      ]
     },
     "execution_count": 50,
     "metadata": {},
     "output_type": "execute_result"
    }
   ],
   "source": [
    "mean_forecast_error = np.mean(forecast_error)\n",
    "mean_forecast_error"
   ]
  },
  {
   "cell_type": "code",
   "execution_count": 51,
   "metadata": {},
   "outputs": [
    {
     "data": {
      "text/plain": [
       "array([[[0.12980769, 0.16346154, 0.35096154, 0.28846154, 0.41826923]],\n",
       "\n",
       "       [[0.16346154, 0.35096154, 0.28846154, 0.41826923, 0.25961538]],\n",
       "\n",
       "       [[0.35096154, 0.28846154, 0.41826923, 0.25961538, 0.39423077]],\n",
       "\n",
       "       [[0.28846154, 0.41826923, 0.25961538, 0.39423077, 0.26442308]],\n",
       "\n",
       "       [[0.41826923, 0.25961538, 0.39423077, 0.26442308, 0.35576923]],\n",
       "\n",
       "       [[0.25961538, 0.39423077, 0.26442308, 0.35576923, 0.64423077]],\n",
       "\n",
       "       [[0.39423077, 0.26442308, 0.35576923, 0.64423077, 0.29807692]],\n",
       "\n",
       "       [[0.26442308, 0.35576923, 0.64423077, 0.29807692, 0.82692308]],\n",
       "\n",
       "       [[0.35576923, 0.64423077, 0.29807692, 0.82692308, 0.52403846]],\n",
       "\n",
       "       [[0.64423077, 0.29807692, 0.82692308, 0.52403846, 0.37019231]],\n",
       "\n",
       "       [[0.29807692, 0.82692308, 0.52403846, 0.37019231, 0.88461538]],\n",
       "\n",
       "       [[0.82692308, 0.52403846, 0.37019231, 0.88461538, 0.00961538]],\n",
       "\n",
       "       [[0.52403846, 0.37019231, 0.88461538, 0.00961538, 0.38461538]],\n",
       "\n",
       "       [[0.37019231, 0.88461538, 0.00961538, 0.38461538, 0.14423077]],\n",
       "\n",
       "       [[0.88461538, 0.00961538, 0.38461538, 0.14423077, 0.14903846]],\n",
       "\n",
       "       [[0.00961538, 0.38461538, 0.14423077, 0.14903846, 0.19230769]],\n",
       "\n",
       "       [[0.38461538, 0.14423077, 0.14903846, 0.19230769, 0.23557692]],\n",
       "\n",
       "       [[0.14423077, 0.14903846, 0.19230769, 0.23557692, 0.01923077]],\n",
       "\n",
       "       [[0.14903846, 0.19230769, 0.23557692, 0.01923077, 0.54326923]],\n",
       "\n",
       "       [[0.19230769, 0.23557692, 0.01923077, 0.54326923, 0.04807692]],\n",
       "\n",
       "       [[0.23557692, 0.01923077, 0.54326923, 0.04807692, 0.11057692]],\n",
       "\n",
       "       [[0.01923077, 0.54326923, 0.04807692, 0.11057692, 0.3125    ]],\n",
       "\n",
       "       [[0.54326923, 0.04807692, 0.11057692, 0.3125    , 0.13942308]],\n",
       "\n",
       "       [[0.04807692, 0.11057692, 0.3125    , 0.13942308, 0.10096154]],\n",
       "\n",
       "       [[0.11057692, 0.3125    , 0.13942308, 0.10096154, 0.125     ]],\n",
       "\n",
       "       [[0.3125    , 0.13942308, 0.10096154, 0.125     , 0.        ]],\n",
       "\n",
       "       [[0.13942308, 0.10096154, 0.125     , 0.        , 0.        ]],\n",
       "\n",
       "       [[0.10096154, 0.125     , 0.        , 0.        , 0.00480769]],\n",
       "\n",
       "       [[0.125     , 0.        , 0.        , 0.00480769, 0.20673077]],\n",
       "\n",
       "       [[0.        , 0.        , 0.00480769, 0.20673077, 0.77884615]],\n",
       "\n",
       "       [[0.        , 0.00480769, 0.20673077, 0.77884615, 0.09134615]],\n",
       "\n",
       "       [[0.00480769, 0.20673077, 0.77884615, 0.09134615, 0.57211538]],\n",
       "\n",
       "       [[0.20673077, 0.77884615, 0.09134615, 0.57211538, 0.35576923]],\n",
       "\n",
       "       [[0.77884615, 0.09134615, 0.57211538, 0.35576923, 0.16346154]],\n",
       "\n",
       "       [[0.09134615, 0.57211538, 0.35576923, 0.16346154, 0.24519231]],\n",
       "\n",
       "       [[0.57211538, 0.35576923, 0.16346154, 0.24519231, 0.5       ]],\n",
       "\n",
       "       [[0.35576923, 0.16346154, 0.24519231, 0.5       , 0.24519231]],\n",
       "\n",
       "       [[0.16346154, 0.24519231, 0.5       , 0.24519231, 0.31730769]],\n",
       "\n",
       "       [[0.24519231, 0.5       , 0.24519231, 0.31730769, 0.40384615]],\n",
       "\n",
       "       [[0.5       , 0.24519231, 0.31730769, 0.40384615, 0.49038462]],\n",
       "\n",
       "       [[0.24519231, 0.31730769, 0.40384615, 0.49038462, 1.        ]],\n",
       "\n",
       "       [[0.31730769, 0.40384615, 0.49038462, 1.        , 0.3125    ]],\n",
       "\n",
       "       [[0.40384615, 0.49038462, 1.        , 0.3125    , 0.62019231]],\n",
       "\n",
       "       [[0.49038462, 1.        , 0.3125    , 0.62019231, 0.61057692]],\n",
       "\n",
       "       [[1.        , 0.3125    , 0.62019231, 0.61057692, 0.32692308]],\n",
       "\n",
       "       [[0.3125    , 0.62019231, 0.61057692, 0.32692308, 0.40865385]],\n",
       "\n",
       "       [[0.62019231, 0.61057692, 0.32692308, 0.40865385, 0.30288462]],\n",
       "\n",
       "       [[0.61057692, 0.32692308, 0.40865385, 0.30288462, 0.46153846]],\n",
       "\n",
       "       [[0.32692308, 0.40865385, 0.30288462, 0.46153846, 0.29326923]],\n",
       "\n",
       "       [[0.40865385, 0.30288462, 0.46153846, 0.29326923, 0.31730769]],\n",
       "\n",
       "       [[0.30288462, 0.46153846, 0.29326923, 0.31730769, 0.29326923]],\n",
       "\n",
       "       [[0.46153846, 0.29326923, 0.31730769, 0.29326923, 0.50480769]],\n",
       "\n",
       "       [[0.29326923, 0.31730769, 0.29326923, 0.50480769, 0.50961538]],\n",
       "\n",
       "       [[0.31730769, 0.29326923, 0.50480769, 0.50961538, 0.40384615]],\n",
       "\n",
       "       [[0.29326923, 0.50480769, 0.50961538, 0.40384615, 0.52884615]],\n",
       "\n",
       "       [[0.50480769, 0.50961538, 0.40384615, 0.52884615, 0.64903846]],\n",
       "\n",
       "       [[0.50961538, 0.40384615, 0.52884615, 0.64903846, 0.62980769]],\n",
       "\n",
       "       [[0.40384615, 0.52884615, 0.64903846, 0.62980769, 0.5       ]],\n",
       "\n",
       "       [[0.52884615, 0.64903846, 0.62980769, 0.5       , 0.44230769]],\n",
       "\n",
       "       [[0.64903846, 0.62980769, 0.5       , 0.44230769, 0.51442308]],\n",
       "\n",
       "       [[0.62980769, 0.5       , 0.44230769, 0.51442308, 0.25480769]],\n",
       "\n",
       "       [[0.5       , 0.44230769, 0.51442308, 0.25480769, 0.55288462]],\n",
       "\n",
       "       [[0.44230769, 0.51442308, 0.25480769, 0.55288462, 0.47115385]],\n",
       "\n",
       "       [[0.51442308, 0.25480769, 0.55288462, 0.47115385, 0.5       ]],\n",
       "\n",
       "       [[0.25480769, 0.55288462, 0.47115385, 0.5       , 0.34134615]],\n",
       "\n",
       "       [[0.55288462, 0.47115385, 0.5       , 0.34134615, 0.80769231]],\n",
       "\n",
       "       [[0.47115385, 0.5       , 0.34134615, 0.80769231, 0.57692308]],\n",
       "\n",
       "       [[0.5       , 0.34134615, 0.80769231, 0.57692308, 0.46634615]],\n",
       "\n",
       "       [[0.34134615, 0.80769231, 0.57692308, 0.46634615, 0.26923077]],\n",
       "\n",
       "       [[0.80769231, 0.57692308, 0.46634615, 0.26923077, 0.12019231]],\n",
       "\n",
       "       [[0.57692308, 0.46634615, 0.26923077, 0.12019231, 0.21634615]],\n",
       "\n",
       "       [[0.46634615, 0.26923077, 0.12019231, 0.21634615, 0.28846154]],\n",
       "\n",
       "       [[0.26923077, 0.12019231, 0.21634615, 0.28846154, 0.20673077]],\n",
       "\n",
       "       [[0.12019231, 0.21634615, 0.28846154, 0.20673077, 0.10576923]]])"
      ]
     },
     "execution_count": 51,
     "metadata": {},
     "output_type": "execute_result"
    }
   ],
   "source": [
    "X_train"
   ]
  },
  {
   "cell_type": "code",
   "execution_count": 52,
   "metadata": {},
   "outputs": [
    {
     "data": {
      "text/plain": [
       "(74, 1, 5)"
      ]
     },
     "execution_count": 52,
     "metadata": {},
     "output_type": "execute_result"
    }
   ],
   "source": [
    "X_train.shape"
   ]
  },
  {
   "cell_type": "markdown",
   "metadata": {},
   "source": [
    "## Validate Predictions on Test Data"
   ]
  },
  {
   "cell_type": "code",
   "execution_count": 53,
   "metadata": {},
   "outputs": [],
   "source": [
    "# Test (unseen) predictions\n",
    "# (t) and (t-5)\n",
    "Xnew = np.array([[130,202,117,152,131],[202,117,152,131,161],[117,152,131,161,131],[152,131,161,131,139],[131,161,131,139,150],[161,131,139,150,157],[131,139,150,157,173],[139,150,157,173,140],[150,157,173,140,182],[157,173,140,182,143]])"
   ]
  },
  {
   "cell_type": "code",
   "execution_count": 54,
   "metadata": {},
   "outputs": [
    {
     "data": {
      "text/plain": [
       "array([[130, 202, 117, 152, 131],\n",
       "       [202, 117, 152, 131, 161],\n",
       "       [117, 152, 131, 161, 131],\n",
       "       [152, 131, 161, 131, 139],\n",
       "       [131, 161, 131, 139, 150],\n",
       "       [161, 131, 139, 150, 157],\n",
       "       [131, 139, 150, 157, 173],\n",
       "       [139, 150, 157, 173, 140],\n",
       "       [150, 157, 173, 140, 182],\n",
       "       [157, 173, 140, 182, 143]])"
      ]
     },
     "execution_count": 54,
     "metadata": {},
     "output_type": "execute_result"
    }
   ],
   "source": [
    "Xnew"
   ]
  },
  {
   "cell_type": "code",
   "execution_count": 55,
   "metadata": {},
   "outputs": [],
   "source": [
    "Xnew = scaler.fit_transform(Xnew)\n",
    "Xnew\n",
    "Xnewformat = np.reshape(Xnew, (Xnew.shape[0], 1, Xnew.shape[1]))\n",
    "ynew=model.predict(Xnewformat)"
   ]
  },
  {
   "cell_type": "code",
   "execution_count": 56,
   "metadata": {},
   "outputs": [
    {
     "data": {
      "text/plain": [
       "(10, 5)"
      ]
     },
     "execution_count": 56,
     "metadata": {},
     "output_type": "execute_result"
    }
   ],
   "source": [
    "Xnew.shape"
   ]
  },
  {
   "cell_type": "code",
   "execution_count": 57,
   "metadata": {},
   "outputs": [
    {
     "data": {
      "text/plain": [
       "array([[0.27595463],\n",
       "       [0.46204746],\n",
       "       [0.25469464],\n",
       "       [0.34617507],\n",
       "       [0.31971636],\n",
       "       [0.40283996],\n",
       "       [0.45783985],\n",
       "       [0.4154999 ],\n",
       "       [0.5537093 ],\n",
       "       [0.45263237]], dtype=float32)"
      ]
     },
     "execution_count": 57,
     "metadata": {},
     "output_type": "execute_result"
    }
   ],
   "source": [
    "ynew"
   ]
  },
  {
   "cell_type": "code",
   "execution_count": 58,
   "metadata": {},
   "outputs": [
    {
     "data": {
      "text/plain": [
       "numpy.ndarray"
      ]
     },
     "execution_count": 58,
     "metadata": {},
     "output_type": "execute_result"
    }
   ],
   "source": [
    "type(ynew)"
   ]
  },
  {
   "cell_type": "code",
   "execution_count": 59,
   "metadata": {},
   "outputs": [
    {
     "data": {
      "text/plain": [
       "(10, 1)"
      ]
     },
     "execution_count": 59,
     "metadata": {},
     "output_type": "execute_result"
    }
   ],
   "source": [
    "ynew.shape"
   ]
  },
  {
   "cell_type": "code",
   "execution_count": 60,
   "metadata": {},
   "outputs": [],
   "source": [
    "actual = np.array([[161,131,139,150,157,173,140,182,143,100]])"
   ]
  },
  {
   "cell_type": "code",
   "execution_count": 61,
   "metadata": {},
   "outputs": [
    {
     "data": {
      "text/plain": [
       "(10, 1)"
      ]
     },
     "execution_count": 61,
     "metadata": {},
     "output_type": "execute_result"
    }
   ],
   "source": [
    "actual=actual.reshape(10,-1)\n",
    "actual.shape"
   ]
  },
  {
   "cell_type": "code",
   "execution_count": 62,
   "metadata": {},
   "outputs": [
    {
     "data": {
      "text/plain": [
       "array([[161],\n",
       "       [131],\n",
       "       [139],\n",
       "       [150],\n",
       "       [157],\n",
       "       [173],\n",
       "       [140],\n",
       "       [182],\n",
       "       [143],\n",
       "       [100]])"
      ]
     },
     "execution_count": 62,
     "metadata": {},
     "output_type": "execute_result"
    }
   ],
   "source": [
    "actual"
   ]
  },
  {
   "cell_type": "code",
   "execution_count": 63,
   "metadata": {},
   "outputs": [],
   "source": [
    "ynew=ynew.reshape(-1)\n",
    "actual=actual.reshape(-1)\n",
    "actualpd=pd.Series(actual)"
   ]
  },
  {
   "cell_type": "code",
   "execution_count": 64,
   "metadata": {},
   "outputs": [
    {
     "data": {
      "text/plain": [
       "0.0"
      ]
     },
     "execution_count": 64,
     "metadata": {},
     "output_type": "execute_result"
    }
   ],
   "source": [
    "np.min(df)"
   ]
  },
  {
   "cell_type": "code",
   "execution_count": 65,
   "metadata": {},
   "outputs": [
    {
     "data": {
      "text/plain": [
       "array([0.27595463, 0.46204746, 0.25469464, 0.34617507, 0.31971636,\n",
       "       0.40283996, 0.45783985, 0.4154999 , 0.5537093 , 0.45263237],\n",
       "      dtype=float32)"
      ]
     },
     "execution_count": 65,
     "metadata": {},
     "output_type": "execute_result"
    }
   ],
   "source": [
    "ynew"
   ]
  },
  {
   "cell_type": "code",
   "execution_count": 66,
   "metadata": {},
   "outputs": [],
   "source": [
    "maxcancel=np.max(tseries)"
   ]
  },
  {
   "cell_type": "code",
   "execution_count": 67,
   "metadata": {},
   "outputs": [],
   "source": [
    "mincancel=np.min(tseries)"
   ]
  },
  {
   "cell_type": "code",
   "execution_count": 68,
   "metadata": {},
   "outputs": [],
   "source": [
    "ynew = ynew * np.abs(maxcancel-mincancel) + np.min(tseries)\n",
    "ynewpd=pd.Series(ynew)"
   ]
  },
  {
   "cell_type": "code",
   "execution_count": 69,
   "metadata": {},
   "outputs": [
    {
     "data": {
      "text/plain": [
       "0    161\n",
       "1    131\n",
       "2    139\n",
       "3    150\n",
       "4    157\n",
       "5    173\n",
       "6    140\n",
       "7    182\n",
       "8    143\n",
       "9    100\n",
       "dtype: int64"
      ]
     },
     "execution_count": 69,
     "metadata": {},
     "output_type": "execute_result"
    }
   ],
   "source": [
    "actualpd"
   ]
  },
  {
   "cell_type": "code",
   "execution_count": 70,
   "metadata": {},
   "outputs": [
    {
     "data": {
      "text/plain": [
       "0     71.398560\n",
       "1    110.105873\n",
       "2     66.976486\n",
       "3     86.004417\n",
       "4     80.501007\n",
       "5     97.790710\n",
       "6    109.230690\n",
       "7    100.423981\n",
       "8    129.171539\n",
       "9    108.147530\n",
       "dtype: float32"
      ]
     },
     "execution_count": 70,
     "metadata": {},
     "output_type": "execute_result"
    }
   ],
   "source": [
    "ynewpd"
   ]
  },
  {
   "cell_type": "code",
   "execution_count": 71,
   "metadata": {},
   "outputs": [
    {
     "data": {
      "text/plain": [
       "0.8"
      ]
     },
     "execution_count": 71,
     "metadata": {},
     "output_type": "execute_result"
    }
   ],
   "source": [
    "mda(actualpd, ynewpd)"
   ]
  },
  {
   "cell_type": "code",
   "execution_count": 72,
   "metadata": {},
   "outputs": [
    {
     "name": "stdout",
     "output_type": "stream",
     "text": [
      "RMSE: 60.922363\n"
     ]
    }
   ],
   "source": [
    "mse = mean_squared_error(actualpd, ynewpd)\n",
    "rmse = sqrt(mse)\n",
    "print('RMSE: %f' % rmse)"
   ]
  },
  {
   "cell_type": "code",
   "execution_count": 73,
   "metadata": {},
   "outputs": [
    {
     "data": {
      "text/plain": [
       "0   -89.601440\n",
       "1   -20.894127\n",
       "2   -72.023514\n",
       "3   -63.995583\n",
       "4   -76.498993\n",
       "5   -75.209290\n",
       "6   -30.769310\n",
       "7   -81.576019\n",
       "8   -13.828461\n",
       "9     8.147530\n",
       "dtype: float64"
      ]
     },
     "execution_count": 73,
     "metadata": {},
     "output_type": "execute_result"
    }
   ],
   "source": [
    "forecast_error = (ynewpd-actualpd)\n",
    "forecast_error"
   ]
  },
  {
   "cell_type": "code",
   "execution_count": 74,
   "metadata": {},
   "outputs": [
    {
     "data": {
      "text/plain": [
       "-51.62492065429687"
      ]
     },
     "execution_count": 74,
     "metadata": {},
     "output_type": "execute_result"
    }
   ],
   "source": [
    "mean_forecast_error = np.mean(forecast_error)\n",
    "mean_forecast_error"
   ]
  },
  {
   "cell_type": "code",
   "execution_count": 75,
   "metadata": {},
   "outputs": [
    {
     "data": {
      "image/png": "[encoded data removed]",
      "text/plain": [
       "<Figure size 432x288 with 1 Axes>"
      ]
     },
     "metadata": {
      "needs_background": "light"
     },
     "output_type": "display_data"
    }
   ],
   "source": [
    "predictons, =plt.plot(ynewpd, label='Predictions')\n",
    "actual, =plt.plot(actualpd, label='Actual')\n",
    "plt.xlabel('Number of weeks')\n",
    "plt.ylabel('Cancellations')\n",
    "plt.title(\"Predicted vs. Actual Cancellations Per Week\")\n",
    "plt.legend(loc = 'upper center')\n",
    "plt.show()"
   ]
  }
 ],
 "metadata": {
  "kernelspec": {
   "display_name": "Python 3",
   "language": "python",
   "name": "python3"
  },
  "language_info": {
   "codemirror_mode": {
    "name": "ipython",
    "version": 3
   },
   "file_extension": ".py",
   "mimetype": "text/x-python",
   "name": "python",
   "nbconvert_exporter": "python",
   "pygments_lexer": "ipython3",
   "version": "3.6.5"
  }
 },
 "nbformat": 4,
 "nbformat_minor": 2
}
